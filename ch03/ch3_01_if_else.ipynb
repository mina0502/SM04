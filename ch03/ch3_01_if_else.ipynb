{
  "nbformat": 4,
  "nbformat_minor": 0,
  "metadata": {
    "colab": {
      "name": "ch3_01_if_else.ipynb",
      "provenance": [],
      "collapsed_sections": [],
      "include_colab_link": true
    },
    "kernelspec": {
      "name": "python3",
      "display_name": "Python 3"
    }
  },
  "cells": [
    {
      "cell_type": "markdown",
      "metadata": {
        "id": "view-in-github",
        "colab_type": "text"
      },
      "source": [
        "<a href=\"https://colab.research.google.com/github/mina0502/SM04/blob/master/ch03/ch3_01_if_else.ipynb\" target=\"_parent\"><img src=\"https://colab.research.google.com/assets/colab-badge.svg\" alt=\"Open In Colab\"/></a>"
      ]
    },
    {
      "cell_type": "markdown",
      "metadata": {
        "id": "ZcZ_Pf9tHvlg",
        "colab_type": "text"
      },
      "source": [
        "else if 문 사용하기\n",
        "\n",
        "**if문은 : 으로 구분한다**"
      ]
    },
    {
      "cell_type": "code",
      "metadata": {
        "id": "NxgaD9IrHOSQ",
        "colab_type": "code",
        "outputId": "f4a753e3-01cd-4a76-cc41-3aba21bcb252",
        "colab": {
          "base_uri": "https://localhost:8080/",
          "height": 52
        }
      },
      "source": [
        "# ch3_01_if_else.py\n",
        "#\n",
        "print(\"if문은 어떻게 사용?\")\n",
        "money = True\n",
        "if money:\n",
        "    print(\"택시를 타고 가라\")\n",
        "else:\n",
        "    print(\"걸어 가라\")"
      ],
      "execution_count": 0,
      "outputs": [
        {
          "output_type": "stream",
          "text": [
            "if문은 어떻게 사용?\n",
            "택시를 타고 가라\n"
          ],
          "name": "stdout"
        }
      ]
    },
    {
      "cell_type": "markdown",
      "metadata": {
        "id": "bmaITOd0LKqH",
        "colab_type": "text"
      },
      "source": [
        "**if문의 구조**\n",
        "\n",
        "'''\n",
        "\n",
        "if 조건문:\n",
        "\n",
        "수행할 문장1\n",
        "\n",
        "    수행할 문장2\n",
        "    ...\n",
        "else:\n",
        "\n",
        "\n",
        "    수행할 문장A\n",
        "    \n",
        "     수행할 문장B\n",
        "    \n",
        "    ...\n",
        "\n",
        "'''"
      ]
    },
    {
      "cell_type": "markdown",
      "metadata": {
        "id": "CByHPwAoLbDH",
        "colab_type": "text"
      },
      "source": [
        "**unexpected indent**\n",
        "\n",
        "**인텐트 에러** "
      ]
    },
    {
      "cell_type": "code",
      "metadata": {
        "id": "OzU9_nekLIoZ",
        "colab_type": "code",
        "outputId": "4df04c89-e44e-402e-dd64-c43c4554460a",
        "colab": {
          "base_uri": "https://localhost:8080/",
          "height": 134
        }
      },
      "source": [
        "\n",
        "print(\"들여 쓰기\")\n",
        "# 예-1\n",
        "money = True\n",
        "if money:\n",
        "    print(\"택시를\")\n",
        "print(\"타고\") #Syntax Error\n",
        "    print(\"가라\")\n"
      ],
      "execution_count": 0,
      "outputs": [
        {
          "output_type": "error",
          "ename": "IndentationError",
          "evalue": "ignored",
          "traceback": [
            "\u001b[0;36m  File \u001b[0;32m\"<ipython-input-2-4784bcb4de4b>\"\u001b[0;36m, line \u001b[0;32m8\u001b[0m\n\u001b[0;31m    print(\"가라\")\u001b[0m\n\u001b[0m    ^\u001b[0m\n\u001b[0;31mIndentationError\u001b[0m\u001b[0;31m:\u001b[0m unexpected indent\n"
          ]
        }
      ]
    },
    {
      "cell_type": "code",
      "metadata": {
        "id": "Kj8d6Zp5LWNh",
        "colab_type": "code",
        "outputId": "d0e03a67-3e20-4591-eed8-41239b869996",
        "colab": {
          "base_uri": "https://localhost:8080/",
          "height": 134
        }
      },
      "source": [
        "\n",
        "\n",
        "#\n",
        "# 예-2\n",
        "money = True\n",
        "if money:\n",
        "    print(\"택시를\")\n",
        "    print(\"타고\")\n",
        "        print(\"가라\") #에러 발생 라인 표시된다.\n",
        "    "
      ],
      "execution_count": 0,
      "outputs": [
        {
          "output_type": "error",
          "ename": "IndentationError",
          "evalue": "ignored",
          "traceback": [
            "\u001b[0;36m  File \u001b[0;32m\"<ipython-input-5-fc339c3d2c74>\"\u001b[0;36m, line \u001b[0;32m5\u001b[0m\n\u001b[0;31m    print(\"가라\")\u001b[0m\n\u001b[0m    ^\u001b[0m\n\u001b[0;31mIndentationError\u001b[0m\u001b[0;31m:\u001b[0m unexpected indent\n"
          ]
        }
      ]
    },
    {
      "cell_type": "markdown",
      "metadata": {
        "id": "BPb3pebCLtAk",
        "colab_type": "text"
      },
      "source": [
        "**Indent 맞춰줘야함 ★**"
      ]
    },
    {
      "cell_type": "code",
      "metadata": {
        "id": "mG3BwzW0LqXw",
        "colab_type": "code",
        "outputId": "9568fb2f-ac9b-4495-b2a1-e2368b67446b",
        "colab": {
          "base_uri": "https://localhost:8080/",
          "height": 70
        }
      },
      "source": [
        "\n",
        "#\n",
        "# 예-3\n",
        "money = True\n",
        "if money:\n",
        "    print(\"택시를\")\n",
        "    print(\"타고\")\n",
        "    print(\"가라\")\n",
        "    \n"
      ],
      "execution_count": 0,
      "outputs": [
        {
          "output_type": "stream",
          "text": [
            "택시를\n",
            "타고\n",
            "가라\n"
          ],
          "name": "stdout"
        }
      ]
    },
    {
      "cell_type": "markdown",
      "metadata": {
        "id": "4x-mEQgIMJEx",
        "colab_type": "text"
      },
      "source": [
        "# 조건문 다음에 콜론(:)을 잊지 말자!\n"
      ]
    },
    {
      "cell_type": "code",
      "metadata": {
        "id": "hdi-PqoSLkND",
        "colab_type": "code",
        "outputId": "0b0156d8-918a-41ab-897b-5695a9c2c1b0",
        "colab": {
          "base_uri": "https://localhost:8080/",
          "height": 258
        }
      },
      "source": [
        "\n",
        "print(\"조건식: 비교연산자\")\n",
        "# 비교연산자(<, >, ==, !=, >=, <=)를 쓰는 방법\n",
        "print(x=3)\n",
        "print(y=2)\n",
        "print(x>y)\n"
      ],
      "execution_count": 0,
      "outputs": [
        {
          "output_type": "stream",
          "text": [
            "조건식: 비교연산자\n"
          ],
          "name": "stdout"
        },
        {
          "output_type": "error",
          "ename": "TypeError",
          "evalue": "ignored",
          "traceback": [
            "\u001b[0;31m---------------------------------------------------------------------------\u001b[0m",
            "\u001b[0;31mTypeError\u001b[0m                                 Traceback (most recent call last)",
            "\u001b[0;32m<ipython-input-8-d66c5d4ce217>\u001b[0m in \u001b[0;36m<module>\u001b[0;34m()\u001b[0m\n\u001b[1;32m      2\u001b[0m \u001b[0mprint\u001b[0m\u001b[0;34m(\u001b[0m\u001b[0;34m\"조건식: 비교연산자\"\u001b[0m\u001b[0;34m)\u001b[0m\u001b[0;34m\u001b[0m\u001b[0;34m\u001b[0m\u001b[0m\n\u001b[1;32m      3\u001b[0m \u001b[0;31m# 비교연산자(<, >, ==, !=, >=, <=)를 쓰는 방법\u001b[0m\u001b[0;34m\u001b[0m\u001b[0;34m\u001b[0m\u001b[0;34m\u001b[0m\u001b[0m\n\u001b[0;32m----> 4\u001b[0;31m \u001b[0mprint\u001b[0m\u001b[0;34m(\u001b[0m\u001b[0mx\u001b[0m\u001b[0;34m=\u001b[0m\u001b[0;36m3\u001b[0m\u001b[0;34m)\u001b[0m\u001b[0;34m\u001b[0m\u001b[0;34m\u001b[0m\u001b[0m\n\u001b[0m\u001b[1;32m      5\u001b[0m \u001b[0mprint\u001b[0m\u001b[0;34m(\u001b[0m\u001b[0my\u001b[0m\u001b[0;34m=\u001b[0m\u001b[0;36m2\u001b[0m\u001b[0;34m)\u001b[0m\u001b[0;34m\u001b[0m\u001b[0;34m\u001b[0m\u001b[0m\n\u001b[1;32m      6\u001b[0m \u001b[0mprint\u001b[0m\u001b[0;34m(\u001b[0m\u001b[0mx\u001b[0m\u001b[0;34m>\u001b[0m\u001b[0my\u001b[0m\u001b[0;34m)\u001b[0m\u001b[0;34m\u001b[0m\u001b[0;34m\u001b[0m\u001b[0m\n",
            "\u001b[0;31mTypeError\u001b[0m: 'x' is an invalid keyword argument for this function"
          ]
        }
      ]
    },
    {
      "cell_type": "code",
      "metadata": {
        "id": "-iupua1EMG_b",
        "colab_type": "code",
        "outputId": "825fd944-565b-4178-e8ec-561e1916014a",
        "colab": {
          "base_uri": "https://localhost:8080/",
          "height": 70
        }
      },
      "source": [
        "\n",
        "x=3\n",
        "y=2\n",
        "\n",
        "print(x<y)\n",
        "print(x==y)\n",
        "print(x!=y)\n"
      ],
      "execution_count": 0,
      "outputs": [
        {
          "output_type": "stream",
          "text": [
            "False\n",
            "False\n",
            "True\n"
          ],
          "name": "stdout"
        }
      ]
    },
    {
      "cell_type": "markdown",
      "metadata": {
        "id": "8WuUN-L3MUhv",
        "colab_type": "text"
      },
      "source": [
        "**조건식 만들기**"
      ]
    },
    {
      "cell_type": "code",
      "metadata": {
        "id": "R12g1mkzMMck",
        "colab_type": "code",
        "outputId": "273b444b-839b-4cff-99ee-e75e1bbde206",
        "colab": {
          "base_uri": "https://localhost:8080/",
          "height": 34
        }
      },
      "source": [
        "\n",
        "\n",
        "# \"만약 3000원 이상의 돈을 가지고 있으면 택시를 타고 그렇지 않으면 걸어 가라.\"\n",
        "money = 2000\n",
        "if money >= 3000:\n",
        "    print(\"택시를 타고 가라\")\n",
        "else:\n",
        "    print(\"걸어가라\")\n"
      ],
      "execution_count": 0,
      "outputs": [
        {
          "output_type": "stream",
          "text": [
            "걸어가라\n"
          ],
          "name": "stdout"
        }
      ]
    },
    {
      "cell_type": "markdown",
      "metadata": {
        "id": "e0nZyb8aMYF-",
        "colab_type": "text"
      },
      "source": [
        "# 복합 조건식: or, and, not\n",
        "\n",
        "**연산자\t설명**\n",
        "\n",
        "**x or y  :\tx와 y 둘중에 하나만 참이면 참이다**\n",
        "\n",
        "**x and y :\tx와 y 모두 참이어야 참이다**\n",
        "\n",
        "**not x\t  : x가 거짓이면 참이다**"
      ]
    },
    {
      "cell_type": "code",
      "metadata": {
        "id": "38ge0gydMQ1A",
        "colab_type": "code",
        "outputId": "a93c63f3-7c72-46ae-8859-80c9513e1c8d",
        "colab": {
          "base_uri": "https://localhost:8080/",
          "height": 34
        }
      },
      "source": [
        "# or 복합 조건식 이용\n",
        "# \"돈이 3000원 이상 있거나 카드가 있다면 택시를 타고 그렇지 않으면 걸어 가라.\"\n",
        "money = 2000\n",
        "card = True\n",
        "if money >= 3000 or card:\n",
        "    print(\"택시를 타고 가라\")\n",
        "else:\n",
        "    print(\"걸어가라\")\n"
      ],
      "execution_count": 0,
      "outputs": [
        {
          "output_type": "stream",
          "text": [
            "택시를 타고 가라\n"
          ],
          "name": "stdout"
        }
      ]
    },
    {
      "cell_type": "markdown",
      "metadata": {
        "id": "Q3sh-73IMj0w",
        "colab_type": "text"
      },
      "source": [
        "**조건이 2개 이상일 경우 ==> money >= 3000 or card: 로 나타낸다**"
      ]
    },
    {
      "cell_type": "code",
      "metadata": {
        "id": "rkmpwP0lMtig",
        "colab_type": "code",
        "outputId": "df318d40-540e-474a-a667-a08eff089ff5",
        "colab": {
          "base_uri": "https://localhost:8080/",
          "height": 34
        }
      },
      "source": [
        "money = 2000\n",
        "card = True\n",
        "if money >= 3000 and card:\n",
        "    print(\"택시를 타고 가라\")\n",
        "else:\n",
        "    print(\"걸어가라\")\n"
      ],
      "execution_count": 0,
      "outputs": [
        {
          "output_type": "stream",
          "text": [
            "걸어가라\n"
          ],
          "name": "stdout"
        }
      ]
    },
    {
      "cell_type": "code",
      "metadata": {
        "id": "2rasRLKvM29I",
        "colab_type": "code",
        "outputId": "9af20a26-ae88-4167-d92f-18d835dd4a0c",
        "colab": {
          "base_uri": "https://localhost:8080/",
          "height": 34
        }
      },
      "source": [
        "money = 2000\n",
        "card = True\n",
        "print(not card)"
      ],
      "execution_count": 0,
      "outputs": [
        {
          "output_type": "stream",
          "text": [
            "False\n"
          ],
          "name": "stdout"
        }
      ]
    },
    {
      "cell_type": "markdown",
      "metadata": {
        "id": "Eni0l7FTM_GU",
        "colab_type": "text"
      },
      "source": [
        "# 조건식: in, not in\n",
        "\n",
        "**in\t          not in**\n",
        "\n",
        " **x in 리스트\tx not in 리스트**\n",
        " \n",
        " **x in 튜플\t    x not in 튜플**\n",
        " \n",
        " **x in 문자열\tx not in 문자열**"
      ]
    },
    {
      "cell_type": "code",
      "metadata": {
        "id": "eTfWq0hjMhcJ",
        "colab_type": "code",
        "outputId": "9d8f545b-1d64-4e60-afbd-c648f731ad5f",
        "colab": {
          "base_uri": "https://localhost:8080/",
          "height": 87
        }
      },
      "source": [
        "# list\n",
        "print(1 in [1, 2, 3])\n",
        "\n",
        "print(1 not in [1, 2, 3])\n",
        "\n",
        "# tuple\n",
        "print('a' in ('a', 'b', 'c'))\n",
        "\n",
        "# string\n",
        "print('j' not in 'python')\n",
        "\n"
      ],
      "execution_count": 0,
      "outputs": [
        {
          "output_type": "stream",
          "text": [
            "True\n",
            "False\n",
            "True\n",
            "True\n"
          ],
          "name": "stdout"
        }
      ]
    },
    {
      "cell_type": "markdown",
      "metadata": {
        "id": "I3M3uZ0xNNNg",
        "colab_type": "text"
      },
      "source": [
        "**in ==> 안에 있는가**\n",
        "\n",
        "**not in ==> 안에 없는가**"
      ]
    },
    {
      "cell_type": "markdown",
      "metadata": {
        "id": "rZ67q-LkNeYG",
        "colab_type": "text"
      },
      "source": [
        "# in을 이용한 코드\n",
        "\n",
        "**\"만약 주머니에 돈이 있으면 택시를 타고, 없으면 걸어 가라.\"**"
      ]
    },
    {
      "cell_type": "code",
      "metadata": {
        "id": "ntQT0ReANL6G",
        "colab_type": "code",
        "outputId": "7c1ec518-dea0-45c2-df85-e22fa8205cea",
        "colab": {
          "base_uri": "https://localhost:8080/",
          "height": 34
        }
      },
      "source": [
        "\n",
        "pocket = ['paper', 'cellphone', 'money']\n",
        "if 'money' in pocket:\n",
        "    print(\"택시를 타고 가라\")\n",
        "else:\n",
        "    print(\"걸어가라\")\n"
      ],
      "execution_count": 0,
      "outputs": [
        {
          "output_type": "stream",
          "text": [
            "택시를 타고 가라\n"
          ],
          "name": "stdout"
        }
      ]
    },
    {
      "cell_type": "markdown",
      "metadata": {
        "id": "v0RAxWmFNkTv",
        "colab_type": "text"
      },
      "source": [
        "# 조건식: pass\n",
        "\n",
        "**재미있는 조건문**\n",
        "\n",
        "**pass ==> 해당영역 pass**\n",
        "\n",
        "**ex) continue와 비슷**"
      ]
    },
    {
      "cell_type": "code",
      "metadata": {
        "id": "D_CAdBrNNiZQ",
        "colab_type": "code",
        "colab": {}
      },
      "source": [
        "pocket = ['paper', 'cellphone', 'money']\n",
        "if 'money' in pocket:\n",
        "    # print(\"택시를 타고 가라\")\n",
        "    pass\n",
        "else:\n",
        "    print(\"걸어가라\")\n"
      ],
      "execution_count": 0,
      "outputs": []
    },
    {
      "cell_type": "markdown",
      "metadata": {
        "id": "0pAjHja3N213",
        "colab_type": "text"
      },
      "source": [
        "# 다중 조건식: elif\n",
        "\n",
        "**다양한 조건을 판단**\n",
        "\n",
        "**주머니에 돈이 있으면 택시를 타고,**\n",
        "\n",
        "**주머니에 돈은 없지만 카드가 있으면 택시를 타고,**\n",
        "\n",
        "**돈도 없고 카드도 없으면 걸어 가라.**"
      ]
    },
    {
      "cell_type": "code",
      "metadata": {
        "id": "FzwHXztMOCCz",
        "colab_type": "code",
        "colab": {}
      },
      "source": [
        ""
      ],
      "execution_count": 0,
      "outputs": []
    },
    {
      "cell_type": "code",
      "metadata": {
        "id": "XqEJMnrVNvim",
        "colab_type": "code",
        "outputId": "b1482f5c-7533-44d7-cc04-b3de24eae333",
        "colab": {
          "base_uri": "https://localhost:8080/",
          "height": 34
        }
      },
      "source": [
        "pocket = ['paper', 'handphone']\n",
        "card = True\n",
        "if 'money' in pocket:\n",
        "    print(\"택시를 타고가라\")\n",
        "else:                              #조건문 안에 내부  if문\n",
        "    if card:\n",
        "        print(\"택시를 타고가라\")\n",
        "    else:\n",
        "        print(\"걸어가라\")\n"
      ],
      "execution_count": 0,
      "outputs": [
        {
          "output_type": "stream",
          "text": [
            "택시를 타고가라\n"
          ],
          "name": "stdout"
        }
      ]
    },
    {
      "cell_type": "markdown",
      "metadata": {
        "id": "hqytAHXyOfJ0",
        "colab_type": "text"
      },
      "source": [
        "# elif 이용한 코드"
      ]
    },
    {
      "cell_type": "code",
      "metadata": {
        "id": "mDBi8mfMOd7q",
        "colab_type": "code",
        "outputId": "d16e0563-2bec-4028-93d1-d4b0cacd5484",
        "colab": {
          "base_uri": "https://localhost:8080/",
          "height": 34
        }
      },
      "source": [
        "pocket = ['paper', 'handphone']\n",
        "card = True\n",
        "if 'money' in pocket:\n",
        "    print(\"택시를 타고가라\")\n",
        "elif card:\n",
        "    print(\"택시를 타고가라\")\n",
        "else:\n",
        "    print(\"걸어가라\")\n"
      ],
      "execution_count": 0,
      "outputs": [
        {
          "output_type": "stream",
          "text": [
            "택시를 타고가라\n"
          ],
          "name": "stdout"
        }
      ]
    },
    {
      "cell_type": "markdown",
      "metadata": {
        "id": "vrUvqXyAOnV4",
        "colab_type": "text"
      },
      "source": [
        "**if 조건문:**\n",
        "\n",
        "**elif 조건문:**\n",
        "\n",
        "**else:**"
      ]
    },
    {
      "cell_type": "markdown",
      "metadata": {
        "id": "eWK07a8KO2c_",
        "colab_type": "text"
      },
      "source": [
        "# if문을 한 줄로 작성하기"
      ]
    },
    {
      "cell_type": "markdown",
      "metadata": {
        "id": "Y80zEhGwO6uZ",
        "colab_type": "text"
      },
      "source": [
        "**예시**"
      ]
    },
    {
      "cell_type": "code",
      "metadata": {
        "id": "B_TvoaUFLF-P",
        "colab_type": "code",
        "colab": {}
      },
      "source": [
        "pocket = ['paper', 'cellphone', 'money']\n",
        "if 'money' in pocket:\n",
        "    pass\n",
        "else:\n",
        "    print(\"카드를 사용해라.\")\n"
      ],
      "execution_count": 0,
      "outputs": []
    },
    {
      "cell_type": "markdown",
      "metadata": {
        "id": "bTyi65BTO9qW",
        "colab_type": "text"
      },
      "source": [
        "# 한줄 코드\n",
        "\n",
        "**Indent 없음!!**"
      ]
    },
    {
      "cell_type": "code",
      "metadata": {
        "id": "KbuX0u-oO422",
        "colab_type": "code",
        "colab": {}
      },
      "source": [
        "pocket = ['paper', 'cellphone', 'money']\n",
        "if 'money' in pocket: pass\n",
        "else: print(\"카드를 사용해라.\")\n"
      ],
      "execution_count": 0,
      "outputs": []
    },
    {
      "cell_type": "markdown",
      "metadata": {
        "id": "-s2uT5rGPIfQ",
        "colab_type": "text"
      },
      "source": [
        "**pocket에는 money가 있으나 pass**"
      ]
    },
    {
      "cell_type": "markdown",
      "metadata": {
        "id": "kExrtpG0PPif",
        "colab_type": "text"
      },
      "source": [
        "# 조건부 표현식 (conditional expression)\n",
        "# 조건문이 참인 경우 if 조건문 else 조건문이 거짓인 경우"
      ]
    },
    {
      "cell_type": "code",
      "metadata": {
        "id": "fhB9YenRO5jV",
        "colab_type": "code",
        "outputId": "aef72b3b-5da2-4eb5-b01b-fbcd4ff13a83",
        "colab": {
          "base_uri": "https://localhost:8080/",
          "height": 34
        }
      },
      "source": [
        "score=80\n",
        "if score >= 60:\n",
        "    message = \"success\"\n",
        "else:\n",
        "    message = \"failure\"\n",
        "\n",
        "print(message)"
      ],
      "execution_count": 0,
      "outputs": [
        {
          "output_type": "stream",
          "text": [
            "success\n"
          ],
          "name": "stdout"
        }
      ]
    },
    {
      "cell_type": "markdown",
      "metadata": {
        "id": "SMx-0nXqPZ0e",
        "colab_type": "text"
      },
      "source": [
        "# 한줄 코드\n",
        "**★if else 한줄코드 이해할것 ★**\n",
        "\n",
        "**간결한 코드**"
      ]
    },
    {
      "cell_type": "markdown",
      "metadata": {
        "id": "_AEyUplQQJgX",
        "colab_type": "text"
      },
      "source": [
        ""
      ]
    },
    {
      "cell_type": "code",
      "metadata": {
        "id": "ehP26udIPRtU",
        "colab_type": "code",
        "outputId": "b01bd0aa-d07e-41cc-c9d8-adea159ec744",
        "colab": {
          "base_uri": "https://localhost:8080/",
          "height": 34
        }
      },
      "source": [
        "score=80\n",
        "message = \"success\" if score >= 60 else \"failure\"\n",
        "print(message)"
      ],
      "execution_count": 0,
      "outputs": [
        {
          "output_type": "stream",
          "text": [
            "success\n"
          ],
          "name": "stdout"
        }
      ]
    },
    {
      "cell_type": "markdown",
      "metadata": {
        "id": "Cqq-WdnpPynM",
        "colab_type": "text"
      },
      "source": [
        "score=80\n",
        "\n",
        "if score >= 60:\n",
        "\n",
        "    message = \"success\"\n",
        "    \n",
        "else:\n",
        "\n",
        "    message = \"failure\"\n",
        "    \n",
        "\n",
        "print(message)\n",
        "\n",
        "\n",
        "**코드를 조건문 한줄코드로 바꿔라**\n",
        "\n",
        "#ans\n",
        "**message = \"success\" if score >= 60 else \"failure\"**\n",
        "\n",
        "**print(message)**"
      ]
    }
  ]
}