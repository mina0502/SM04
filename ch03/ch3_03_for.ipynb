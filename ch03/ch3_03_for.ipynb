{
  "nbformat": 4,
  "nbformat_minor": 0,
  "metadata": {
    "colab": {
      "name": "ch3_03_for.ipynb",
      "provenance": [],
      "collapsed_sections": [],
      "include_colab_link": true
    },
    "kernelspec": {
      "name": "python3",
      "display_name": "Python 3"
    }
  },
  "cells": [
    {
      "cell_type": "markdown",
      "metadata": {
        "id": "view-in-github",
        "colab_type": "text"
      },
      "source": [
        "<a href=\"https://colab.research.google.com/github/mina0502/SM04/blob/master/ch03/ch3_03_for.ipynb\" target=\"_parent\"><img src=\"https://colab.research.google.com/assets/colab-badge.svg\" alt=\"Open In Colab\"/></a>"
      ]
    },
    {
      "cell_type": "markdown",
      "metadata": {
        "id": "tjKqgBhTXu8Y",
        "colab_type": "text"
      },
      "source": [
        "#for 문은 어떻게 사용?\n",
        "\n",
        "**반복해서 문장을 수행해야 할 경우 for문을 사용한다.** \n",
        "\n",
        "**for문의 기본 구조**\n",
        "for 변수 in 리스트(또는 튜플, 문자열):\n",
        "    수행할 문장1\n",
        "    수행할 문장2\n",
        "    ..."
      ]
    },
    {
      "cell_type": "markdown",
      "metadata": {
        "id": "wyCgvDucX7hv",
        "colab_type": "text"
      },
      "source": [
        "#예제를 통해 for문 이해하기\n",
        "\n",
        "**1. 전형적인 for문**"
      ]
    },
    {
      "cell_type": "code",
      "metadata": {
        "id": "XY71wd12XlDK",
        "colab_type": "code",
        "outputId": "ad364715-3895-460c-dd54-c1d92ccf4968",
        "colab": {
          "base_uri": "https://localhost:8080/",
          "height": 71
        }
      },
      "source": [
        "test_list = ['one', 'two', 'three'] \n",
        "for i in test_list:\n",
        "    print(i)\n"
      ],
      "execution_count": 0,
      "outputs": [
        {
          "output_type": "stream",
          "text": [
            "one\n",
            "two\n",
            "three\n"
          ],
          "name": "stdout"
        }
      ]
    },
    {
      "cell_type": "markdown",
      "metadata": {
        "id": "F48LdPESYA3V",
        "colab_type": "text"
      },
      "source": [
        "**2. 다양한 for문의 사용**\n",
        "\n",
        "**튜플 구조**"
      ]
    },
    {
      "cell_type": "code",
      "metadata": {
        "id": "lgHz9zhDX8h4",
        "colab_type": "code",
        "outputId": "fceb7cdd-29b9-4fcd-e18a-c04807e4b417",
        "colab": {
          "base_uri": "https://localhost:8080/",
          "height": 71
        }
      },
      "source": [
        "a = [(1,2), (3,4), (5,6)]\n",
        "\n",
        "for (first, last) in a:\n",
        "    print(first + last)\n",
        "\n"
      ],
      "execution_count": 0,
      "outputs": [
        {
          "output_type": "stream",
          "text": [
            "3\n",
            "7\n",
            "11\n"
          ],
          "name": "stdout"
        }
      ]
    },
    {
      "cell_type": "markdown",
      "metadata": {
        "id": "3oVBc9TfYPwt",
        "colab_type": "text"
      },
      "source": [
        "**3. for문의 응용**\n",
        "\n",
        "\n",
        " **\"총 5명의 학생이 시험을 보았는데 시험 점수가 60점이 넘으면**\n",
        " \n",
        "  **합격이고 그렇지 않으면 불합격이다.**\n",
        "  \n",
        "  **합격인지 불합격인지 결과를 보여 주시오.\"**"
      ]
    },
    {
      "cell_type": "code",
      "metadata": {
        "id": "34tpUaDUX9tB",
        "colab_type": "code",
        "outputId": "2af44059-7580-4dc0-c727-510668db2129",
        "colab": {
          "base_uri": "https://localhost:8080/",
          "height": 107
        }
      },
      "source": [
        "marks = [90, 25, 67, 45, 80]\n",
        "\n",
        "number = 0 \n",
        "for mark in marks: \n",
        "    number = number +1 \n",
        "    if mark >= 60: \n",
        "        print(\"%d번 학생은 합격입니다.\" % number)\n",
        "    else: \n",
        "        print(\"%d번 학생은 불합격입니다.\" % number)"
      ],
      "execution_count": 0,
      "outputs": [
        {
          "output_type": "stream",
          "text": [
            "1번 학생은 합격입니다.\n",
            "2번 학생은 불합격입니다.\n",
            "3번 학생은 합격입니다.\n",
            "4번 학생은 불합격입니다.\n",
            "5번 학생은 합격입니다.\n"
          ],
          "name": "stdout"
        }
      ]
    },
    {
      "cell_type": "markdown",
      "metadata": {
        "id": "Ulk3NckfYabe",
        "colab_type": "text"
      },
      "source": [
        "**점수를 리스트로 묶을 경우 복수**\n",
        "\n",
        "**cmd 에서 실행가능**"
      ]
    },
    {
      "cell_type": "markdown",
      "metadata": {
        "id": "dra0ZPxxZaT_",
        "colab_type": "text"
      },
      "source": [
        "#for문과 continue\n",
        "\n",
        "**for문 안의 문장을 수행하는 도중에 continue문을 만나면**\n",
        "\n",
        "**for문의 처음으로 돌아가게 된다.**\n",
        "\n",
        "\n",
        "**앞에서 for문 응용 예제를 그대로 사용해서 60점 이상인 사람에게는**\n",
        "\n",
        "**축하 메시지를 보내고 나머지 사람에게는 아무 메시지도 전하지 않는** \n",
        "\n",
        "**프로그램을 작성.**"
      ]
    },
    {
      "cell_type": "code",
      "metadata": {
        "id": "THU3HL59YXc0",
        "colab_type": "code",
        "outputId": "1d7f539c-1bc9-410c-a044-034ed336f7d3",
        "colab": {
          "base_uri": "https://localhost:8080/",
          "height": 71
        }
      },
      "source": [
        "marks = [90, 25, 67, 45, 80]\n",
        "\n",
        "number = 0 \n",
        "for mark in marks: \n",
        "    number = number +1 \n",
        "    if mark < 60:\n",
        "        continue \n",
        "    print(\"%d번 학생 축하합니다. 합격입니다. \" % number)\n"
      ],
      "execution_count": 0,
      "outputs": [
        {
          "output_type": "stream",
          "text": [
            "1번 학생 축하합니다. 합격입니다. \n",
            "3번 학생 축하합니다. 합격입니다. \n",
            "5번 학생 축하합니다. 합격입니다. \n"
          ],
          "name": "stdout"
        }
      ]
    },
    {
      "cell_type": "markdown",
      "metadata": {
        "id": "gRZ4Mfr3ZyCt",
        "colab_type": "text"
      },
      "source": [
        "#for문과 함께 자주 사용하는 range 함수\n",
        "\n",
        "**range(number)**\n",
        "\n",
        "**range(시작 숫자, 끝 숫자[ 끝 -1 ])**"
      ]
    },
    {
      "cell_type": "code",
      "metadata": {
        "id": "c70JH0vQZlMK",
        "colab_type": "code",
        "outputId": "505fde6f-69ee-49c4-d55b-ad506dfe8162",
        "colab": {
          "base_uri": "https://localhost:8080/",
          "height": 71
        }
      },
      "source": [
        "a = range(10)\n",
        "print(a)\n",
        "print(type(a))\n",
        "print(list(a))"
      ],
      "execution_count": 0,
      "outputs": [
        {
          "output_type": "stream",
          "text": [
            "range(0, 10)\n",
            "<class 'range'>\n",
            "[0, 1, 2, 3, 4, 5, 6, 7, 8, 9]\n"
          ],
          "name": "stdout"
        }
      ]
    },
    {
      "cell_type": "markdown",
      "metadata": {
        "id": "J_C6tTjtaCcu",
        "colab_type": "text"
      },
      "source": [
        "**a 에 10개까지 넣는다**\n",
        "\n",
        "**0부터 9까지 -> 리스트**\n",
        "\n",
        "**range는 리스트**"
      ]
    },
    {
      "cell_type": "code",
      "metadata": {
        "id": "15KEvITOZ8BA",
        "colab_type": "code",
        "outputId": "2afa260a-9fc6-4755-c1de-96242e0e85d6",
        "colab": {
          "base_uri": "https://localhost:8080/",
          "height": 53
        }
      },
      "source": [
        "\n",
        "a = range(1, 11)\n",
        "print(a)\n",
        "print(list(a))"
      ],
      "execution_count": 0,
      "outputs": [
        {
          "output_type": "stream",
          "text": [
            "range(1, 11)\n",
            "[1, 2, 3, 4, 5, 6, 7, 8, 9, 10]\n"
          ],
          "name": "stdout"
        }
      ]
    },
    {
      "cell_type": "markdown",
      "metadata": {
        "id": "vv9wBUGeaxOO",
        "colab_type": "text"
      },
      "source": [
        "# range 함수를 이용한 코드\n",
        "\n",
        "**for Loop 시작과 끝을 지정하기 위해 사용**"
      ]
    },
    {
      "cell_type": "code",
      "metadata": {
        "id": "y_QKFQhtaZY5",
        "colab_type": "code",
        "outputId": "51992ced-8d08-45ad-ba71-79abb3c89679",
        "colab": {
          "base_uri": "https://localhost:8080/",
          "height": 35
        }
      },
      "source": [
        "add = 0 \n",
        "for i in range(1, 11): \n",
        "    add = add + i\n",
        "\n",
        "print(add)"
      ],
      "execution_count": 0,
      "outputs": [
        {
          "output_type": "stream",
          "text": [
            "55\n"
          ],
          "name": "stdout"
        }
      ]
    },
    {
      "cell_type": "code",
      "metadata": {
        "id": "jNDgazoSay2S",
        "colab_type": "code",
        "outputId": "e4406b72-1152-49a0-9ad6-d152d7d5417a",
        "colab": {
          "base_uri": "https://localhost:8080/",
          "height": 71
        }
      },
      "source": [
        "marks = [90, 25, 67, 45, 80]\n",
        "for number in range(len(marks)):\n",
        "    if marks[number] < 60: \n",
        "        continue\n",
        "    print(\"%d번 학생 축하합니다. 합격입니다.\" % (number+1))"
      ],
      "execution_count": 0,
      "outputs": [
        {
          "output_type": "stream",
          "text": [
            "1번 학생 축하합니다. 합격입니다.\n",
            "3번 학생 축하합니다. 합격입니다.\n",
            "5번 학생 축하합니다. 합격입니다.\n"
          ],
          "name": "stdout"
        }
      ]
    },
    {
      "cell_type": "markdown",
      "metadata": {
        "id": "xJ9lNdG1bXnN",
        "colab_type": "text"
      },
      "source": [
        "#for와 range를 이용한 구구단\n",
        "\n",
        "**for와 range 함수를 사용하면** \n",
        "\n",
        "**소스 코드 단 4줄만으로 구구단을 출력**\n",
        "\n",
        "**2단에서 9단까지**\n",
        "\n",
        "##2중 for문"
      ]
    },
    {
      "cell_type": "code",
      "metadata": {
        "id": "v-41SWVna6wA",
        "colab_type": "code",
        "outputId": "7d8ad7a2-86f9-4a8e-afda-526afdc92e8d",
        "colab": {
          "base_uri": "https://localhost:8080/",
          "height": 161
        }
      },
      "source": [
        "# 중첩 for 문\n",
        "for i in range(2,10):         # ①번 for문 (i-loop)\n",
        "     for j in range(1, 10):   # ②번 for문 (j-loop)\n",
        "         print(i*j, end=\" \")  # 줄바꾸지 않고 공백 추가\n",
        "     print('')   # 줄 바꿈\n"
      ],
      "execution_count": 0,
      "outputs": [
        {
          "output_type": "stream",
          "text": [
            "2 4 6 8 10 12 14 16 18 \n",
            "3 6 9 12 15 18 21 24 27 \n",
            "4 8 12 16 20 24 28 32 36 \n",
            "5 10 15 20 25 30 35 40 45 \n",
            "6 12 18 24 30 36 42 48 54 \n",
            "7 14 21 28 35 42 49 56 63 \n",
            "8 16 24 32 40 48 56 64 72 \n",
            "9 18 27 36 45 54 63 72 81 \n"
          ],
          "name": "stdout"
        }
      ]
    },
    {
      "cell_type": "markdown",
      "metadata": {
        "id": "CkyQ88MjcF-U",
        "colab_type": "text"
      },
      "source": [
        "아래와 같이 출력 변경해보시오.\n",
        "\n",
        "**2 X 1 = 2 2 X 2 = 4 2 X 3 = 6 2 X 4 = 8 2 X 5 = 10 2 X 6 = 12 2 X 7 = 14 2 X 8 = 16 2 X 9 = 18**\n",
        "\n",
        "**3 X 1 = 3 3 X 2 = 6 3 X 3 = 9 3 X 4 = 12 3 X 5 = 15 3 X 6 = 18 3 X 7 = 21 3 X 8 = 24 3 X 9 = 27**\n",
        "\n",
        "**4 X 1 = 4 4 X 2 = 8 4 X 3 = 12 4 X 4 = 16 4 X 5 = 20 4 X 6 = 24 4 X 7 = 28 4 X 8 = 32 4 X 9 = 36**\n",
        "\n",
        "**5 X 1 = 5 5 X 2 = 10 5 X 3 = 15 5 X 4 = 20 5 X 5 = 25 5 X 6 = 30 5 X 7 = 35 5 X 8 = 40 5 X 9 = 45**\n",
        "\n",
        "**6 X 1 = 6 6 X 2 = 12 6 X 3 = 18 6 X 4 = 24 6 X 5 = 30 6 X 6 = 36 6 X 7 = 42 6 X 8 = 48 6 X 9 = 54**\n",
        "\n",
        "**7 X 1 = 7 7 X 2 = 14 7 X 3 = 21 7 X 4 = 28 7 X 5 = 35 7 X 6 = 42 7 X 7 = 49 7 X 8 = 56 7 X 9 = 63**\n",
        "\n",
        "**8 X 1 = 8 8 X 2 = 16 8 X 3 = 24 8 X 4 = 32 8 X 5 = 40 8 X 6 = 48 8 X 7 = 56 8 X 8 = 64 8 X 9 = 72**\n",
        "\n",
        "**9 X 1 = 9 9 X 2 = 18 9 X 3 = 27 9 X 4 = 36 9 X 5 = 45 9 X 6 = 54 9 X 7 = 63 9 X 8 = 72 9 X 9 = 81**\n"
      ]
    },
    {
      "cell_type": "code",
      "metadata": {
        "id": "iCcwziX7bn5N",
        "colab_type": "code",
        "outputId": "47780310-1f59-4d50-fc72-72f46e853766",
        "colab": {
          "base_uri": "https://localhost:8080/",
          "height": 161
        }
      },
      "source": [
        "for i in range(2,10):        # ①번 for문\n",
        "     for j in range(1, 10):   # ②번 for문\n",
        "         print(i, \"X\", j, \"=\", i*j, end=\"  \") \n",
        "     print('') "
      ],
      "execution_count": 0,
      "outputs": [
        {
          "output_type": "stream",
          "text": [
            "2 X 1 = 2  2 X 2 = 4  2 X 3 = 6  2 X 4 = 8  2 X 5 = 10  2 X 6 = 12  2 X 7 = 14  2 X 8 = 16  2 X 9 = 18  \n",
            "3 X 1 = 3  3 X 2 = 6  3 X 3 = 9  3 X 4 = 12  3 X 5 = 15  3 X 6 = 18  3 X 7 = 21  3 X 8 = 24  3 X 9 = 27  \n",
            "4 X 1 = 4  4 X 2 = 8  4 X 3 = 12  4 X 4 = 16  4 X 5 = 20  4 X 6 = 24  4 X 7 = 28  4 X 8 = 32  4 X 9 = 36  \n",
            "5 X 1 = 5  5 X 2 = 10  5 X 3 = 15  5 X 4 = 20  5 X 5 = 25  5 X 6 = 30  5 X 7 = 35  5 X 8 = 40  5 X 9 = 45  \n",
            "6 X 1 = 6  6 X 2 = 12  6 X 3 = 18  6 X 4 = 24  6 X 5 = 30  6 X 6 = 36  6 X 7 = 42  6 X 8 = 48  6 X 9 = 54  \n",
            "7 X 1 = 7  7 X 2 = 14  7 X 3 = 21  7 X 4 = 28  7 X 5 = 35  7 X 6 = 42  7 X 7 = 49  7 X 8 = 56  7 X 9 = 63  \n",
            "8 X 1 = 8  8 X 2 = 16  8 X 3 = 24  8 X 4 = 32  8 X 5 = 40  8 X 6 = 48  8 X 7 = 56  8 X 8 = 64  8 X 9 = 72  \n",
            "9 X 1 = 9  9 X 2 = 18  9 X 3 = 27  9 X 4 = 36  9 X 5 = 45  9 X 6 = 54  9 X 7 = 63  9 X 8 = 72  9 X 9 = 81  \n"
          ],
          "name": "stdout"
        }
      ]
    },
    {
      "cell_type": "markdown",
      "metadata": {
        "id": "bP8YoIpFc7gg",
        "colab_type": "text"
      },
      "source": [
        "#리스트 내포(List comprehension)"
      ]
    },
    {
      "cell_type": "code",
      "metadata": {
        "id": "smU7gOIWcVke",
        "colab_type": "code",
        "outputId": "c1b5e2d1-46eb-4aca-f65f-d40987fc0f73",
        "colab": {
          "base_uri": "https://localhost:8080/",
          "height": 89
        }
      },
      "source": [
        "a = [1,2,3,4]\n",
        "result = []\n",
        "for num in a:\n",
        "    result.append(num*3)\n",
        "    print(result)"
      ],
      "execution_count": 0,
      "outputs": [
        {
          "output_type": "stream",
          "text": [
            "[3]\n",
            "[3, 6]\n",
            "[3, 6, 9]\n",
            "[3, 6, 9, 12]\n"
          ],
          "name": "stdout"
        }
      ]
    },
    {
      "cell_type": "markdown",
      "metadata": {
        "id": "C6-_3sCfdBDc",
        "colab_type": "text"
      },
      "source": [
        "#리스트 내포\n",
        "\n",
        "**result = [num*3 for num in a]**"
      ]
    },
    {
      "cell_type": "code",
      "metadata": {
        "id": "HcsPH69Ec9A9",
        "colab_type": "code",
        "outputId": "fa114ab5-5d25-4610-b6bb-170c9a4e4429",
        "colab": {
          "base_uri": "https://localhost:8080/",
          "height": 35
        }
      },
      "source": [
        "a = [1,2,3,4]\n",
        "result = [num*3 for num in a]\n",
        "print(result)"
      ],
      "execution_count": 0,
      "outputs": [
        {
          "output_type": "stream",
          "text": [
            "[3, 6, 9, 12]\n"
          ],
          "name": "stdout"
        }
      ]
    },
    {
      "cell_type": "markdown",
      "metadata": {
        "id": "3E2xYsa0dQtM",
        "colab_type": "text"
      },
      "source": [
        "#리스트 내포의 일반 문법\n",
        "\n",
        "**[표현식 for 항목 in 반복가능객체 if 조건문]**\n",
        "\n",
        "**-----------------------------------------**\n",
        "\n",
        "**일반화**\n",
        "\n",
        "**[표현식 for 항목1 in 반복가능객체1 if 조건문1**\n",
        "\n",
        "  **for 항목2 in 반복가능객체2 if 조건문2**\n",
        "        \n",
        "  **...**\n",
        "        \n",
        "  **for 항목n in 반복가능객체n if 조건문n]**"
      ]
    },
    {
      "cell_type": "markdown",
      "metadata": {
        "id": "DjHQD8vidqtV",
        "colab_type": "text"
      },
      "source": [
        "##구구단의 모든 결과를 리스트에 담는 코드"
      ]
    },
    {
      "cell_type": "code",
      "metadata": {
        "id": "Eha-yw2ZdDtS",
        "colab_type": "code",
        "outputId": "0e502fd4-6e11-414b-a613-443a1e7922ad",
        "colab": {
          "base_uri": "https://localhost:8080/",
          "height": 55
        }
      },
      "source": [
        "result = [x*y for x in range(2,10) for y in range(1,10)]\n",
        "print(result)"
      ],
      "execution_count": 0,
      "outputs": [
        {
          "output_type": "stream",
          "text": [
            "[2, 4, 6, 8, 10, 12, 14, 16, 18, 3, 6, 9, 12, 15, 18, 21, 24, 27, 4, 8, 12, 16, 20, 24, 28, 32, 36, 5, 10, 15, 20, 25, 30, 35, 40, 45, 6, 12, 18, 24, 30, 36, 42, 48, 54, 7, 14, 21, 28, 35, 42, 49, 56, 63, 8, 16, 24, 32, 40, 48, 56, 64, 72, 9, 18, 27, 36, 45, 54, 63, 72, 81]\n"
          ],
          "name": "stdout"
        }
      ]
    },
    {
      "cell_type": "markdown",
      "metadata": {
        "id": "aZeu30_7d2v-",
        "colab_type": "text"
      },
      "source": [
        "## 9 이하의 정수 중 짝수는 2배로, 홀수는 그대로 리스트에 담는 코드"
      ]
    },
    {
      "cell_type": "code",
      "metadata": {
        "id": "Cg6BuNdkdt2q",
        "colab_type": "code",
        "outputId": "d96718da-5170-466d-b41b-8cda3411ba80",
        "colab": {
          "base_uri": "https://localhost:8080/",
          "height": 35
        }
      },
      "source": [
        "x = [1, 2, 3, 4, 5, 6, 7, 8, 9]  # -> [1, 4, 3, 8, 5, 12, 7, 16, 9]\n",
        "result = []\n",
        "for idx in range(len(x)):\n",
        "    if x[idx] % 2 == 0:\n",
        "        result.append(x[idx] * 2)\n",
        "    else:\n",
        "        result.append(x[idx])\n",
        "result\n"
      ],
      "execution_count": 0,
      "outputs": [
        {
          "output_type": "execute_result",
          "data": {
            "text/plain": [
              "[1, 4, 3, 8, 5, 12, 7, 16, 9]"
            ]
          },
          "metadata": {
            "tags": []
          },
          "execution_count": 24
        }
      ]
    },
    {
      "cell_type": "markdown",
      "metadata": {
        "id": "lZMqUVwReMrM",
        "colab_type": "text"
      },
      "source": [
        "# 짝수만 추출하여 2배로 만든 리스트 구성"
      ]
    },
    {
      "cell_type": "code",
      "metadata": {
        "id": "7RAMdJzWd-sd",
        "colab_type": "code",
        "outputId": "871731af-045d-4958-bbf6-1a25e20e6773",
        "colab": {
          "base_uri": "https://localhost:8080/",
          "height": 53
        }
      },
      "source": [
        "x = [1, 2, 3, 4, 5, 6, 7, 8, 9]\n",
        "print(x)\n",
        "[element * 2 for element in x if element % 2 == 0]"
      ],
      "execution_count": 0,
      "outputs": [
        {
          "output_type": "stream",
          "text": [
            "[1, 2, 3, 4, 5, 6, 7, 8, 9]\n"
          ],
          "name": "stdout"
        },
        {
          "output_type": "execute_result",
          "data": {
            "text/plain": [
              "[4, 8, 12, 16]"
            ]
          },
          "metadata": {
            "tags": []
          },
          "execution_count": 29
        }
      ]
    },
    {
      "cell_type": "markdown",
      "metadata": {
        "id": "grMitN8YeONM",
        "colab_type": "text"
      },
      "source": [
        "# 그러면 짝수는 2배로, 홀수는 그대로 리스트에 담는 코드"
      ]
    },
    {
      "cell_type": "code",
      "metadata": {
        "id": "35mJJl2MeKfp",
        "colab_type": "code",
        "outputId": "81e91fd6-4339-49a5-8c45-7b5077e7a47b",
        "colab": {
          "base_uri": "https://localhost:8080/",
          "height": 53
        }
      },
      "source": [
        "x = [1, 2, 3, 4, 5, 6, 7, 8, 9]\n",
        "print(x)\n",
        "[(element * 2 if element % 2 == 0 else element) for element in x]"
      ],
      "execution_count": 0,
      "outputs": [
        {
          "output_type": "stream",
          "text": [
            "[1, 2, 3, 4, 5, 6, 7, 8, 9]\n"
          ],
          "name": "stdout"
        },
        {
          "output_type": "execute_result",
          "data": {
            "text/plain": [
              "[1, 4, 3, 8, 5, 12, 7, 16, 9]"
            ]
          },
          "metadata": {
            "tags": []
          },
          "execution_count": 31
        }
      ]
    },
    {
      "cell_type": "markdown",
      "metadata": {
        "id": "VSPTNr0xhY2N",
        "colab_type": "text"
      },
      "source": [
        "#for_iterates\n",
        "\n",
        "##for 문과 itrator"
      ]
    },
    {
      "cell_type": "code",
      "metadata": {
        "id": "KbjLh8WDhXP6",
        "colab_type": "code",
        "outputId": "b3d7e750-32e2-47e3-ed95-509de177aa0a",
        "colab": {
          "base_uri": "https://localhost:8080/",
          "height": 107
        }
      },
      "source": [
        "subjects = ['python', 'english', 'math', 'science']\n",
        "scores = [88, 77, 66, 95]\n",
        "\n",
        "print(\"과목명 출력\")\n",
        "for subject in subjects:\n",
        "    print(subject)"
      ],
      "execution_count": 0,
      "outputs": [
        {
          "output_type": "stream",
          "text": [
            "과목명 출력\n",
            "python\n",
            "english\n",
            "math\n",
            "science\n"
          ],
          "name": "stdout"
        }
      ]
    },
    {
      "cell_type": "code",
      "metadata": {
        "id": "E5MngVkehc4A",
        "colab_type": "code",
        "outputId": "2416767f-fa85-4ec4-ce2a-9db9b2bd1696",
        "colab": {
          "base_uri": "https://localhost:8080/",
          "height": 107
        }
      },
      "source": [
        "subjects = ['python', 'english', 'math', 'science']\n",
        "scores = [88, 77, 66, 95]\n",
        "\n",
        "print(\"과목 점수 출력\")\n",
        "for score in scores:\n",
        "    print(score)"
      ],
      "execution_count": 0,
      "outputs": [
        {
          "output_type": "stream",
          "text": [
            "과목 점수 출력\n",
            "88\n",
            "77\n",
            "66\n",
            "95\n"
          ],
          "name": "stdout"
        }
      ]
    },
    {
      "cell_type": "markdown",
      "metadata": {
        "id": "iW_-rHfNhmZN",
        "colab_type": "text"
      },
      "source": [
        "##enumerate()를 이용한 출력\n",
        "\n",
        "**Index 값과 Value 값 출력**"
      ]
    },
    {
      "cell_type": "code",
      "metadata": {
        "id": "WZEYrW0ohjd5",
        "colab_type": "code",
        "outputId": "f1bea268-fc2c-4c25-99f5-be41d67ddd2d",
        "colab": {
          "base_uri": "https://localhost:8080/",
          "height": 89
        }
      },
      "source": [
        "subjects = ['python', 'english', 'math', 'science']\n",
        "scores = [88, 77, 66, 95]\n",
        "\n",
        "for position, subject in enumerate(subjects):\n",
        "    print(position,subject)"
      ],
      "execution_count": 0,
      "outputs": [
        {
          "output_type": "stream",
          "text": [
            "0 python\n",
            "1 english\n",
            "2 math\n",
            "3 science\n"
          ],
          "name": "stdout"
        }
      ]
    },
    {
      "cell_type": "code",
      "metadata": {
        "colab_type": "code",
        "id": "8AFkRngQhzY1",
        "outputId": "e49d5ffd-7e08-4f43-c064-9ec0b2c25107",
        "colab": {
          "base_uri": "https://localhost:8080/",
          "height": 89
        }
      },
      "source": [
        "subjects = ['python', 'english', 'math', 'science']\n",
        "\n",
        "for position, subject in enumerate(subjects):\n",
        "    print(subjects[position])"
      ],
      "execution_count": 0,
      "outputs": [
        {
          "output_type": "stream",
          "text": [
            "python\n",
            "english\n",
            "math\n",
            "science\n"
          ],
          "name": "stdout"
        }
      ]
    },
    {
      "cell_type": "markdown",
      "metadata": {
        "id": "VdovFi08h5IU",
        "colab_type": "text"
      },
      "source": [
        "###enumerate()를 이용하여 점수를 출력"
      ]
    },
    {
      "cell_type": "code",
      "metadata": {
        "id": "SECAZrR_h0Qj",
        "colab_type": "code",
        "outputId": "8fd307a5-4ab1-4384-8788-f5b1a08c3bf8",
        "colab": {
          "base_uri": "https://localhost:8080/",
          "height": 89
        }
      },
      "source": [
        "scores = [88, 77, 66, 95]\n",
        "\n",
        "for position, score in enumerate(scores):\n",
        "    print(scores[position])"
      ],
      "execution_count": 0,
      "outputs": [
        {
          "output_type": "stream",
          "text": [
            "88\n",
            "77\n",
            "66\n",
            "95\n"
          ],
          "name": "stdout"
        }
      ]
    },
    {
      "cell_type": "markdown",
      "metadata": {
        "id": "pnKr7c_KiW59",
        "colab_type": "text"
      },
      "source": [
        "##for 문과 itrator의 응용: 복합 문자열 리스트"
      ]
    },
    {
      "cell_type": "code",
      "metadata": {
        "id": "XfH_I46Eh7w3",
        "colab_type": "code",
        "outputId": "e9dfb7fb-b863-43ea-d7f2-5822e8a7169f",
        "colab": {
          "base_uri": "https://localhost:8080/",
          "height": 89
        }
      },
      "source": [
        "subjects = ['python', 'english', 'math', 'science']\n",
        "scores = [88, 77, 66, 95]\n",
        "# Method-1\n",
        "for position in range(len(subjects)):\n",
        "    subject = subjects[position]\n",
        "    score = scores[position]\n",
        "    print(subject, score)"
      ],
      "execution_count": 0,
      "outputs": [
        {
          "output_type": "stream",
          "text": [
            "python 88\n",
            "english 77\n",
            "math 66\n",
            "science 95\n"
          ],
          "name": "stdout"
        }
      ]
    },
    {
      "cell_type": "code",
      "metadata": {
        "id": "BDrNBFiZid-Y",
        "colab_type": "code",
        "outputId": "cbac6893-1dc0-405c-ef7a-8957481d7fb0",
        "colab": {
          "base_uri": "https://localhost:8080/",
          "height": 89
        }
      },
      "source": [
        "\n",
        "subjects = ['python', 'english', 'math', 'science']\n",
        "scores = [88, 77, 66, 95]\n",
        "# Method-2\n",
        "for position, subject in enumerate(subjects):\n",
        "    score = scores[position]\n",
        "    print(subject, score)\n"
      ],
      "execution_count": 0,
      "outputs": [
        {
          "output_type": "stream",
          "text": [
            "python 88\n",
            "english 77\n",
            "math 66\n",
            "science 95\n"
          ],
          "name": "stdout"
        }
      ]
    },
    {
      "cell_type": "code",
      "metadata": {
        "id": "rqMdw4WZi5cv",
        "colab_type": "code",
        "outputId": "ad065b07-aeb7-42a9-ba78-6f27254d16f0",
        "colab": {
          "base_uri": "https://localhost:8080/",
          "height": 89
        }
      },
      "source": [
        "\n",
        "\n",
        "subjects = ['python', 'english', 'math', 'science']\n",
        "scores = [88, 77, 66, 95]\n",
        "# Method-3\n",
        "for subject, score in zip(subjects, scores):\n",
        "    print(subject, score)\n"
      ],
      "execution_count": 0,
      "outputs": [
        {
          "output_type": "stream",
          "text": [
            "python 88\n",
            "english 77\n",
            "math 66\n",
            "science 95\n"
          ],
          "name": "stdout"
        }
      ]
    },
    {
      "cell_type": "markdown",
      "metadata": {
        "id": "GhBB2SNfjB27",
        "colab_type": "text"
      },
      "source": [
        "# 응용 코드 : 평균 성적을 구하기\n",
        "\n",
        "**zip 함수 ==> 묶기**"
      ]
    },
    {
      "cell_type": "code",
      "metadata": {
        "id": "dco_aK49i6Xu",
        "colab_type": "code",
        "outputId": "88cfc6df-17ce-401d-fc7f-6b1bb8375789",
        "colab": {
          "base_uri": "https://localhost:8080/",
          "height": 107
        }
      },
      "source": [
        "subjects = ['python', 'english', 'math', 'science']\n",
        "scores = [88, 77, 66, 95]\n",
        "\n",
        "average = 0\n",
        "total = 0\n",
        "for subject, score in zip(subjects, scores):\n",
        "    total += score\n",
        "    print(subject, score)\n",
        "\n",
        "print(\"평균 점수 = {0}\".format(total/len(subjects)))\n"
      ],
      "execution_count": 0,
      "outputs": [
        {
          "output_type": "stream",
          "text": [
            "python 88\n",
            "english 77\n",
            "math 66\n",
            "science 95\n",
            "평균 점수 = 81.5\n"
          ],
          "name": "stdout"
        }
      ]
    }
  ]
}