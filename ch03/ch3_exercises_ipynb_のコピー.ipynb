{
  "nbformat": 4,
  "nbformat_minor": 0,
  "metadata": {
    "colab": {
      "name": "ch3_exercises.ipynb のコピー",
      "provenance": [],
      "collapsed_sections": [],
      "include_colab_link": true
    },
    "kernelspec": {
      "name": "python3",
      "display_name": "Python 3"
    }
  },
  "cells": [
    {
      "cell_type": "markdown",
      "metadata": {
        "id": "view-in-github",
        "colab_type": "text"
      },
      "source": [
        "<a href=\"https://colab.research.google.com/github/mina0502/SM04/blob/master/ch03/ch3_exercises_ipynb_%E3%81%AE%E3%82%B3%E3%83%94%E3%83%BC.ipynb\" target=\"_parent\"><img src=\"https://colab.research.google.com/assets/colab-badge.svg\" alt=\"Open In Colab\"/></a>"
      ]
    },
    {
      "cell_type": "markdown",
      "metadata": {
        "id": "ovY5jkD5dpxE",
        "colab_type": "text"
      },
      "source": [
        "## ch3_exercises.ipynb"
      ]
    },
    {
      "cell_type": "markdown",
      "metadata": {
        "id": "SZw6UnxQWYBe",
        "colab_type": "text"
      },
      "source": [
        "## Q1.\n",
        "> 다음 코드의 결과값은 무엇일까?\n",
        "\n",
        "```\n",
        "a = \"Life is too short, you need python\"\n",
        "if \"wife\" in a: print(\"wife\")\n",
        "elif \"python\" in a and \"you\" not in a: print(\"python\")\n",
        "elif \"shirt\" not in a: print(\"shirt\")\n",
        "elif \"need\" in a: print(\"need\")\n",
        "else: print(\"none\")\n",
        "\n",
        "```"
      ]
    },
    {
      "cell_type": "code",
      "metadata": {
        "id": "rUNNaqJPdg7B",
        "colab_type": "code",
        "outputId": "435148d1-135a-4ce2-8a4c-dd60a56a3f83",
        "colab": {
          "base_uri": "https://localhost:8080/",
          "height": 35
        }
      },
      "source": [
        "# [Q1] Code  \n",
        "\n",
        "a = \"Life is too short, you need python\"\n",
        "if \"wife\" in a: print(\"wife\")  #'wife'가 있으면 wife 출력\n",
        "elif \"python\" in a and \"you\" not in a: print(\"python\") #'python'이 있고 'you'가 없으면 python 출력\n",
        "elif \"shirt\" not in a: print(\"shirt\")# shirt가 없으면 shirt 출력\n",
        "elif \"need\" in a: print(\"need\")#need가 있으면 need 출력\n",
        "else: print(\"none\") #아무것도 없으면 none\n"
      ],
      "execution_count": 90,
      "outputs": [
        {
          "output_type": "stream",
          "text": [
            "shirt\n"
          ],
          "name": "stdout"
        }
      ]
    },
    {
      "cell_type": "markdown",
      "metadata": {
        "id": "LCNrqNRxL8ch",
        "colab_type": "text"
      },
      "source": [
        "**==> shirt의 조건문이 참이기 때문에 shirt가 나옴**\n",
        "\n",
        "**elif 문에서 조건이 참일 경우 그 문장에서 빠져 나오기 때문에**\n",
        "\n",
        "**elif \"shirt\" not in a: print(\"shirt\")의 아래에 있는 문장**\n",
        "\n",
        "**elif \"need\" in a: print(\"need\") 가 출력이 되지 않음**"
      ]
    },
    {
      "cell_type": "markdown",
      "metadata": {
        "colab_type": "text",
        "id": "re2-XrUYXF1m"
      },
      "source": [
        "## Q2.\n",
        "> while문을 사용해 1부터 1000까지의 자연수 중 3의 배수의 합을 구해 보자.\n"
      ]
    },
    {
      "cell_type": "code",
      "metadata": {
        "colab_type": "code",
        "id": "5MBLUZ5WXF1q",
        "outputId": "313ff56a-afd1-467d-ffe1-976008e511f8",
        "colab": {
          "base_uri": "https://localhost:8080/"
        }
      },
      "source": [
        "# [Q2] Code\n",
        "a=0\n",
        "b=0\n",
        "while a <1000:\n",
        "    a = a+1\n",
        "    if a % 3 == 0: b=b+a\n",
        "    if a==1000:\n",
        "      print(\"3의 배수의 합= \",b)"
      ],
      "execution_count": 0,
      "outputs": [
        {
          "output_type": "stream",
          "text": [
            "3의 배수의 합=  166833\n"
          ],
          "name": "stdout"
        }
      ]
    },
    {
      "cell_type": "markdown",
      "metadata": {
        "id": "oNSzI1cBsGA9",
        "colab_type": "text"
      },
      "source": [
        "for 사용해 1부터 1000까지의 자연수 중 3의 배수의 합을 구해 보자."
      ]
    },
    {
      "cell_type": "code",
      "metadata": {
        "id": "z1qMNG02sFfe",
        "colab_type": "code",
        "outputId": "e86479db-150e-4258-fa8d-c7a51fc1ca4b",
        "colab": {
          "base_uri": "https://localhost:8080/"
        }
      },
      "source": [
        "b=0\n",
        "for a in range(1,1000):\n",
        "  if a%3==0 : b=b+a\n",
        "print(\"3의 배수의 합= \",b)"
      ],
      "execution_count": 0,
      "outputs": [
        {
          "output_type": "stream",
          "text": [
            "3의 배수의 합=  166833\n"
          ],
          "name": "stdout"
        }
      ]
    },
    {
      "cell_type": "markdown",
      "metadata": {
        "id": "eTe4qIPEpOy7",
        "colab_type": "text"
      },
      "source": [
        "for문을 사용해 1부터 1000까지의 자연수 중 3의 배수의 합을 구해 보자."
      ]
    },
    {
      "cell_type": "markdown",
      "metadata": {
        "colab_type": "text",
        "id": "UZy8lu_BXGnT"
      },
      "source": [
        "## Q3.\n",
        "> while문을 사용하여 다음과 같이 별(*)을 표시하는 프로그램을 작성해 보자.\n",
        "\n",
        "```\n",
        "*\n",
        "**\n",
        "***\n",
        "****\n",
        "*****\n",
        "\n",
        "```\n"
      ]
    },
    {
      "cell_type": "code",
      "metadata": {
        "colab_type": "code",
        "id": "H9T_sXHzXGnW",
        "outputId": "cc50d7bd-aa4b-48e5-b199-1cd7030f1ab3",
        "colab": {
          "base_uri": "https://localhost:8080/"
        }
      },
      "source": [
        "# [Q3] Code\n",
        "a=0\n",
        "while a<5:\n",
        "  a = a+1\n",
        "  print(\"*\"*a)"
      ],
      "execution_count": 0,
      "outputs": [
        {
          "output_type": "stream",
          "text": [
            "*\n",
            "**\n",
            "***\n",
            "****\n",
            "*****\n"
          ],
          "name": "stdout"
        }
      ]
    },
    {
      "cell_type": "markdown",
      "metadata": {
        "id": "N716b7BWsvbd",
        "colab_type": "text"
      },
      "source": [
        "for문을 사용하여 다음과 같이 별(*)을 표시하는 프로그램을 작성해 보자."
      ]
    },
    {
      "cell_type": "code",
      "metadata": {
        "id": "Vue8GW0Lsuy1",
        "colab_type": "code",
        "outputId": "5e07bff5-b6d5-4eae-fbad-197fbac49182",
        "colab": {
          "base_uri": "https://localhost:8080/"
        }
      },
      "source": [
        "for a in range(1,6):\n",
        "  print(\"*\"*a)"
      ],
      "execution_count": 0,
      "outputs": [
        {
          "output_type": "stream",
          "text": [
            "*\n",
            "**\n",
            "***\n",
            "****\n",
            "*****\n"
          ],
          "name": "stdout"
        }
      ]
    },
    {
      "cell_type": "markdown",
      "metadata": {
        "colab_type": "text",
        "id": "fqypxxqTXHY7"
      },
      "source": [
        "## Q4.\n",
        "> for문을 사용해 1부터 100까지의 숫자를 출력해 보자.\n",
        "- 단순 for문 사용\n",
        "- 리스트 내포 사용"
      ]
    },
    {
      "cell_type": "markdown",
      "metadata": {
        "id": "b_8lQhh3pr3N",
        "colab_type": "text"
      },
      "source": [
        "**단순 for문 사용**"
      ]
    },
    {
      "cell_type": "code",
      "metadata": {
        "colab_type": "code",
        "id": "oQ5UnmayXHY-",
        "outputId": "ccf0ceec-d4ef-4e95-bc27-e407553297f1",
        "colab": {
          "base_uri": "https://localhost:8080/"
        }
      },
      "source": [
        "# [Q4] Code\n",
        "for i in range(1,101): \n",
        "  print(i, end =\" \")\n"
      ],
      "execution_count": 0,
      "outputs": [
        {
          "output_type": "stream",
          "text": [
            "1 2 3 4 5 6 7 8 9 10 11 12 13 14 15 16 17 18 19 20 21 22 23 24 25 26 27 28 29 30 31 32 33 34 35 36 37 38 39 40 41 42 43 44 45 46 47 48 49 50 51 52 53 54 55 56 57 58 59 60 61 62 63 64 65 66 67 68 69 70 71 72 73 74 75 76 77 78 79 80 81 82 83 84 85 86 87 88 89 90 91 92 93 94 95 96 97 98 99 100 "
          ],
          "name": "stdout"
        }
      ]
    },
    {
      "cell_type": "markdown",
      "metadata": {
        "id": "nCv5-gYRptMU",
        "colab_type": "text"
      },
      "source": [
        "**리스트 내포 사용**"
      ]
    },
    {
      "cell_type": "code",
      "metadata": {
        "id": "olLAYklKpqRj",
        "colab_type": "code",
        "outputId": "231bde9d-947f-4818-b9b7-a890691f9722",
        "colab": {
          "base_uri": "https://localhost:8080/"
        }
      },
      "source": [
        "result=[i for i in range(1,101)]\n",
        "print(result,end=\" \")"
      ],
      "execution_count": 0,
      "outputs": [
        {
          "output_type": "stream",
          "text": [
            "[1, 2, 3, 4, 5, 6, 7, 8, 9, 10, 11, 12, 13, 14, 15, 16, 17, 18, 19, 20, 21, 22, 23, 24, 25, 26, 27, 28, 29, 30, 31, 32, 33, 34, 35, 36, 37, 38, 39, 40, 41, 42, 43, 44, 45, 46, 47, 48, 49, 50, 51, 52, 53, 54, 55, 56, 57, 58, 59, 60, 61, 62, 63, 64, 65, 66, 67, 68, 69, 70, 71, 72, 73, 74, 75, 76, 77, 78, 79, 80, 81, 82, 83, 84, 85, 86, 87, 88, 89, 90, 91, 92, 93, 94, 95, 96, 97, 98, 99, 100] "
          ],
          "name": "stdout"
        }
      ]
    },
    {
      "cell_type": "markdown",
      "metadata": {
        "id": "xSOxv0A-s9Sj",
        "colab_type": "text"
      },
      "source": [
        "while문을 사용해 1부터 100까지의 숫자를 출력해 보자."
      ]
    },
    {
      "cell_type": "code",
      "metadata": {
        "id": "34sao2t_s-ob",
        "colab_type": "code",
        "outputId": "c5f298ea-1c03-4a9b-90b7-5c89ca3abf86",
        "colab": {
          "base_uri": "https://localhost:8080/"
        }
      },
      "source": [
        "a=1\n",
        "while a <=100:\n",
        "  print(a,end=\" \")\n",
        "  a=a+1"
      ],
      "execution_count": 0,
      "outputs": [
        {
          "output_type": "stream",
          "text": [
            "1 2 3 4 5 6 7 8 9 10 11 12 13 14 15 16 17 18 19 20 21 22 23 24 25 26 27 28 29 30 31 32 33 34 35 36 37 38 39 40 41 42 43 44 45 46 47 48 49 50 51 52 53 54 55 56 57 58 59 60 61 62 63 64 65 66 67 68 69 70 71 72 73 74 75 76 77 78 79 80 81 82 83 84 85 86 87 88 89 90 91 92 93 94 95 96 97 98 99 100 "
          ],
          "name": "stdout"
        }
      ]
    },
    {
      "cell_type": "markdown",
      "metadata": {
        "colab_type": "text",
        "id": "NKsvciXZXIL-"
      },
      "source": [
        "## Q5.\n",
        "> A 학급에 총 10명의 학생이 있다. 이 학생들의 중간고사 점수는 다음과 같다.\n",
        "\n",
        "- [70, 60, 55, 75, 95, 90, 80, 80, 85, 100]\n",
        "\n",
        "- for문을 사용하여 A 학급의 평균 점수를 구해 보자."
      ]
    },
    {
      "cell_type": "markdown",
      "metadata": {
        "id": "pRSn7ZK4rtQa",
        "colab_type": "text"
      },
      "source": [
        "**일반 for문**"
      ]
    },
    {
      "cell_type": "code",
      "metadata": {
        "colab_type": "code",
        "id": "5MZQYOVjXIL_",
        "outputId": "49965e0e-2389-4f0e-f668-2abbe95368e7",
        "colab": {
          "base_uri": "https://localhost:8080/"
        }
      },
      "source": [
        "# [Q5] Code\n",
        "a=[70, 60, 55, 75, 95, 90, 80, 80, 85, 100]\n",
        "b=0\n",
        "for i in range(len(a)):\n",
        "    b=b+a[i]\n",
        "    \n",
        "print(b/len(a))    \n"
      ],
      "execution_count": 0,
      "outputs": [
        {
          "output_type": "stream",
          "text": [
            "79.0\n"
          ],
          "name": "stdout"
        }
      ]
    },
    {
      "cell_type": "markdown",
      "metadata": {
        "id": "h1yr8MxZru4q",
        "colab_type": "text"
      },
      "source": [
        "**itrator 응용**"
      ]
    },
    {
      "cell_type": "code",
      "metadata": {
        "id": "VUb06Pb0qOHD",
        "colab_type": "code",
        "outputId": "7986fe66-c765-46ca-d8b5-8c2fe8faab45",
        "colab": {
          "base_uri": "https://localhost:8080/"
        }
      },
      "source": [
        "a=[70, 60, 55, 75, 95, 90, 80, 80, 85, 100]\n",
        "total=0\n",
        "for position in range(len(a)):\n",
        "  b=a[position]\n",
        "  total+=b\n",
        "average= total/len(a)\n",
        "print(f\"result= {average}\")"
      ],
      "execution_count": 0,
      "outputs": [
        {
          "output_type": "stream",
          "text": [
            "result= 79.0\n"
          ],
          "name": "stdout"
        }
      ]
    },
    {
      "cell_type": "markdown",
      "metadata": {
        "colab_type": "text",
        "id": "-3KHtOOoXJBV"
      },
      "source": [
        "## Q6.\n",
        "> 리스트 중에서 홀수에만 2를 곱하여 저장하는 다음 코드가 있다.\n",
        "```\n",
        "numbers = [1, 2, 3, 4, 5, 6, 7, 8, 9]\n",
        "result = []\n",
        "for n in numbers:\n",
        "    if n % 2 == 1:\n",
        "        result.append(n*2)\n",
        "```\n",
        "\n",
        "- 위 코드를 리스트 내포(list comprehension)를 사용하여 표현해 보자."
      ]
    },
    {
      "cell_type": "markdown",
      "metadata": {
        "id": "2Mj42920r4gU",
        "colab_type": "text"
      },
      "source": [
        "**리스트 내포 사용**"
      ]
    },
    {
      "cell_type": "code",
      "metadata": {
        "id": "QzzUOICqvG0l",
        "colab_type": "code",
        "outputId": "d6f08c9f-e92c-4bee-b496-ff4280cd7b15",
        "colab": {
          "base_uri": "https://localhost:8080/"
        }
      },
      "source": [
        "numbers = [1, 2, 3, 4, 5, 6, 7, 8, 9]\n",
        "result =[]\n",
        "for idx in range(len(numbers)):\n",
        "  if  numbers[idx] % 2 ==0:\n",
        "    result.append(numbers[idx])\n",
        "  else:\n",
        "    result.append(numbers[idx]*2)\n",
        "print(result)"
      ],
      "execution_count": 0,
      "outputs": [
        {
          "output_type": "stream",
          "text": [
            "[2, 2, 6, 4, 10, 6, 14, 8, 18]\n"
          ],
          "name": "stdout"
        }
      ]
    },
    {
      "cell_type": "code",
      "metadata": {
        "colab_type": "code",
        "id": "AjYR0lUaXJBa",
        "outputId": "b1f9092f-b4ef-4d56-929e-2c4af35c93e8",
        "colab": {
          "base_uri": "https://localhost:8080/"
        }
      },
      "source": [
        "# [Q6] Code\n",
        "numbers = [1, 2, 3, 4, 5, 6, 7, 8, 9]\n",
        "result=[(num*2 if num % 2 ==1 else num)for num in numbers]\n",
        "result"
      ],
      "execution_count": 0,
      "outputs": [
        {
          "output_type": "execute_result",
          "data": {
            "text/plain": [
              "[2, 2, 6, 4, 10, 6, 14, 8, 18]"
            ]
          },
          "metadata": {
            "tags": []
          },
          "execution_count": 86
        }
      ]
    },
    {
      "cell_type": "markdown",
      "metadata": {
        "colab_type": "text",
        "id": "YrS3b88QbmKo"
      },
      "source": [
        "## Q7.\n",
        "> ## [Challenge] 응용 코드 : 평균 성적을 구하시오.\n",
        "```\n",
        "subjects = ['파이썬', '영어', '수학', '물리']\n",
        "scores = [91, 67, 88, 75]\n",
        "```\n",
        "\n",
        "- 평균 성적을 세가지 이상의 방법으로 구하시오."
      ]
    },
    {
      "cell_type": "markdown",
      "metadata": {
        "id": "YMOn5cjwofzk",
        "colab_type": "text"
      },
      "source": [
        "**생각대로**"
      ]
    },
    {
      "cell_type": "code",
      "metadata": {
        "colab_type": "code",
        "id": "Ll_2InMWbmKq",
        "outputId": "11254e13-9478-4b4e-b6c7-c751287d86a7",
        "colab": {
          "base_uri": "https://localhost:8080/"
        }
      },
      "source": [
        "# [Q7] Code-1\n",
        "scores = [91, 67, 88, 75]\n",
        "a=0\n",
        "for i in range(len(scores)):\n",
        "  a=a+scores[i]\n",
        "print(a/len(scores))"
      ],
      "execution_count": 0,
      "outputs": [
        {
          "output_type": "stream",
          "text": [
            "80.25\n"
          ],
          "name": "stdout"
        }
      ]
    },
    {
      "cell_type": "markdown",
      "metadata": {
        "id": "gkkNPfPRoarc",
        "colab_type": "text"
      },
      "source": [
        "**zip함수**"
      ]
    },
    {
      "cell_type": "code",
      "metadata": {
        "colab_type": "code",
        "id": "1Yl74HZQcWkw",
        "outputId": "14ebb5e2-8524-4b07-946f-a04614619fed",
        "colab": {
          "base_uri": "https://localhost:8080/"
        }
      },
      "source": [
        "# [Q7] Code-2\n",
        "\n",
        "subjects = ['파이썬', '영어', '수학', '물리']\n",
        "scores = [91, 67, 88, 75]\n",
        "\n",
        "average = 0\n",
        "total =0\n",
        "for subject ,score in zip(subjects,scores):\n",
        "  total+=score\n",
        "average= total/len(scores)\n",
        "print(f\"average= {average}\")"
      ],
      "execution_count": 0,
      "outputs": [
        {
          "output_type": "stream",
          "text": [
            "average= 80.25\n"
          ],
          "name": "stdout"
        }
      ]
    },
    {
      "cell_type": "markdown",
      "metadata": {
        "id": "ft75PTZ1ocok",
        "colab_type": "text"
      },
      "source": [
        "**enumerate**"
      ]
    },
    {
      "cell_type": "code",
      "metadata": {
        "colab_type": "code",
        "id": "POKZZo1KcW0Q",
        "outputId": "c3097d7f-4dae-40e2-bc97-6e74bedea92d",
        "colab": {
          "base_uri": "https://localhost:8080/"
        }
      },
      "source": [
        "# [Q7] Code-3\n",
        "subjects = ['파이썬', '영어', '수학', '물리']\n",
        "scores = [91, 67, 88, 75]\n",
        "score=0\n",
        "for position, subject in enumerate(subjects):\n",
        "    score = score+scores[position]\n",
        "print(score/len(scores))"
      ],
      "execution_count": 0,
      "outputs": [
        {
          "output_type": "stream",
          "text": [
            "80.25\n"
          ],
          "name": "stdout"
        }
      ]
    },
    {
      "cell_type": "markdown",
      "metadata": {
        "id": "2ljBDShkbqZO",
        "colab_type": "text"
      },
      "source": [
        "## 코딩 연습 결과를 github에 올리기\n",
        "> 완성된 ipython 노트북 파일을 각자의 github에 올리시오.\n",
        "\n",
        "- github 계정 만들기 (계정이 없는 학생)\n",
        "    1. github에 sign up (Google gmail 계정을 이용해서 만드시오.)\n",
        "- github에 노트 올리기\n",
        "    2. github에 각자의 id로 repo를 만드시오. (한번 만들면 계속 재사용)\n",
        "    3. github repo에 연습결과 노트를 올리시오.\n",
        "        - 제출노트: ch3_exercises_id.ipynb\n"
      ]
    },
    {
      "cell_type": "code",
      "metadata": {
        "id": "OnCR-YNCc8B6",
        "colab_type": "code",
        "colab": {}
      },
      "source": [
        ""
      ],
      "execution_count": 0,
      "outputs": []
    }
  ]
}