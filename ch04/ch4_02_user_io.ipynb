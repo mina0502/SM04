{
  "nbformat": 4,
  "nbformat_minor": 0,
  "metadata": {
    "colab": {
      "name": "ch4_02_user_io.ipynb",
      "provenance": [],
      "collapsed_sections": [],
      "include_colab_link": true
    },
    "kernelspec": {
      "name": "python3",
      "display_name": "Python 3"
    }
  },
  "cells": [
    {
      "cell_type": "markdown",
      "metadata": {
        "id": "view-in-github",
        "colab_type": "text"
      },
      "source": [
        "<a href=\"https://colab.research.google.com/github/mina0502/SM04/blob/master/ch04/ch4_02_user_io.ipynb\" target=\"_parent\"><img src=\"https://colab.research.google.com/assets/colab-badge.svg\" alt=\"Open In Colab\"/></a>"
      ]
    },
    {
      "cell_type": "markdown",
      "metadata": {
        "id": "yHek6cDYbxMT",
        "colab_type": "text"
      },
      "source": [
        "#사용자 입력과 출력\n",
        "\n",
        "**사용자의 입력을 받는 방법과 출력하는 방법**"
      ]
    },
    {
      "cell_type": "markdown",
      "metadata": {
        "id": "TiqhKanUb4dm",
        "colab_type": "text"
      },
      "source": [
        "#input의 사용\n",
        "\n",
        "**scanf 같은 느낌**"
      ]
    },
    {
      "cell_type": "code",
      "metadata": {
        "id": "vfmU9T_Jbm5k",
        "colab_type": "code",
        "colab": {
          "base_uri": "https://localhost:8080/",
          "height": 53
        },
        "outputId": "1f038898-994d-48e3-9eca-ea14aad6d978"
      },
      "source": [
        "a = input()\n",
        "a"
      ],
      "execution_count": 1,
      "outputs": [
        {
          "output_type": "stream",
          "text": [
            "Life is too short, you need python\n"
          ],
          "name": "stdout"
        },
        {
          "output_type": "execute_result",
          "data": {
            "text/plain": [
              "'Life is too short, you need python'"
            ]
          },
          "metadata": {
            "tags": []
          },
          "execution_count": 1
        }
      ]
    },
    {
      "cell_type": "markdown",
      "metadata": {
        "id": "3nfeUQMXcAig",
        "colab_type": "text"
      },
      "source": [
        "**입력 안내 문구를 이용한 input의 사용**\n",
        "\n"
      ]
    },
    {
      "cell_type": "code",
      "metadata": {
        "id": "Qz_hYfEpb6KP",
        "colab_type": "code",
        "colab": {
          "base_uri": "https://localhost:8080/",
          "height": 53
        },
        "outputId": "e09d45b5-b3bf-48a2-af41-38d65b9f3f4b"
      },
      "source": [
        "number = input(\"숫자를 입력하세요: \")\n",
        "\n",
        "print(number)"
      ],
      "execution_count": 2,
      "outputs": [
        {
          "output_type": "stream",
          "text": [
            "숫자를 입력하세요: 3\n",
            "3\n"
          ],
          "name": "stdout"
        }
      ]
    },
    {
      "cell_type": "markdown",
      "metadata": {
        "id": "Ns3sDuC0cHIw",
        "colab_type": "text"
      },
      "source": [
        "#사용자 출력: print()"
      ]
    },
    {
      "cell_type": "code",
      "metadata": {
        "id": "Kcczf8KFcDva",
        "colab_type": "code",
        "colab": {
          "base_uri": "https://localhost:8080/",
          "height": 35
        },
        "outputId": "9dd63e78-890d-428a-a544-9d26b4ae3360"
      },
      "source": [
        "a = 123\n",
        "print(a)"
      ],
      "execution_count": 3,
      "outputs": [
        {
          "output_type": "stream",
          "text": [
            "123\n"
          ],
          "name": "stdout"
        }
      ]
    },
    {
      "cell_type": "markdown",
      "metadata": {
        "id": "9FB0mB7QcO54",
        "colab_type": "text"
      },
      "source": [
        "**문자 출력**"
      ]
    },
    {
      "cell_type": "code",
      "metadata": {
        "id": "KkwoaBBQcL6l",
        "colab_type": "code",
        "colab": {
          "base_uri": "https://localhost:8080/",
          "height": 35
        },
        "outputId": "4355612b-6727-4de9-d4d2-7546a5cb0606"
      },
      "source": [
        "a = \"Python\"\n",
        "print(a)"
      ],
      "execution_count": 4,
      "outputs": [
        {
          "output_type": "stream",
          "text": [
            "Python\n"
          ],
          "name": "stdout"
        }
      ]
    },
    {
      "cell_type": "markdown",
      "metadata": {
        "id": "Emr3waM6cUEI",
        "colab_type": "text"
      },
      "source": [
        "**리스트 출력**"
      ]
    },
    {
      "cell_type": "code",
      "metadata": {
        "id": "uau3PbKQcNjx",
        "colab_type": "code",
        "colab": {
          "base_uri": "https://localhost:8080/",
          "height": 35
        },
        "outputId": "9d446b2f-cadb-4bcb-911a-e05501d6fac4"
      },
      "source": [
        "a = [1, 2, 3]\n",
        "print(a)"
      ],
      "execution_count": 5,
      "outputs": [
        {
          "output_type": "stream",
          "text": [
            "[1, 2, 3]\n"
          ],
          "name": "stdout"
        }
      ]
    },
    {
      "cell_type": "markdown",
      "metadata": {
        "id": "DtyS0k69cXxq",
        "colab_type": "text"
      },
      "source": [
        "# 큰따옴표(\\\")로 둘러싸인 문자열은 + 연산과 동일"
      ]
    },
    {
      "cell_type": "code",
      "metadata": {
        "id": "Iji5qnw7cTHw",
        "colab_type": "code",
        "colab": {
          "base_uri": "https://localhost:8080/",
          "height": 53
        },
        "outputId": "6336e52e-69ec-4cfe-b1f0-9bd654e6784a"
      },
      "source": [
        "print(\"life\" \"is\" \"too short\")\n",
        "print(\"life\"+\"is\"+\"too short\")"
      ],
      "execution_count": 6,
      "outputs": [
        {
          "output_type": "stream",
          "text": [
            "lifeistoo short\n",
            "lifeistoo short\n"
          ],
          "name": "stdout"
        }
      ]
    },
    {
      "cell_type": "markdown",
      "metadata": {
        "id": "j7l4Szcjckdh",
        "colab_type": "text"
      },
      "source": [
        "**문자열 띄어쓰기는 콤마로 한다**"
      ]
    },
    {
      "cell_type": "code",
      "metadata": {
        "id": "6Ti2gvN5caYg",
        "colab_type": "code",
        "colab": {
          "base_uri": "https://localhost:8080/",
          "height": 53
        },
        "outputId": "76f09687-134b-4d9b-c91e-aab30e95def7"
      },
      "source": [
        "print(\"life\", \"is\", \"too short\")\n",
        "print(\"life\"+\" is\"+\" too short\")"
      ],
      "execution_count": 7,
      "outputs": [
        {
          "output_type": "stream",
          "text": [
            "life is too short\n",
            "life is too short\n"
          ],
          "name": "stdout"
        }
      ]
    },
    {
      "cell_type": "markdown",
      "metadata": {
        "id": "cizD2f8Vcruw",
        "colab_type": "text"
      },
      "source": [
        "#한 줄에 결괏값 출력하기"
      ]
    },
    {
      "cell_type": "markdown",
      "metadata": {
        "id": "LfK8RfJGcyVx",
        "colab_type": "text"
      },
      "source": [
        "**한 칸 띄어서 출력하기**"
      ]
    },
    {
      "cell_type": "code",
      "metadata": {
        "id": "TnUTI7RJcoHN",
        "colab_type": "code",
        "colab": {
          "base_uri": "https://localhost:8080/",
          "height": 35
        },
        "outputId": "91dfa07e-6a7b-4509-cfbc-4201c6c67129"
      },
      "source": [
        "\n",
        "for i in range(10):\n",
        "    print(i, end=' ')"
      ],
      "execution_count": 8,
      "outputs": [
        {
          "output_type": "stream",
          "text": [
            "0 1 2 3 4 5 6 7 8 9 "
          ],
          "name": "stdout"
        }
      ]
    }
  ]
}