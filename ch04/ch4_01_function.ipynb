{
  "nbformat": 4,
  "nbformat_minor": 0,
  "metadata": {
    "colab": {
      "name": "ch4_01_function.ipynb",
      "provenance": [],
      "collapsed_sections": [],
      "include_colab_link": true
    },
    "kernelspec": {
      "name": "python3",
      "display_name": "Python 3"
    }
  },
  "cells": [
    {
      "cell_type": "markdown",
      "metadata": {
        "id": "view-in-github",
        "colab_type": "text"
      },
      "source": [
        "<a href=\"https://colab.research.google.com/github/mina0502/SM04/blob/master/ch04/ch4_01_function.ipynb\" target=\"_parent\"><img src=\"https://colab.research.google.com/assets/colab-badge.svg\" alt=\"Open In Colab\"/></a>"
      ]
    },
    {
      "cell_type": "markdown",
      "metadata": {
        "id": "MrF3DftaPk5S",
        "colab_type": "text"
      },
      "source": [
        "**함수란 무엇인가?**\n",
        "\n",
        "**입력값을 가지고 어떤 일을 수행한 다음에** \n",
        "\n",
        "**그 결과물을 내어놓는 것**\n",
        "\n",
        "\n",
        "**함수를 사용하는 이유**  \n",
        "  \n",
        "  반복되는 부분을 함수로 전환.\n",
        "  \n",
        "  코딩을 모듈화\n",
        "  \n",
        "  **파이썬 함수의 구조**\n",
        "  \n",
        "  def 함수명(매개변수):\n",
        "  \n",
        "    <수행할 문장1>\n",
        "    \n",
        "    <수행할 문장2>\n",
        "    \n",
        "    ..."
      ]
    },
    {
      "cell_type": "markdown",
      "metadata": {
        "id": "irE_gvrhQaeQ",
        "colab_type": "text"
      },
      "source": [
        "# add() 함수를 정의\n",
        "\n",
        "def add(a, b): \n",
        "\n",
        "    return a + b\n"
      ]
    },
    {
      "cell_type": "code",
      "metadata": {
        "id": "nu3i5UsqMBRh",
        "colab_type": "code",
        "colab": {
          "base_uri": "https://localhost:8080/",
          "height": 35
        },
        "outputId": "72278cdb-3af0-4cbe-9039-b7370ad48686"
      },
      "source": [
        "\n",
        "\n",
        "\n",
        "# add() 함수를 사용\n",
        "a=3\n",
        "b=4\n",
        "c=add(a,b)\n",
        "print(c)\n"
      ],
      "execution_count": 3,
      "outputs": [
        {
          "output_type": "stream",
          "text": [
            "7\n"
          ],
          "name": "stdout"
        }
      ]
    },
    {
      "cell_type": "markdown",
      "metadata": {
        "id": "a2PjRIrNQ0zK",
        "colab_type": "text"
      },
      "source": [
        "**리스트를 붙여서 나옴**"
      ]
    },
    {
      "cell_type": "code",
      "metadata": {
        "id": "wU4P3jstQYgY",
        "colab_type": "code",
        "colab": {
          "base_uri": "https://localhost:8080/",
          "height": 35
        },
        "outputId": "7170ac6f-d2f2-482a-9723-e1941f68832a"
      },
      "source": [
        "\n",
        "x=[1,2,3]\n",
        "y=[4,5,6]\n",
        "z=x+y\n",
        "print(z)\n"
      ],
      "execution_count": 4,
      "outputs": [
        {
          "output_type": "stream",
          "text": [
            "[1, 2, 3, 4, 5, 6]\n"
          ],
          "name": "stdout"
        }
      ]
    },
    {
      "cell_type": "markdown",
      "metadata": {
        "id": "t1ltF5QZQhta",
        "colab_type": "text"
      },
      "source": [
        "**매개변수와 인수의 차이를 이해**\n",
        "\n",
        "함수에 정의된 수 = 매개변수 (a,b)\n",
        "\n",
        "함수를 사용할때 각각의 매개변수 = 인수 (3,4)"
      ]
    },
    {
      "cell_type": "code",
      "metadata": {
        "id": "weBOZHf2QEtn",
        "colab_type": "code",
        "colab": {
          "base_uri": "https://localhost:8080/",
          "height": 35
        },
        "outputId": "a44223ec-eb4b-40aa-cba4-0afa213a2751"
      },
      "source": [
        "\n",
        "def add(a, b):  # a, b는 매개변수\n",
        "    return a+b\n",
        "\n",
        "print(add(3, 4))  # 3, 4는 인수\n"
      ],
      "execution_count": 1,
      "outputs": [
        {
          "output_type": "stream",
          "text": [
            "7\n"
          ],
          "name": "stdout"
        }
      ]
    },
    {
      "cell_type": "markdown",
      "metadata": {
        "id": "6M8ZIK5KQP6B",
        "colab_type": "text"
      },
      "source": [
        "**Method Overiding**"
      ]
    },
    {
      "cell_type": "code",
      "metadata": {
        "id": "8HwaFqZWQKqi",
        "colab_type": "code",
        "colab": {
          "base_uri": "https://localhost:8080/",
          "height": 35
        },
        "outputId": "80d55ef5-75d0-49dc-850e-80ff6ef54c3f"
      },
      "source": [
        "add('IJU','Comsi')"
      ],
      "execution_count": 2,
      "outputs": [
        {
          "output_type": "execute_result",
          "data": {
            "text/plain": [
              "'IJUComsi'"
            ]
          },
          "metadata": {
            "tags": []
          },
          "execution_count": 2
        }
      ]
    },
    {
      "cell_type": "markdown",
      "metadata": {
        "id": "NyV4o4pvRAoh",
        "colab_type": "text"
      },
      "source": [
        "**def 함수이름(매개변수):**\n",
        "\n",
        "   **<수행할 문장>**\n",
        "    \n",
        "   **...**\n",
        "    \n",
        "   **return 결과값**\n",
        "   \n",
        "   ==> 결과값이 없을 수도 있다."
      ]
    },
    {
      "cell_type": "code",
      "metadata": {
        "id": "trDMUQ_0Q-PT",
        "colab_type": "code",
        "colab": {}
      },
      "source": [
        "\n",
        "def add2(a, b): \n",
        "    result = a + b \n",
        "    return result"
      ],
      "execution_count": 0,
      "outputs": []
    },
    {
      "cell_type": "markdown",
      "metadata": {
        "id": "7g4meaJgRQPZ",
        "colab_type": "text"
      },
      "source": [
        "**입력값과 결괏값이 있는 함수의 사용법**\n",
        "\n",
        "**결괏값을 받을 변수 = 함수이름(입력인수1, 입력인수2, ...)**"
      ]
    },
    {
      "cell_type": "code",
      "metadata": {
        "id": "1-JumZUyRMV3",
        "colab_type": "code",
        "colab": {
          "base_uri": "https://localhost:8080/",
          "height": 35
        },
        "outputId": "99d7efbf-40de-4c1a-e5d2-eb27db71dfdd"
      },
      "source": [
        "a = add2(3, 4)\n",
        "print(a)"
      ],
      "execution_count": 6,
      "outputs": [
        {
          "output_type": "stream",
          "text": [
            "7\n"
          ],
          "name": "stdout"
        }
      ]
    },
    {
      "cell_type": "markdown",
      "metadata": {
        "id": "xvTXyQv0RXgi",
        "colab_type": "text"
      },
      "source": [
        "# 입력값이 없는 함수"
      ]
    },
    {
      "cell_type": "code",
      "metadata": {
        "id": "7IKOxRp-RT4r",
        "colab_type": "code",
        "colab": {}
      },
      "source": [
        "def say(): \n",
        "    return 'Hi'"
      ],
      "execution_count": 0,
      "outputs": []
    },
    {
      "cell_type": "code",
      "metadata": {
        "id": "zHKiNEOPRYdm",
        "colab_type": "code",
        "colab": {
          "base_uri": "https://localhost:8080/",
          "height": 35
        },
        "outputId": "4365bddb-53dc-45c2-be66-9a1f5d02ea6a"
      },
      "source": [
        "a = say()\n",
        "print(a)"
      ],
      "execution_count": 8,
      "outputs": [
        {
          "output_type": "stream",
          "text": [
            "Hi\n"
          ],
          "name": "stdout"
        }
      ]
    },
    {
      "cell_type": "markdown",
      "metadata": {
        "id": "mLA4Rl_FRelr",
        "colab_type": "text"
      },
      "source": [
        "**입력값이 없는 함수의 사용법**\n",
        "\n",
        "**결괏값을 받을 변수 = 함수이름()**"
      ]
    },
    {
      "cell_type": "markdown",
      "metadata": {
        "id": "BXKKo0WJRhNQ",
        "colab_type": "text"
      },
      "source": [
        "# 결괏값이 없는 함수"
      ]
    },
    {
      "cell_type": "code",
      "metadata": {
        "id": "N5JFGCHURbc9",
        "colab_type": "code",
        "colab": {}
      },
      "source": [
        "def add3(a, b): \n",
        "    print(\"%d, %d의 합은 %d입니다.\" % (a, b, a+b))"
      ],
      "execution_count": 0,
      "outputs": []
    },
    {
      "cell_type": "code",
      "metadata": {
        "id": "vYHhMRdbRi0f",
        "colab_type": "code",
        "colab": {
          "base_uri": "https://localhost:8080/",
          "height": 35
        },
        "outputId": "8da90aab-afa1-4e33-c270-024f9158e42e"
      },
      "source": [
        "add3(3, 4)"
      ],
      "execution_count": 11,
      "outputs": [
        {
          "output_type": "stream",
          "text": [
            "3, 4의 합은 7입니다.\n"
          ],
          "name": "stdout"
        }
      ]
    },
    {
      "cell_type": "markdown",
      "metadata": {
        "id": "3EPxsec6RyEJ",
        "colab_type": "text"
      },
      "source": [
        "**return의 결과값이 없을경우 None을 출력해준다**"
      ]
    },
    {
      "cell_type": "code",
      "metadata": {
        "id": "5DFtLo5_Rpuf",
        "colab_type": "code",
        "colab": {
          "base_uri": "https://localhost:8080/",
          "height": 53
        },
        "outputId": "2247cb73-42a8-45b0-d2e5-beb0910528f7"
      },
      "source": [
        "a = add3(3, 4)\n",
        "print(a)"
      ],
      "execution_count": 13,
      "outputs": [
        {
          "output_type": "stream",
          "text": [
            "3, 4의 합은 7입니다.\n",
            "None\n"
          ],
          "name": "stdout"
        }
      ]
    },
    {
      "cell_type": "markdown",
      "metadata": {
        "id": "C7wqWutgSAY1",
        "colab_type": "text"
      },
      "source": [
        "# 입력값도 결괏값도 없는 함수"
      ]
    },
    {
      "cell_type": "code",
      "metadata": {
        "id": "-qHn6AX1Ru7C",
        "colab_type": "code",
        "colab": {}
      },
      "source": [
        "def say2(): \n",
        "    print('Hi')\n"
      ],
      "execution_count": 0,
      "outputs": []
    },
    {
      "cell_type": "code",
      "metadata": {
        "id": "ZvpeV9mmSCMo",
        "colab_type": "code",
        "colab": {
          "base_uri": "https://localhost:8080/",
          "height": 35
        },
        "outputId": "414f4776-12b4-4e42-f2f4-fb852c53cc4a"
      },
      "source": [
        "say()"
      ],
      "execution_count": 16,
      "outputs": [
        {
          "output_type": "execute_result",
          "data": {
            "text/plain": [
              "'Hi'"
            ]
          },
          "metadata": {
            "tags": []
          },
          "execution_count": 16
        }
      ]
    },
    {
      "cell_type": "markdown",
      "metadata": {
        "id": "1xsl65wdSFfo",
        "colab_type": "text"
      },
      "source": [
        "**매개변수의 값을 지정하여 호출**"
      ]
    },
    {
      "cell_type": "code",
      "metadata": {
        "id": "PAIDxxe5R9cK",
        "colab_type": "code",
        "colab": {}
      },
      "source": [
        "\n",
        "def add4(a, b):\n",
        "    return a+b\n"
      ],
      "execution_count": 0,
      "outputs": []
    },
    {
      "cell_type": "code",
      "metadata": {
        "id": "8k-8N-3eSIbG",
        "colab_type": "code",
        "colab": {
          "base_uri": "https://localhost:8080/",
          "height": 35
        },
        "outputId": "d7a70103-65bd-4a21-b99b-b742ed7d85d0"
      },
      "source": [
        "\n",
        "result = add4(a=3, b=7)\n",
        "print(result)"
      ],
      "execution_count": 18,
      "outputs": [
        {
          "output_type": "stream",
          "text": [
            "10\n"
          ],
          "name": "stdout"
        }
      ]
    },
    {
      "cell_type": "markdown",
      "metadata": {
        "id": "qtNrKjTASREJ",
        "colab_type": "text"
      },
      "source": [
        "**매개변수의 순서에 상관없이 사용**"
      ]
    },
    {
      "cell_type": "code",
      "metadata": {
        "id": "NwHxpsssSKql",
        "colab_type": "code",
        "colab": {
          "base_uri": "https://localhost:8080/",
          "height": 35
        },
        "outputId": "93b199b3-3f80-4098-dada-7ad1326c91a3"
      },
      "source": [
        "result = add4(b=5, a=3) \n",
        "print(result)"
      ],
      "execution_count": 19,
      "outputs": [
        {
          "output_type": "stream",
          "text": [
            "8\n"
          ],
          "name": "stdout"
        }
      ]
    },
    {
      "cell_type": "markdown",
      "metadata": {
        "id": "eBB478jWSbhD",
        "colab_type": "text"
      },
      "source": [
        "**매개변수의 값을 초기화해서 정의하기**\n",
        "\n",
        "**특정 매개변수에 default 값을 지정해서 사용할 수 있음**"
      ]
    },
    {
      "cell_type": "code",
      "metadata": {
        "id": "1F_aFl19SePE",
        "colab_type": "code",
        "colab": {}
      },
      "source": [
        "def add5(a=1,b=2):\n",
        "  return a+b"
      ],
      "execution_count": 0,
      "outputs": []
    },
    {
      "cell_type": "code",
      "metadata": {
        "id": "hodDmGTQSjfN",
        "colab_type": "code",
        "colab": {
          "base_uri": "https://localhost:8080/",
          "height": 35
        },
        "outputId": "b6298364-94dc-41d8-8b11-9a4c50722917"
      },
      "source": [
        "x=add5()\n",
        "x"
      ],
      "execution_count": 22,
      "outputs": [
        {
          "output_type": "execute_result",
          "data": {
            "text/plain": [
              "3"
            ]
          },
          "metadata": {
            "tags": []
          },
          "execution_count": 22
        }
      ]
    },
    {
      "cell_type": "markdown",
      "metadata": {
        "id": "5C99ISS3S_Ic",
        "colab_type": "text"
      },
      "source": [
        "**입력값이 몇 개가 될지 모를 때**\n",
        "\n",
        "**def 함수이름(*매개변수):**\n",
        "\n",
        "  **<수행할 문장>**\n",
        "  \n",
        "  **...**"
      ]
    },
    {
      "cell_type": "markdown",
      "metadata": {
        "id": "RJ-ROlTZTN_j",
        "colab_type": "text"
      },
      "source": [
        "**args 매개변수 (복수)**"
      ]
    },
    {
      "cell_type": "code",
      "metadata": {
        "id": "9ffko7heSNHy",
        "colab_type": "code",
        "colab": {}
      },
      "source": [
        "def add_many(*args):\n",
        "    result = 0 \n",
        "    for i in args: \n",
        "        result = result + i \n",
        "    return result "
      ],
      "execution_count": 0,
      "outputs": []
    },
    {
      "cell_type": "markdown",
      "metadata": {
        "id": "EAzNfT72Tbde",
        "colab_type": "text"
      },
      "source": [
        "**매개변수가 3개인 인수 3개 처리**"
      ]
    },
    {
      "cell_type": "code",
      "metadata": {
        "id": "VFbI-gGETLdV",
        "colab_type": "code",
        "colab": {
          "base_uri": "https://localhost:8080/",
          "height": 35
        },
        "outputId": "9776d1a7-f29f-46c3-c72b-eab56188e8b7"
      },
      "source": [
        "add_many(1, 2, 3)"
      ],
      "execution_count": 24,
      "outputs": [
        {
          "output_type": "execute_result",
          "data": {
            "text/plain": [
              "6"
            ]
          },
          "metadata": {
            "tags": []
          },
          "execution_count": 24
        }
      ]
    },
    {
      "cell_type": "markdown",
      "metadata": {
        "id": "i0cAwng1ThEB",
        "colab_type": "text"
      },
      "source": [
        "**매개변수의 갯수 정의하지 않고 초기화해서 넣을 수 있다**"
      ]
    },
    {
      "cell_type": "code",
      "metadata": {
        "id": "yOD_O6kHTZ19",
        "colab_type": "code",
        "colab": {
          "base_uri": "https://localhost:8080/",
          "height": 35
        },
        "outputId": "ff6f9399-a678-4583-b1a6-64b36c5438c7"
      },
      "source": [
        "add_many(1, 2, 3, 4, 5, 6, 7, 8, 9)"
      ],
      "execution_count": 25,
      "outputs": [
        {
          "output_type": "execute_result",
          "data": {
            "text/plain": [
              "45"
            ]
          },
          "metadata": {
            "tags": []
          },
          "execution_count": 25
        }
      ]
    },
    {
      "cell_type": "code",
      "metadata": {
        "id": "KxKqIFnqTfxB",
        "colab_type": "code",
        "colab": {
          "base_uri": "https://localhost:8080/",
          "height": 35
        },
        "outputId": "5dddc009-ef4f-4e2e-99a6-2f8b28aaeaa7"
      },
      "source": [
        "result = add_many(1,2,3,4,5,6,7,8,9,10)\n",
        "print(result)"
      ],
      "execution_count": 26,
      "outputs": [
        {
          "output_type": "stream",
          "text": [
            "55\n"
          ],
          "name": "stdout"
        }
      ]
    },
    {
      "cell_type": "markdown",
      "metadata": {
        "id": "p01EfWpwTsSp",
        "colab_type": "text"
      },
      "source": [
        "# 여러 개의 입력을 처리하는 함수(*args)"
      ]
    },
    {
      "cell_type": "code",
      "metadata": {
        "id": "EsBA7BtRTmED",
        "colab_type": "code",
        "colab": {}
      },
      "source": [
        "def add_mul(choice, *args):\n",
        "    if choice == \"add\":\n",
        "        result = 0 \n",
        "        for i in args:\n",
        "            result = result + i \n",
        "    elif choice == \"mul\":\n",
        "        result = 1 \n",
        "        for i in args: \n",
        "            result = result * i \n",
        "    return result "
      ],
      "execution_count": 0,
      "outputs": []
    },
    {
      "cell_type": "markdown",
      "metadata": {
        "id": "w4RGaVMnT7PR",
        "colab_type": "text"
      },
      "source": [
        "**add**"
      ]
    },
    {
      "cell_type": "code",
      "metadata": {
        "id": "_BxsGkpGTxfQ",
        "colab_type": "code",
        "colab": {
          "base_uri": "https://localhost:8080/",
          "height": 35
        },
        "outputId": "dd9f56a6-8aa6-427a-b9ba-2e8e233327d7"
      },
      "source": [
        "result = add_mul('add', 1,2,3,4,5)\n",
        "print(result)"
      ],
      "execution_count": 28,
      "outputs": [
        {
          "output_type": "stream",
          "text": [
            "15\n"
          ],
          "name": "stdout"
        }
      ]
    },
    {
      "cell_type": "markdown",
      "metadata": {
        "id": "GorC_fI9UA10",
        "colab_type": "text"
      },
      "source": [
        "**multiply**"
      ]
    },
    {
      "cell_type": "code",
      "metadata": {
        "id": "7FEghTFHT9RW",
        "colab_type": "code",
        "colab": {
          "base_uri": "https://localhost:8080/",
          "height": 35
        },
        "outputId": "45a65dc6-78c5-4f35-a216-5071d899a80e"
      },
      "source": [
        "result = add_mul('mul', 1,2,3,4,5)\n",
        "print(result)"
      ],
      "execution_count": 29,
      "outputs": [
        {
          "output_type": "stream",
          "text": [
            "120\n"
          ],
          "name": "stdout"
        }
      ]
    },
    {
      "cell_type": "markdown",
      "metadata": {
        "id": "hPIj0HfEUHrO",
        "colab_type": "text"
      },
      "source": [
        "**키워드 파라미터 kwargs** **"
      ]
    },
    {
      "cell_type": "code",
      "metadata": {
        "id": "EPiVb9BlUAOm",
        "colab_type": "code",
        "colab": {}
      },
      "source": [
        "def print_kwargs(**kwargs):\n",
        "    print(kwargs)"
      ],
      "execution_count": 0,
      "outputs": []
    },
    {
      "cell_type": "markdown",
      "metadata": {
        "id": "Xq0Mos_IUfh5",
        "colab_type": "text"
      },
      "source": [
        "**print_kwargs 함수는 매개변수 kwargs를 출력하는 함수**"
      ]
    },
    {
      "cell_type": "code",
      "metadata": {
        "id": "QJ_JbkI5UasL",
        "colab_type": "code",
        "colab": {
          "base_uri": "https://localhost:8080/",
          "height": 53
        },
        "outputId": "352b9724-20be-4189-dee4-eacb2d77fbed"
      },
      "source": [
        "print_kwargs(a=1)\n",
        "\n",
        "print_kwargs(name='foo', age=3)"
      ],
      "execution_count": 32,
      "outputs": [
        {
          "output_type": "stream",
          "text": [
            "{'a': 1}\n",
            "{'name': 'foo', 'age': 3}\n"
          ],
          "name": "stdout"
        }
      ]
    },
    {
      "cell_type": "markdown",
      "metadata": {
        "id": "JEPIqNxcUi28",
        "colab_type": "text"
      },
      "source": [
        "** kwargs처럼 매개변수 이름 앞에 **을 붙이면 매개변수 \n",
        "\n",
        "kwargs는 딕셔너리가 되고 모든 key=value 형태의 결괏값이 \n",
        "\n",
        "그 딕셔너리에 저장된다."
      ]
    },
    {
      "cell_type": "markdown",
      "metadata": {
        "id": "nhGGtp81UpiY",
        "colab_type": "text"
      },
      "source": [
        "**함수의 결괏값은 언제나 하나**\n",
        "\n",
        "**(값이 두개 이상일 경우 튜플)**"
      ]
    },
    {
      "cell_type": "code",
      "metadata": {
        "id": "OcXp2AVWUdGI",
        "colab_type": "code",
        "colab": {}
      },
      "source": [
        "def add_and_mul(a,b): \n",
        "    return a+b, a*b"
      ],
      "execution_count": 0,
      "outputs": []
    },
    {
      "cell_type": "markdown",
      "metadata": {
        "id": "Uybpa5gUU3SA",
        "colab_type": "text"
      },
      "source": [
        " **add_and_mul() 사용 1.**\n"
      ]
    },
    {
      "cell_type": "code",
      "metadata": {
        "id": "my9rlHGqUr61",
        "colab_type": "code",
        "colab": {
          "base_uri": "https://localhost:8080/",
          "height": 35
        },
        "outputId": "12885590-3d51-468d-98e6-99ad53d6d3da"
      },
      "source": [
        "result = add_and_mul(3,4)\n",
        "\n",
        "print(result)"
      ],
      "execution_count": 34,
      "outputs": [
        {
          "output_type": "stream",
          "text": [
            "(7, 12)\n"
          ],
          "name": "stdout"
        }
      ]
    },
    {
      "cell_type": "markdown",
      "metadata": {
        "id": "ihNjsPWoU_Fj",
        "colab_type": "text"
      },
      "source": [
        " **add_and_mul() 사용 2.**\n",
        " \n",
        " **튜플 ==> 소괄호 (안해도 소괄호됨)**\n",
        " \n",
        " **리스트 ==> 대괄호**\n",
        " \n",
        " **딕셔너리 ==> 중괄호**"
      ]
    },
    {
      "cell_type": "code",
      "metadata": {
        "id": "8tYeNKE1U5L5",
        "colab_type": "code",
        "colab": {
          "base_uri": "https://localhost:8080/",
          "height": 35
        },
        "outputId": "ac988359-2539-4984-e735-34a7d3756f6b"
      },
      "source": [
        "result1, result2 = add_and_mul(3, 4)\n",
        "\n",
        "result1, result2"
      ],
      "execution_count": 35,
      "outputs": [
        {
          "output_type": "execute_result",
          "data": {
            "text/plain": [
              "(7, 12)"
            ]
          },
          "metadata": {
            "tags": []
          },
          "execution_count": 35
        }
      ]
    },
    {
      "cell_type": "markdown",
      "metadata": {
        "id": "J7BakdI2VRQ3",
        "colab_type": "text"
      },
      "source": [
        "#잘못된 함수\n",
        "\n",
        "**최초의 return 값만 적용된다**"
      ]
    },
    {
      "cell_type": "code",
      "metadata": {
        "id": "tyKEAl5hU9LX",
        "colab_type": "code",
        "colab": {
          "base_uri": "https://localhost:8080/",
          "height": 35
        },
        "outputId": "bb560325-94b2-4b8b-a651-e05cfa9d3d90"
      },
      "source": [
        "def add_and_mul2(a,b): \n",
        "    return a+b \n",
        "    return a*b  # Not working!!\n",
        "\n",
        "\n",
        "result = add_and_mul2(2, 3)\n",
        "print(result)"
      ],
      "execution_count": 36,
      "outputs": [
        {
          "output_type": "stream",
          "text": [
            "5\n"
          ],
          "name": "stdout"
        }
      ]
    },
    {
      "cell_type": "markdown",
      "metadata": {
        "id": "fdZyxynyVa66",
        "colab_type": "text"
      },
      "source": [
        "**return 의 용도: 함수 실행 종료**"
      ]
    },
    {
      "cell_type": "code",
      "metadata": {
        "id": "ntyhhMnpVUky",
        "colab_type": "code",
        "colab": {}
      },
      "source": [
        "def say_nick(nick): \n",
        "    if nick == \"바보\": \n",
        "        return \n",
        "    print(\"나의 별명은 %s 입니다.\" % nick)"
      ],
      "execution_count": 0,
      "outputs": []
    },
    {
      "cell_type": "markdown",
      "metadata": {
        "id": "K1EIfPBnVgh1",
        "colab_type": "text"
      },
      "source": [
        "**인수값 출력**"
      ]
    },
    {
      "cell_type": "code",
      "metadata": {
        "id": "3eN3pcWQVeQH",
        "colab_type": "code",
        "colab": {
          "base_uri": "https://localhost:8080/",
          "height": 35
        },
        "outputId": "571ce7ee-8884-4d85-e4ed-8767c061419e"
      },
      "source": [
        "say_nick(\"홍길동\")"
      ],
      "execution_count": 38,
      "outputs": [
        {
          "output_type": "stream",
          "text": [
            "나의 별명은 홍길동 입니다.\n"
          ],
          "name": "stdout"
        }
      ]
    },
    {
      "cell_type": "code",
      "metadata": {
        "id": "cKw0Bal7VjM2",
        "colab_type": "code",
        "colab": {}
      },
      "source": [
        "say_nick(\"바보\")"
      ],
      "execution_count": 0,
      "outputs": []
    },
    {
      "cell_type": "markdown",
      "metadata": {
        "id": "V-oW6NvNVmVW",
        "colab_type": "text"
      },
      "source": [
        "**return은 결과 없이 함수 종료**"
      ]
    },
    {
      "cell_type": "markdown",
      "metadata": {
        "id": "vsCgAKZ-VpS2",
        "colab_type": "text"
      },
      "source": [
        "#매개변수에 초깃값 미리 설정하기"
      ]
    },
    {
      "cell_type": "code",
      "metadata": {
        "id": "vecg7zfpVkjj",
        "colab_type": "code",
        "colab": {}
      },
      "source": [
        "def say_myself(name, age, man=True): \n",
        "    print(\"나의 이름은 %s 입니다.\" % name) \n",
        "    print(\"나이는 %d살입니다.\" % age) \n",
        "    if man: \n",
        "        print(\"남자입니다.\")\n",
        "    else: \n",
        "        print(\"여자입니다.\")"
      ],
      "execution_count": 0,
      "outputs": []
    },
    {
      "cell_type": "markdown",
      "metadata": {
        "id": "kNAwe_O2WAWx",
        "colab_type": "text"
      },
      "source": [
        "**default 값 자동 지정**"
      ]
    },
    {
      "cell_type": "code",
      "metadata": {
        "id": "f9bsUGvxVzqJ",
        "colab_type": "code",
        "colab": {
          "base_uri": "https://localhost:8080/",
          "height": 71
        },
        "outputId": "bf46c150-23d8-4115-b1d5-ec3c208692bf"
      },
      "source": [
        "say_myself(\"박응용\", 27)"
      ],
      "execution_count": 45,
      "outputs": [
        {
          "output_type": "stream",
          "text": [
            "나의 이름은 박응용 입니다.\n",
            "나이는 27살입니다.\n",
            "남자입니다.\n"
          ],
          "name": "stdout"
        }
      ]
    },
    {
      "cell_type": "code",
      "metadata": {
        "id": "ZiBgnXo9V1k0",
        "colab_type": "code",
        "colab": {
          "base_uri": "https://localhost:8080/",
          "height": 71
        },
        "outputId": "0fad372e-e6d3-4d67-fa33-8f8cf4f7e773"
      },
      "source": [
        "say_myself(\"박응용\", 27, True)"
      ],
      "execution_count": 46,
      "outputs": [
        {
          "output_type": "stream",
          "text": [
            "나의 이름은 박응용 입니다.\n",
            "나이는 27살입니다.\n",
            "남자입니다.\n"
          ],
          "name": "stdout"
        }
      ]
    },
    {
      "cell_type": "code",
      "metadata": {
        "id": "aU6RBUb9WDKb",
        "colab_type": "code",
        "colab": {
          "base_uri": "https://localhost:8080/",
          "height": 71
        },
        "outputId": "b5539966-c633-4bf7-e3c0-50cbb8b615b8"
      },
      "source": [
        "say_myself(\"박응용\", 27, False)"
      ],
      "execution_count": 47,
      "outputs": [
        {
          "output_type": "stream",
          "text": [
            "나의 이름은 박응용 입니다.\n",
            "나이는 27살입니다.\n",
            "여자입니다.\n"
          ],
          "name": "stdout"
        }
      ]
    },
    {
      "cell_type": "markdown",
      "metadata": {
        "id": "TYv6afzAWI27",
        "colab_type": "text"
      },
      "source": [
        "#초기값이 지정된 변수==> 맨마지막\n",
        "\n",
        "\n",
        "**초깃값을 설정해 놓은 매개변수 뒤에**\n",
        "\n",
        "**초깃값을 설정해 놓지 않은 매개변수는 사용할 수 없다**\n",
        "\n",
        "**초기화시키고 싶은 매개변수를 항상 뒤쪽에 놓는다.**"
      ]
    },
    {
      "cell_type": "code",
      "metadata": {
        "id": "reUQEK8RWEwb",
        "colab_type": "code",
        "colab": {
          "base_uri": "https://localhost:8080/",
          "height": 136
        },
        "outputId": "541333e1-e669-4cbc-dbfa-7cd6f630320d"
      },
      "source": [
        "def say_myself2(name, man=True, old): \n",
        "    print(\"나의 이름은 %s 입니다.\" % name) \n",
        "    print(\"나이는 %d살입니다.\" % old) \n",
        "    if man: \n",
        "        print(\"남자입니다.\") \n",
        "    else:\n",
        "        print(\"여자입니다.\")"
      ],
      "execution_count": 48,
      "outputs": [
        {
          "output_type": "error",
          "ename": "SyntaxError",
          "evalue": "ignored",
          "traceback": [
            "\u001b[0;36m  File \u001b[0;32m\"<ipython-input-48-17ee27e6fa2c>\"\u001b[0;36m, line \u001b[0;32m1\u001b[0m\n\u001b[0;31m    def say_myself2(name, man=True, old):\u001b[0m\n\u001b[0m                   ^\u001b[0m\n\u001b[0;31mSyntaxError\u001b[0m\u001b[0;31m:\u001b[0m non-default argument follows default argument\n"
          ]
        }
      ]
    },
    {
      "cell_type": "markdown",
      "metadata": {
        "id": "dAuzc6hrWVp6",
        "colab_type": "text"
      },
      "source": [
        "**non-default argument follows default argument**\n",
        "**함수 자체 정의 안됨**"
      ]
    },
    {
      "cell_type": "markdown",
      "metadata": {
        "id": "dBU3mgf1WzeC",
        "colab_type": "text"
      },
      "source": [
        "**다만 초기값 2개 지정되는건 된다**"
      ]
    },
    {
      "cell_type": "code",
      "metadata": {
        "id": "MutG44byWck-",
        "colab_type": "code",
        "colab": {}
      },
      "source": [
        "def say_myself2(name, man=True, old=False): \n",
        "    print(\"나의 이름은 %s 입니다.\" % name) \n",
        "    if old:\n",
        "      print(\"없음\")\n",
        "    else:\n",
        "      print(\"있음\")\n",
        "    if man: \n",
        "        print(\"남자입니다.\") \n",
        "    else:\n",
        "        print(\"여자입니다.\")"
      ],
      "execution_count": 0,
      "outputs": []
    },
    {
      "cell_type": "code",
      "metadata": {
        "id": "wCO62dxTWsCm",
        "colab_type": "code",
        "colab": {
          "base_uri": "https://localhost:8080/",
          "height": 71
        },
        "outputId": "b6cb7a12-2475-48c7-e87a-5c3ac9a30f92"
      },
      "source": [
        "say_myself2(\"name\")"
      ],
      "execution_count": 51,
      "outputs": [
        {
          "output_type": "stream",
          "text": [
            "나의 이름은 name 입니다.\n",
            "있음\n",
            "남자입니다.\n"
          ],
          "name": "stdout"
        }
      ]
    },
    {
      "cell_type": "markdown",
      "metadata": {
        "id": "xUm89XKQW6Gw",
        "colab_type": "text"
      },
      "source": [
        "# 함수 안에서 선언한 변수의 효력 범위\n",
        "\n",
        "**전역변수**\n",
        "\n",
        "**지역 변수, 자동 변수**"
      ]
    },
    {
      "cell_type": "code",
      "metadata": {
        "id": "FB6GmwWQWRUd",
        "colab_type": "code",
        "colab": {}
      },
      "source": [
        "\n",
        "a = 1\n",
        "def vartest(a):\n",
        "    a = a +1\n",
        "\n",
        "vartest(a)"
      ],
      "execution_count": 0,
      "outputs": []
    },
    {
      "cell_type": "code",
      "metadata": {
        "id": "kFDNMnmYXCHO",
        "colab_type": "code",
        "colab": {
          "base_uri": "https://localhost:8080/",
          "height": 35
        },
        "outputId": "9d1f398f-0dbe-41fd-cdb5-485912e18c25"
      },
      "source": [
        "print(a)"
      ],
      "execution_count": 54,
      "outputs": [
        {
          "output_type": "stream",
          "text": [
            "1\n"
          ],
          "name": "stdout"
        }
      ]
    },
    {
      "cell_type": "markdown",
      "metadata": {
        "id": "ofbkViGOXb-N",
        "colab_type": "text"
      },
      "source": [
        "**z2 는 지역변수**"
      ]
    },
    {
      "cell_type": "code",
      "metadata": {
        "id": "ZpZ0c2tBXAnu",
        "colab_type": "code",
        "colab": {}
      },
      "source": [
        "def vartest2(z2):\n",
        "    z2 = z2 + 1\n",
        "vartest2(3)"
      ],
      "execution_count": 0,
      "outputs": []
    },
    {
      "cell_type": "code",
      "metadata": {
        "id": "ItLAqpasXHRj",
        "colab_type": "code",
        "colab": {
          "base_uri": "https://localhost:8080/",
          "height": 172
        },
        "outputId": "be3bac71-da26-4bef-97d6-c6720b67527b"
      },
      "source": [
        "print(z2)  "
      ],
      "execution_count": 61,
      "outputs": [
        {
          "output_type": "error",
          "ename": "NameError",
          "evalue": "ignored",
          "traceback": [
            "\u001b[0;31m---------------------------------------------------------------------------\u001b[0m",
            "\u001b[0;31mNameError\u001b[0m                                 Traceback (most recent call last)",
            "\u001b[0;32m<ipython-input-61-5ed65d75142f>\u001b[0m in \u001b[0;36m<module>\u001b[0;34m()\u001b[0m\n\u001b[0;32m----> 1\u001b[0;31m \u001b[0mprint\u001b[0m\u001b[0;34m(\u001b[0m\u001b[0mz2\u001b[0m\u001b[0;34m)\u001b[0m\u001b[0;34m\u001b[0m\u001b[0;34m\u001b[0m\u001b[0m\n\u001b[0m",
            "\u001b[0;31mNameError\u001b[0m: name 'z2' is not defined"
          ]
        }
      ]
    },
    {
      "cell_type": "markdown",
      "metadata": {
        "id": "Iz0GC6wzXftx",
        "colab_type": "text"
      },
      "source": [
        "#함수 안에서 함수 밖의 변수를 변경\n",
        "\n",
        "**return 사용**\n",
        "\n",
        "**global 변수 사용**"
      ]
    },
    {
      "cell_type": "markdown",
      "metadata": {
        "id": "fbZPOQCHXneU",
        "colab_type": "text"
      },
      "source": [
        "#return 사용하기"
      ]
    },
    {
      "cell_type": "markdown",
      "metadata": {
        "id": "_K0CmrSmXrX8",
        "colab_type": "text"
      },
      "source": [
        "**전역 변수와 지역변수의 같은 이름의 변수를 쓰더라도 서로의 변수의 주소값은 다르다**"
      ]
    },
    {
      "cell_type": "code",
      "metadata": {
        "id": "OFQDs_DfXLA7",
        "colab_type": "code",
        "colab": {
          "base_uri": "https://localhost:8080/",
          "height": 35
        },
        "outputId": "8ad7122f-db8b-4b5e-fdf8-5216dd988b4b"
      },
      "source": [
        "a = 1 \n",
        "def vartest3(a): \n",
        "    a = a +1 \n",
        "    return a\n",
        "\n",
        "a = vartest3(a) \n",
        "print(a)"
      ],
      "execution_count": 62,
      "outputs": [
        {
          "output_type": "stream",
          "text": [
            "2\n"
          ],
          "name": "stdout"
        }
      ]
    },
    {
      "cell_type": "markdown",
      "metadata": {
        "id": "8dNWcXb9XzbJ",
        "colab_type": "text"
      },
      "source": [
        "#global 명령어 사용하기"
      ]
    },
    {
      "cell_type": "markdown",
      "metadata": {
        "id": "5S-qNJuGX3ZG",
        "colab_type": "text"
      },
      "source": [
        "**Python에서 권장하지 않음**"
      ]
    },
    {
      "cell_type": "code",
      "metadata": {
        "id": "iSIA3HIPXp0t",
        "colab_type": "code",
        "colab": {
          "base_uri": "https://localhost:8080/",
          "height": 35
        },
        "outputId": "4f2d88db-f712-412c-8c70-7b6dbbe044e6"
      },
      "source": [
        "a = 1 \n",
        "def vartest4(): \n",
        "    global a \n",
        "    a = a+1\n",
        "\n",
        "vartest4() \n",
        "print(a)"
      ],
      "execution_count": 63,
      "outputs": [
        {
          "output_type": "stream",
          "text": [
            "2\n"
          ],
          "name": "stdout"
        }
      ]
    },
    {
      "cell_type": "markdown",
      "metadata": {
        "id": "bxzEk5C9X9bK",
        "colab_type": "text"
      },
      "source": [
        "#lambda\n",
        "\n",
        "**lambda는 함수를 생성할 때 사용하는 예약어로 def와 동일한 역할을 한다.**\n",
        "\n",
        "**보통 함수를 한줄로 간결하게 만들 때 사용한다.**"
      ]
    },
    {
      "cell_type": "markdown",
      "metadata": {
        "id": "Qi10Nud-YImR",
        "colab_type": "text"
      },
      "source": [
        "# lambda 사용법 (이름이 없는 함수)\n",
        "\n",
        "**lambda 매개변수1, 매개변수2, ... : 매개변수를 이용한 표현식**"
      ]
    },
    {
      "cell_type": "markdown",
      "metadata": {
        "id": "2yYKI3m3YSGO",
        "colab_type": "text"
      },
      "source": [
        "**lambda를 이용한 add 함수**\n",
        "\n",
        "lambda a,b: return\n",
        "\n",
        "**lambda 예약어로 만든 함수는 return 명령어가 없어도 결괏값을 돌려준다.**"
      ]
    },
    {
      "cell_type": "code",
      "metadata": {
        "id": "lMbXVW68X2lS",
        "colab_type": "code",
        "colab": {
          "base_uri": "https://localhost:8080/",
          "height": 35
        },
        "outputId": "af7fd1e3-875f-48ce-9623-bd9c3c19a0a5"
      },
      "source": [
        "add = lambda a, b: a+b\n",
        "\n",
        "result = add(3, 4)\n",
        "print(result)"
      ],
      "execution_count": 64,
      "outputs": [
        {
          "output_type": "stream",
          "text": [
            "7\n"
          ],
          "name": "stdout"
        }
      ]
    },
    {
      "cell_type": "markdown",
      "metadata": {
        "id": "rVc4_ZKfYlus",
        "colab_type": "text"
      },
      "source": [
        "# lambda 함수의 응용"
      ]
    },
    {
      "cell_type": "markdown",
      "metadata": {
        "id": "UP6zfUL9Y-Gt",
        "colab_type": "text"
      },
      "source": [
        "**sorted : 정렬해줌**"
      ]
    },
    {
      "cell_type": "code",
      "metadata": {
        "id": "Q24lj1B7YZta",
        "colab_type": "code",
        "colab": {
          "base_uri": "https://localhost:8080/",
          "height": 35
        },
        "outputId": "a8b5c1c0-901b-46e8-8c73-00122961ba44"
      },
      "source": [
        "models = ['K-3000', 'N-1000', 'T-2000', 'X-5000']\n",
        "sorted(models, key=lambda x: x[-4:])"
      ],
      "execution_count": 77,
      "outputs": [
        {
          "output_type": "execute_result",
          "data": {
            "text/plain": [
              "['N-1000', 'T-2000', 'K-3000', 'X-5000']"
            ]
          },
          "metadata": {
            "tags": []
          },
          "execution_count": 77
        }
      ]
    }
  ]
}