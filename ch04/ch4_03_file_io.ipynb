{
  "nbformat": 4,
  "nbformat_minor": 0,
  "metadata": {
    "colab": {
      "name": "ch4_03_file_io.ipynb ",
      "provenance": [],
      "collapsed_sections": [],
      "include_colab_link": true
    },
    "kernelspec": {
      "name": "python3",
      "display_name": "Python 3"
    }
  },
  "cells": [
    {
      "cell_type": "markdown",
      "metadata": {
        "id": "view-in-github",
        "colab_type": "text"
      },
      "source": [
        "<a href=\"https://colab.research.google.com/github/mina0502/SM04/blob/master/ch04/ch4_03_file_io.ipynb\" target=\"_parent\"><img src=\"https://colab.research.google.com/assets/colab-badge.svg\" alt=\"Open In Colab\"/></a>"
      ]
    },
    {
      "cell_type": "markdown",
      "metadata": {
        "id": "PqlOR3gldBOb",
        "colab_type": "text"
      },
      "source": [
        "# 파일 읽고 쓰기"
      ]
    },
    {
      "cell_type": "markdown",
      "metadata": {
        "id": "E2KPF9pTdIDA",
        "colab_type": "text"
      },
      "source": [
        "**파일 쓰기(생성하기)**\n",
        "\n",
        "**파일 객체 = open(파일 이름, 파일 열기 모드)**"
      ]
    },
    {
      "cell_type": "markdown",
      "metadata": {
        "id": "0PilJyaidQBQ",
        "colab_type": "text"
      },
      "source": [
        "# 파일열기모드\n",
        "\n",
        "**r\t읽기모드 - 파일을 읽기만 할 때 사용**\n",
        "\n",
        "**w\t쓰기모드 - 파일에 내용을 쓸 때 사용**\n",
        "\n",
        "**a\t추가모드 - 파일의 마지막에 새로운 내용을 추가 시킬 때 사용**"
      ]
    },
    {
      "cell_type": "markdown",
      "metadata": {
        "id": "jFSJcWTSdUsI",
        "colab_type": "text"
      },
      "source": [
        "**파일이 열리면 항상 닫아줘야함**"
      ]
    },
    {
      "cell_type": "markdown",
      "metadata": {
        "id": "uUDiKW4Xdi4z",
        "colab_type": "text"
      },
      "source": [
        "#파일이 어디에 만들어졌는 지 확인\n",
        "\n",
        "**다른 폴더에 파일 생성**\n",
        "\n",
        "**f = open(\"C:/doit/새파일.txt\", 'w')**\n",
        "\n",
        "**f.close()**"
      ]
    },
    {
      "cell_type": "code",
      "metadata": {
        "id": "LyzuDj7ic_by",
        "colab_type": "code",
        "colab": {}
      },
      "source": [
        "f = open(\"새파일.txt\", \"w\")\n",
        "f.close()"
      ],
      "execution_count": 0,
      "outputs": []
    },
    {
      "cell_type": "markdown",
      "metadata": {
        "id": "eHSzONtuhHm7",
        "colab_type": "text"
      },
      "source": [
        "파일을 쓰기 모드로 열어 출력값 적기"
      ]
    },
    {
      "cell_type": "markdown",
      "metadata": {
        "id": "adzn0FTXhTdw",
        "colab_type": "text"
      },
      "source": [
        "**# 모니터에 출력**"
      ]
    },
    {
      "cell_type": "code",
      "metadata": {
        "id": "CogodBmIdYOb",
        "colab_type": "code",
        "colab": {
          "base_uri": "https://localhost:8080/",
          "height": 377
        },
        "outputId": "adc47036-5199-4f3f-abc4-177a029e74ea"
      },
      "source": [
        "for i in range(1, 11):\n",
        "    data = \"%d번째 줄입니다.\\n\" % i\n",
        "    print(data)"
      ],
      "execution_count": 3,
      "outputs": [
        {
          "output_type": "stream",
          "text": [
            "1번째 줄입니다.\n",
            "\n",
            "2번째 줄입니다.\n",
            "\n",
            "3번째 줄입니다.\n",
            "\n",
            "4번째 줄입니다.\n",
            "\n",
            "5번째 줄입니다.\n",
            "\n",
            "6번째 줄입니다.\n",
            "\n",
            "7번째 줄입니다.\n",
            "\n",
            "8번째 줄입니다.\n",
            "\n",
            "9번째 줄입니다.\n",
            "\n",
            "10번째 줄입니다.\n",
            "\n"
          ],
          "name": "stdout"
        }
      ]
    },
    {
      "cell_type": "markdown",
      "metadata": {
        "id": "oWNktGD4hVOY",
        "colab_type": "text"
      },
      "source": [
        "**파일에 기록(출력)**\n",
        "\n",
        "**출력 파일의 한글이 깨지면**\n",
        "\n",
        "**파일 > 기본설정 > 설정 > Files: Auto Guess Encoding 을 지정(check)**"
      ]
    },
    {
      "cell_type": "code",
      "metadata": {
        "id": "-hEmbk2ZhP6p",
        "colab_type": "code",
        "colab": {}
      },
      "source": [
        "f = open(\"./새파일.txt\", \"w\")\n",
        "for i in range(1, 11):\n",
        "    data = \"%d번째 줄입니다.\\n\" % i\n",
        "    f.write(data)\n",
        "\n",
        "\n",
        "f.close()"
      ],
      "execution_count": 0,
      "outputs": []
    },
    {
      "cell_type": "markdown",
      "metadata": {
        "id": "wJk-2vaVh_Y6",
        "colab_type": "text"
      },
      "source": [
        "#파일 읽기"
      ]
    },
    {
      "cell_type": "markdown",
      "metadata": {
        "id": "gCrkt1KxiDu4",
        "colab_type": "text"
      },
      "source": [
        "**파일 객체 = open(파일 이름, 파일 열기 모드)**\n",
        "\n",
        "\n",
        "**파일읽기**\n",
        "\n",
        "**readline() 함수 이용하기**\n",
        "\n",
        "**readlines 함수 사용하기**\n",
        "\n",
        "# read 함수 사용하기"
      ]
    },
    {
      "cell_type": "markdown",
      "metadata": {
        "id": "xWUfE3feiKyp",
        "colab_type": "text"
      },
      "source": [
        "# 1. readline() 함수\n"
      ]
    },
    {
      "cell_type": "code",
      "metadata": {
        "id": "XcNTIRPrhZzo",
        "colab_type": "code",
        "colab": {
          "base_uri": "https://localhost:8080/",
          "height": 53
        },
        "outputId": "e1ae612c-1a20-4334-e45f-b02e3d2f61c2"
      },
      "source": [
        "f = open(\"새파일.txt\", \"r\")\n",
        "line = f.readline()\n",
        "print(line)\n",
        "f.close()"
      ],
      "execution_count": 5,
      "outputs": [
        {
          "output_type": "stream",
          "text": [
            "1번째 줄입니다.\n",
            "\n"
          ],
          "name": "stdout"
        }
      ]
    },
    {
      "cell_type": "markdown",
      "metadata": {
        "id": "p1bhZnzkiXRo",
        "colab_type": "text"
      },
      "source": [
        "**읽는 내용 없을 경우 빠져나옴** 무한루프"
      ]
    },
    {
      "cell_type": "code",
      "metadata": {
        "id": "NOyF-8oyiL4T",
        "colab_type": "code",
        "colab": {
          "base_uri": "https://localhost:8080/",
          "height": 377
        },
        "outputId": "5b6d3ca6-faad-4277-b511-f0fe25893c51"
      },
      "source": [
        "f = open(\"새파일.txt\", \"r\")\n",
        "while True:\n",
        "    line = f.readline()\n",
        "    if not line:\n",
        "        break\n",
        "    print(line)\n",
        "f.close()"
      ],
      "execution_count": 6,
      "outputs": [
        {
          "output_type": "stream",
          "text": [
            "1번째 줄입니다.\n",
            "\n",
            "2번째 줄입니다.\n",
            "\n",
            "3번째 줄입니다.\n",
            "\n",
            "4번째 줄입니다.\n",
            "\n",
            "5번째 줄입니다.\n",
            "\n",
            "6번째 줄입니다.\n",
            "\n",
            "7번째 줄입니다.\n",
            "\n",
            "8번째 줄입니다.\n",
            "\n",
            "9번째 줄입니다.\n",
            "\n",
            "10번째 줄입니다.\n",
            "\n"
          ],
          "name": "stdout"
        }
      ]
    },
    {
      "cell_type": "markdown",
      "metadata": {
        "id": "RExkDsV5inPK",
        "colab_type": "text"
      },
      "source": [
        "# 사용자 입력을 이용한 화면 출력"
      ]
    },
    {
      "cell_type": "code",
      "metadata": {
        "id": "_e-ENxWriWb6",
        "colab_type": "code",
        "colab": {
          "base_uri": "https://localhost:8080/",
          "height": 107
        },
        "outputId": "c494ef8c-4cc3-444c-9802-9c4d91af840e"
      },
      "source": [
        "while 1:\n",
        "    data = input()\n",
        "    if not data:\n",
        "        break\n",
        "    print(data)"
      ],
      "execution_count": 7,
      "outputs": [
        {
          "output_type": "stream",
          "text": [
            "1234\n",
            "1234\n",
            "Hello\n",
            "Hello\n",
            "\n"
          ],
          "name": "stdout"
        }
      ]
    },
    {
      "cell_type": "markdown",
      "metadata": {
        "id": "pUCODqfFiuAI",
        "colab_type": "text"
      },
      "source": [
        "# 2. readlines() 함수"
      ]
    },
    {
      "cell_type": "markdown",
      "metadata": {
        "id": "KnCsQxWuiyii",
        "colab_type": "text"
      },
      "source": [
        "**각 각의 라인의 데이터를 가져와서 맨마지막 라인까지 가져오면 파일을 닫아준다**"
      ]
    },
    {
      "cell_type": "code",
      "metadata": {
        "id": "lWmhLltGilnB",
        "colab_type": "code",
        "colab": {
          "base_uri": "https://localhost:8080/",
          "height": 377
        },
        "outputId": "380d4e2d-db8d-4885-b03c-2de980f86940"
      },
      "source": [
        "f = open(\"새파일.txt\", \"r\")\n",
        "lines = f.readlines()\n",
        "for line in lines:\n",
        "    print(line)  # , end=\"\")\n",
        "f.close()"
      ],
      "execution_count": 8,
      "outputs": [
        {
          "output_type": "stream",
          "text": [
            "1번째 줄입니다.\n",
            "\n",
            "2번째 줄입니다.\n",
            "\n",
            "3번째 줄입니다.\n",
            "\n",
            "4번째 줄입니다.\n",
            "\n",
            "5번째 줄입니다.\n",
            "\n",
            "6번째 줄입니다.\n",
            "\n",
            "7번째 줄입니다.\n",
            "\n",
            "8번째 줄입니다.\n",
            "\n",
            "9번째 줄입니다.\n",
            "\n",
            "10번째 줄입니다.\n",
            "\n"
          ],
          "name": "stdout"
        }
      ]
    },
    {
      "cell_type": "markdown",
      "metadata": {
        "id": "rl5k0LHIi9xc",
        "colab_type": "text"
      },
      "source": [
        "# 3. read() 함수"
      ]
    },
    {
      "cell_type": "code",
      "metadata": {
        "id": "FT-RP3Evi6h7",
        "colab_type": "code",
        "colab": {
          "base_uri": "https://localhost:8080/",
          "height": 215
        },
        "outputId": "45172948-d846-489d-ec3a-19da012255e6"
      },
      "source": [
        "f = open(\"새파일.txt\", \"r\")\n",
        "data = f.read()\n",
        "print(data)\n",
        "f.close()"
      ],
      "execution_count": 9,
      "outputs": [
        {
          "output_type": "stream",
          "text": [
            "1번째 줄입니다.\n",
            "2번째 줄입니다.\n",
            "3번째 줄입니다.\n",
            "4번째 줄입니다.\n",
            "5번째 줄입니다.\n",
            "6번째 줄입니다.\n",
            "7번째 줄입니다.\n",
            "8번째 줄입니다.\n",
            "9번째 줄입니다.\n",
            "10번째 줄입니다.\n",
            "\n"
          ],
          "name": "stdout"
        }
      ]
    },
    {
      "cell_type": "markdown",
      "metadata": {
        "id": "NunfZkMkjEqQ",
        "colab_type": "text"
      },
      "source": [
        "#파일에 새로운 내용 추가"
      ]
    },
    {
      "cell_type": "markdown",
      "metadata": {
        "id": "pNvOvVrZjHVQ",
        "colab_type": "text"
      },
      "source": [
        "**파일에 원래 있던 값을 유지하면서 단지 새로운 값만 추가**\n",
        "\n",
        "**파일을 추가 모드('a')로 열고 쓴다**"
      ]
    },
    {
      "cell_type": "code",
      "metadata": {
        "id": "5MvvYerqi-8n",
        "colab_type": "code",
        "colab": {}
      },
      "source": [
        "f = open(\"새파일.txt\", \"a\")\n",
        "for i in range(11, 20):\n",
        "    data = \"%d번째 줄입니다.\\n\" % i\n",
        "    f.write(data)\n",
        "f.close()"
      ],
      "execution_count": 0,
      "outputs": []
    },
    {
      "cell_type": "markdown",
      "metadata": {
        "id": "yZBK_vAwjReJ",
        "colab_type": "text"
      },
      "source": [
        "# 수정된 파일 확인"
      ]
    },
    {
      "cell_type": "code",
      "metadata": {
        "id": "1eDQl2OVjPhv",
        "colab_type": "code",
        "colab": {
          "base_uri": "https://localhost:8080/",
          "height": 377
        },
        "outputId": "e2b8593e-c37d-4915-e7a5-688e723a5229"
      },
      "source": [
        "f = open(\"새파일.txt\", \"r\")\n",
        "data = f.read()\n",
        "print(data)\n",
        "f.close()"
      ],
      "execution_count": 11,
      "outputs": [
        {
          "output_type": "stream",
          "text": [
            "1번째 줄입니다.\n",
            "2번째 줄입니다.\n",
            "3번째 줄입니다.\n",
            "4번째 줄입니다.\n",
            "5번째 줄입니다.\n",
            "6번째 줄입니다.\n",
            "7번째 줄입니다.\n",
            "8번째 줄입니다.\n",
            "9번째 줄입니다.\n",
            "10번째 줄입니다.\n",
            "11번째 줄입니다.\n",
            "12번째 줄입니다.\n",
            "13번째 줄입니다.\n",
            "14번째 줄입니다.\n",
            "15번째 줄입니다.\n",
            "16번째 줄입니다.\n",
            "17번째 줄입니다.\n",
            "18번째 줄입니다.\n",
            "19번째 줄입니다.\n",
            "\n"
          ],
          "name": "stdout"
        }
      ]
    },
    {
      "cell_type": "markdown",
      "metadata": {
        "id": "YLAS7Pb6jsO4",
        "colab_type": "text"
      },
      "source": [
        "#with문과 함께 사용하기\n",
        "\n",
        "**with문을 사용하면 with 블록을 벗어나는 순간**\n",
        "\n",
        "**열린 파일 객체 f가 자동으로 close 된다.**"
      ]
    },
    {
      "cell_type": "code",
      "metadata": {
        "id": "Br8y_-ETjTkB",
        "colab_type": "code",
        "colab": {}
      },
      "source": [
        "f = open(\"foo.txt\", \"w\")\n",
        "f.write(\"Life is too short, you need python\")\n",
        "f.close()"
      ],
      "execution_count": 0,
      "outputs": []
    },
    {
      "cell_type": "markdown",
      "metadata": {
        "id": "o8cg0kAdj8Ix",
        "colab_type": "text"
      },
      "source": [
        "**with를 이용할 경우 close 할 필요 없음**"
      ]
    },
    {
      "cell_type": "code",
      "metadata": {
        "id": "nVpzBWsij1gz",
        "colab_type": "code",
        "colab": {}
      },
      "source": [
        "with open(\"foo1.txt\", \"w\") as f:\n",
        "    f.write(\"Life is too short, you need python\")"
      ],
      "execution_count": 0,
      "outputs": []
    },
    {
      "cell_type": "markdown",
      "metadata": {
        "id": "kh15LsLwkWSP",
        "colab_type": "text"
      },
      "source": [
        "**sys 모듈로 매개변수 주기**"
      ]
    },
    {
      "cell_type": "markdown",
      "metadata": {
        "id": "S8QIjJlTkeoK",
        "colab_type": "text"
      },
      "source": [
        "**실행 옵션 매개변수 argv[1:]**"
      ]
    },
    {
      "cell_type": "code",
      "metadata": {
        "id": "iCFWc9q9lH-L",
        "colab_type": "code",
        "colab": {
          "base_uri": "https://localhost:8080/",
          "height": 53
        },
        "outputId": "a174527f-997d-4a09-e5b5-8f89afc98014"
      },
      "source": [
        "import sys\n",
        "\n",
        "args = sys.argv[1:]\n",
        "for i in args:\n",
        "    print(i)"
      ],
      "execution_count": 15,
      "outputs": [
        {
          "output_type": "stream",
          "text": [
            "-f\n",
            "/root/.local/share/jupyter/runtime/kernel-0e5e0d7f-21b3-4f89-8a35-e547cf7aca0b.json\n"
          ],
          "name": "stdout"
        }
      ]
    },
    {
      "cell_type": "markdown",
      "metadata": {
        "id": "Dpga_GZQkmzx",
        "colab_type": "text"
      },
      "source": [
        "**파일 실행할시 argv[1:] 뒤에 붙는 실행 옵션들 출력**"
      ]
    },
    {
      "cell_type": "code",
      "metadata": {
        "id": "GBfTk97wkbTK",
        "colab_type": "code",
        "colab": {
          "base_uri": "https://localhost:8080/",
          "height": 35
        },
        "outputId": "ed6ed1d9-499d-4b40-b989-106e99650f0b"
      },
      "source": [
        "import sys\n",
        "args = sys.argv[1:]\n",
        "for i in args:\n",
        "    print(i.upper(), end=' ')"
      ],
      "execution_count": 16,
      "outputs": [
        {
          "output_type": "stream",
          "text": [
            "-F /ROOT/.LOCAL/SHARE/JUPYTER/RUNTIME/KERNEL-0E5E0D7F-21B3-4F89-8A35-E547CF7ACA0B.JSON "
          ],
          "name": "stdout"
        }
      ]
    },
    {
      "cell_type": "markdown",
      "metadata": {
        "id": "oQ6ggpYrlQBT",
        "colab_type": "text"
      },
      "source": [
        "**실행은 cmd에서 python 파일명 매개변수 매개변수 매개변수**"
      ]
    }
  ]
}