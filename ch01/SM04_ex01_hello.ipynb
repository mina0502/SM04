{
  "nbformat": 4,
  "nbformat_minor": 0,
  "metadata": {
    "colab": {
      "name": "SM04_ex01_hello.ipynb",
      "version": "0.3.2",
      "provenance": [],
      "collapsed_sections": [],
      "toc_visible": true,
      "include_colab_link": true
    },
    "kernelspec": {
      "name": "python3",
      "display_name": "Python 3"
    }
  },
  "cells": [
    {
      "cell_type": "markdown",
      "metadata": {
        "id": "view-in-github",
        "colab_type": "text"
      },
      "source": [
        "<a href=\"https://colab.research.google.com/github/mina0502/SM04/blob/master/SM04_ex01_hello.ipynb\" target=\"_parent\"><img src=\"https://colab.research.google.com/assets/colab-badge.svg\" alt=\"Open In Colab\"/></a>"
      ]
    },
    {
      "cell_type": "markdown",
      "metadata": {
        "id": "PX_3J12cdqsW",
        "colab_type": "text"
      },
      "source": [
        "## SM04 report 1"
      ]
    },
    {
      "cell_type": "code",
      "metadata": {
        "id": "cH8vKBJadkG1",
        "colab_type": "code",
        "colab": {
          "base_uri": "https://localhost:8080/",
          "height": 35
        },
        "outputId": "23b0f4e3-6606-48af-8328-d6ac5881e029"
      },
      "source": [
        "a=1\n",
        "b=2\n",
        "c=a+b\n",
        "print(c)"
      ],
      "execution_count": 2,
      "outputs": [
        {
          "output_type": "stream",
          "text": [
            "3\n"
          ],
          "name": "stdout"
        }
      ]
    },
    {
      "cell_type": "markdown",
      "metadata": {
        "id": "uAnrCWgQe3Jn",
        "colab_type": "text"
      },
      "source": [
        "#### 문자열 출력"
      ]
    },
    {
      "cell_type": "code",
      "metadata": {
        "id": "NnUSZYzYeNkv",
        "colab_type": "code",
        "colab": {
          "base_uri": "https://localhost:8080/",
          "height": 35
        },
        "outputId": "6aa253f2-a915-4810-fb0e-c4792bfc1278"
      },
      "source": [
        "###############\n",
        "s1=\"Hello Python!\"\n",
        "print(s1)"
      ],
      "execution_count": 3,
      "outputs": [
        {
          "output_type": "stream",
          "text": [
            "Hello Python!\n"
          ],
          "name": "stdout"
        }
      ]
    },
    {
      "cell_type": "markdown",
      "metadata": {
        "id": "cP85fCRle9in",
        "colab_type": "text"
      },
      "source": [
        "#### list 선언과 출력"
      ]
    },
    {
      "cell_type": "markdown",
      "metadata": {
        "id": "PA-laAfdgEvv",
        "colab_type": "text"
      },
      "source": [
        ""
      ]
    },
    {
      "cell_type": "code",
      "metadata": {
        "id": "PaNCsguyebN9",
        "colab_type": "code",
        "colab": {
          "base_uri": "https://localhost:8080/",
          "height": 71
        },
        "outputId": "71b3edf6-d3dd-44a3-a467-36baa9b4b432"
      },
      "source": [
        "###############\n",
        "x=[1,2,3]\n",
        "y=[4,5,6]\n",
        "print(x)\n",
        "print(x,y)\n",
        "x+y"
      ],
      "execution_count": 7,
      "outputs": [
        {
          "output_type": "stream",
          "text": [
            "[1, 2, 3]\n",
            "[1, 2, 3] [4, 5, 6]\n"
          ],
          "name": "stdout"
        },
        {
          "output_type": "execute_result",
          "data": {
            "text/plain": [
              "[1, 2, 3, 4, 5, 6]"
            ]
          },
          "metadata": {
            "tags": []
          },
          "execution_count": 7
        }
      ]
    },
    {
      "cell_type": "markdown",
      "metadata": {
        "id": "vpkxE_ylfFa_",
        "colab_type": "text"
      },
      "source": [
        "### 함수 정의와 실행"
      ]
    },
    {
      "cell_type": "code",
      "metadata": {
        "id": "mbpEApQ8efi2",
        "colab_type": "code",
        "colab": {
          "base_uri": "https://localhost:8080/",
          "height": 53
        },
        "outputId": "55b617b4-ce4b-4e46-9350-844f64ca93ee"
      },
      "source": [
        "# function\n",
        "def add(a,b):\n",
        "    return a+b\n",
        "#\n",
        "print(add(1,2))\n",
        "print(add(x,y))"
      ],
      "execution_count": 6,
      "outputs": [
        {
          "output_type": "stream",
          "text": [
            "3\n",
            "[1, 2, 3, 4, 5, 6]\n"
          ],
          "name": "stdout"
        }
      ]
    }
  ]
}
