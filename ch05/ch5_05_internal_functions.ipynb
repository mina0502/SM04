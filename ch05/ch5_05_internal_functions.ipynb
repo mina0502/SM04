{
  "nbformat": 4,
  "nbformat_minor": 0,
  "metadata": {
    "colab": {
      "name": "ch5_05_internal_functions.ipynb",
      "provenance": [],
      "collapsed_sections": [],
      "include_colab_link": true
    },
    "kernelspec": {
      "name": "python3",
      "display_name": "Python 3"
    }
  },
  "cells": [
    {
      "cell_type": "markdown",
      "metadata": {
        "id": "view-in-github",
        "colab_type": "text"
      },
      "source": [
        "<a href=\"https://colab.research.google.com/github/mina0502/SM04/blob/master/ch05/ch5_05_internal_functions.ipynb\" target=\"_parent\"><img src=\"https://colab.research.google.com/assets/colab-badge.svg\" alt=\"Open In Colab\"/></a>"
      ]
    },
    {
      "cell_type": "markdown",
      "metadata": {
        "id": "Cwy5x7xQf-5H",
        "colab_type": "text"
      },
      "source": [
        "###내장 함수"
      ]
    },
    {
      "cell_type": "markdown",
      "metadata": {
        "id": "NPMxfADvgG0M",
        "colab_type": "text"
      },
      "source": [
        "#그 숫자의 절댓값을 돌려주는 함수\n"
      ]
    },
    {
      "cell_type": "code",
      "metadata": {
        "id": "lYbX0nTmdjcJ",
        "colab_type": "code",
        "colab": {
          "base_uri": "https://localhost:8080/",
          "height": 72
        },
        "outputId": "a2bcd5a4-102b-4ffb-f1cb-e9e1b568949e"
      },
      "source": [
        "print(abs(3))\n",
        "print(abs(-3))\n",
        "print(abs(-1.2))"
      ],
      "execution_count": 1,
      "outputs": [
        {
          "output_type": "stream",
          "text": [
            "3\n",
            "3\n",
            "1.2\n"
          ],
          "name": "stdout"
        }
      ]
    },
    {
      "cell_type": "markdown",
      "metadata": {
        "id": "B7JDZCvigNst",
        "colab_type": "text"
      },
      "source": [
        "## ★★all(x)는 반복 가능한(iterable) 자료형 x를 입력 인수로 받으며\n",
        "### 이 x가 모두 참이면 True, 거짓이 하나라도 있으면 False를 돌려준다."
      ]
    },
    {
      "cell_type": "code",
      "metadata": {
        "id": "E0_5mdHkgHxF",
        "colab_type": "code",
        "colab": {
          "base_uri": "https://localhost:8080/",
          "height": 54
        },
        "outputId": "0c56d139-c2be-4447-e74b-7991bf20b6ec"
      },
      "source": [
        "print(all([1, 2, 3]))\n",
        "print(all([0, 1, 2, 3]))"
      ],
      "execution_count": 2,
      "outputs": [
        {
          "output_type": "stream",
          "text": [
            "True\n",
            "False\n"
          ],
          "name": "stdout"
        }
      ]
    },
    {
      "cell_type": "code",
      "metadata": {
        "id": "DfNtytjhgPk4",
        "colab_type": "code",
        "colab": {
          "base_uri": "https://localhost:8080/",
          "height": 35
        },
        "outputId": "04f4ac7d-68b0-4c1b-dcea-dfad027dcfd9"
      },
      "source": [
        "bool([0, 1, 2, 3]), bool([0]), bool((0)), bool((0,))"
      ],
      "execution_count": 3,
      "outputs": [
        {
          "output_type": "execute_result",
          "data": {
            "text/plain": [
              "(True, True, False, True)"
            ]
          },
          "metadata": {
            "tags": []
          },
          "execution_count": 3
        }
      ]
    },
    {
      "cell_type": "markdown",
      "metadata": {
        "id": "NY7z-t78glQQ",
        "colab_type": "text"
      },
      "source": [
        "#★★★ any(x)는 x 중 하나라도 참이 있으면 True를 돌려주고,\n",
        "## x가 모두 거짓일 때에만 False를 돌려준다. all(x)의 반대이다."
      ]
    },
    {
      "cell_type": "code",
      "metadata": {
        "id": "e0mqqZotggyH",
        "colab_type": "code",
        "colab": {
          "base_uri": "https://localhost:8080/",
          "height": 35
        },
        "outputId": "16b6eed9-6969-454f-9a8f-f9108b313e1f"
      },
      "source": [
        "any([0, 1, 2, 3])\n",
        "\n",
        "any([0, \"\"])"
      ],
      "execution_count": 4,
      "outputs": [
        {
          "output_type": "execute_result",
          "data": {
            "text/plain": [
              "False"
            ]
          },
          "metadata": {
            "tags": []
          },
          "execution_count": 4
        }
      ]
    },
    {
      "cell_type": "markdown",
      "metadata": {
        "id": "66FXmBUpgtss",
        "colab_type": "text"
      },
      "source": [
        "### chr(i)는 아스키(ASCII) 코드 값을 입력받아\n",
        "### 그 코드에 해당하는 문자를 출력하는 함수이다."
      ]
    },
    {
      "cell_type": "code",
      "metadata": {
        "id": "H7Enrj9pgppL",
        "colab_type": "code",
        "colab": {
          "base_uri": "https://localhost:8080/",
          "height": 54
        },
        "outputId": "ae66446b-ed8a-41f3-d6ba-78bfe95488d6"
      },
      "source": [
        "print(chr(97))\n",
        "chr(48)"
      ],
      "execution_count": 6,
      "outputs": [
        {
          "output_type": "stream",
          "text": [
            "a\n"
          ],
          "name": "stdout"
        },
        {
          "output_type": "execute_result",
          "data": {
            "text/plain": [
              "'0'"
            ]
          },
          "metadata": {
            "tags": []
          },
          "execution_count": 6
        }
      ]
    },
    {
      "cell_type": "markdown",
      "metadata": {
        "id": "wZNSpvcKgzTU",
        "colab_type": "text"
      },
      "source": [
        "#★ dir은 객체가 자체적으로 가지고 있는 변수나 함수를 보여 준다."
      ]
    },
    {
      "cell_type": "code",
      "metadata": {
        "id": "fwCRfeSDgviP",
        "colab_type": "code",
        "colab": {
          "base_uri": "https://localhost:8080/",
          "height": 92
        },
        "outputId": "a5cb1e4a-7998-4760-bf2e-d16e0a77242a"
      },
      "source": [
        "print(dir([1, 2, 3]))  # 리스트에 관련된 내부속성 함수와 객체들이 나옴\n",
        "\n",
        "print(dir({\"1\": \"a\"}))  # 딕셔너리에 관련된 내부속성 함수와 객체들이 나옴\n",
        "print(type({\"1\": \"a\"}))"
      ],
      "execution_count": 7,
      "outputs": [
        {
          "output_type": "stream",
          "text": [
            "['__add__', '__class__', '__contains__', '__delattr__', '__delitem__', '__dir__', '__doc__', '__eq__', '__format__', '__ge__', '__getattribute__', '__getitem__', '__gt__', '__hash__', '__iadd__', '__imul__', '__init__', '__init_subclass__', '__iter__', '__le__', '__len__', '__lt__', '__mul__', '__ne__', '__new__', '__reduce__', '__reduce_ex__', '__repr__', '__reversed__', '__rmul__', '__setattr__', '__setitem__', '__sizeof__', '__str__', '__subclasshook__', 'append', 'clear', 'copy', 'count', 'extend', 'index', 'insert', 'pop', 'remove', 'reverse', 'sort']\n",
            "['__class__', '__contains__', '__delattr__', '__delitem__', '__dir__', '__doc__', '__eq__', '__format__', '__ge__', '__getattribute__', '__getitem__', '__gt__', '__hash__', '__init__', '__init_subclass__', '__iter__', '__le__', '__len__', '__lt__', '__ne__', '__new__', '__reduce__', '__reduce_ex__', '__repr__', '__setattr__', '__setitem__', '__sizeof__', '__str__', '__subclasshook__', 'clear', 'copy', 'fromkeys', 'get', 'items', 'keys', 'pop', 'popitem', 'setdefault', 'update', 'values']\n",
            "<class 'dict'>\n"
          ],
          "name": "stdout"
        }
      ]
    },
    {
      "cell_type": "markdown",
      "metadata": {
        "id": "toOvvp1xhTZH",
        "colab_type": "text"
      },
      "source": [
        "#★divmod(a, b)는 2개의 숫자를 입력으로 받는다.\n",
        "## 그리고 a를 b로 나눈 몫과 나머지를 튜플 형태로 돌려주는 함수"
      ]
    },
    {
      "cell_type": "code",
      "metadata": {
        "id": "pCHgJUKdg2kT",
        "colab_type": "code",
        "colab": {
          "base_uri": "https://localhost:8080/",
          "height": 35
        },
        "outputId": "a77d547d-c588-4173-b050-62322355e469"
      },
      "source": [
        "divmod(7, 3)  # 결과값을 tuple로 반환"
      ],
      "execution_count": 8,
      "outputs": [
        {
          "output_type": "execute_result",
          "data": {
            "text/plain": [
              "(2, 1)"
            ]
          },
          "metadata": {
            "tags": []
          },
          "execution_count": 8
        }
      ]
    },
    {
      "cell_type": "markdown",
      "metadata": {
        "id": "SkyMMYezhdZV",
        "colab_type": "text"
      },
      "source": [
        "#★★★enumerate()\n",
        "\n",
        "##이 함수는 순서가 있는 자료형(리스트, 튜플, 문자열)을 입력으로\n",
        "## 받아 인덱스 값을 포함하는 enumerate 객체를 돌려준다."
      ]
    },
    {
      "cell_type": "code",
      "metadata": {
        "id": "1nP5IkcSha_o",
        "colab_type": "code",
        "colab": {
          "base_uri": "https://localhost:8080/",
          "height": 72
        },
        "outputId": "2560e388-bd38-4200-a077-1f5df534643b"
      },
      "source": [
        "for i, name in enumerate([\"body\", \"foo\", \"bar\"]): # Python 의 인덱스는 0부터 시작한다.\n",
        "    print(i, name)"
      ],
      "execution_count": 9,
      "outputs": [
        {
          "output_type": "stream",
          "text": [
            "0 body\n",
            "1 foo\n",
            "2 bar\n"
          ],
          "name": "stdout"
        }
      ]
    },
    {
      "cell_type": "markdown",
      "metadata": {
        "id": "VCrx6Ft_h5XE",
        "colab_type": "text"
      },
      "source": [
        "# eval(expression )\n",
        "#실행 가능한 문자열(1+2, 'hi' + 'a' 같은 것)을\n",
        "# 입력으로 받아 문자열을 실행한 결괏값을 돌려주는 함수"
      ]
    },
    {
      "cell_type": "code",
      "metadata": {
        "id": "g6lXI7hUhlpL",
        "colab_type": "code",
        "colab": {
          "base_uri": "https://localhost:8080/",
          "height": 72
        },
        "outputId": "97cf7367-d1c6-4a11-beba-da57af78e185"
      },
      "source": [
        "print(eval(\"1+2\"))\n",
        "print(eval(\"'hi' + 'a'\"))\n",
        "print(eval(\"divmod(4, 3)\"))"
      ],
      "execution_count": 10,
      "outputs": [
        {
          "output_type": "stream",
          "text": [
            "3\n",
            "hia\n",
            "(1, 1)\n"
          ],
          "name": "stdout"
        }
      ]
    },
    {
      "cell_type": "markdown",
      "metadata": {
        "id": "h2WvxcNQiJyN",
        "colab_type": "text"
      },
      "source": [
        "#★★★★★ filter 함수는 첫 번째 인수로 함수 이름을,\n",
        "# 두 번째 인수로 그 함수에 차례로 들어갈 반복 가능한 자료형을 받는다.\n",
        "# 그리고 두 번째 인수인 반복 가능한 자료형 요소가 첫 번째 인수인\n",
        "# 함수에 입력되었을 때 반환 값이 참인 것만 묶어서(걸러 내서) 돌려준다."
      ]
    },
    {
      "cell_type": "code",
      "metadata": {
        "id": "ULbWL05hh_DD",
        "colab_type": "code",
        "colab": {
          "base_uri": "https://localhost:8080/",
          "height": 35
        },
        "outputId": "60066eff-0edb-4db2-f63a-5d21fadac7cb"
      },
      "source": [
        "def positive(l):\n",
        "    result = []\n",
        "    for i in l:\n",
        "        if i > 0:\n",
        "            result.append(i)\n",
        "    return result\n",
        "\n",
        "\n",
        "print(positive([1, -3, 2, 0, -5, 6]))"
      ],
      "execution_count": 11,
      "outputs": [
        {
          "output_type": "stream",
          "text": [
            "[1, 2, 6]\n"
          ],
          "name": "stdout"
        }
      ]
    },
    {
      "cell_type": "markdown",
      "metadata": {
        "id": "Vt0sKPHBiXkw",
        "colab_type": "text"
      },
      "source": [
        "**데이터중에서 참인 값만 필터해준다**"
      ]
    },
    {
      "cell_type": "code",
      "metadata": {
        "id": "XzaFueMhiQd7",
        "colab_type": "code",
        "colab": {
          "base_uri": "https://localhost:8080/",
          "height": 35
        },
        "outputId": "10d55d7d-c90e-48fd-ea16-d7f0fec7227c"
      },
      "source": [
        "def positive(x):\n",
        "    return x > 0\n",
        "\n",
        "\n",
        "list(filter(positive, [1, -3, 2, 0, -5, 6]))"
      ],
      "execution_count": 12,
      "outputs": [
        {
          "output_type": "execute_result",
          "data": {
            "text/plain": [
              "[1, 2, 6]"
            ]
          },
          "metadata": {
            "tags": []
          },
          "execution_count": 12
        }
      ]
    },
    {
      "cell_type": "markdown",
      "metadata": {
        "id": "1Yy0aT3pif3U",
        "colab_type": "text"
      },
      "source": [
        "### lambda(이름없는 함수)를 사용하면 더욱 간편하게 코드를 작성할 수 있다.★**final Test**★"
      ]
    },
    {
      "cell_type": "code",
      "metadata": {
        "id": "neDVCYfVieHV",
        "colab_type": "code",
        "colab": {
          "base_uri": "https://localhost:8080/",
          "height": 35
        },
        "outputId": "3e3b45cb-88be-4612-cb86-12a09b293e87"
      },
      "source": [
        "list(filter(lambda x: x > 0, [1, -3, 2, 0, -5, 6]))"
      ],
      "execution_count": 13,
      "outputs": [
        {
          "output_type": "execute_result",
          "data": {
            "text/plain": [
              "[1, 2, 6]"
            ]
          },
          "metadata": {
            "tags": []
          },
          "execution_count": 13
        }
      ]
    },
    {
      "cell_type": "markdown",
      "metadata": {
        "id": "bj2LBtupjHE9",
        "colab_type": "text"
      },
      "source": [
        "**lambda 객체 : return값 , 해결할 식**"
      ]
    },
    {
      "cell_type": "markdown",
      "metadata": {
        "id": "deFznuirjZY7",
        "colab_type": "text"
      },
      "source": [
        "hex(x)는 정수 값을 입력받아 16진수(hexadecimal)로\n",
        "변환하여 돌려주는 함수"
      ]
    },
    {
      "cell_type": "code",
      "metadata": {
        "id": "Xg8bjXG7iih6",
        "colab_type": "code",
        "colab": {
          "base_uri": "https://localhost:8080/",
          "height": 54
        },
        "outputId": "116d0f8d-1162-4b5e-a967-d5c6d28a1391"
      },
      "source": [
        "print(hex(10))\n",
        "print(hex(234))"
      ],
      "execution_count": 14,
      "outputs": [
        {
          "output_type": "stream",
          "text": [
            "0xa\n",
            "0xea\n"
          ],
          "name": "stdout"
        }
      ]
    },
    {
      "cell_type": "markdown",
      "metadata": {
        "id": "387QR4DSjkfM",
        "colab_type": "text"
      },
      "source": [
        "#**★★★★★id()**\n",
        "##객체를 입력받아 객체의 고유 주소 값(레퍼런스)을 돌려주는 함수"
      ]
    },
    {
      "cell_type": "code",
      "metadata": {
        "id": "i5PBKDV6jddy",
        "colab_type": "code",
        "colab": {
          "base_uri": "https://localhost:8080/",
          "height": 54
        },
        "outputId": "e1e781fc-9117-4b6e-f17d-d0564aacb80c"
      },
      "source": [
        "a = 3\n",
        "print(id(3))\n",
        "id(a)"
      ],
      "execution_count": 15,
      "outputs": [
        {
          "output_type": "stream",
          "text": [
            "10914560\n"
          ],
          "name": "stdout"
        },
        {
          "output_type": "execute_result",
          "data": {
            "text/plain": [
              "10914560"
            ]
          },
          "metadata": {
            "tags": []
          },
          "execution_count": 15
        }
      ]
    },
    {
      "cell_type": "code",
      "metadata": {
        "id": "zXcjX8hGjvV2",
        "colab_type": "code",
        "colab": {
          "base_uri": "https://localhost:8080/",
          "height": 54
        },
        "outputId": "21b5e2d1-8cfa-400c-8e83-6d793f96963a"
      },
      "source": [
        "b = a\n",
        "print(id(b))\n",
        "id(4)  # 다른 주소값"
      ],
      "execution_count": 16,
      "outputs": [
        {
          "output_type": "stream",
          "text": [
            "10914560\n"
          ],
          "name": "stdout"
        },
        {
          "output_type": "execute_result",
          "data": {
            "text/plain": [
              "10914592"
            ]
          },
          "metadata": {
            "tags": []
          },
          "execution_count": 16
        }
      ]
    },
    {
      "cell_type": "markdown",
      "metadata": {
        "id": "wgRrLlZ4j35s",
        "colab_type": "text"
      },
      "source": [
        "# input([prompt])은 사용자 입력을 받는 함수이다.\n",
        "## 매개변수로 문자열을 주면, 그 문자열은 프롬프트로 사용 할 수 있다."
      ]
    },
    {
      "cell_type": "code",
      "metadata": {
        "id": "w2EDyOaLjyNi",
        "colab_type": "code",
        "colab": {
          "base_uri": "https://localhost:8080/",
          "height": 72
        },
        "outputId": "c68821cf-0355-4c10-c574-9ccf0b358a4f"
      },
      "source": [
        "a = input()\n",
        "b = input(\"Enter: \")\n",
        "b"
      ],
      "execution_count": 17,
      "outputs": [
        {
          "output_type": "stream",
          "text": [
            "comsi\n",
            "Enter: SM04\n"
          ],
          "name": "stdout"
        },
        {
          "output_type": "execute_result",
          "data": {
            "text/plain": [
              "'SM04'"
            ]
          },
          "metadata": {
            "tags": []
          },
          "execution_count": 17
        }
      ]
    },
    {
      "cell_type": "markdown",
      "metadata": {
        "id": "V5CzYIXxkFXc",
        "colab_type": "text"
      },
      "source": [
        "#int(x) **(버림)**\n",
        "##문자열 형태의 숫자나 소수점이 있는 숫자 등을\n",
        "## 정수 형태로 돌려주는 함수"
      ]
    },
    {
      "cell_type": "code",
      "metadata": {
        "id": "OdB-e13Uj9EI",
        "colab_type": "code",
        "colab": {
          "base_uri": "https://localhost:8080/",
          "height": 72
        },
        "outputId": "0026ce12-0384-4408-f21e-7cd3104afaa0"
      },
      "source": [
        "print(int(3))\n",
        "print(int(\"3\"))\n",
        "print(int(3.14))"
      ],
      "execution_count": 18,
      "outputs": [
        {
          "output_type": "stream",
          "text": [
            "3\n",
            "3\n",
            "3\n"
          ],
          "name": "stdout"
        }
      ]
    },
    {
      "cell_type": "markdown",
      "metadata": {
        "id": "lIpzqhGnkQiT",
        "colab_type": "text"
      },
      "source": [
        "# int(x, radix)는 radix 진수로 표현된 문자열 x를 10진수로 변환"
      ]
    },
    {
      "cell_type": "code",
      "metadata": {
        "id": "za0BIRgrkORo",
        "colab_type": "code",
        "colab": {
          "base_uri": "https://localhost:8080/",
          "height": 35
        },
        "outputId": "6d328cc5-4268-40ba-ee77-8318a598d3ee"
      },
      "source": [
        "print(int(\"11\", 2))"
      ],
      "execution_count": 19,
      "outputs": [
        {
          "output_type": "stream",
          "text": [
            "3\n"
          ],
          "name": "stdout"
        }
      ]
    },
    {
      "cell_type": "markdown",
      "metadata": {
        "id": "It-5fyJ4kgYr",
        "colab_type": "text"
      },
      "source": [
        "**★항상 앞에 문자열로 나와야한다.★**"
      ]
    },
    {
      "cell_type": "code",
      "metadata": {
        "id": "G2K5FsAFkT_4",
        "colab_type": "code",
        "colab": {
          "base_uri": "https://localhost:8080/",
          "height": 191
        },
        "outputId": "7bc279ad-f26b-44b8-8d50-4ad729b54bf9"
      },
      "source": [
        "print(int(11, 2))  # TypeError:"
      ],
      "execution_count": 21,
      "outputs": [
        {
          "output_type": "error",
          "ename": "TypeError",
          "evalue": "ignored",
          "traceback": [
            "\u001b[0;31m---------------------------------------------------------------------------\u001b[0m",
            "\u001b[0;31mTypeError\u001b[0m                                 Traceback (most recent call last)",
            "\u001b[0;32m<ipython-input-21-3e984ffb6680>\u001b[0m in \u001b[0;36m<module>\u001b[0;34m()\u001b[0m\n\u001b[1;32m      1\u001b[0m \u001b[0;34m\u001b[0m\u001b[0m\n\u001b[0;32m----> 2\u001b[0;31m \u001b[0mprint\u001b[0m\u001b[0;34m(\u001b[0m\u001b[0mint\u001b[0m\u001b[0;34m(\u001b[0m\u001b[0;36m11\u001b[0m\u001b[0;34m,\u001b[0m \u001b[0;36m2\u001b[0m\u001b[0;34m)\u001b[0m\u001b[0;34m)\u001b[0m  \u001b[0;31m# TypeError:\u001b[0m\u001b[0;34m\u001b[0m\u001b[0;34m\u001b[0m\u001b[0m\n\u001b[0m",
            "\u001b[0;31mTypeError\u001b[0m: int() can't convert non-string with explicit base"
          ]
        }
      ]
    },
    {
      "cell_type": "code",
      "metadata": {
        "id": "yScUP1pgkckw",
        "colab_type": "code",
        "colab": {
          "base_uri": "https://localhost:8080/",
          "height": 35
        },
        "outputId": "cbcfc273-e2b7-4209-eed6-74d0a9ace41b"
      },
      "source": [
        "print(int(\"F\", 16))"
      ],
      "execution_count": 22,
      "outputs": [
        {
          "output_type": "stream",
          "text": [
            "15\n"
          ],
          "name": "stdout"
        }
      ]
    },
    {
      "cell_type": "markdown",
      "metadata": {
        "id": "4gX3YextkqHq",
        "colab_type": "text"
      },
      "source": [
        "# isinstance(object, class ) \n",
        "###첫 번째 인수로 인스턴스,\n",
        "### 두 번째 인수로 클래스 이름을 받는다.\n",
        "### 입력으로 받은 인스턴스가 그 클래스의 인스턴스인지를 판단하여\n",
        "### 참이면 True, 거짓이면 False를 돌려준다."
      ]
    },
    {
      "cell_type": "code",
      "metadata": {
        "id": "hVrWjaiWkbDB",
        "colab_type": "code",
        "colab": {
          "base_uri": "https://localhost:8080/",
          "height": 54
        },
        "outputId": "72f601f8-36e3-4825-a451-ca0ff25ce9fd"
      },
      "source": [
        "class Person:\n",
        "    pass\n",
        "\n",
        "\n",
        "a = Person()\n",
        "print(isinstance(a, Person))\n",
        "\n",
        "b = 3\n",
        "print(isinstance(b, Person))"
      ],
      "execution_count": 23,
      "outputs": [
        {
          "output_type": "stream",
          "text": [
            "True\n",
            "False\n"
          ],
          "name": "stdout"
        }
      ]
    },
    {
      "cell_type": "markdown",
      "metadata": {
        "id": "ALfmZqOwk74M",
        "colab_type": "text"
      },
      "source": [
        "# len(s)\n",
        "###입력값 s의 길이(요소의 전체 개수)를 돌려주는 함수이다."
      ]
    },
    {
      "cell_type": "code",
      "metadata": {
        "id": "UrUy62CqkwQF",
        "colab_type": "code",
        "colab": {
          "base_uri": "https://localhost:8080/",
          "height": 90
        },
        "outputId": "ca6e3204-f921-4e28-8950-2e9991d7d09b"
      },
      "source": [
        "print(len(\"python\"))\n",
        "print(len([1, 2, 3]))\n",
        "print(len((1, \"a\")))\n",
        "print(len({a: 3}))"
      ],
      "execution_count": 24,
      "outputs": [
        {
          "output_type": "stream",
          "text": [
            "6\n",
            "3\n",
            "2\n",
            "1\n"
          ],
          "name": "stdout"
        }
      ]
    },
    {
      "cell_type": "markdown",
      "metadata": {
        "id": "I6bM1h57lDlU",
        "colab_type": "text"
      },
      "source": [
        "# list(s) \n",
        "####반복 가능한 자료형 s를 입력받아\n",
        "#### 리스트로 만들어 돌려주는 함수"
      ]
    },
    {
      "cell_type": "code",
      "metadata": {
        "id": "uqOQQ2dck_ml",
        "colab_type": "code",
        "colab": {
          "base_uri": "https://localhost:8080/",
          "height": 54
        },
        "outputId": "c31afbb5-7ff7-46f8-a59e-1f05d3a16cc2"
      },
      "source": [
        "print(list(\"python\"))\n",
        "print(list((1, 2, 3)))"
      ],
      "execution_count": 29,
      "outputs": [
        {
          "output_type": "stream",
          "text": [
            "['p', 'y', 't', 'h', 'o', 'n']\n",
            "[1, 2, 3]\n"
          ],
          "name": "stdout"
        }
      ]
    },
    {
      "cell_type": "markdown",
      "metadata": {
        "id": "7JuZMjA-lYgD",
        "colab_type": "text"
      },
      "source": [
        "# map(f, iterable)\n",
        "###함수(f)와 반복 가능한(iterable) 자료형을\n",
        "### 입력으로 받는다.\n",
        "### map은 입력받은 자료형의 각 요소를 함수 f가 수행한 결과를\n",
        "### 묶어서 돌려주는 함수"
      ]
    },
    {
      "cell_type": "code",
      "metadata": {
        "id": "CcDxR1omlTDU",
        "colab_type": "code",
        "colab": {
          "base_uri": "https://localhost:8080/",
          "height": 35
        },
        "outputId": "0e948cf3-b49b-4b76-9808-9c2c9a81fa38"
      },
      "source": [
        "def two_times(numberList):\n",
        "    result = []\n",
        "    for number in numberList:\n",
        "        result.append(number * 2)\n",
        "    return result\n",
        "\n",
        "\n",
        "result = two_times([1, 2, 3, 4])\n",
        "print(result)"
      ],
      "execution_count": 30,
      "outputs": [
        {
          "output_type": "stream",
          "text": [
            "[2, 4, 6, 8]\n"
          ],
          "name": "stdout"
        }
      ]
    },
    {
      "cell_type": "markdown",
      "metadata": {
        "id": "SW_E9WSKlljX",
        "colab_type": "text"
      },
      "source": [
        "**map 함수를 사용**"
      ]
    },
    {
      "cell_type": "code",
      "metadata": {
        "id": "bTwfLPYSlbW6",
        "colab_type": "code",
        "colab": {
          "base_uri": "https://localhost:8080/",
          "height": 35
        },
        "outputId": "55266297-1773-4c0d-df17-a5f265d59a3c"
      },
      "source": [
        "def two_times(x):\n",
        "    return x * 2\n",
        "\n",
        "list(map(two_times, [1, 2, 3, 4]))"
      ],
      "execution_count": 31,
      "outputs": [
        {
          "output_type": "execute_result",
          "data": {
            "text/plain": [
              "[2, 4, 6, 8]"
            ]
          },
          "metadata": {
            "tags": []
          },
          "execution_count": 31
        }
      ]
    },
    {
      "cell_type": "markdown",
      "metadata": {
        "id": "5ObLj6mzlskP",
        "colab_type": "text"
      },
      "source": [
        "**lambda 사용**"
      ]
    },
    {
      "cell_type": "code",
      "metadata": {
        "id": "D7ucc4PglmgH",
        "colab_type": "code",
        "colab": {
          "base_uri": "https://localhost:8080/",
          "height": 35
        },
        "outputId": "c1e58768-2922-4ec2-9d04-d87732ac7875"
      },
      "source": [
        "list(map(lambda a: a * 2, [1, 2, 3, 4]))"
      ],
      "execution_count": 32,
      "outputs": [
        {
          "output_type": "execute_result",
          "data": {
            "text/plain": [
              "[2, 4, 6, 8]"
            ]
          },
          "metadata": {
            "tags": []
          },
          "execution_count": 32
        }
      ]
    },
    {
      "cell_type": "markdown",
      "metadata": {
        "id": "VQl7Sas8l4nr",
        "colab_type": "text"
      },
      "source": [
        "# max(iterable)\n",
        "###인수로 반복 가능한 자료형을 입력받아\n",
        "### 그 최댓값을 돌려주는 함수"
      ]
    },
    {
      "cell_type": "code",
      "metadata": {
        "id": "kTWA2uqxlwKd",
        "colab_type": "code",
        "colab": {
          "base_uri": "https://localhost:8080/",
          "height": 90
        },
        "outputId": "0117dcc3-7ca2-42be-9969-e738cbbb8567"
      },
      "source": [
        "print(max([1, 2, 3]))\n",
        "print(max(\"python\"))\n",
        "print(max(list(range(10))))\n",
        "print(max(range(10)))"
      ],
      "execution_count": 33,
      "outputs": [
        {
          "output_type": "stream",
          "text": [
            "3\n",
            "y\n",
            "9\n",
            "9\n"
          ],
          "name": "stdout"
        }
      ]
    },
    {
      "cell_type": "markdown",
      "metadata": {
        "id": "RgaPMpIpmSzf",
        "colab_type": "text"
      },
      "source": [
        "# min(iterable)\n",
        "###max 함수와 반대로, 인수로 반복 가능한\n",
        "###자료형을 입력받아 그 최솟값을 돌려주는 함수"
      ]
    },
    {
      "cell_type": "code",
      "metadata": {
        "id": "p40nhp0Pl8lI",
        "colab_type": "code",
        "colab": {
          "base_uri": "https://localhost:8080/",
          "height": 72
        },
        "outputId": "f0f62cd3-09d0-4329-ed39-2296d96a0915"
      },
      "source": [
        "print(min([1, 2, 3]))\n",
        "print(min(\"python\"))\n",
        "print(min(range(10)))"
      ],
      "execution_count": 34,
      "outputs": [
        {
          "output_type": "stream",
          "text": [
            "1\n",
            "h\n",
            "0\n"
          ],
          "name": "stdout"
        }
      ]
    },
    {
      "cell_type": "markdown",
      "metadata": {
        "id": "QwHs35LbmY_C",
        "colab_type": "text"
      },
      "source": [
        "# oct(x)\n",
        "###정수 형태의 숫자를 8진수 문자열로 바꾸어 돌려주는 함수"
      ]
    },
    {
      "cell_type": "code",
      "metadata": {
        "id": "_TubwLfKmV5W",
        "colab_type": "code",
        "colab": {
          "base_uri": "https://localhost:8080/",
          "height": 54
        },
        "outputId": "0fa7bc40-1896-4248-9af6-875d6cea4766"
      },
      "source": [
        "print(oct(9))\n",
        "print(oct(12345))"
      ],
      "execution_count": 35,
      "outputs": [
        {
          "output_type": "stream",
          "text": [
            "0o11\n",
            "0o30071\n"
          ],
          "name": "stdout"
        }
      ]
    },
    {
      "cell_type": "markdown",
      "metadata": {
        "id": "rT59OJpUmijb",
        "colab_type": "text"
      },
      "source": [
        "# ord(c)\n",
        "###**문자의 아스키 코드 값을 돌려주는 함수**\n",
        "### **※ord 함수는 chr 함수와 반대**"
      ]
    },
    {
      "cell_type": "code",
      "metadata": {
        "id": "OHY8Ci9-mbE_",
        "colab_type": "code",
        "colab": {
          "base_uri": "https://localhost:8080/",
          "height": 54
        },
        "outputId": "4c0c6bf7-7714-435e-bb3b-482707f59251"
      },
      "source": [
        "print(ord(\"a\"))  # chr(97)\n",
        "print(ord(\"0\"))"
      ],
      "execution_count": 36,
      "outputs": [
        {
          "output_type": "stream",
          "text": [
            "97\n",
            "48\n"
          ],
          "name": "stdout"
        }
      ]
    },
    {
      "cell_type": "markdown",
      "metadata": {
        "id": "Bi_wOuTnmpwz",
        "colab_type": "text"
      },
      "source": [
        "# pow(x, y)\n",
        "###x의 y 제곱한 결괏값을 돌려주는 함수"
      ]
    },
    {
      "cell_type": "code",
      "metadata": {
        "id": "FLDiPZfemlap",
        "colab_type": "code",
        "colab": {
          "base_uri": "https://localhost:8080/",
          "height": 54
        },
        "outputId": "f4f4262a-d204-4f31-a157-ca064eff9eba"
      },
      "source": [
        "print(pow(2, 4))  # 2**4\n",
        "print(pow(3, 4))  # 3**4"
      ],
      "execution_count": 37,
      "outputs": [
        {
          "output_type": "stream",
          "text": [
            "16\n",
            "81\n"
          ],
          "name": "stdout"
        }
      ]
    },
    {
      "cell_type": "markdown",
      "metadata": {
        "id": "GkYxTbj2mu-d",
        "colab_type": "text"
      },
      "source": [
        "###**★★★★★** range([start,] stop [,step] )는 for문과 함께 자주 사용하는 함수\n",
        "# 이 함수는 입력받은 숫자에 해당하는 범위 값을 반복 가능한 객체로\n",
        "# 만들어 돌려준다."
      ]
    },
    {
      "cell_type": "code",
      "metadata": {
        "id": "rN3zZIyKmtD5",
        "colab_type": "code",
        "colab": {
          "base_uri": "https://localhost:8080/",
          "height": 74
        },
        "outputId": "dcf60d47-f557-4ff1-edb7-1abbcc24ab4b"
      },
      "source": [
        "print(list(range(5))) #range 객체 그대로 쓰기 어렵다 따라서 list 로 바꿔준다.\n",
        "print(dir(range(5)))"
      ],
      "execution_count": 38,
      "outputs": [
        {
          "output_type": "stream",
          "text": [
            "[0, 1, 2, 3, 4]\n",
            "['__bool__', '__class__', '__contains__', '__delattr__', '__dir__', '__doc__', '__eq__', '__format__', '__ge__', '__getattribute__', '__getitem__', '__gt__', '__hash__', '__init__', '__init_subclass__', '__iter__', '__le__', '__len__', '__lt__', '__ne__', '__new__', '__reduce__', '__reduce_ex__', '__repr__', '__reversed__', '__setattr__', '__sizeof__', '__str__', '__subclasshook__', 'count', 'index', 'start', 'step', 'stop']\n"
          ],
          "name": "stdout"
        }
      ]
    },
    {
      "cell_type": "code",
      "metadata": {
        "id": "cY227lmOm3e4",
        "colab_type": "code",
        "colab": {
          "base_uri": "https://localhost:8080/",
          "height": 35
        },
        "outputId": "74c3441e-34e4-42c9-f9b4-0110eb3f92f4"
      },
      "source": [
        "print(list(range(5, 10)))"
      ],
      "execution_count": 39,
      "outputs": [
        {
          "output_type": "stream",
          "text": [
            "[5, 6, 7, 8, 9]\n"
          ],
          "name": "stdout"
        }
      ]
    },
    {
      "cell_type": "code",
      "metadata": {
        "id": "icad55c0nDyf",
        "colab_type": "code",
        "colab": {
          "base_uri": "https://localhost:8080/",
          "height": 35
        },
        "outputId": "ec261428-f2aa-4307-cb57-50b496910cb0"
      },
      "source": [
        "print(list(range(1, 10, 2)))"
      ],
      "execution_count": 40,
      "outputs": [
        {
          "output_type": "stream",
          "text": [
            "[1, 3, 5, 7, 9]\n"
          ],
          "name": "stdout"
        }
      ]
    },
    {
      "cell_type": "code",
      "metadata": {
        "id": "Mx3ng6hSnFs9",
        "colab_type": "code",
        "colab": {
          "base_uri": "https://localhost:8080/",
          "height": 35
        },
        "outputId": "805fb8af-b7bf-4ddd-f51f-e91babd76214"
      },
      "source": [
        "print(list(range(0, -10, -1)))# reverse [-9까지]"
      ],
      "execution_count": 41,
      "outputs": [
        {
          "output_type": "stream",
          "text": [
            "[0, -1, -2, -3, -4, -5, -6, -7, -8, -9]\n"
          ],
          "name": "stdout"
        }
      ]
    },
    {
      "cell_type": "markdown",
      "metadata": {
        "id": "H_CZaQSMnPgj",
        "colab_type": "text"
      },
      "source": [
        "# round() 함수\n",
        "###숫자를 입력받아 반올림해 주는 함수\n",
        "### ※ [, ndigits]는 ndigits가 있을 수도 있고 없을 수도 있다는 의미이다."
      ]
    },
    {
      "cell_type": "code",
      "metadata": {
        "id": "R4HnJZrhnKy8",
        "colab_type": "code",
        "colab": {
          "base_uri": "https://localhost:8080/",
          "height": 54
        },
        "outputId": "a138e247-5a49-4759-a5ac-421ffe22c866"
      },
      "source": [
        "print(round(4.6))\n",
        "print(round(4.2))"
      ],
      "execution_count": 42,
      "outputs": [
        {
          "output_type": "stream",
          "text": [
            "5\n",
            "4\n"
          ],
          "name": "stdout"
        }
      ]
    },
    {
      "cell_type": "code",
      "metadata": {
        "id": "stMfjtCAnS5Z",
        "colab_type": "code",
        "colab": {
          "base_uri": "https://localhost:8080/",
          "height": 35
        },
        "outputId": "d66cd2aa-9f54-421c-a57f-b89ad15b4b74"
      },
      "source": [
        "print(round(5.678, 2))"
      ],
      "execution_count": 43,
      "outputs": [
        {
          "output_type": "stream",
          "text": [
            "5.68\n"
          ],
          "name": "stdout"
        }
      ]
    },
    {
      "cell_type": "markdown",
      "metadata": {
        "id": "y0S8jHvanZDE",
        "colab_type": "text"
      },
      "source": [
        "#**★★★** sorted(iterable) 함수\n",
        "###입력값을 정렬한 후\n",
        "### 그 결과를 리스트로 돌려주는 함수\n",
        "### 'reverse' 속성으로 정렬순서 반전"
      ]
    },
    {
      "cell_type": "code",
      "metadata": {
        "id": "JYs0usghnU40",
        "colab_type": "code",
        "colab": {
          "base_uri": "https://localhost:8080/",
          "height": 54
        },
        "outputId": "c5755d8f-add7-4735-ce09-c9ff9c329033"
      },
      "source": [
        "print(sorted([3, 1, 2]))\n",
        "print(sorted([3, 1, 2], reverse=True))"
      ],
      "execution_count": 44,
      "outputs": [
        {
          "output_type": "stream",
          "text": [
            "[1, 2, 3]\n",
            "[3, 2, 1]\n"
          ],
          "name": "stdout"
        }
      ]
    },
    {
      "cell_type": "code",
      "metadata": {
        "id": "t2qIb9Lsnf-I",
        "colab_type": "code",
        "colab": {
          "base_uri": "https://localhost:8080/",
          "height": 54
        },
        "outputId": "dc31ace9-0087-4f99-e204-9c027bf5acdc"
      },
      "source": [
        "print(sorted([\"a\", \"c\", \"b\"]))\n",
        "print(sorted([\"a\", \"c\", \"b\"], reverse=True))"
      ],
      "execution_count": 45,
      "outputs": [
        {
          "output_type": "stream",
          "text": [
            "['a', 'b', 'c']\n",
            "['c', 'b', 'a']\n"
          ],
          "name": "stdout"
        }
      ]
    },
    {
      "cell_type": "code",
      "metadata": {
        "id": "b7m0cZf1njiG",
        "colab_type": "code",
        "colab": {
          "base_uri": "https://localhost:8080/",
          "height": 54
        },
        "outputId": "b34eba67-e18c-4109-f4d9-d9e8218966cb"
      },
      "source": [
        "print(sorted(\"zero\"))\n",
        "print(sorted((3, 2, 1)))  "
      ],
      "execution_count": 46,
      "outputs": [
        {
          "output_type": "stream",
          "text": [
            "['e', 'o', 'r', 'z']\n",
            "[1, 2, 3]\n"
          ],
          "name": "stdout"
        }
      ]
    },
    {
      "cell_type": "markdown",
      "metadata": {
        "id": "TTcHNwPZnuGQ",
        "colab_type": "text"
      },
      "source": [
        "**매개변수로 튜플이 들어왔지만 list로 반환해준다.**"
      ]
    },
    {
      "cell_type": "markdown",
      "metadata": {
        "id": "RaDSgerBnwtq",
        "colab_type": "text"
      },
      "source": [
        "# str(object)\n",
        "###문자열 형태로 객체를 변환하여 돌려주는 함수"
      ]
    },
    {
      "cell_type": "code",
      "metadata": {
        "id": "osfoGxt4nneh",
        "colab_type": "code",
        "colab": {
          "base_uri": "https://localhost:8080/",
          "height": 72
        },
        "outputId": "71dfb39c-682e-4e06-9eaf-90e4c5bcca3e"
      },
      "source": [
        "print(str(3))\n",
        "print(str(100))\n",
        "print(str(\"hello\".upper()))"
      ],
      "execution_count": 47,
      "outputs": [
        {
          "output_type": "stream",
          "text": [
            "3\n",
            "100\n",
            "HELLO\n"
          ],
          "name": "stdout"
        }
      ]
    },
    {
      "cell_type": "markdown",
      "metadata": {
        "id": "OceaHa4Cn3In",
        "colab_type": "text"
      },
      "source": [
        "#sum(iterable) \n",
        "###입력받은 리스트나 튜플의\n",
        "### 모든 요소의 합을 돌려주는 함수"
      ]
    },
    {
      "cell_type": "code",
      "metadata": {
        "id": "6B_mHst3n0iK",
        "colab_type": "code",
        "colab": {
          "base_uri": "https://localhost:8080/",
          "height": 54
        },
        "outputId": "398348f2-5e14-4de1-ea99-06146ca234c6"
      },
      "source": [
        "print(sum([1, 2, 3]))\n",
        "print(sum((4, 5, 6)))"
      ],
      "execution_count": 48,
      "outputs": [
        {
          "output_type": "stream",
          "text": [
            "6\n",
            "15\n"
          ],
          "name": "stdout"
        }
      ]
    },
    {
      "cell_type": "markdown",
      "metadata": {
        "id": "dZkBaRQIn-wc",
        "colab_type": "text"
      },
      "source": [
        "# tuple(iterable)\n",
        "###반복 가능한 자료형을 입력받아\n",
        "### 튜플 형태로 바꾸어 돌려주는 함수"
      ]
    },
    {
      "cell_type": "code",
      "metadata": {
        "id": "aTlFMDHGn73d",
        "colab_type": "code",
        "colab": {
          "base_uri": "https://localhost:8080/",
          "height": 90
        },
        "outputId": "2cdfc099-9ad7-400c-8571-8c276850206c"
      },
      "source": [
        "print(tuple(\"abc\"))\n",
        "print(tuple([1, 2, 3]))\n",
        "print(tuple('a')) #괄호와 차이를 주기 위해서 ('a',) 로 나타냄 \n",
        "print(('a'))"
      ],
      "execution_count": 53,
      "outputs": [
        {
          "output_type": "stream",
          "text": [
            "('a', 'b', 'c')\n",
            "(1, 2, 3)\n",
            "('a',)\n",
            "a\n"
          ],
          "name": "stdout"
        }
      ]
    },
    {
      "cell_type": "markdown",
      "metadata": {
        "id": "IM3xQCHdoRy6",
        "colab_type": "text"
      },
      "source": [
        "# type(object)\n",
        "###입력값의 자료형이 무엇인지 알려 주는 함수"
      ]
    },
    {
      "cell_type": "code",
      "metadata": {
        "id": "Sre20WT0oCwQ",
        "colab_type": "code",
        "colab": {
          "base_uri": "https://localhost:8080/",
          "height": 90
        },
        "outputId": "9908871f-7d82-4fd4-9a5a-c5b8c923da47"
      },
      "source": [
        "print(type(\"abc\"))\n",
        "print(type([]))\n",
        "print(type({a: 4}))\n",
        "print(type(open(\"test\", \"w\")))"
      ],
      "execution_count": 54,
      "outputs": [
        {
          "output_type": "stream",
          "text": [
            "<class 'str'>\n",
            "<class 'list'>\n",
            "<class 'dict'>\n",
            "<class '_io.TextIOWrapper'>\n"
          ],
          "name": "stdout"
        }
      ]
    },
    {
      "cell_type": "markdown",
      "metadata": {
        "id": "Itr40haroewD",
        "colab_type": "text"
      },
      "source": [
        "#**★★★★★** zip(*iterable)\n",
        "###동일한 개수로 이루어진 자료형을\n",
        "#### 묶어 주는 역할을 하는 함수"
      ]
    },
    {
      "cell_type": "code",
      "metadata": {
        "id": "WBAQb878oWTs",
        "colab_type": "code",
        "colab": {
          "base_uri": "https://localhost:8080/",
          "height": 90
        },
        "outputId": "fe5ba7d7-2085-4469-9e7f-2c19bb0032bc"
      },
      "source": [
        "print(list(zip([1, 2, 3], [4, 5, 6])))\n",
        "print(list(zip([1, 2, 3], [4, 5, 6], [7, 8, 9])))\n",
        "print(list(zip(\"abc\", \"def\")))\n",
        "print(list(zip([1, 2, 3], \"def\")))"
      ],
      "execution_count": 55,
      "outputs": [
        {
          "output_type": "stream",
          "text": [
            "[(1, 4), (2, 5), (3, 6)]\n",
            "[(1, 4, 7), (2, 5, 8), (3, 6, 9)]\n",
            "[('a', 'd'), ('b', 'e'), ('c', 'f')]\n",
            "[(1, 'd'), (2, 'e'), (3, 'f')]\n"
          ],
          "name": "stdout"
        }
      ]
    },
    {
      "cell_type": "markdown",
      "metadata": {
        "id": "RzyRXC0_olpv",
        "colab_type": "text"
      },
      "source": [
        "**기본적으로 묶을 경우, 튜플로 묶어준다**"
      ]
    },
    {
      "cell_type": "markdown",
      "metadata": {
        "id": "NHNP_vDqo-8z",
        "colab_type": "text"
      },
      "source": [
        "####구조를 가진 함수들 ==> ★"
      ]
    }
  ]
}