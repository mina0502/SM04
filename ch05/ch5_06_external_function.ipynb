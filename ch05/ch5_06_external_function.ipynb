{
  "nbformat": 4,
  "nbformat_minor": 0,
  "metadata": {
    "colab": {
      "name": "ch5_06_external_function.ipynb",
      "provenance": [],
      "collapsed_sections": [],
      "include_colab_link": true
    },
    "kernelspec": {
      "name": "python3",
      "display_name": "Python 3"
    }
  },
  "cells": [
    {
      "cell_type": "markdown",
      "metadata": {
        "id": "view-in-github",
        "colab_type": "text"
      },
      "source": [
        "<a href=\"https://colab.research.google.com/github/mina0502/SM04/blob/master/ch05/ch5_06_external_function.ipynb\" target=\"_parent\"><img src=\"https://colab.research.google.com/assets/colab-badge.svg\" alt=\"Open In Colab\"/></a>"
      ]
    },
    {
      "cell_type": "markdown",
      "metadata": {
        "id": "SvDFyoRYpVA6",
        "colab_type": "text"
      },
      "source": [
        "#외장 함수\n",
        "**파이썬 내에 포함되어 있지 않아 import로 연결해서 사용**\n",
        "###'import module_name' 형식으로 불러와서 사용"
      ]
    },
    {
      "cell_type": "markdown",
      "metadata": {
        "id": "fr-Tik2Xpbnb",
        "colab_type": "text"
      },
      "source": [
        "#**★★★★★** OS 모듈\n",
        "###환경 변수나 디렉터리, 파일 등의 OS 자원을\n",
        "### 제어할 수 있게 해주는 모듈\n",
        "**내 시스템의 환경 변수값을 알고 싶을 때 - os.environ**"
      ]
    },
    {
      "cell_type": "code",
      "metadata": {
        "id": "2GHwAS3rpOAj",
        "colab_type": "code",
        "colab": {
          "base_uri": "https://localhost:8080/",
          "height": 55
        },
        "outputId": "75e9c3cd-0d30-46e5-ec2a-9f96e44fb704"
      },
      "source": [
        "import os\n",
        "os.environ"
      ],
      "execution_count": 1,
      "outputs": [
        {
          "output_type": "execute_result",
          "data": {
            "text/plain": [
              "environ({'ENV': '/root/.bashrc', 'GCS_READ_CACHE_BLOCK_SIZE_MB': '16', 'CLOUDSDK_CONFIG': '/content/.config', 'CUDA_VERSION': '10.0.130', 'PATH': '/usr/local/nvidia/bin:/usr/local/cuda/bin:/usr/local/sbin:/usr/local/bin:/usr/sbin:/usr/bin:/sbin:/bin:/tools/node/bin:/tools/google-cloud-sdk/bin:/opt/bin', 'HOME': '/root', 'LD_LIBRARY_PATH': '/usr/local/nvidia/lib:/usr/local/nvidia/lib64', 'LANG': 'en_US.UTF-8', 'SHELL': '/bin/bash', 'LIBRARY_PATH': '/usr/local/cuda/lib64/stubs', 'CUDA_PKG_VERSION': '10-0=10.0.130-1', 'SHLVL': '1', 'NCCL_VERSION': '2.4.8', 'NVIDIA_VISIBLE_DEVICES': 'all', 'TF_FORCE_GPU_ALLOW_GROWTH': 'true', 'DEBIAN_FRONTEND': 'noninteractive', 'CUDNN_VERSION': '7.6.3.30', 'LAST_FORCED_REBUILD': '20191018', 'JPY_PARENT_PID': '24', 'PYTHONPATH': '/env/python', 'DATALAB_SETTINGS_OVERRIDES': '{\"kernelManagerProxyPort\":6000,\"kernelManagerProxyHost\":\"172.28.0.3\",\"jupyterArgs\":[\"--ip=\\\\\"172.28.0.2\\\\\"\"]}', 'NO_GCE_CHECK': 'True', 'GLIBCXX_FORCE_NEW': '1', 'NVIDIA_DRIVER_CAPABILITIES': 'compute,utility', '_': '/tools/node/bin/node', 'LD_PRELOAD': '/usr/lib/x86_64-linux-gnu/libtcmalloc.so.4', 'NVIDIA_REQUIRE_CUDA': 'cuda>=10.0 brand=tesla,driver>=384,driver<385 brand=tesla,driver>=410,driver<411', 'OLDPWD': '/', 'HOSTNAME': '2f1f71489755', 'COLAB_GPU': '0', 'PWD': '/', 'GLIBCPP_FORCE_NEW': '1', 'PYTHONWARNINGS': 'ignore:::pip._internal.cli.base_command', 'TBE_CREDS_ADDR': '172.28.0.1:8008', 'TERM': 'xterm-color', 'CLICOLOR': '1', 'PAGER': 'cat', 'GIT_PAGER': 'cat', 'MPLBACKEND': 'module://ipykernel.pylab.backend_inline'})"
            ]
          },
          "metadata": {
            "tags": []
          },
          "execution_count": 1
        }
      ]
    },
    {
      "cell_type": "markdown",
      "metadata": {
        "id": "qvW7Ad9zpnxa",
        "colab_type": "text"
      },
      "source": [
        "## 시스템의 PATH 환경 변수 내용"
      ]
    },
    {
      "cell_type": "code",
      "metadata": {
        "id": "MG0fAgEapkWe",
        "colab_type": "code",
        "colab": {
          "base_uri": "https://localhost:8080/",
          "height": 35
        },
        "outputId": "9e08d941-265a-4542-da86-c870715fc0c6"
      },
      "source": [
        "os.environ[\"PATH\"]"
      ],
      "execution_count": 2,
      "outputs": [
        {
          "output_type": "execute_result",
          "data": {
            "text/plain": [
              "'/usr/local/nvidia/bin:/usr/local/cuda/bin:/usr/local/sbin:/usr/local/bin:/usr/sbin:/usr/bin:/sbin:/bin:/tools/node/bin:/tools/google-cloud-sdk/bin:/opt/bin'"
            ]
          },
          "metadata": {
            "tags": []
          },
          "execution_count": 2
        }
      ]
    },
    {
      "cell_type": "markdown",
      "metadata": {
        "id": "adSZb5VapqcZ",
        "colab_type": "text"
      },
      "source": [
        "## 현재 디렉터리 위치 확인 - os.getcwd()"
      ]
    },
    {
      "cell_type": "code",
      "metadata": {
        "id": "V2xABUx9ppA8",
        "colab_type": "code",
        "colab": {
          "base_uri": "https://localhost:8080/",
          "height": 35
        },
        "outputId": "ab52c641-d05e-4592-bbac-a9e7c7ea2803"
      },
      "source": [
        "os.getcwd()"
      ],
      "execution_count": 3,
      "outputs": [
        {
          "output_type": "execute_result",
          "data": {
            "text/plain": [
              "'/content'"
            ]
          },
          "metadata": {
            "tags": []
          },
          "execution_count": 3
        }
      ]
    },
    {
      "cell_type": "markdown",
      "metadata": {
        "id": "E7yutzgipt1h",
        "colab_type": "text"
      },
      "source": [
        "## 시스템 명령어 호출하기 - os.system\n",
        "\n",
        "**현재 작업 폴더 안에 있는 폴더와 파일들의 리스트가 나옴**"
      ]
    },
    {
      "cell_type": "code",
      "metadata": {
        "id": "xSymwXRIprU4",
        "colab_type": "code",
        "colab": {
          "base_uri": "https://localhost:8080/",
          "height": 35
        },
        "outputId": "b5b02b74-89dd-4a66-d6d0-802e854b5682"
      },
      "source": [
        "os.system(\"dir\")"
      ],
      "execution_count": 9,
      "outputs": [
        {
          "output_type": "execute_result",
          "data": {
            "text/plain": [
              "0"
            ]
          },
          "metadata": {
            "tags": []
          },
          "execution_count": 9
        }
      ]
    },
    {
      "cell_type": "markdown",
      "metadata": {
        "id": "QoixgL--p1G5",
        "colab_type": "text"
      },
      "source": [
        "## 디렉터리 위치 변경하기 - os.chdir('directory')\n",
        "\n",
        "**(디렉터리 없음)**"
      ]
    },
    {
      "cell_type": "code",
      "metadata": {
        "id": "Adk5ykCBpygY",
        "colab_type": "code",
        "colab": {
          "base_uri": "https://localhost:8080/",
          "height": 173
        },
        "outputId": "80e7bdce-19c6-4e5d-aa15-77c6f4225e21"
      },
      "source": [
        "os.chdir(\"ch05\")"
      ],
      "execution_count": 5,
      "outputs": [
        {
          "output_type": "error",
          "ename": "FileNotFoundError",
          "evalue": "ignored",
          "traceback": [
            "\u001b[0;31m---------------------------------------------------------------------------\u001b[0m",
            "\u001b[0;31mFileNotFoundError\u001b[0m                         Traceback (most recent call last)",
            "\u001b[0;32m<ipython-input-5-296947dd1824>\u001b[0m in \u001b[0;36m<module>\u001b[0;34m()\u001b[0m\n\u001b[0;32m----> 1\u001b[0;31m \u001b[0mos\u001b[0m\u001b[0;34m.\u001b[0m\u001b[0mchdir\u001b[0m\u001b[0;34m(\u001b[0m\u001b[0;34m\"ch05\"\u001b[0m\u001b[0;34m)\u001b[0m\u001b[0;34m\u001b[0m\u001b[0;34m\u001b[0m\u001b[0m\n\u001b[0m",
            "\u001b[0;31mFileNotFoundError\u001b[0m: [Errno 2] No such file or directory: 'ch05'"
          ]
        }
      ]
    },
    {
      "cell_type": "markdown",
      "metadata": {
        "id": "Y1xSTy5Up3wB",
        "colab_type": "text"
      },
      "source": [
        "#### 기타 유용한 os 관련 함수\n",
        "#### os.mkdir(디렉터리) - 폴더를 만듬\n",
        "#### os.rmdir(디렉터리) - 폴더를 지움\n",
        "#### os.rename(src, dst) - 바꿀 이름 지정, 바꿀 이름"
      ]
    },
    {
      "cell_type": "markdown",
      "metadata": {
        "id": "d8t-lUPDs3hv",
        "colab_type": "text"
      },
      "source": [
        "##OS 모듈을 사용하면 작업환경을 다양하게 옮길 수 있다."
      ]
    },
    {
      "cell_type": "markdown",
      "metadata": {
        "id": "R3mFV9IEqAF4",
        "colab_type": "text"
      },
      "source": [
        "#**★★★★★** sys 모듈\n",
        "####파이썬 인터프리터가 제공하는 변수와 함수를\n",
        "##### 직접 제어할 수 있게 해주는 모듈\n",
        "\n",
        "######파이썬 cmd 밖에서 사용.."
      ]
    },
    {
      "cell_type": "code",
      "metadata": {
        "id": "YXbEh7Y7p2aO",
        "colab_type": "code",
        "colab": {
          "base_uri": "https://localhost:8080/",
          "height": 35
        },
        "outputId": "55b9fb37-3e47-4a65-e4ff-860891c0ed3d"
      },
      "source": [
        "import sys\n",
        "\n",
        "print(sys.argv)"
      ],
      "execution_count": 8,
      "outputs": [
        {
          "output_type": "stream",
          "text": [
            "['/usr/local/lib/python3.6/dist-packages/ipykernel_launcher.py', '-f', '/root/.local/share/jupyter/runtime/kernel-c3e3108f-37cc-4e0e-bccf-09654c19562e.json']\n"
          ],
          "name": "stdout"
        }
      ]
    },
    {
      "cell_type": "code",
      "metadata": {
        "id": "llaiPTuHqEP1",
        "colab_type": "code",
        "colab": {
          "base_uri": "https://localhost:8080/",
          "height": 155
        },
        "outputId": "a03e25cc-30d3-4c15-8917-0f9108342a36"
      },
      "source": [
        "# 강제로 스크립트 종료하기 - sys.exit\n",
        "import sys\n",
        "\n",
        "sys.exit()  # ^Z"
      ],
      "execution_count": 7,
      "outputs": [
        {
          "output_type": "error",
          "ename": "SystemExit",
          "evalue": "ignored",
          "traceback": [
            "An exception has occurred, use %tb to see the full traceback.\n",
            "\u001b[0;31mSystemExit\u001b[0m\n"
          ]
        },
        {
          "output_type": "stream",
          "text": [
            "/usr/local/lib/python3.6/dist-packages/IPython/core/interactiveshell.py:2890: UserWarning: To exit: use 'exit', 'quit', or Ctrl-D.\n",
            "  warn(\"To exit: use 'exit', 'quit', or Ctrl-D.\", stacklevel=1)\n"
          ],
          "name": "stderr"
        }
      ]
    },
    {
      "cell_type": "markdown",
      "metadata": {
        "colab_type": "text",
        "id": "b3fzzAXnvj0-"
      },
      "source": [
        "**notebook 파일에서 사용할 수 없다...**\n",
        "\n",
        "### Py 파일 사용하는 방법"
      ]
    },
    {
      "cell_type": "markdown",
      "metadata": {
        "id": "fWxDU7aWvl6V",
        "colab_type": "text"
      },
      "source": [
        "##Run *.py in colab"
      ]
    },
    {
      "cell_type": "code",
      "metadata": {
        "id": "EFDwHhwSvo0b",
        "colab_type": "code",
        "colab": {
          "base_uri": "https://localhost:8080/",
          "height": 35
        },
        "outputId": "81ae3e2d-bbc0-4b79-8810-4008c0c85559"
      },
      "source": [
        "run argv_test.py comsi iju #리스트로 바로 넣어줌"
      ],
      "execution_count": 12,
      "outputs": [
        {
          "output_type": "stream",
          "text": [
            "['argv_test.py', 'comsi', 'iju']\n"
          ],
          "name": "stdout"
        }
      ]
    },
    {
      "cell_type": "code",
      "metadata": {
        "id": "5GMyn5mfwgGF",
        "colab_type": "code",
        "colab": {
          "base_uri": "https://localhost:8080/",
          "height": 35
        },
        "outputId": "0c64ec82-c504-4dfc-b438-5f055ae0a42c"
      },
      "source": [
        "!python argv_test.py comsi kkk"
      ],
      "execution_count": 13,
      "outputs": [
        {
          "output_type": "stream",
          "text": [
            "['argv_test.py', 'comsi', 'kkk']\n"
          ],
          "name": "stdout"
        }
      ]
    },
    {
      "cell_type": "markdown",
      "metadata": {
        "id": "vVni4iE3xLzi",
        "colab_type": "text"
      },
      "source": [
        "**현재 시스템의 path가 나옴**"
      ]
    },
    {
      "cell_type": "code",
      "metadata": {
        "id": "ldn7nt2vqFJx",
        "colab_type": "code",
        "colab": {
          "base_uri": "https://localhost:8080/",
          "height": 181
        },
        "outputId": "1a5a9abb-32e8-42b0-de09-8ad4bf7572e7"
      },
      "source": [
        "import sys\n",
        "sys.path"
      ],
      "execution_count": 14,
      "outputs": [
        {
          "output_type": "execute_result",
          "data": {
            "text/plain": [
              "['',\n",
              " '/env/python',\n",
              " '/usr/lib/python36.zip',\n",
              " '/usr/lib/python3.6',\n",
              " '/usr/lib/python3.6/lib-dynload',\n",
              " '/usr/local/lib/python3.6/dist-packages',\n",
              " '/usr/lib/python3/dist-packages',\n",
              " '/usr/local/lib/python3.6/dist-packages/IPython/extensions',\n",
              " '/root/.ipython']"
            ]
          },
          "metadata": {
            "tags": []
          },
          "execution_count": 14
        }
      ]
    },
    {
      "cell_type": "markdown",
      "metadata": {
        "id": "98THd6fTxUoZ",
        "colab_type": "text"
      },
      "source": [
        "**현재 지정된 defalut 폴더를 보여줌**"
      ]
    },
    {
      "cell_type": "code",
      "metadata": {
        "id": "T3hW5_Kow_tE",
        "colab_type": "code",
        "colab": {
          "base_uri": "https://localhost:8080/",
          "height": 35
        },
        "outputId": "3cbdb20d-2bff-4985-a734-0d0c33045b58"
      },
      "source": [
        "import os\n",
        "os.getcwd()"
      ],
      "execution_count": 15,
      "outputs": [
        {
          "output_type": "execute_result",
          "data": {
            "text/plain": [
              "'/content'"
            ]
          },
          "metadata": {
            "tags": []
          },
          "execution_count": 15
        }
      ]
    },
    {
      "cell_type": "markdown",
      "metadata": {
        "id": "n8h6KEfRxZvn",
        "colab_type": "text"
      },
      "source": [
        "**특정한 path 추가**"
      ]
    },
    {
      "cell_type": "code",
      "metadata": {
        "id": "UUjc2CWXxCq4",
        "colab_type": "code",
        "colab": {}
      },
      "source": [
        "import sys\n",
        "\n",
        "sys.path.append(\"C:/doit/mymod\")"
      ],
      "execution_count": 0,
      "outputs": []
    },
    {
      "cell_type": "code",
      "metadata": {
        "id": "xYIIVgFRxdai",
        "colab_type": "code",
        "colab": {
          "base_uri": "https://localhost:8080/",
          "height": 199
        },
        "outputId": "a340f023-228a-4f10-899c-cddbd5e5a679"
      },
      "source": [
        "sys.path"
      ],
      "execution_count": 17,
      "outputs": [
        {
          "output_type": "execute_result",
          "data": {
            "text/plain": [
              "['',\n",
              " '/env/python',\n",
              " '/usr/lib/python36.zip',\n",
              " '/usr/lib/python3.6',\n",
              " '/usr/lib/python3.6/lib-dynload',\n",
              " '/usr/local/lib/python3.6/dist-packages',\n",
              " '/usr/lib/python3/dist-packages',\n",
              " '/usr/local/lib/python3.6/dist-packages/IPython/extensions',\n",
              " '/root/.ipython',\n",
              " 'C:/doit/mymod']"
            ]
          },
          "metadata": {
            "tags": []
          },
          "execution_count": 17
        }
      ]
    },
    {
      "cell_type": "markdown",
      "metadata": {
        "id": "HTtsMTieqLaB",
        "colab_type": "text"
      },
      "source": [
        "# pickle\n",
        "###객체의 형태를 그대로 유지하면서 파일에 저장하고\n",
        "### 불러올 수 있게 하는 모듈"
      ]
    },
    {
      "cell_type": "code",
      "metadata": {
        "id": "X356OgVBqIQw",
        "colab_type": "code",
        "colab": {}
      },
      "source": [
        "import pickle\n",
        "\n",
        "# 객체 그대로 유지하면서 파일에 저장\n",
        "f = open(\"test.txt\", \"wb\") # 파일 만든다. wb (바이너리 코드로 만듬 dump --> 2진수)\n",
        "data = {1: \"python\", 2: \"you need\"} #딕셔너리로 만듬\n",
        "pickle.dump(data, f) #dump 함수로 f에 쓴다\n",
        "f.close()"
      ],
      "execution_count": 0,
      "outputs": []
    },
    {
      "cell_type": "markdown",
      "metadata": {
        "id": "pU8-Tym9qQkJ",
        "colab_type": "text"
      },
      "source": [
        "**pickle.load를 사용해서 원래 있던 딕셔너리 객체(data) 상태 그대로 불러오기**"
      ]
    },
    {
      "cell_type": "code",
      "metadata": {
        "id": "Zz58Ff24qNn7",
        "colab_type": "code",
        "colab": {
          "base_uri": "https://localhost:8080/",
          "height": 35
        },
        "outputId": "76ee9c37-7979-431b-ee31-3494b88e435c"
      },
      "source": [
        "f = open(\"test.txt\", \"rb\")\n",
        "data = pickle.load(f)\n",
        "f.close()\n",
        "\n",
        "print(data)\n",
        "# pickle 모듈로 어떤 자료형이든 저장하고 불러올 수 있다."
      ],
      "execution_count": 19,
      "outputs": [
        {
          "output_type": "stream",
          "text": [
            "{1: 'python', 2: 'you need'}\n"
          ],
          "name": "stdout"
        }
      ]
    },
    {
      "cell_type": "markdown",
      "metadata": {
        "id": "93qa4EOMqUx5",
        "colab_type": "text"
      },
      "source": [
        "# shutil\n",
        "###파일을 복사해 주는 파이썬 모듈"
      ]
    },
    {
      "cell_type": "code",
      "metadata": {
        "id": "F0UwfyUYqSp0",
        "colab_type": "code",
        "colab": {
          "base_uri": "https://localhost:8080/",
          "height": 35
        },
        "outputId": "7a09e23e-50b8-4c85-fb65-48ea0b8fc43e"
      },
      "source": [
        "import shutil\n",
        "\n",
        "os.system(\"dir\")"
      ],
      "execution_count": 21,
      "outputs": [
        {
          "output_type": "execute_result",
          "data": {
            "text/plain": [
              "0"
            ]
          },
          "metadata": {
            "tags": []
          },
          "execution_count": 21
        }
      ]
    },
    {
      "cell_type": "code",
      "metadata": {
        "id": "RQUXCeRWy0tv",
        "colab_type": "code",
        "colab": {
          "base_uri": "https://localhost:8080/",
          "height": 35
        },
        "outputId": "536a72be-599d-402f-dc64-644d49056e79"
      },
      "source": [
        "shutil.copy(\"test.txt\", \"zest.txt\")"
      ],
      "execution_count": 22,
      "outputs": [
        {
          "output_type": "execute_result",
          "data": {
            "text/plain": [
              "'zest.txt'"
            ]
          },
          "metadata": {
            "tags": []
          },
          "execution_count": 22
        }
      ]
    },
    {
      "cell_type": "code",
      "metadata": {
        "id": "XyQ3_4W6y1We",
        "colab_type": "code",
        "colab": {
          "base_uri": "https://localhost:8080/",
          "height": 35
        },
        "outputId": "e65b8871-b581-4c55-bf4f-8c81fa35411a"
      },
      "source": [
        "os.system(\"dir\")  # 확인"
      ],
      "execution_count": 23,
      "outputs": [
        {
          "output_type": "execute_result",
          "data": {
            "text/plain": [
              "0"
            ]
          },
          "metadata": {
            "tags": []
          },
          "execution_count": 23
        }
      ]
    },
    {
      "cell_type": "markdown",
      "metadata": {
        "id": "rST11f4iqZq5",
        "colab_type": "text"
      },
      "source": [
        "#glob\n",
        "###특정 디렉터리에 있는 파일 이름 모두 확인하는 파이썬 모듈\n",
        "### 디렉터리에 있는 파일들을 리스트로 만들기 - glob(pathname)"
      ]
    },
    {
      "cell_type": "code",
      "metadata": {
        "id": "gXvRPPQ3qYRV",
        "colab_type": "code",
        "colab": {
          "base_uri": "https://localhost:8080/",
          "height": 35
        },
        "outputId": "8d1e355d-104c-4751-cee9-cc2f4bf0962e"
      },
      "source": [
        "import glob\n",
        "\n",
        "glob.glob(\"*.txt\")  # txt 파일 목록 확인\n",
        "# ['test.txt', 'zest.txt']"
      ],
      "execution_count": 24,
      "outputs": [
        {
          "output_type": "execute_result",
          "data": {
            "text/plain": [
              "['test.txt', 'zest.txt']"
            ]
          },
          "metadata": {
            "tags": []
          },
          "execution_count": 24
        }
      ]
    },
    {
      "cell_type": "markdown",
      "metadata": {
        "id": "GocAjGAzqhoY",
        "colab_type": "text"
      },
      "source": [
        "#tempfile\n",
        "### 파일을 임시로 만들어서 사용할 때 유용한 모듈"
      ]
    },
    {
      "cell_type": "code",
      "metadata": {
        "id": "6MyWoAeTqeLo",
        "colab_type": "code",
        "colab": {
          "base_uri": "https://localhost:8080/",
          "height": 35
        },
        "outputId": "6a8d9f15-bcd9-49f6-ee80-d08cf233f6a6"
      },
      "source": [
        "import tempfile\n",
        "\n",
        "filename = tempfile.mktemp()\n",
        "filename"
      ],
      "execution_count": 25,
      "outputs": [
        {
          "output_type": "execute_result",
          "data": {
            "text/plain": [
              "'/tmp/tmpe9a4k4b9'"
            ]
          },
          "metadata": {
            "tags": []
          },
          "execution_count": 25
        }
      ]
    },
    {
      "cell_type": "markdown",
      "metadata": {
        "id": "1FGFbTYXqnCK",
        "colab_type": "text"
      },
      "source": [
        "# tempfile.TemporaryFile()\n",
        "###임시 저장 공간으로 사용할 파일 객체를 돌려준다.\n",
        "### 이 파일은 기본적으로 바이너리 쓰기 모드(wb)를 갖는다.\n",
        "### f.close()가 호출되면 이 파일 객체는 자동으로 사라진다."
      ]
    },
    {
      "cell_type": "markdown",
      "metadata": {
        "id": "yt5LeiXXzKBe",
        "colab_type": "text"
      },
      "source": [
        "**TemporaryFile 을 받고 폴더를 닫아줌**"
      ]
    },
    {
      "cell_type": "code",
      "metadata": {
        "id": "xOoZxbd1qjMr",
        "colab_type": "code",
        "colab": {}
      },
      "source": [
        "import tempfile\n",
        "\n",
        "f = tempfile.TemporaryFile()\n",
        "f.close()"
      ],
      "execution_count": 0,
      "outputs": []
    },
    {
      "cell_type": "markdown",
      "metadata": {
        "id": "lap4r3OwqprI",
        "colab_type": "text"
      },
      "source": [
        "# 시간과 관련된 **time** 모듈"
      ]
    },
    {
      "cell_type": "markdown",
      "metadata": {
        "id": "rn8X9UbFqxIA",
        "colab_type": "text"
      },
      "source": [
        "# time.time()\n",
        "###UTC(Universal Time Coordinated 협정 세계 표준시)를\n",
        "### 사용하여 현재 시간을 실수 형태로 돌려주는 함수이다.\n",
        "### 1970년 1월 1일 0시 0분 0초를 기준으로 지난 시간을 초 단위로 돌려준다."
      ]
    },
    {
      "cell_type": "code",
      "metadata": {
        "id": "NEfGX9PMqopT",
        "colab_type": "code",
        "colab": {
          "base_uri": "https://localhost:8080/",
          "height": 35
        },
        "outputId": "df086bf5-cacb-459a-91e5-f6949df3e959"
      },
      "source": [
        "import time\n",
        "\n",
        "time.time()"
      ],
      "execution_count": 27,
      "outputs": [
        {
          "output_type": "execute_result",
          "data": {
            "text/plain": [
              "1572575442.9483635"
            ]
          },
          "metadata": {
            "tags": []
          },
          "execution_count": 27
        }
      ]
    },
    {
      "cell_type": "markdown",
      "metadata": {
        "id": "eY5h4k2Rzdtz",
        "colab_type": "text"
      },
      "source": [
        "# time.localtime()\n",
        "### time.time()이 돌려준 실수 값을 사용해서\n",
        "### 연도, 월, 일, 시, 분, 초, ... 의 형태로 바꾸어 주는 함수"
      ]
    },
    {
      "cell_type": "code",
      "metadata": {
        "id": "C5BZQjDgqzaq",
        "colab_type": "code",
        "colab": {
          "base_uri": "https://localhost:8080/",
          "height": 35
        },
        "outputId": "3a4276cd-8a4b-4324-ec66-ef4abcc4ea3d"
      },
      "source": [
        "time.localtime(time.time())"
      ],
      "execution_count": 28,
      "outputs": [
        {
          "output_type": "execute_result",
          "data": {
            "text/plain": [
              "time.struct_time(tm_year=2019, tm_mon=11, tm_mday=1, tm_hour=2, tm_min=31, tm_sec=46, tm_wday=4, tm_yday=305, tm_isdst=0)"
            ]
          },
          "metadata": {
            "tags": []
          },
          "execution_count": 28
        }
      ]
    },
    {
      "cell_type": "markdown",
      "metadata": {
        "id": "n1dAuEeozusw",
        "colab_type": "text"
      },
      "source": [
        "# time.asctime\n",
        "### 반환된 튜플 형태의 값을 인수로 받아서\n",
        "### 날짜와 시간을 알아보기 쉬운 형태로 돌려주는 함수"
      ]
    },
    {
      "cell_type": "code",
      "metadata": {
        "id": "T0Gq_3NjzahT",
        "colab_type": "code",
        "colab": {
          "base_uri": "https://localhost:8080/",
          "height": 35
        },
        "outputId": "216a8964-794d-4bce-e36d-073d66260f34"
      },
      "source": [
        "time.asctime(time.localtime(time.time()))"
      ],
      "execution_count": 29,
      "outputs": [
        {
          "output_type": "execute_result",
          "data": {
            "text/plain": [
              "'Fri Nov  1 02:33:01 2019'"
            ]
          },
          "metadata": {
            "tags": []
          },
          "execution_count": 29
        }
      ]
    },
    {
      "cell_type": "markdown",
      "metadata": {
        "id": "0ARFxQc6z4FV",
        "colab_type": "text"
      },
      "source": [
        "# time.ctime\n",
        "# time.asctime(time.localtime(time.time()))은 time.ctime()과 같다.\n",
        "### 현재 시간을 가져옴"
      ]
    },
    {
      "cell_type": "code",
      "metadata": {
        "id": "74Yx2Hb2zw8O",
        "colab_type": "code",
        "colab": {
          "base_uri": "https://localhost:8080/",
          "height": 35
        },
        "outputId": "ad89401c-2516-4b8b-de28-5f84e86536b1"
      },
      "source": [
        "time.ctime()"
      ],
      "execution_count": 30,
      "outputs": [
        {
          "output_type": "execute_result",
          "data": {
            "text/plain": [
              "'Fri Nov  1 02:33:35 2019'"
            ]
          },
          "metadata": {
            "tags": []
          },
          "execution_count": 30
        }
      ]
    },
    {
      "cell_type": "markdown",
      "metadata": {
        "id": "voHF_sTK0HRG",
        "colab_type": "text"
      },
      "source": [
        "**포맷코드\t설명\t예**\n",
        "\n",
        "**%a\t요일 줄임말\tMon**\n",
        "\n",
        "**%A\t요일\tMonday**\n",
        "\n",
        "**%b\t달 줄임말\tJan**\n",
        "\n",
        "**%B\t달\tJanuary**\n",
        "\n",
        "**%c\t날짜와 시간을 출력함\t06/01/01 17:22:21**\n",
        "\n",
        "**%d\t날(day)\t[01,31]**\n",
        "\n",
        "**%H\t시간(hour)-24시간 출력 형태\t[00,23]**\n",
        "\n",
        "**%I\t시간(hour)-12시간 출력 형태\t[01,12]**\n",
        "\n",
        "**%j\t1년 중 누적 날짜\t[001,366]**\n",
        "\n",
        "**%m\t달\t[01,12]**\n",
        "\n",
        "**%M\t분\t[01,59]**\n",
        "\n",
        "**%p\tAM or PM\tAM**\n",
        "\n",
        "**%S\t초\t[00,59]**\n",
        "\n",
        "**%U\t1년 중 누적 주-일요일을 시작으로\t[00,53]**\n",
        "\n",
        "**%w\t숫자로 된 요일\t[0(일요일),6]**\n",
        "\n",
        "**%W\t1년 중 누적 주-월요일을 시작으로\t[00,53]**\n",
        "\n",
        "**%x\t현재 설정된 로케일에 기반한 날짜 출력\t06/01/01**\n",
        "\n",
        "**%X\t현재 설정된 로케일에 기반한 시간 출력\t17:22:21**\n",
        "\n",
        "**%Y\t년도 출력\t2001**\n",
        "\n",
        "**%z\t시간대 출력\t대한민국 표준시**\n",
        "\n",
        "**%y\t세기부분을 제외한 년도 출력\t01**"
      ]
    },
    {
      "cell_type": "code",
      "metadata": {
        "id": "L8HrXnKXz5Fp",
        "colab_type": "code",
        "colab": {
          "base_uri": "https://localhost:8080/",
          "height": 72
        },
        "outputId": "1606ba6b-535a-4deb-f565-2ed284f1e110"
      },
      "source": [
        "import time\n",
        "\n",
        "print(time.strftime(\"%x\", time.localtime(time.time())))\n",
        "\n",
        "print(time.strftime(\"%c\", time.localtime(time.time())))\n",
        "\n",
        "print(time.strftime(\"%z\", time.localtime(time.time())))"
      ],
      "execution_count": 31,
      "outputs": [
        {
          "output_type": "stream",
          "text": [
            "11/01/19\n",
            "Fri Nov  1 02:36:12 2019\n",
            "+0000\n"
          ],
          "name": "stdout"
        }
      ]
    },
    {
      "cell_type": "markdown",
      "metadata": {
        "id": "38wXVWKx0jZ6",
        "colab_type": "text"
      },
      "source": [
        "# time.sleep\n",
        "###주로 루프 안에서 많이 사용한다.\n",
        "### 이 함수를 사용하면 일정한 시간 간격을 두고 루프를 실행"
      ]
    },
    {
      "cell_type": "code",
      "metadata": {
        "id": "tMpSFBlY0cGC",
        "colab_type": "code",
        "colab": {
          "base_uri": "https://localhost:8080/",
          "height": 199
        },
        "outputId": "7827ca3c-42a2-4d9e-a6f1-81c14b121677"
      },
      "source": [
        "import time\n",
        "\n",
        "for i in range(10):\n",
        "    print(i)\n",
        "    time.sleep(1)  # delay = 1 s"
      ],
      "execution_count": 33,
      "outputs": [
        {
          "output_type": "stream",
          "text": [
            "0\n",
            "1\n",
            "2\n",
            "3\n",
            "4\n",
            "5\n",
            "6\n",
            "7\n",
            "8\n",
            "9\n"
          ],
          "name": "stdout"
        }
      ]
    },
    {
      "cell_type": "markdown",
      "metadata": {
        "id": "N2wexXqM0p6v",
        "colab_type": "text"
      },
      "source": [
        "#calendar\n",
        "\n",
        "**파이썬에서 달력을 볼 수 있게 해주는 모듈**"
      ]
    },
    {
      "cell_type": "code",
      "metadata": {
        "id": "3RwOGQ3y0lOq",
        "colab_type": "code",
        "colab": {
          "base_uri": "https://localhost:8080/",
          "height": 672
        },
        "outputId": "36908a60-d684-4923-c798-c072762af430"
      },
      "source": [
        "import calendar\n",
        "\n",
        "print(calendar.calendar(2019))"
      ],
      "execution_count": 35,
      "outputs": [
        {
          "output_type": "stream",
          "text": [
            "                                  2019\n",
            "\n",
            "      January                   February                   March\n",
            "Mo Tu We Th Fr Sa Su      Mo Tu We Th Fr Sa Su      Mo Tu We Th Fr Sa Su\n",
            "    1  2  3  4  5  6                   1  2  3                   1  2  3\n",
            " 7  8  9 10 11 12 13       4  5  6  7  8  9 10       4  5  6  7  8  9 10\n",
            "14 15 16 17 18 19 20      11 12 13 14 15 16 17      11 12 13 14 15 16 17\n",
            "21 22 23 24 25 26 27      18 19 20 21 22 23 24      18 19 20 21 22 23 24\n",
            "28 29 30 31               25 26 27 28               25 26 27 28 29 30 31\n",
            "\n",
            "       April                      May                       June\n",
            "Mo Tu We Th Fr Sa Su      Mo Tu We Th Fr Sa Su      Mo Tu We Th Fr Sa Su\n",
            " 1  2  3  4  5  6  7             1  2  3  4  5                      1  2\n",
            " 8  9 10 11 12 13 14       6  7  8  9 10 11 12       3  4  5  6  7  8  9\n",
            "15 16 17 18 19 20 21      13 14 15 16 17 18 19      10 11 12 13 14 15 16\n",
            "22 23 24 25 26 27 28      20 21 22 23 24 25 26      17 18 19 20 21 22 23\n",
            "29 30                     27 28 29 30 31            24 25 26 27 28 29 30\n",
            "\n",
            "        July                     August                  September\n",
            "Mo Tu We Th Fr Sa Su      Mo Tu We Th Fr Sa Su      Mo Tu We Th Fr Sa Su\n",
            " 1  2  3  4  5  6  7                1  2  3  4                         1\n",
            " 8  9 10 11 12 13 14       5  6  7  8  9 10 11       2  3  4  5  6  7  8\n",
            "15 16 17 18 19 20 21      12 13 14 15 16 17 18       9 10 11 12 13 14 15\n",
            "22 23 24 25 26 27 28      19 20 21 22 23 24 25      16 17 18 19 20 21 22\n",
            "29 30 31                  26 27 28 29 30 31         23 24 25 26 27 28 29\n",
            "                                                    30\n",
            "\n",
            "      October                   November                  December\n",
            "Mo Tu We Th Fr Sa Su      Mo Tu We Th Fr Sa Su      Mo Tu We Th Fr Sa Su\n",
            "    1  2  3  4  5  6                   1  2  3                         1\n",
            " 7  8  9 10 11 12 13       4  5  6  7  8  9 10       2  3  4  5  6  7  8\n",
            "14 15 16 17 18 19 20      11 12 13 14 15 16 17       9 10 11 12 13 14 15\n",
            "21 22 23 24 25 26 27      18 19 20 21 22 23 24      16 17 18 19 20 21 22\n",
            "28 29 30 31               25 26 27 28 29 30         23 24 25 26 27 28 29\n",
            "                                                    30 31\n",
            "\n"
          ],
          "name": "stdout"
        }
      ]
    },
    {
      "cell_type": "code",
      "metadata": {
        "id": "8x1CALH-0zL8",
        "colab_type": "code",
        "colab": {
          "base_uri": "https://localhost:8080/",
          "height": 690
        },
        "outputId": "84fd1c03-55fd-40f5-93ec-678b76cee503"
      },
      "source": [
        "print(calendar.prcal(2019))"
      ],
      "execution_count": 36,
      "outputs": [
        {
          "output_type": "stream",
          "text": [
            "                                  2019\n",
            "\n",
            "      January                   February                   March\n",
            "Mo Tu We Th Fr Sa Su      Mo Tu We Th Fr Sa Su      Mo Tu We Th Fr Sa Su\n",
            "    1  2  3  4  5  6                   1  2  3                   1  2  3\n",
            " 7  8  9 10 11 12 13       4  5  6  7  8  9 10       4  5  6  7  8  9 10\n",
            "14 15 16 17 18 19 20      11 12 13 14 15 16 17      11 12 13 14 15 16 17\n",
            "21 22 23 24 25 26 27      18 19 20 21 22 23 24      18 19 20 21 22 23 24\n",
            "28 29 30 31               25 26 27 28               25 26 27 28 29 30 31\n",
            "\n",
            "       April                      May                       June\n",
            "Mo Tu We Th Fr Sa Su      Mo Tu We Th Fr Sa Su      Mo Tu We Th Fr Sa Su\n",
            " 1  2  3  4  5  6  7             1  2  3  4  5                      1  2\n",
            " 8  9 10 11 12 13 14       6  7  8  9 10 11 12       3  4  5  6  7  8  9\n",
            "15 16 17 18 19 20 21      13 14 15 16 17 18 19      10 11 12 13 14 15 16\n",
            "22 23 24 25 26 27 28      20 21 22 23 24 25 26      17 18 19 20 21 22 23\n",
            "29 30                     27 28 29 30 31            24 25 26 27 28 29 30\n",
            "\n",
            "        July                     August                  September\n",
            "Mo Tu We Th Fr Sa Su      Mo Tu We Th Fr Sa Su      Mo Tu We Th Fr Sa Su\n",
            " 1  2  3  4  5  6  7                1  2  3  4                         1\n",
            " 8  9 10 11 12 13 14       5  6  7  8  9 10 11       2  3  4  5  6  7  8\n",
            "15 16 17 18 19 20 21      12 13 14 15 16 17 18       9 10 11 12 13 14 15\n",
            "22 23 24 25 26 27 28      19 20 21 22 23 24 25      16 17 18 19 20 21 22\n",
            "29 30 31                  26 27 28 29 30 31         23 24 25 26 27 28 29\n",
            "                                                    30\n",
            "\n",
            "      October                   November                  December\n",
            "Mo Tu We Th Fr Sa Su      Mo Tu We Th Fr Sa Su      Mo Tu We Th Fr Sa Su\n",
            "    1  2  3  4  5  6                   1  2  3                         1\n",
            " 7  8  9 10 11 12 13       4  5  6  7  8  9 10       2  3  4  5  6  7  8\n",
            "14 15 16 17 18 19 20      11 12 13 14 15 16 17       9 10 11 12 13 14 15\n",
            "21 22 23 24 25 26 27      18 19 20 21 22 23 24      16 17 18 19 20 21 22\n",
            "28 29 30 31               25 26 27 28 29 30         23 24 25 26 27 28 29\n",
            "                                                    30 31\n",
            "\n",
            "None\n"
          ],
          "name": "stdout"
        }
      ]
    },
    {
      "cell_type": "code",
      "metadata": {
        "id": "EuSGavDV01Vj",
        "colab_type": "code",
        "colab": {
          "base_uri": "https://localhost:8080/",
          "height": 163
        },
        "outputId": "657308d1-749e-4c97-ef40-33420e80b319"
      },
      "source": [
        "print(calendar.prmonth(2019, 11))"
      ],
      "execution_count": 37,
      "outputs": [
        {
          "output_type": "stream",
          "text": [
            "   November 2019\n",
            "Mo Tu We Th Fr Sa Su\n",
            "             1  2  3\n",
            " 4  5  6  7  8  9 10\n",
            "11 12 13 14 15 16 17\n",
            "18 19 20 21 22 23 24\n",
            "25 26 27 28 29 30\n",
            "None\n"
          ],
          "name": "stdout"
        }
      ]
    },
    {
      "cell_type": "markdown",
      "metadata": {
        "id": "s20Y3pMy06_W",
        "colab_type": "text"
      },
      "source": [
        "# calendar.weekday\n",
        "### weekday(연도, 월, 일) 함수는 그 날짜에 해당하는 요일 정보를 돌려준다.\n",
        "### 월요일은 0, 화요일은 1, 수요일은 2, 목요일은 3, 금요일은 4,\n",
        "### 토요일은 5, 일요일은 6이라는 값을 돌려준다."
      ]
    },
    {
      "cell_type": "code",
      "metadata": {
        "id": "Q_ud1yYP0vwQ",
        "colab_type": "code",
        "colab": {
          "base_uri": "https://localhost:8080/",
          "height": 35
        },
        "outputId": "15c93794-9ac4-424d-ae4e-67cb0dd2c80e"
      },
      "source": [
        "calendar.weekday(2019, 12, 25)"
      ],
      "execution_count": 38,
      "outputs": [
        {
          "output_type": "execute_result",
          "data": {
            "text/plain": [
              "2"
            ]
          },
          "metadata": {
            "tags": []
          },
          "execution_count": 38
        }
      ]
    },
    {
      "cell_type": "markdown",
      "metadata": {
        "id": "sTAczyQR0_8s",
        "colab_type": "text"
      },
      "source": [
        "# calendar.monthrange\n",
        "### 입력받은 달의 1일이 무슨 요일인지와\n",
        "### 그 달이 며칠까지 있는지를 튜플 형태로 돌려준다."
      ]
    },
    {
      "cell_type": "code",
      "metadata": {
        "id": "6T1Ts1Vf08QA",
        "colab_type": "code",
        "colab": {
          "base_uri": "https://localhost:8080/",
          "height": 35
        },
        "outputId": "42a734c8-0881-4e90-ebee-30705961e278"
      },
      "source": [
        "calendar.monthrange(2019, 12)"
      ],
      "execution_count": 39,
      "outputs": [
        {
          "output_type": "execute_result",
          "data": {
            "text/plain": [
              "(6, 31)"
            ]
          },
          "metadata": {
            "tags": []
          },
          "execution_count": 39
        }
      ]
    },
    {
      "cell_type": "markdown",
      "metadata": {
        "id": "_Pqofpz51CcE",
        "colab_type": "text"
      },
      "source": [
        "#random\n",
        "\n",
        "### 난수(규칙이 없는 임의의 수)를 발생시키는 모듈\n",
        "### 마구잡이 수 발생\n",
        "### random(), randint()"
      ]
    },
    {
      "cell_type": "code",
      "metadata": {
        "id": "6HkMuTJn1BA5",
        "colab_type": "code",
        "colab": {
          "base_uri": "https://localhost:8080/",
          "height": 35
        },
        "outputId": "c13147d7-d9fd-4641-bbb7-5305af66b67e"
      },
      "source": [
        "import random\n",
        "\n",
        "# random() : 0.0에서 1.0 사이의 실수 중에서 난수 값을 생성\n",
        "random.random()"
      ],
      "execution_count": 40,
      "outputs": [
        {
          "output_type": "execute_result",
          "data": {
            "text/plain": [
              "0.7028534887436535"
            ]
          },
          "metadata": {
            "tags": []
          },
          "execution_count": 40
        }
      ]
    },
    {
      "cell_type": "code",
      "metadata": {
        "id": "b9yjPo1_1NK6",
        "colab_type": "code",
        "colab": {
          "base_uri": "https://localhost:8080/",
          "height": 35
        },
        "outputId": "fcc88bed-e72c-4249-f9c0-d054e7aacf50"
      },
      "source": [
        "# randint(start, end) : start에서 end 사이의 정수 중에서 난수 값을 생성\n",
        "random.randint(1, 10)"
      ],
      "execution_count": 41,
      "outputs": [
        {
          "output_type": "execute_result",
          "data": {
            "text/plain": [
              "9"
            ]
          },
          "metadata": {
            "tags": []
          },
          "execution_count": 41
        }
      ]
    },
    {
      "cell_type": "code",
      "metadata": {
        "id": "vl6cc7361OgA",
        "colab_type": "code",
        "colab": {
          "base_uri": "https://localhost:8080/",
          "height": 35
        },
        "outputId": "7811900e-58ee-4bd4-a557-248483d0e16f"
      },
      "source": [
        "for i in range(6):\n",
        "    print(random.randint(1, 45), end=\",\")\n",
        "\n",
        "print()"
      ],
      "execution_count": 42,
      "outputs": [
        {
          "output_type": "stream",
          "text": [
            "14,42,10,37,13,38,\n"
          ],
          "name": "stdout"
        }
      ]
    },
    {
      "cell_type": "markdown",
      "metadata": {
        "id": "yXdH2blr1U2G",
        "colab_type": "text"
      },
      "source": [
        "**random 모듈을 사용해서 재미있는 함수**"
      ]
    },
    {
      "cell_type": "code",
      "metadata": {
        "id": "ahUOGbDX1QPY",
        "colab_type": "code",
        "colab": {
          "base_uri": "https://localhost:8080/",
          "height": 35
        },
        "outputId": "2b4d6ad9-88b9-4dc6-f297-e4a97a5f1768"
      },
      "source": [
        "import random\n",
        "\n",
        "\n",
        "def random_pop(data):\n",
        "    number = random.randint(0, len(data) - 1)\n",
        "    return data.pop(number)\n",
        "\n",
        "\n",
        "if __name__ == \"__main__\": #파이썬 명령어에서 직접 실행할 떄 필요\n",
        "    data = list(range(1, 10)) \n",
        "    while data:\n",
        "        print(random_pop(data), end=\" \")\n",
        "    print()"
      ],
      "execution_count": 43,
      "outputs": [
        {
          "output_type": "stream",
          "text": [
            "2 5 8 6 3 1 7 4 9 \n"
          ],
          "name": "stdout"
        }
      ]
    },
    {
      "cell_type": "markdown",
      "metadata": {
        "id": "3AwjkRt611-H",
        "colab_type": "text"
      },
      "source": [
        "##random 모듈의 choice 함수를 사용"
      ]
    },
    {
      "cell_type": "code",
      "metadata": {
        "id": "qlImZSiR1YsF",
        "colab_type": "code",
        "colab": {
          "base_uri": "https://localhost:8080/",
          "height": 35
        },
        "outputId": "5b22185e-d85e-4221-934b-ff0ecd9fdb46"
      },
      "source": [
        "def random_pop(data):\n",
        "    number = random.choice(data)\n",
        "    data.remove(number)\n",
        "    return number\n",
        "\n",
        "print(random_pop([1, 2, 3, 4, 5]))"
      ],
      "execution_count": 48,
      "outputs": [
        {
          "output_type": "stream",
          "text": [
            "3\n"
          ],
          "name": "stdout"
        }
      ]
    },
    {
      "cell_type": "code",
      "metadata": {
        "id": "IZ9jZzE_17XV",
        "colab_type": "code",
        "colab": {
          "base_uri": "https://localhost:8080/",
          "height": 35
        },
        "outputId": "b4b1f7de-8b2f-4437-a94e-beb511c87224"
      },
      "source": [
        "\n",
        "\n",
        "if __name__ == \"__main__\":\n",
        "    data = list(range(1, 10)) \n",
        "    while data:\n",
        "        print(random_pop(data), end=\" \")\n",
        "    print()"
      ],
      "execution_count": 49,
      "outputs": [
        {
          "output_type": "stream",
          "text": [
            "9 7 2 5 3 8 6 1 4 \n"
          ],
          "name": "stdout"
        }
      ]
    },
    {
      "cell_type": "markdown",
      "metadata": {
        "id": "DV6wBg_22TKd",
        "colab_type": "text"
      },
      "source": [
        "if __name__ == '__main__':\n",
        "\t\n",
        "  print 'This program is being run by itself' **메인으로 실행 될 경우**\n",
        "\n",
        "else:\n",
        "\n",
        "\tprint 'I am being imported from another module' **모듈로 실행 될 경우**"
      ]
    },
    {
      "cell_type": "markdown",
      "metadata": {
        "id": "F1y8m5v32drk",
        "colab_type": "text"
      },
      "source": [
        "### 리스트의 항목을 무작위로 섞고 싶을 때는 random.shuffle 함수를 사용"
      ]
    },
    {
      "cell_type": "code",
      "metadata": {
        "id": "8XbMWj9E1_Ss",
        "colab_type": "code",
        "colab": {
          "base_uri": "https://localhost:8080/",
          "height": 35
        },
        "outputId": "3e4b4757-3f79-4ca8-c225-929a2092d12b"
      },
      "source": [
        "import random\n",
        "\n",
        "data = [1, 2, 3, 4, 5]\n",
        "random.shuffle(data)\n",
        "data"
      ],
      "execution_count": 50,
      "outputs": [
        {
          "output_type": "execute_result",
          "data": {
            "text/plain": [
              "[4, 5, 1, 2, 3]"
            ]
          },
          "metadata": {
            "tags": []
          },
          "execution_count": 50
        }
      ]
    },
    {
      "cell_type": "markdown",
      "metadata": {
        "id": "ku2m88F32kY5",
        "colab_type": "text"
      },
      "source": [
        "# webbrowser \n",
        "###자신의 시스템에서 사용하는 기본 웹 브라우저를\n",
        "### 자동으로 실행하는 모듈"
      ]
    },
    {
      "cell_type": "code",
      "metadata": {
        "id": "7gJNZ2tB2flp",
        "colab_type": "code",
        "colab": {
          "base_uri": "https://localhost:8080/",
          "height": 35
        },
        "outputId": "89847bfc-47a9-4368-8cd1-21d483604d3d"
      },
      "source": [
        "import webbrowser\n",
        "\n",
        "webbrowser.open(\"http://google.com\")"
      ],
      "execution_count": 51,
      "outputs": [
        {
          "output_type": "execute_result",
          "data": {
            "text/plain": [
              "False"
            ]
          },
          "metadata": {
            "tags": []
          },
          "execution_count": 51
        }
      ]
    },
    {
      "cell_type": "code",
      "metadata": {
        "id": "tREbEtXN2qko",
        "colab_type": "code",
        "colab": {
          "base_uri": "https://localhost:8080/",
          "height": 35
        },
        "outputId": "4033cfc1-5bcf-49e7-bbd2-315fdcd20474"
      },
      "source": [
        "# 새로운 창/탭으로 열기\n",
        "webbrowser.open_new(\"http://google.com\")"
      ],
      "execution_count": 52,
      "outputs": [
        {
          "output_type": "execute_result",
          "data": {
            "text/plain": [
              "False"
            ]
          },
          "metadata": {
            "tags": []
          },
          "execution_count": 52
        }
      ]
    },
    {
      "cell_type": "markdown",
      "metadata": {
        "id": "RDcXSkxH2tht",
        "colab_type": "text"
      },
      "source": [
        "#**colab 에서는 창을 열 수 없다.**"
      ]
    }
  ]
}