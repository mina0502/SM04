{
  "nbformat": 4,
  "nbformat_minor": 0,
  "metadata": {
    "colab": {
      "name": "ch5_02_module.ipynb",
      "provenance": [],
      "collapsed_sections": [],
      "toc_visible": true,
      "include_colab_link": true
    },
    "kernelspec": {
      "name": "python3",
      "display_name": "Python 3"
    }
  },
  "cells": [
    {
      "cell_type": "markdown",
      "metadata": {
        "id": "view-in-github",
        "colab_type": "text"
      },
      "source": [
        "<a href=\"https://colab.research.google.com/github/mina0502/SM04/blob/master/ch05/ch5_02_module.ipynb\" target=\"_parent\"><img src=\"https://colab.research.google.com/assets/colab-badge.svg\" alt=\"Open In Colab\"/></a>"
      ]
    },
    {
      "cell_type": "markdown",
      "metadata": {
        "id": "FwTgQmpRfx_t",
        "colab_type": "text"
      },
      "source": [
        "#모듈이란 함수나 변수 또는 클래스를 모아 놓은 파이썬 파일"
      ]
    },
    {
      "cell_type": "markdown",
      "metadata": {
        "id": "T1EnCo0vf019",
        "colab_type": "text"
      },
      "source": [
        "##모듈 만들기"
      ]
    },
    {
      "cell_type": "markdown",
      "metadata": {
        "id": "lnPclQIWgPrc",
        "colab_type": "text"
      },
      "source": [
        "##모듈 불러오기\n",
        "\n",
        "**import 모듈명**\n",
        "\n",
        "**import는 이미 만들어 놓은 파이썬 모듈을 사용할 수 있게 해주는 명령어**\n"
      ]
    },
    {
      "cell_type": "code",
      "metadata": {
        "id": "buMKmyMof5wx",
        "colab_type": "code",
        "colab": {}
      },
      "source": [
        "import mod1"
      ],
      "execution_count": 0,
      "outputs": []
    },
    {
      "cell_type": "code",
      "metadata": {
        "id": "sfLiNfA3hRAD",
        "colab_type": "code",
        "colab": {
          "base_uri": "https://localhost:8080/",
          "height": 53
        },
        "outputId": "090ca137-25f6-499c-9945-6d0b33144521"
      },
      "source": [
        "print(mod1.add(3, 4))\n",
        "\n",
        "print(mod1.sub(7, 2))"
      ],
      "execution_count": 3,
      "outputs": [
        {
          "output_type": "stream",
          "text": [
            "7\n",
            "5\n"
          ],
          "name": "stdout"
        }
      ]
    },
    {
      "cell_type": "markdown",
      "metadata": {
        "id": "1DGiXGeAhav2",
        "colab_type": "text"
      },
      "source": [
        "**모듈 내부 함수 이용**\n",
        "\n",
        "**from 모듈이름 import 모듈함수**\n",
        "\n",
        "**함수이름으로 바로 부를 수 있다.**"
      ]
    },
    {
      "cell_type": "code",
      "metadata": {
        "id": "8M0w_teohTMF",
        "colab_type": "code",
        "colab": {
          "base_uri": "https://localhost:8080/",
          "height": 35
        },
        "outputId": "9b8140d1-3a4d-4d2d-a0bd-e2a4f4f5fa42"
      },
      "source": [
        "from mod1 import add\n",
        "add(3, 4)"
      ],
      "execution_count": 4,
      "outputs": [
        {
          "output_type": "execute_result",
          "data": {
            "text/plain": [
              "7"
            ]
          },
          "metadata": {
            "tags": []
          },
          "execution_count": 4
        }
      ]
    },
    {
      "cell_type": "code",
      "metadata": {
        "id": "MjHo8GNfhiDF",
        "colab_type": "code",
        "colab": {
          "base_uri": "https://localhost:8080/",
          "height": 53
        },
        "outputId": "d5079560-e077-4185-e4b8-7475238a25d4"
      },
      "source": [
        "from mod1 import *\n",
        "\n",
        "print(add(3, 4))\n",
        "sub(7, 3)"
      ],
      "execution_count": 5,
      "outputs": [
        {
          "output_type": "stream",
          "text": [
            "7\n"
          ],
          "name": "stdout"
        },
        {
          "output_type": "execute_result",
          "data": {
            "text/plain": [
              "4"
            ]
          },
          "metadata": {
            "tags": []
          },
          "execution_count": 5
        }
      ]
    },
    {
      "cell_type": "markdown",
      "metadata": {
        "id": "urpfI8NziATq",
        "colab_type": "text"
      },
      "source": [
        "#if __name__ == \"__main__ 의미\n",
        "\n",
        "**__main__ 넣을 수 있음**\n",
        "\n",
        "**import 모듈명**\n",
        "\n",
        "**import는 이미 만들어 놓은 파이썬 모듈을**\n",
        "\n",
        "**사용할 수 있게 해주는 명령어**"
      ]
    },
    {
      "cell_type": "markdown",
      "metadata": {
        "id": "IP-LDwrfjdJZ",
        "colab_type": "text"
      },
      "source": [
        "**mod1 바로 출력된다**\n",
        "\n",
        "**mod1 ==> print**"
      ]
    },
    {
      "cell_type": "code",
      "metadata": {
        "id": "hxLhxcCph3ZJ",
        "colab_type": "code",
        "colab": {
          "base_uri": "https://localhost:8080/",
          "height": 35
        },
        "outputId": "9a350791-4b15-4f66-d249-db720ba0624b"
      },
      "source": [
        "import mod1\n",
        "print(__name__)"
      ],
      "execution_count": 8,
      "outputs": [
        {
          "output_type": "stream",
          "text": [
            "__main__\n"
          ],
          "name": "stdout"
        }
      ]
    },
    {
      "cell_type": "markdown",
      "metadata": {
        "id": "RTCsQhjGjg7O",
        "colab_type": "text"
      },
      "source": [
        "**mod2==> __main__에 걸려있음**\n",
        "\n",
        "**모듈을 직접 실행할 경우 실행되지만 셀에서는 mod2를 메인으로 실행시킨것이 아님**"
      ]
    },
    {
      "cell_type": "code",
      "metadata": {
        "id": "sfnqVGyXiWcw",
        "colab_type": "code",
        "colab": {
          "base_uri": "https://localhost:8080/",
          "height": 35
        },
        "outputId": "ebc1783a-cc4d-4317-d08c-240457bd1993"
      },
      "source": [
        "import mod2\n",
        "print(__name__)"
      ],
      "execution_count": 9,
      "outputs": [
        {
          "output_type": "stream",
          "text": [
            "__main__\n"
          ],
          "name": "stdout"
        }
      ]
    },
    {
      "cell_type": "markdown",
      "metadata": {
        "id": "mbFxd5Cvky9c",
        "colab_type": "text"
      },
      "source": [
        "**if __name__ == \"__main__\"을 사용하면 C:\\doit>python mod1.py처럼**\n",
        "\n",
        "**직접 이 파일을 실행했을 때는 __name__ == \"__main__\"이 참이 되어** \n",
        "\n",
        "**if문 다음 문장이 수행된다.**\n",
        "\n",
        "**반대로 대화형 인터프리터나 다른 파일에서 이 모듈을 불러서 사용할 때는**\n",
        "\n",
        "**__name__ == \"__main__\"이 거짓이 되어 if문 다음 문장이 수행되지 않는다.**"
      ]
    }
  ]
}