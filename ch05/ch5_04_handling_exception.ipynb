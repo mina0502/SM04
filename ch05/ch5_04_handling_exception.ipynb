{
  "nbformat": 4,
  "nbformat_minor": 0,
  "metadata": {
    "colab": {
      "name": "ch5_04_handling_exception.ipynb",
      "provenance": [],
      "collapsed_sections": [],
      "toc_visible": true,
      "include_colab_link": true
    },
    "kernelspec": {
      "name": "python3",
      "display_name": "Python 3"
    }
  },
  "cells": [
    {
      "cell_type": "markdown",
      "metadata": {
        "id": "view-in-github",
        "colab_type": "text"
      },
      "source": [
        "<a href=\"https://colab.research.google.com/github/mina0502/SM04/blob/master/ch05/ch5_04_handling_exception.ipynb\" target=\"_parent\"><img src=\"https://colab.research.google.com/assets/colab-badge.svg\" alt=\"Open In Colab\"/></a>"
      ]
    },
    {
      "cell_type": "markdown",
      "metadata": {
        "id": "INW8mCgnrBd9",
        "colab_type": "text"
      },
      "source": [
        "##예외 처리\n",
        "\n",
        "**빈번히 발생하는 오류를 처리**\n",
        "\n",
        "**try, except, finally 를 사용**"
      ]
    },
    {
      "cell_type": "markdown",
      "metadata": {
        "id": "AZflmeqBrJJx",
        "colab_type": "text"
      },
      "source": [
        "#오류가 발생하는 사례"
      ]
    },
    {
      "cell_type": "code",
      "metadata": {
        "id": "A2e10P1Kq8df",
        "colab_type": "code",
        "colab": {
          "base_uri": "https://localhost:8080/",
          "height": 172
        },
        "outputId": "b17020f8-25f8-4e51-d587-3778b120d6d2"
      },
      "source": [
        "f = open(\"나없는파일\", 'r')"
      ],
      "execution_count": 1,
      "outputs": [
        {
          "output_type": "error",
          "ename": "FileNotFoundError",
          "evalue": "ignored",
          "traceback": [
            "\u001b[0;31m---------------------------------------------------------------------------\u001b[0m",
            "\u001b[0;31mFileNotFoundError\u001b[0m                         Traceback (most recent call last)",
            "\u001b[0;32m<ipython-input-1-9c14a73c8317>\u001b[0m in \u001b[0;36m<module>\u001b[0;34m()\u001b[0m\n\u001b[0;32m----> 1\u001b[0;31m \u001b[0mf\u001b[0m \u001b[0;34m=\u001b[0m \u001b[0mopen\u001b[0m\u001b[0;34m(\u001b[0m\u001b[0;34m\"나없는파일\"\u001b[0m\u001b[0;34m,\u001b[0m \u001b[0;34m'r'\u001b[0m\u001b[0;34m)\u001b[0m\u001b[0;34m\u001b[0m\u001b[0;34m\u001b[0m\u001b[0m\n\u001b[0m",
            "\u001b[0;31mFileNotFoundError\u001b[0m: [Errno 2] No such file or directory: '나없는파일'"
          ]
        }
      ]
    },
    {
      "cell_type": "code",
      "metadata": {
        "id": "LHd3bRWqrLEz",
        "colab_type": "code",
        "colab": {
          "base_uri": "https://localhost:8080/",
          "height": 172
        },
        "outputId": "d91d6b87-c64c-4e14-f796-9aa686417864"
      },
      "source": [
        "4 / 0"
      ],
      "execution_count": 2,
      "outputs": [
        {
          "output_type": "error",
          "ename": "ZeroDivisionError",
          "evalue": "ignored",
          "traceback": [
            "\u001b[0;31m---------------------------------------------------------------------------\u001b[0m",
            "\u001b[0;31mZeroDivisionError\u001b[0m                         Traceback (most recent call last)",
            "\u001b[0;32m<ipython-input-2-87ac9c94a8c2>\u001b[0m in \u001b[0;36m<module>\u001b[0;34m()\u001b[0m\n\u001b[0;32m----> 1\u001b[0;31m \u001b[0;36m4\u001b[0m \u001b[0;34m/\u001b[0m \u001b[0;36m0\u001b[0m\u001b[0;34m\u001b[0m\u001b[0;34m\u001b[0m\u001b[0m\n\u001b[0m",
            "\u001b[0;31mZeroDivisionError\u001b[0m: division by zero"
          ]
        }
      ]
    },
    {
      "cell_type": "code",
      "metadata": {
        "id": "4on6a7MQrRTl",
        "colab_type": "code",
        "colab": {
          "base_uri": "https://localhost:8080/",
          "height": 208
        },
        "outputId": "f28ad6d2-6c51-4238-b348-eecf560d2152"
      },
      "source": [
        "a = [1,2,3]\n",
        "\n",
        "a[3]  # IndexError:"
      ],
      "execution_count": 3,
      "outputs": [
        {
          "output_type": "error",
          "ename": "IndexError",
          "evalue": "ignored",
          "traceback": [
            "\u001b[0;31m---------------------------------------------------------------------------\u001b[0m",
            "\u001b[0;31mIndexError\u001b[0m                                Traceback (most recent call last)",
            "\u001b[0;32m<ipython-input-3-3b9abf7d58f6>\u001b[0m in \u001b[0;36m<module>\u001b[0;34m()\u001b[0m\n\u001b[1;32m      1\u001b[0m \u001b[0ma\u001b[0m \u001b[0;34m=\u001b[0m \u001b[0;34m[\u001b[0m\u001b[0;36m1\u001b[0m\u001b[0;34m,\u001b[0m\u001b[0;36m2\u001b[0m\u001b[0;34m,\u001b[0m\u001b[0;36m3\u001b[0m\u001b[0;34m]\u001b[0m\u001b[0;34m\u001b[0m\u001b[0;34m\u001b[0m\u001b[0m\n\u001b[1;32m      2\u001b[0m \u001b[0;34m\u001b[0m\u001b[0m\n\u001b[0;32m----> 3\u001b[0;31m \u001b[0ma\u001b[0m\u001b[0;34m[\u001b[0m\u001b[0;36m3\u001b[0m\u001b[0;34m]\u001b[0m  \u001b[0;31m# IndexError:\u001b[0m\u001b[0;34m\u001b[0m\u001b[0;34m\u001b[0m\u001b[0m\n\u001b[0m",
            "\u001b[0;31mIndexError\u001b[0m: list index out of range"
          ]
        }
      ]
    },
    {
      "cell_type": "markdown",
      "metadata": {
        "id": "bTqhtIOFrb10",
        "colab_type": "text"
      },
      "source": [
        "#오류 예외 처리 기법\n",
        "\n",
        "**try, except문**"
      ]
    },
    {
      "cell_type": "markdown",
      "metadata": {
        "id": "W218y_lbroVk",
        "colab_type": "text"
      },
      "source": [
        " **ZeroDivisionError:**"
      ]
    },
    {
      "cell_type": "code",
      "metadata": {
        "id": "VURoI6X4rTQq",
        "colab_type": "code",
        "colab": {
          "base_uri": "https://localhost:8080/",
          "height": 35
        },
        "outputId": "4e5e433b-bb34-416c-f4a3-915c5ed1e8ac"
      },
      "source": [
        "try:\n",
        "    4 / 0\n",
        "except ZeroDivisionError as e:\n",
        "    print(e)"
      ],
      "execution_count": 4,
      "outputs": [
        {
          "output_type": "stream",
          "text": [
            "division by zero\n"
          ],
          "name": "stdout"
        }
      ]
    },
    {
      "cell_type": "markdown",
      "metadata": {
        "id": "REZnIB3grvLM",
        "colab_type": "text"
      },
      "source": [
        "**IndexError:**"
      ]
    },
    {
      "cell_type": "code",
      "metadata": {
        "id": "HziRzvKprnuw",
        "colab_type": "code",
        "colab": {
          "base_uri": "https://localhost:8080/",
          "height": 35
        },
        "outputId": "10c016c3-3863-441b-ae09-2bc06a7f497c"
      },
      "source": [
        "a = [1, 2, 3]\n",
        "try:\n",
        "    a[3]\n",
        "except IndexError as e:\n",
        "    print(e)"
      ],
      "execution_count": 5,
      "outputs": [
        {
          "output_type": "stream",
          "text": [
            "list index out of range\n"
          ],
          "name": "stdout"
        }
      ]
    },
    {
      "cell_type": "markdown",
      "metadata": {
        "id": "xsySlpiqsD4n",
        "colab_type": "text"
      },
      "source": [
        "**에러 처리 안된다**"
      ]
    },
    {
      "cell_type": "code",
      "metadata": {
        "id": "LeifYIjdr8D1",
        "colab_type": "code",
        "colab": {
          "base_uri": "https://localhost:8080/",
          "height": 244
        },
        "outputId": "b74cc0a3-8b80-4698-c804-fd46c55c90a8"
      },
      "source": [
        "a = [1, 2, 3]\n",
        "try:\n",
        "    a[3]\n",
        "except ZeroDivisionError as e:\n",
        "    print(e)"
      ],
      "execution_count": 6,
      "outputs": [
        {
          "output_type": "error",
          "ename": "IndexError",
          "evalue": "ignored",
          "traceback": [
            "\u001b[0;31m---------------------------------------------------------------------------\u001b[0m",
            "\u001b[0;31mIndexError\u001b[0m                                Traceback (most recent call last)",
            "\u001b[0;32m<ipython-input-6-b6fa3997ba9e>\u001b[0m in \u001b[0;36m<module>\u001b[0;34m()\u001b[0m\n\u001b[1;32m      1\u001b[0m \u001b[0ma\u001b[0m \u001b[0;34m=\u001b[0m \u001b[0;34m[\u001b[0m\u001b[0;36m1\u001b[0m\u001b[0;34m,\u001b[0m \u001b[0;36m2\u001b[0m\u001b[0;34m,\u001b[0m \u001b[0;36m3\u001b[0m\u001b[0;34m]\u001b[0m\u001b[0;34m\u001b[0m\u001b[0;34m\u001b[0m\u001b[0m\n\u001b[1;32m      2\u001b[0m \u001b[0;32mtry\u001b[0m\u001b[0;34m:\u001b[0m\u001b[0;34m\u001b[0m\u001b[0;34m\u001b[0m\u001b[0m\n\u001b[0;32m----> 3\u001b[0;31m     \u001b[0ma\u001b[0m\u001b[0;34m[\u001b[0m\u001b[0;36m3\u001b[0m\u001b[0;34m]\u001b[0m\u001b[0;34m\u001b[0m\u001b[0;34m\u001b[0m\u001b[0m\n\u001b[0m\u001b[1;32m      4\u001b[0m \u001b[0;32mexcept\u001b[0m \u001b[0mZeroDivisionError\u001b[0m \u001b[0;32mas\u001b[0m \u001b[0me\u001b[0m\u001b[0;34m:\u001b[0m\u001b[0;34m\u001b[0m\u001b[0;34m\u001b[0m\u001b[0m\n\u001b[1;32m      5\u001b[0m     \u001b[0mprint\u001b[0m\u001b[0;34m(\u001b[0m\u001b[0me\u001b[0m\u001b[0;34m)\u001b[0m\u001b[0;34m\u001b[0m\u001b[0;34m\u001b[0m\u001b[0m\n",
            "\u001b[0;31mIndexError\u001b[0m: list index out of range"
          ]
        }
      ]
    },
    {
      "cell_type": "markdown",
      "metadata": {
        "id": "6du6NoPTsS7m",
        "colab_type": "text"
      },
      "source": [
        "##try, finally문\n",
        "\n",
        "**try문에는 finally절을 사용할 수 있다.**\n",
        "\n",
        "**finally절은 try문 수행 도중 예외 발생 여부에 상관없이 항상 수행**"
      ]
    },
    {
      "cell_type": "code",
      "metadata": {
        "id": "v4uhtofYrtre",
        "colab_type": "code",
        "colab": {}
      },
      "source": [
        "try:\n",
        "    f = open('goo.txt', 'w')\n",
        "finally:\n",
        "    f.close()"
      ],
      "execution_count": 0,
      "outputs": []
    },
    {
      "cell_type": "markdown",
      "metadata": {
        "id": "90o8cNXRsyJk",
        "colab_type": "text"
      },
      "source": [
        "##여러개의 오류처리하기\n",
        "\n",
        "**try문 안에서 여러 개의 오류를 처리하는 방법**"
      ]
    },
    {
      "cell_type": "markdown",
      "metadata": {
        "id": "BIHHY9ivtCiE",
        "colab_type": "text"
      },
      "source": [
        "**인덱싱 오류**"
      ]
    },
    {
      "cell_type": "code",
      "metadata": {
        "id": "i4xxv9GrsYan",
        "colab_type": "code",
        "colab": {
          "base_uri": "https://localhost:8080/",
          "height": 35
        },
        "outputId": "6a757038-6614-46c0-d16b-3e791fe4d4c7"
      },
      "source": [
        "try:\n",
        "    a = [1,2]\n",
        "    print(a[2])\n",
        "    4/0\n",
        "except ZeroDivisionError:\n",
        "    print(\"0으로 나눌 수 없습니다.\")\n",
        "except IndexError:\n",
        "    print(\"인덱싱 할 수 없습니다.\")"
      ],
      "execution_count": 8,
      "outputs": [
        {
          "output_type": "stream",
          "text": [
            "인덱싱 할 수 없습니다.\n"
          ],
          "name": "stdout"
        }
      ]
    },
    {
      "cell_type": "code",
      "metadata": {
        "id": "36QyWY4bs4Kn",
        "colab_type": "code",
        "colab": {
          "base_uri": "https://localhost:8080/",
          "height": 35
        },
        "outputId": "e06ff0d0-9e51-4032-8a0c-622fd44f3fd9"
      },
      "source": [
        "try:\n",
        "    a = [1,2]\n",
        "    print(a[3])\n",
        "    4/0\n",
        "except ZeroDivisionError as e:\n",
        "    print(e)\n",
        "except IndexError as e:\n",
        "    print(e)"
      ],
      "execution_count": 9,
      "outputs": [
        {
          "output_type": "stream",
          "text": [
            "list index out of range\n"
          ],
          "name": "stdout"
        }
      ]
    },
    {
      "cell_type": "markdown",
      "metadata": {
        "id": "k0sYnpG3tX-U",
        "colab_type": "text"
      },
      "source": [
        "##2개 이상의 오류를 동시에 처리\n",
        "\n",
        "**발생하는 에러 튜플로 처리**\n",
        "\n",
        "**==> 에러가 발생한 이후 에러처리하고 코드가 멈춤, 이후 다음으로 넘어가지 못함**"
      ]
    },
    {
      "cell_type": "code",
      "metadata": {
        "id": "ewY-1-CetL4z",
        "colab_type": "code",
        "colab": {
          "base_uri": "https://localhost:8080/",
          "height": 35
        },
        "outputId": "5618064d-2838-4b82-b7d0-3a0f1e1350af"
      },
      "source": [
        "try:\n",
        "    a = [1,2]\n",
        "    print(a[3])\n",
        "    4/0\n",
        "except (ZeroDivisionError, IndexError) as e:\n",
        "    print(e)"
      ],
      "execution_count": 10,
      "outputs": [
        {
          "output_type": "stream",
          "text": [
            "list index out of range\n"
          ],
          "name": "stdout"
        }
      ]
    },
    {
      "cell_type": "markdown",
      "metadata": {
        "id": "6Wg8o26Ptrik",
        "colab_type": "text"
      },
      "source": [
        "##오류 회피하기"
      ]
    },
    {
      "cell_type": "code",
      "metadata": {
        "id": "g_KeMAOvtZM6",
        "colab_type": "code",
        "colab": {}
      },
      "source": [
        "try:\n",
        "    f = open(\"나없는파일\", 'r')\n",
        "except FileNotFoundError:\n",
        "    pass"
      ],
      "execution_count": 0,
      "outputs": []
    },
    {
      "cell_type": "markdown",
      "metadata": {
        "id": "LfSh7WPHtxIF",
        "colab_type": "text"
      },
      "source": [
        "##오류 일부러 발생시키기"
      ]
    },
    {
      "cell_type": "code",
      "metadata": {
        "id": "I-9Ah_KctvAs",
        "colab_type": "code",
        "colab": {}
      },
      "source": [
        "class Bird:\n",
        "    def fly(self):\n",
        "        raise NotImplementedError"
      ],
      "execution_count": 0,
      "outputs": []
    },
    {
      "cell_type": "code",
      "metadata": {
        "id": "zIhcowQ1t5tp",
        "colab_type": "code",
        "colab": {}
      },
      "source": [
        "class Eagle(Bird):\n",
        "    pass"
      ],
      "execution_count": 0,
      "outputs": []
    },
    {
      "cell_type": "code",
      "metadata": {
        "id": "cKtoKEQQuLHq",
        "colab_type": "code",
        "colab": {
          "base_uri": "https://localhost:8080/",
          "height": 280
        },
        "outputId": "43e5adc5-eee8-42ac-8c6f-433c0aaa73b3"
      },
      "source": [
        "eagle = Eagle()\n",
        "eagle.fly()"
      ],
      "execution_count": 14,
      "outputs": [
        {
          "output_type": "error",
          "ename": "NotImplementedError",
          "evalue": "ignored",
          "traceback": [
            "\u001b[0;31m---------------------------------------------------------------------------\u001b[0m",
            "\u001b[0;31mNotImplementedError\u001b[0m                       Traceback (most recent call last)",
            "\u001b[0;32m<ipython-input-14-44df1654c75e>\u001b[0m in \u001b[0;36m<module>\u001b[0;34m()\u001b[0m\n\u001b[1;32m      1\u001b[0m \u001b[0meagle\u001b[0m \u001b[0;34m=\u001b[0m \u001b[0mEagle\u001b[0m\u001b[0;34m(\u001b[0m\u001b[0;34m)\u001b[0m\u001b[0;34m\u001b[0m\u001b[0;34m\u001b[0m\u001b[0m\n\u001b[0;32m----> 2\u001b[0;31m \u001b[0meagle\u001b[0m\u001b[0;34m.\u001b[0m\u001b[0mfly\u001b[0m\u001b[0;34m(\u001b[0m\u001b[0;34m)\u001b[0m\u001b[0;34m\u001b[0m\u001b[0;34m\u001b[0m\u001b[0m\n\u001b[0m",
            "\u001b[0;32m<ipython-input-12-e8d1e4453b08>\u001b[0m in \u001b[0;36mfly\u001b[0;34m(self)\u001b[0m\n\u001b[1;32m      1\u001b[0m \u001b[0;32mclass\u001b[0m \u001b[0mBird\u001b[0m\u001b[0;34m:\u001b[0m\u001b[0;34m\u001b[0m\u001b[0;34m\u001b[0m\u001b[0m\n\u001b[1;32m      2\u001b[0m     \u001b[0;32mdef\u001b[0m \u001b[0mfly\u001b[0m\u001b[0;34m(\u001b[0m\u001b[0mself\u001b[0m\u001b[0;34m)\u001b[0m\u001b[0;34m:\u001b[0m\u001b[0;34m\u001b[0m\u001b[0;34m\u001b[0m\u001b[0m\n\u001b[0;32m----> 3\u001b[0;31m         \u001b[0;32mraise\u001b[0m \u001b[0mNotImplementedError\u001b[0m\u001b[0;34m\u001b[0m\u001b[0;34m\u001b[0m\u001b[0m\n\u001b[0m",
            "\u001b[0;31mNotImplementedError\u001b[0m: "
          ]
        }
      ]
    },
    {
      "cell_type": "markdown",
      "metadata": {
        "id": "nkIutDh3unfl",
        "colab_type": "text"
      },
      "source": [
        "**# NotImplementedError가 발생되지 않게 하려면**\n",
        "\n",
        "**다음과 같이 Eagle 클래스에 fly 함수를 반드시 구현**"
      ]
    },
    {
      "cell_type": "code",
      "metadata": {
        "id": "5HTv5Zt6uNGl",
        "colab_type": "code",
        "colab": {
          "base_uri": "https://localhost:8080/",
          "height": 35
        },
        "outputId": "801f1409-9b23-4d07-8463-5aaae8c40d02"
      },
      "source": [
        "class Eagle(Bird):\n",
        "    def fly(self):\n",
        "        print(\"very fast\")\n",
        "\n",
        "eagle = Eagle()\n",
        "eagle.fly()"
      ],
      "execution_count": 15,
      "outputs": [
        {
          "output_type": "stream",
          "text": [
            "very fast\n"
          ],
          "name": "stdout"
        }
      ]
    },
    {
      "cell_type": "code",
      "metadata": {
        "id": "3U4eNQgou7Bu",
        "colab_type": "code",
        "colab": {
          "base_uri": "https://localhost:8080/",
          "height": 262
        },
        "outputId": "902eae53-def3-455d-c993-776e92994c2d"
      },
      "source": [
        "day_number = int(input(\"Input a number (0~6) : \"))\n",
        "\n",
        "if 1 <= day_number <= 5:\n",
        "    day = 'Weekday'\n",
        "elif day_number == 6:\n",
        "    day = 'Saturday'\n",
        "elif day_number == 0:\n",
        "    day = 'Sunday'\n",
        "else:\n",
        "    day = ''\n",
        "    raise ValueError(\n",
        "        str(day_number) + ' is not a valid day number.')\n",
        "\n",
        "print(day)"
      ],
      "execution_count": 19,
      "outputs": [
        {
          "output_type": "stream",
          "text": [
            "Input a number (0~6) : 8\n"
          ],
          "name": "stdout"
        },
        {
          "output_type": "error",
          "ename": "ValueError",
          "evalue": "ignored",
          "traceback": [
            "\u001b[0;31m---------------------------------------------------------------------------\u001b[0m",
            "\u001b[0;31mValueError\u001b[0m                                Traceback (most recent call last)",
            "\u001b[0;32m<ipython-input-19-cc7eb9034326>\u001b[0m in \u001b[0;36m<module>\u001b[0;34m()\u001b[0m\n\u001b[1;32m     10\u001b[0m     \u001b[0mday\u001b[0m \u001b[0;34m=\u001b[0m \u001b[0;34m''\u001b[0m\u001b[0;34m\u001b[0m\u001b[0;34m\u001b[0m\u001b[0m\n\u001b[1;32m     11\u001b[0m     raise ValueError(\n\u001b[0;32m---> 12\u001b[0;31m         str(day_number) + ' is not a valid day number.')\n\u001b[0m\u001b[1;32m     13\u001b[0m \u001b[0;34m\u001b[0m\u001b[0m\n\u001b[1;32m     14\u001b[0m \u001b[0mprint\u001b[0m\u001b[0;34m(\u001b[0m\u001b[0mday\u001b[0m\u001b[0;34m)\u001b[0m\u001b[0;34m\u001b[0m\u001b[0;34m\u001b[0m\u001b[0m\n",
            "\u001b[0;31mValueError\u001b[0m: 8 is not a valid day number."
          ]
        }
      ]
    },
    {
      "cell_type": "markdown",
      "metadata": {
        "id": "gzsItHrivNqM",
        "colab_type": "text"
      },
      "source": [
        "##예외 만들기: 사용자 정의 예외\n",
        "\n",
        "\n",
        "**사용자가 정의해서 만들고 발생시키는 오류**\n",
        "\n",
        "**파이썬 내장 클래스인 Exception 클래스를 상속하여 만든다.**\n",
        "\n",
        "**raise User_Error()** "
      ]
    },
    {
      "cell_type": "code",
      "metadata": {
        "id": "ZkJZmaiCuphk",
        "colab_type": "code",
        "colab": {}
      },
      "source": [
        "class MyError(Exception):\n",
        "    pass"
      ],
      "execution_count": 0,
      "outputs": []
    },
    {
      "cell_type": "code",
      "metadata": {
        "id": "yjwi-h15vePb",
        "colab_type": "code",
        "colab": {}
      },
      "source": [
        "def say_nick(nick):\n",
        "    if nick == '바보':\n",
        "        raise MyError()\n",
        "    print(nick)"
      ],
      "execution_count": 0,
      "outputs": []
    },
    {
      "cell_type": "code",
      "metadata": {
        "id": "xU1BtSkZvg9c",
        "colab_type": "code",
        "colab": {
          "base_uri": "https://localhost:8080/",
          "height": 53
        },
        "outputId": "64727954-9e20-42c3-8374-99fd704ef16b"
      },
      "source": [
        "try:\n",
        "    say_nick(\"천사\")\n",
        "    say_nick(\"바보\")\n",
        "except MyError:\n",
        "    print(\"허용되지 않는 별명입니다.\")"
      ],
      "execution_count": 22,
      "outputs": [
        {
          "output_type": "stream",
          "text": [
            "천사\n",
            "허용되지 않는 별명입니다.\n"
          ],
          "name": "stdout"
        }
      ]
    },
    {
      "cell_type": "markdown",
      "metadata": {
        "id": "S-H8kscDvs50",
        "colab_type": "text"
      },
      "source": [
        "###사용자 정의 예외 메시지 출력\n",
        "\n",
        "\n",
        "**오류 메시지: __str__ 메서드를 구현**"
      ]
    },
    {
      "cell_type": "code",
      "metadata": {
        "id": "EbsmzQM9vluz",
        "colab_type": "code",
        "colab": {}
      },
      "source": [
        "class MyError(Exception):\n",
        "    def __str__(self):\n",
        "        return \"허용되지 않는 별명입니다.\""
      ],
      "execution_count": 0,
      "outputs": []
    },
    {
      "cell_type": "code",
      "metadata": {
        "id": "akTLXBDkv_ZG",
        "colab_type": "code",
        "colab": {
          "base_uri": "https://localhost:8080/",
          "height": 53
        },
        "outputId": "44654709-1e57-43a9-ce93-d200ce42fdb4"
      },
      "source": [
        "try:\n",
        "    say_nick(\"천사\")\n",
        "    say_nick(\"바보\")\n",
        "except MyError as e:\n",
        "    print(e)"
      ],
      "execution_count": 24,
      "outputs": [
        {
          "output_type": "stream",
          "text": [
            "천사\n",
            "허용되지 않는 별명입니다.\n"
          ],
          "name": "stdout"
        }
      ]
    }
  ]
}