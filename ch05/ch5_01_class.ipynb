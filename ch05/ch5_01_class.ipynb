{
  "nbformat": 4,
  "nbformat_minor": 0,
  "metadata": {
    "colab": {
      "name": "ch5_01_class.ipynb",
      "provenance": [],
      "collapsed_sections": [],
      "include_colab_link": true
    },
    "kernelspec": {
      "name": "python3",
      "display_name": "Python 3"
    }
  },
  "cells": [
    {
      "cell_type": "markdown",
      "metadata": {
        "id": "view-in-github",
        "colab_type": "text"
      },
      "source": [
        "<a href=\"https://colab.research.google.com/github/mina0502/SM04/blob/master/ch05/ch5_01_class.ipynb\" target=\"_parent\"><img src=\"https://colab.research.google.com/assets/colab-badge.svg\" alt=\"Open In Colab\"/></a>"
      ]
    },
    {
      "cell_type": "markdown",
      "metadata": {
        "id": "HJz5Sfd-P-KO",
        "colab_type": "text"
      },
      "source": [
        "###객체지향 프로그래밍\n",
        "\n",
        "**상속, 오버라이딩, 오버로딩**"
      ]
    },
    {
      "cell_type": "markdown",
      "metadata": {
        "id": "bKTv-YB-QRLt",
        "colab_type": "text"
      },
      "source": [
        "#클래스란 무엇인가?\n",
        "\n",
        "**지정된 기능을 수행하는 변수와 함수의 모음**\n",
        "\n",
        "**인스턴스, 즉 객체를 생성하여 기능을 이용**\n",
        "\n",
        "**코딩을 객체화**"
      ]
    },
    {
      "cell_type": "code",
      "metadata": {
        "id": "Ijb5ppLVQOw2",
        "colab_type": "code",
        "colab": {
          "base_uri": "https://localhost:8080/",
          "height": 35
        },
        "outputId": "f8dc959a-f0e3-43ec-a88c-b58934542311"
      },
      "source": [
        "result = 0\n",
        "\n",
        "def add(num):\n",
        "    global result\n",
        "    result += num\n",
        "    return result\n",
        "\n",
        "\n",
        "print(add(3))"
      ],
      "execution_count": 2,
      "outputs": [
        {
          "output_type": "stream",
          "text": [
            "3\n"
          ],
          "name": "stdout"
        }
      ]
    },
    {
      "cell_type": "markdown",
      "metadata": {
        "id": "2Fdrms8AQh4v",
        "colab_type": "text"
      },
      "source": [
        "# 이전에 계산한 결괏값을 기억\n",
        "\n",
        "**★global 변수 사용하지 말기★**"
      ]
    },
    {
      "cell_type": "code",
      "metadata": {
        "id": "9DLKgs5dQfQv",
        "colab_type": "code",
        "colab": {
          "base_uri": "https://localhost:8080/",
          "height": 35
        },
        "outputId": "c9268635-0597-401b-a116-682a653dbcf1"
      },
      "source": [
        "\n",
        "print(add(4))"
      ],
      "execution_count": 3,
      "outputs": [
        {
          "output_type": "stream",
          "text": [
            "7\n"
          ],
          "name": "stdout"
        }
      ]
    },
    {
      "cell_type": "code",
      "metadata": {
        "id": "a1DR35bIQivG",
        "colab_type": "code",
        "colab": {}
      },
      "source": [
        "result1 = 0\n",
        "result2 = 0\n",
        "\n",
        "def add1(num):\n",
        "    global result1\n",
        "    result1 += num\n",
        "    return result1\n",
        "\n",
        "\n",
        "def add2(num):\n",
        "    global result2\n",
        "    result2 += num\n",
        "    return result2"
      ],
      "execution_count": 0,
      "outputs": []
    },
    {
      "cell_type": "code",
      "metadata": {
        "id": "TuBpWlRCQnbJ",
        "colab_type": "code",
        "colab": {
          "base_uri": "https://localhost:8080/",
          "height": 35
        },
        "outputId": "1ff6f394-0e17-42d5-fae1-9ee8f3ea94f5"
      },
      "source": [
        "print(add1(3))"
      ],
      "execution_count": 5,
      "outputs": [
        {
          "output_type": "stream",
          "text": [
            "3\n"
          ],
          "name": "stdout"
        }
      ]
    },
    {
      "cell_type": "code",
      "metadata": {
        "id": "_av4I-wwQpsC",
        "colab_type": "code",
        "colab": {
          "base_uri": "https://localhost:8080/",
          "height": 35
        },
        "outputId": "da45d218-e2f1-43d0-a20d-bc8837e79c7c"
      },
      "source": [
        "print(add1(4))"
      ],
      "execution_count": 6,
      "outputs": [
        {
          "output_type": "stream",
          "text": [
            "7\n"
          ],
          "name": "stdout"
        }
      ]
    },
    {
      "cell_type": "code",
      "metadata": {
        "id": "CLN6EqHjQrgI",
        "colab_type": "code",
        "colab": {
          "base_uri": "https://localhost:8080/",
          "height": 35
        },
        "outputId": "855fda1b-575e-4916-b401-37426dc093b0"
      },
      "source": [
        "print(add2(3))"
      ],
      "execution_count": 7,
      "outputs": [
        {
          "output_type": "stream",
          "text": [
            "3\n"
          ],
          "name": "stdout"
        }
      ]
    },
    {
      "cell_type": "code",
      "metadata": {
        "id": "1L_YtOPTQtHK",
        "colab_type": "code",
        "colab": {
          "base_uri": "https://localhost:8080/",
          "height": 35
        },
        "outputId": "8faa28d0-aaff-4ded-d181-11b501728937"
      },
      "source": [
        "print(add2(7))"
      ],
      "execution_count": 8,
      "outputs": [
        {
          "output_type": "stream",
          "text": [
            "10\n"
          ],
          "name": "stdout"
        }
      ]
    },
    {
      "cell_type": "markdown",
      "metadata": {
        "id": "vzH4WgSGQ5hN",
        "colab_type": "text"
      },
      "source": [
        "#클래스를 사용하면 간단하게 해결\n",
        "###문제 해결\n",
        "\n",
        "**Class는 영어 대문자로 시작**\n",
        "\n",
        "**self란? 객체자신 (java==> this)**\n",
        "\n",
        "**init함수 => 객체 사용변수 초기화**\n",
        "\n",
        "**add(현재 객체, 숫자)**\n",
        "\n",
        "**self 빼도 된다**\n",
        "\n",
        "**__함수__ 시스템에서 특별한 함수**"
      ]
    },
    {
      "cell_type": "code",
      "metadata": {
        "id": "QkoVfApWQuo4",
        "colab_type": "code",
        "colab": {}
      },
      "source": [
        "class Calculator:\n",
        "    def __init__(self):\n",
        "        self.result = 0\n",
        "\n",
        "    def add(self, num):\n",
        "        self.result += num\n",
        "        return self.result"
      ],
      "execution_count": 0,
      "outputs": []
    },
    {
      "cell_type": "markdown",
      "metadata": {
        "id": "EGQ9ZQAXSCH5",
        "colab_type": "text"
      },
      "source": [
        "**객체로 만듬**"
      ]
    },
    {
      "cell_type": "code",
      "metadata": {
        "id": "OHRzLXJSR5pM",
        "colab_type": "code",
        "colab": {}
      },
      "source": [
        "  cal1 = Calculator()\n",
        "  cal2 = Calculator()"
      ],
      "execution_count": 0,
      "outputs": []
    },
    {
      "cell_type": "code",
      "metadata": {
        "id": "us1Qm4HoSLh4",
        "colab_type": "code",
        "colab": {
          "base_uri": "https://localhost:8080/",
          "height": 143
        },
        "outputId": "2cd368e5-7f07-4e39-91ea-6994c721e96b"
      },
      "source": [
        "print(cal1.add(3))\n",
        "print(cal1.add(4))\n",
        "print(\"\\n클래스 객체들을 따로 사용할 수 있다.\\n\")\n",
        "print(cal2.add(3))\n",
        "print(cal2.add(7))"
      ],
      "execution_count": 13,
      "outputs": [
        {
          "output_type": "stream",
          "text": [
            "17\n",
            "21\n",
            "\n",
            "클래스 객체들을 따로 사용할 수 있다.\n",
            "\n",
            "23\n",
            "30\n"
          ],
          "name": "stdout"
        }
      ]
    },
    {
      "cell_type": "markdown",
      "metadata": {
        "id": "59d-6JnBSuNG",
        "colab_type": "text"
      },
      "source": [
        "# 내부함수 추가해서 함수 확장할 수 있다."
      ]
    },
    {
      "cell_type": "code",
      "metadata": {
        "id": "uYdC5Y7LR1bQ",
        "colab_type": "code",
        "colab": {}
      },
      "source": [
        "  class Calculator:\n",
        "    def __init__(self):\n",
        "        self.result = 0\n",
        "\n",
        "    def add(self, num):\n",
        "        self.result += num\n",
        "        return self.result\n",
        "      \n",
        "    def sub(self, num):\n",
        "        self.result -= num\n",
        "        return self.result"
      ],
      "execution_count": 0,
      "outputs": []
    },
    {
      "cell_type": "code",
      "metadata": {
        "id": "r5GBul_MS6BX",
        "colab_type": "code",
        "colab": {
          "base_uri": "https://localhost:8080/",
          "height": 71
        },
        "outputId": "9a9dc18a-b22e-46f7-e0ac-231dc5a1d33b"
      },
      "source": [
        "cal = Calculator()\n",
        "print(cal.add(3))\n",
        "print(cal.add(7))\n",
        "print(cal.sub(7))"
      ],
      "execution_count": 19,
      "outputs": [
        {
          "output_type": "stream",
          "text": [
            "3\n",
            "10\n",
            "3\n"
          ],
          "name": "stdout"
        }
      ]
    },
    {
      "cell_type": "code",
      "metadata": {
        "id": "8MQH5LuZTeB2",
        "colab_type": "code",
        "colab": {
          "base_uri": "https://localhost:8080/",
          "height": 35
        },
        "outputId": "199244fb-63de-40ce-f6f5-f0d77850c523"
      },
      "source": [
        "cal2= Calculator()\n",
        "print(cal2.sub(7))"
      ],
      "execution_count": 20,
      "outputs": [
        {
          "output_type": "stream",
          "text": [
            "-7\n"
          ],
          "name": "stdout"
        }
      ]
    },
    {
      "cell_type": "markdown",
      "metadata": {
        "id": "FoAsG1uxTm2n",
        "colab_type": "text"
      },
      "source": [
        "#클래스와 객체\n",
        "\n",
        "\n",
        "**클래스(class)란 똑같은 무엇인가를 계속해서 만들어 낼 수 있는 설계 도면**\n",
        "\n",
        "**객체(object)란 클래스로 만든 피조물(과자 틀을 사용해 만든 과자)**\n",
        "\n",
        "**클래스(class) : 과자 틀** \n",
        "\n",
        "**객체(object) : 과자 틀을 사용해 만든 과자**\n",
        "\n",
        "**동일한 클래스로 만든 객체들은 서로 전혀 영향을 주지 않는다.**"
      ]
    },
    {
      "cell_type": "markdown",
      "metadata": {
        "id": "2bBWG-5ZUdkh",
        "colab_type": "text"
      },
      "source": [
        "**a와 b는 다른 객체**"
      ]
    },
    {
      "cell_type": "code",
      "metadata": {
        "id": "Z4dhM4yuTM92",
        "colab_type": "code",
        "colab": {
          "base_uri": "https://localhost:8080/",
          "height": 35
        },
        "outputId": "e7ace4cf-365d-4cf6-d42a-0b870ba95f92"
      },
      "source": [
        "# 간단한 클래스와 객체 \n",
        "class Cookie:\n",
        "    pass\n",
        "\n",
        "a = Cookie()\n",
        "b = Cookie()\n",
        "id(a), id(b)"
      ],
      "execution_count": 23,
      "outputs": [
        {
          "output_type": "execute_result",
          "data": {
            "text/plain": [
              "(140183438634680, 140183438632720)"
            ]
          },
          "metadata": {
            "tags": []
          },
          "execution_count": 23
        }
      ]
    },
    {
      "cell_type": "markdown",
      "metadata": {
        "id": "6cnyPu3qUCZE",
        "colab_type": "text"
      },
      "source": [
        "**객체와 인스턴스의 차이**\n",
        "\n",
        "**a = Cookie() 이렇게 만든 a는 객체이다.** \n",
        "\n",
        "**그리고 a 객체는 Cookie의 인스턴스이다.** \n",
        "\n",
        "**즉 인스턴스라는 말은 특정 객체(a)가**\n",
        "\n",
        "**어떤 클래스(Cookie)의 객체인지를** \n",
        "\n",
        "**관계 위주로 설명할 때 사용한다**"
      ]
    },
    {
      "cell_type": "markdown",
      "metadata": {
        "id": "rVTDc8FfUwy7",
        "colab_type": "text"
      },
      "source": [
        "#사칙연산 클래스 만들기\n",
        "\n",
        "**add, sub, mul, div**\n",
        "\n",
        "**__main__ 클래스의 특별한 속성을 담당**"
      ]
    },
    {
      "cell_type": "code",
      "metadata": {
        "id": "ysUZsO_jUBAc",
        "colab_type": "code",
        "colab": {
          "base_uri": "https://localhost:8080/",
          "height": 35
        },
        "outputId": "5fd3d70c-46e5-4c50-d539-1dee129badeb"
      },
      "source": [
        "class FourCal:\n",
        "    pass\n",
        "\n",
        "a = FourCal()\n",
        "type(a), id(a)"
      ],
      "execution_count": 24,
      "outputs": [
        {
          "output_type": "execute_result",
          "data": {
            "text/plain": [
              "(__main__.FourCal, 140183438711384)"
            ]
          },
          "metadata": {
            "tags": []
          },
          "execution_count": 24
        }
      ]
    },
    {
      "cell_type": "markdown",
      "metadata": {
        "id": "DB045goGViE2",
        "colab_type": "text"
      },
      "source": [
        "#객체에 숫자 지정\n",
        "\n",
        "**setdata()**"
      ]
    },
    {
      "cell_type": "code",
      "metadata": {
        "id": "kq3NyVJKVZpm",
        "colab_type": "code",
        "colab": {}
      },
      "source": [
        "class FourCal:\n",
        "   def setdata(self, first, second):\n",
        "       self.first = first\n",
        "       self.second = second"
      ],
      "execution_count": 0,
      "outputs": []
    },
    {
      "cell_type": "markdown",
      "metadata": {
        "id": "Pw1-P4BmWB4f",
        "colab_type": "text"
      },
      "source": [
        "**first 가 4, second가 2로 초기화된다.**"
      ]
    },
    {
      "cell_type": "code",
      "metadata": {
        "id": "BJqax8WxV2qX",
        "colab_type": "code",
        "colab": {
          "base_uri": "https://localhost:8080/",
          "height": 53
        },
        "outputId": "6b8f783f-b7d5-47a2-fc9c-dddc48f0d2fd"
      },
      "source": [
        "a = FourCal()\n",
        "a.setdata(4, 2)\n",
        "print(a.first)\n",
        "print(a.second)"
      ],
      "execution_count": 26,
      "outputs": [
        {
          "output_type": "stream",
          "text": [
            "4\n",
            "2\n"
          ],
          "name": "stdout"
        }
      ]
    },
    {
      "cell_type": "markdown",
      "metadata": {
        "id": "0EAgYTUiWmg0",
        "colab_type": "text"
      },
      "source": [
        "**FourCal 클래스의 first변수 없다**"
      ]
    },
    {
      "cell_type": "code",
      "metadata": {
        "id": "OnipOjPWV_-P",
        "colab_type": "code",
        "colab": {
          "base_uri": "https://localhost:8080/",
          "height": 172
        },
        "outputId": "5a5c4b38-0df2-4208-8817-e699bfd127be"
      },
      "source": [
        "FourCal.first"
      ],
      "execution_count": 27,
      "outputs": [
        {
          "output_type": "error",
          "ename": "AttributeError",
          "evalue": "ignored",
          "traceback": [
            "\u001b[0;31m---------------------------------------------------------------------------\u001b[0m",
            "\u001b[0;31mAttributeError\u001b[0m                            Traceback (most recent call last)",
            "\u001b[0;32m<ipython-input-27-1b02389f66ed>\u001b[0m in \u001b[0;36m<module>\u001b[0;34m()\u001b[0m\n\u001b[0;32m----> 1\u001b[0;31m \u001b[0mFourCal\u001b[0m\u001b[0;34m.\u001b[0m\u001b[0mfirst\u001b[0m\u001b[0;34m\u001b[0m\u001b[0;34m\u001b[0m\u001b[0m\n\u001b[0m",
            "\u001b[0;31mAttributeError\u001b[0m: type object 'FourCal' has no attribute 'first'"
          ]
        }
      ]
    },
    {
      "cell_type": "markdown",
      "metadata": {
        "id": "tW746RjFXJh6",
        "colab_type": "text"
      },
      "source": [
        "#setdata 없음\n",
        "\n",
        "**객체변수 first, second 값이 설정되지 않음**"
      ]
    },
    {
      "cell_type": "code",
      "metadata": {
        "id": "3vIkP8F_W3XE",
        "colab_type": "code",
        "colab": {
          "base_uri": "https://localhost:8080/",
          "height": 190
        },
        "outputId": "6bd0f4b7-b78d-4900-f2e4-f2ece06926fd"
      },
      "source": [
        "a = FourCal()\n",
        "print(a.first)  "
      ],
      "execution_count": 32,
      "outputs": [
        {
          "output_type": "error",
          "ename": "AttributeError",
          "evalue": "ignored",
          "traceback": [
            "\u001b[0;31m---------------------------------------------------------------------------\u001b[0m",
            "\u001b[0;31mAttributeError\u001b[0m                            Traceback (most recent call last)",
            "\u001b[0;32m<ipython-input-32-bbabf958daff>\u001b[0m in \u001b[0;36m<module>\u001b[0;34m()\u001b[0m\n\u001b[1;32m      1\u001b[0m \u001b[0ma\u001b[0m \u001b[0;34m=\u001b[0m \u001b[0mFourCal\u001b[0m\u001b[0;34m(\u001b[0m\u001b[0;34m)\u001b[0m\u001b[0;34m\u001b[0m\u001b[0;34m\u001b[0m\u001b[0m\n\u001b[0;32m----> 2\u001b[0;31m \u001b[0mprint\u001b[0m\u001b[0;34m(\u001b[0m\u001b[0ma\u001b[0m\u001b[0;34m.\u001b[0m\u001b[0mfirst\u001b[0m\u001b[0;34m)\u001b[0m\u001b[0;34m\u001b[0m\u001b[0;34m\u001b[0m\u001b[0m\n\u001b[0m",
            "\u001b[0;31mAttributeError\u001b[0m: 'FourCal' object has no attribute 'first'"
          ]
        }
      ]
    },
    {
      "cell_type": "markdown",
      "metadata": {
        "id": "3ksglzgKWveS",
        "colab_type": "text"
      },
      "source": [
        "**type은 같지만 주소는 다르다**"
      ]
    },
    {
      "cell_type": "code",
      "metadata": {
        "id": "WzzxuGCCWO9e",
        "colab_type": "code",
        "colab": {
          "base_uri": "https://localhost:8080/",
          "height": 71
        },
        "outputId": "c252de14-94bc-491c-e89b-0f12f53d0113"
      },
      "source": [
        "a = FourCal()\n",
        "b = FourCal()\n",
        "\n",
        "print(a is b)\n",
        "\n",
        "print(type(a), id(a))\n",
        "print(type(b), id(b))"
      ],
      "execution_count": 36,
      "outputs": [
        {
          "output_type": "stream",
          "text": [
            "False\n",
            "<class '__main__.FourCal'> 140183438340840\n",
            "<class '__main__.FourCal'> 140183438340784\n"
          ],
          "name": "stdout"
        }
      ]
    },
    {
      "cell_type": "code",
      "metadata": {
        "id": "MbcxxCc6Wt84",
        "colab_type": "code",
        "colab": {
          "base_uri": "https://localhost:8080/",
          "height": 53
        },
        "outputId": "07e240be-cac6-4356-fb64-2e04b5e3871b"
      },
      "source": [
        "a.setdata(4, 2)\n",
        "print(a.first)\n",
        "b.setdata(3, 7)\n",
        "print(b.first)"
      ],
      "execution_count": 37,
      "outputs": [
        {
          "output_type": "stream",
          "text": [
            "4\n",
            "3\n"
          ],
          "name": "stdout"
        }
      ]
    },
    {
      "cell_type": "code",
      "metadata": {
        "id": "eIzA9y0LW7HJ",
        "colab_type": "code",
        "colab": {
          "base_uri": "https://localhost:8080/",
          "height": 35
        },
        "outputId": "808f91fc-9510-427b-c570-4ce038ac6f85"
      },
      "source": [
        "id(a.first), id(b.first)"
      ],
      "execution_count": 38,
      "outputs": [
        {
          "output_type": "execute_result",
          "data": {
            "text/plain": [
              "(10968896, 10968864)"
            ]
          },
          "metadata": {
            "tags": []
          },
          "execution_count": 38
        }
      ]
    },
    {
      "cell_type": "markdown",
      "metadata": {
        "id": "y49EU867XnRW",
        "colab_type": "text"
      },
      "source": [
        "#더하기 기능"
      ]
    },
    {
      "cell_type": "code",
      "metadata": {
        "id": "wb9tlV37XUvM",
        "colab_type": "code",
        "colab": {}
      },
      "source": [
        "class FourCal:\n",
        "    def setdata(self, first, second):\n",
        "        self.first = first\n",
        "        self.second = second\n",
        "\n",
        "    def add(self):\n",
        "        result = self.first + self.second\n",
        "        return result"
      ],
      "execution_count": 0,
      "outputs": []
    },
    {
      "cell_type": "code",
      "metadata": {
        "id": "r7gmT4R-XrqZ",
        "colab_type": "code",
        "colab": {
          "base_uri": "https://localhost:8080/",
          "height": 35
        },
        "outputId": "b45b9197-698c-4551-d5dc-26480129163d"
      },
      "source": [
        "a = FourCal()\n",
        "a.setdata(4, 2)\n",
        "a.add()"
      ],
      "execution_count": 40,
      "outputs": [
        {
          "output_type": "execute_result",
          "data": {
            "text/plain": [
              "6"
            ]
          },
          "metadata": {
            "tags": []
          },
          "execution_count": 40
        }
      ]
    },
    {
      "cell_type": "markdown",
      "metadata": {
        "id": "hzD0fmfmX7RH",
        "colab_type": "text"
      },
      "source": [
        "#곱하기, 빼기, 나누기 기능 추가"
      ]
    },
    {
      "cell_type": "code",
      "metadata": {
        "id": "dKTBxT-AX3my",
        "colab_type": "code",
        "colab": {}
      },
      "source": [
        "\n",
        "class FourCal:\n",
        "    def setdata(self, first, second):\n",
        "        self.first = first\n",
        "        self.second = second\n",
        "        \n",
        "    def add(self):\n",
        "        result = self.first + self.second\n",
        "        return result\n",
        "\n",
        "    def sub(self):\n",
        "        result = self.first - self.second\n",
        "        return result\n",
        "\n",
        "    def mul(self):\n",
        "        result = self.first * self.second\n",
        "        return result\n",
        "\n",
        "    def div(self):\n",
        "        result = self.first / self.second\n",
        "        return result"
      ],
      "execution_count": 0,
      "outputs": []
    },
    {
      "cell_type": "code",
      "metadata": {
        "id": "Xv6oBW5xYF-i",
        "colab_type": "code",
        "colab": {
          "base_uri": "https://localhost:8080/",
          "height": 89
        },
        "outputId": "08efb6cf-6320-4cb8-f674-046beeee1103"
      },
      "source": [
        "a = FourCal()\n",
        "b = FourCal()\n",
        "\n",
        "a.setdata(4, 2)\n",
        "b.setdata(3, 8)\n",
        "\n",
        "print(a.add(), a.sub(), a.mul(), a.div())\n",
        "print(\"\\n\")\n",
        "print(b.add(), b.sub(), b.mul(), b.div())"
      ],
      "execution_count": 46,
      "outputs": [
        {
          "output_type": "stream",
          "text": [
            "6 2 8 2.0\n",
            "\n",
            "\n",
            "11 -5 24 0.375\n"
          ],
          "name": "stdout"
        }
      ]
    },
    {
      "cell_type": "markdown",
      "metadata": {
        "id": "xD-NTN-XYd5h",
        "colab_type": "text"
      },
      "source": [
        "#생성자 (Constructor)\n",
        "\n",
        "**__init__()**\n",
        "**==> 객체를 만들때 클래스가 필요로 하는 속성, 기본적인 값을 초기화 시키는 변수**"
      ]
    },
    {
      "cell_type": "code",
      "metadata": {
        "id": "wJifap29YJeC",
        "colab_type": "code",
        "colab": {}
      },
      "source": [
        "class FourCal:\n",
        "    def __init__(self, first, second):\n",
        "        self.first = first\n",
        "        self.second = second\n",
        "\n",
        "    def setdata(self, first, second):\n",
        "        self.first = first\n",
        "        self.second = second\n",
        "        \n",
        "    def add(self):\n",
        "        result = self.first + self.second\n",
        "        return result\n",
        "\n",
        "    def sub(self):\n",
        "        result = self.first - self.second\n",
        "        return result\n",
        "\n",
        "    def mul(self):\n",
        "        result = self.first * self.second\n",
        "        return result\n",
        "\n",
        "    def div(self):\n",
        "        result = self.first / self.second\n",
        "        return result"
      ],
      "execution_count": 0,
      "outputs": []
    },
    {
      "cell_type": "markdown",
      "metadata": {
        "id": "DCMgm-HWY0LZ",
        "colab_type": "text"
      },
      "source": [
        "#Type ERROR"
      ]
    },
    {
      "cell_type": "code",
      "metadata": {
        "id": "m9KiZAu7YvPf",
        "colab_type": "code",
        "colab": {
          "base_uri": "https://localhost:8080/",
          "height": 172
        },
        "outputId": "0cfeb315-a868-4a9b-a7e6-37866bf25cf5"
      },
      "source": [
        "a = FourCal()"
      ],
      "execution_count": 48,
      "outputs": [
        {
          "output_type": "error",
          "ename": "TypeError",
          "evalue": "ignored",
          "traceback": [
            "\u001b[0;31m---------------------------------------------------------------------------\u001b[0m",
            "\u001b[0;31mTypeError\u001b[0m                                 Traceback (most recent call last)",
            "\u001b[0;32m<ipython-input-48-5cfa1e393ba9>\u001b[0m in \u001b[0;36m<module>\u001b[0;34m()\u001b[0m\n\u001b[0;32m----> 1\u001b[0;31m \u001b[0ma\u001b[0m \u001b[0;34m=\u001b[0m \u001b[0mFourCal\u001b[0m\u001b[0;34m(\u001b[0m\u001b[0;34m)\u001b[0m\u001b[0;34m\u001b[0m\u001b[0;34m\u001b[0m\u001b[0m\n\u001b[0m",
            "\u001b[0;31mTypeError\u001b[0m: __init__() missing 2 required positional arguments: 'first' and 'second'"
          ]
        }
      ]
    },
    {
      "cell_type": "markdown",
      "metadata": {
        "id": "f_zVomW6ZH4U",
        "colab_type": "text"
      },
      "source": [
        "**생성자가 만들어지면서 setdata까지 실행된다.**"
      ]
    },
    {
      "cell_type": "code",
      "metadata": {
        "id": "kn-oXw69YyUi",
        "colab_type": "code",
        "colab": {
          "base_uri": "https://localhost:8080/",
          "height": 35
        },
        "outputId": "8b1de5eb-3a59-4bc7-d076-d5bd4b51f612"
      },
      "source": [
        "a = FourCal(4, 2)\n",
        "a.first, a.second"
      ],
      "execution_count": 53,
      "outputs": [
        {
          "output_type": "execute_result",
          "data": {
            "text/plain": [
              "(4, 2)"
            ]
          },
          "metadata": {
            "tags": []
          },
          "execution_count": 53
        }
      ]
    },
    {
      "cell_type": "code",
      "metadata": {
        "id": "9Q5JB90AZb9a",
        "colab_type": "code",
        "colab": {
          "base_uri": "https://localhost:8080/",
          "height": 53
        },
        "outputId": "0a377728-d9ba-4fd7-ecca-153089542c41"
      },
      "source": [
        "print(a.mul())\n",
        "print(a.div())"
      ],
      "execution_count": 54,
      "outputs": [
        {
          "output_type": "stream",
          "text": [
            "8\n",
            "2.0\n"
          ],
          "name": "stdout"
        }
      ]
    },
    {
      "cell_type": "markdown",
      "metadata": {
        "id": "HEqiA58NZeVZ",
        "colab_type": "text"
      },
      "source": [
        "#클래스의 상속"
      ]
    },
    {
      "cell_type": "code",
      "metadata": {
        "id": "Gz-q8EPgY5ck",
        "colab_type": "code",
        "colab": {}
      },
      "source": [
        "class MoreFourCal(FourCal):\n",
        "    pass"
      ],
      "execution_count": 0,
      "outputs": []
    },
    {
      "cell_type": "code",
      "metadata": {
        "id": "zFjjUrSRaD3W",
        "colab_type": "code",
        "colab": {
          "base_uri": "https://localhost:8080/",
          "height": 35
        },
        "outputId": "7c4395b4-3895-4c96-bc7b-8f6a4bb9987f"
      },
      "source": [
        "a = MoreFourCal(4, 2)\n",
        "a.add(), a.mul()"
      ],
      "execution_count": 57,
      "outputs": [
        {
          "output_type": "execute_result",
          "data": {
            "text/plain": [
              "(6, 8)"
            ]
          },
          "metadata": {
            "tags": []
          },
          "execution_count": 57
        }
      ]
    },
    {
      "cell_type": "markdown",
      "metadata": {
        "id": "e_aVoFDyaYUm",
        "colab_type": "text"
      },
      "source": [
        "**사칙연산 , 지수까지 사용가능**\n",
        "\n",
        "**상속의 장점**"
      ]
    },
    {
      "cell_type": "code",
      "metadata": {
        "id": "caVfsG9laGHP",
        "colab_type": "code",
        "colab": {}
      },
      "source": [
        "class MoreFourCal(FourCal):\n",
        "    def pow(self):\n",
        "        result = self.first ** self.second\n",
        "        return result"
      ],
      "execution_count": 0,
      "outputs": []
    },
    {
      "cell_type": "code",
      "metadata": {
        "id": "BMdXWZ3yaVQ1",
        "colab_type": "code",
        "colab": {
          "base_uri": "https://localhost:8080/",
          "height": 53
        },
        "outputId": "cfaa3965-417b-46c4-9ccd-a26709c85f21"
      },
      "source": [
        "a = MoreFourCal(4, 2)\n",
        "print(a.add(), a.mul())\n",
        "\n",
        "print(a.pow())"
      ],
      "execution_count": 61,
      "outputs": [
        {
          "output_type": "stream",
          "text": [
            "6 8\n",
            "16\n"
          ],
          "name": "stdout"
        }
      ]
    },
    {
      "cell_type": "markdown",
      "metadata": {
        "id": "4evTxzEDamEL",
        "colab_type": "text"
      },
      "source": [
        "##클래스의 기능을 확장시킬 때 주로 사용"
      ]
    },
    {
      "cell_type": "markdown",
      "metadata": {
        "id": "e0XTDcbMapY9",
        "colab_type": "text"
      },
      "source": [
        "#메서드 오버라이딩\n",
        "\n",
        "**기존의 함수(메소드)를 수정/보완하여 재정의**"
      ]
    },
    {
      "cell_type": "code",
      "metadata": {
        "id": "PNzmtnSSafkZ",
        "colab_type": "code",
        "colab": {}
      },
      "source": [
        "a = FourCal(4, 0)"
      ],
      "execution_count": 0,
      "outputs": []
    },
    {
      "cell_type": "code",
      "metadata": {
        "id": "7xym6T2Ncphd",
        "colab_type": "code",
        "colab": {
          "base_uri": "https://localhost:8080/",
          "height": 280
        },
        "outputId": "45aef9fe-a529-4d88-a1d9-8dd446b6c3e9"
      },
      "source": [
        "a.div()"
      ],
      "execution_count": 63,
      "outputs": [
        {
          "output_type": "error",
          "ename": "ZeroDivisionError",
          "evalue": "ignored",
          "traceback": [
            "\u001b[0;31m---------------------------------------------------------------------------\u001b[0m",
            "\u001b[0;31mZeroDivisionError\u001b[0m                         Traceback (most recent call last)",
            "\u001b[0;32m<ipython-input-63-656340726662>\u001b[0m in \u001b[0;36m<module>\u001b[0;34m()\u001b[0m\n\u001b[0;32m----> 1\u001b[0;31m \u001b[0ma\u001b[0m\u001b[0;34m.\u001b[0m\u001b[0mdiv\u001b[0m\u001b[0;34m(\u001b[0m\u001b[0;34m)\u001b[0m\u001b[0;34m\u001b[0m\u001b[0;34m\u001b[0m\u001b[0m\n\u001b[0m",
            "\u001b[0;32m<ipython-input-47-3253d65d6ed7>\u001b[0m in \u001b[0;36mdiv\u001b[0;34m(self)\u001b[0m\n\u001b[1;32m     21\u001b[0m \u001b[0;34m\u001b[0m\u001b[0m\n\u001b[1;32m     22\u001b[0m     \u001b[0;32mdef\u001b[0m \u001b[0mdiv\u001b[0m\u001b[0;34m(\u001b[0m\u001b[0mself\u001b[0m\u001b[0;34m)\u001b[0m\u001b[0;34m:\u001b[0m\u001b[0;34m\u001b[0m\u001b[0;34m\u001b[0m\u001b[0m\n\u001b[0;32m---> 23\u001b[0;31m         \u001b[0mresult\u001b[0m \u001b[0;34m=\u001b[0m \u001b[0mself\u001b[0m\u001b[0;34m.\u001b[0m\u001b[0mfirst\u001b[0m \u001b[0;34m/\u001b[0m \u001b[0mself\u001b[0m\u001b[0;34m.\u001b[0m\u001b[0msecond\u001b[0m\u001b[0;34m\u001b[0m\u001b[0;34m\u001b[0m\u001b[0m\n\u001b[0m\u001b[1;32m     24\u001b[0m         \u001b[0;32mreturn\u001b[0m \u001b[0mresult\u001b[0m\u001b[0;34m\u001b[0m\u001b[0;34m\u001b[0m\u001b[0m\n",
            "\u001b[0;31mZeroDivisionError\u001b[0m: division by zero"
          ]
        }
      ]
    },
    {
      "cell_type": "code",
      "metadata": {
        "id": "wOKX8reOcvOB",
        "colab_type": "code",
        "colab": {}
      },
      "source": [
        "class SafeFourCal(FourCal):\n",
        "    def div(self):\n",
        "        if self.second == 0:\n",
        "            print(\"분모는 0을 사용할 수 없다.\")\n",
        "            return 0\n",
        "        else:\n",
        "            return self.first / self.second"
      ],
      "execution_count": 0,
      "outputs": []
    },
    {
      "cell_type": "code",
      "metadata": {
        "id": "j3LK3noMdAhb",
        "colab_type": "code",
        "colab": {
          "base_uri": "https://localhost:8080/",
          "height": 53
        },
        "outputId": "bf958ce2-f788-4183-dc72-e4cd55baace1"
      },
      "source": [
        "a = SafeFourCal(4, 0)\n",
        "a.div()"
      ],
      "execution_count": 67,
      "outputs": [
        {
          "output_type": "stream",
          "text": [
            "분모는 0을 사용할 수 없다.\n"
          ],
          "name": "stdout"
        },
        {
          "output_type": "execute_result",
          "data": {
            "text/plain": [
              "0"
            ]
          },
          "metadata": {
            "tags": []
          },
          "execution_count": 67
        }
      ]
    },
    {
      "cell_type": "markdown",
      "metadata": {
        "id": "UUii8gxoeg0i",
        "colab_type": "text"
      },
      "source": [
        "#클래스 변수\n",
        "\n",
        "**객체변수와 클래스변수의 차이**\n",
        "\n",
        "**객체변수   :   객체.변수**\n",
        "  \n",
        "**클래스변수 : 클래스.변수**"
      ]
    },
    {
      "cell_type": "markdown",
      "metadata": {
        "id": "jCiHobZDeszZ",
        "colab_type": "text"
      },
      "source": [
        "**단독으로 만들어짐**"
      ]
    },
    {
      "cell_type": "code",
      "metadata": {
        "id": "sT8lSum1dCVf",
        "colab_type": "code",
        "colab": {}
      },
      "source": [
        "class Family:\n",
        "    lastname = \"김\"   # 클래스변수"
      ],
      "execution_count": 0,
      "outputs": []
    },
    {
      "cell_type": "code",
      "metadata": {
        "id": "vnrJBfZxerwu",
        "colab_type": "code",
        "colab": {
          "base_uri": "https://localhost:8080/",
          "height": 35
        },
        "outputId": "34cc7382-ff33-4193-e4ff-116ce24705c6"
      },
      "source": [
        "Family.lastname"
      ],
      "execution_count": 69,
      "outputs": [
        {
          "output_type": "execute_result",
          "data": {
            "text/plain": [
              "'김'"
            ]
          },
          "metadata": {
            "tags": []
          },
          "execution_count": 69
        }
      ]
    },
    {
      "cell_type": "markdown",
      "metadata": {
        "id": "L5FhiVQVe4km",
        "colab_type": "text"
      },
      "source": [
        "**클래스 변수는 그 클래스 변수에 접근할 경우 동일한 주소 공유한다**\n",
        "\n",
        "global, = 과 같음"
      ]
    },
    {
      "cell_type": "code",
      "metadata": {
        "id": "1ufW4BCiewC7",
        "colab_type": "code",
        "colab": {
          "base_uri": "https://localhost:8080/",
          "height": 71
        },
        "outputId": "fce9edf9-1268-4612-cc69-2b25c09f1d8b"
      },
      "source": [
        "a = Family()\n",
        "b = Family()\n",
        "\n",
        "print(a.lastname)\n",
        "print(b.lastname)\n",
        "print(id(a.lastname), id(b.lastname))"
      ],
      "execution_count": 70,
      "outputs": [
        {
          "output_type": "stream",
          "text": [
            "김\n",
            "김\n",
            "140183438359168 140183438359168\n"
          ],
          "name": "stdout"
        }
      ]
    },
    {
      "cell_type": "code",
      "metadata": {
        "id": "nzF4IYxie13c",
        "colab_type": "code",
        "colab": {
          "base_uri": "https://localhost:8080/",
          "height": 71
        },
        "outputId": "5b1daf6d-aac5-48b8-a556-8cb5066d04dd"
      },
      "source": [
        "Family.lastname = \"박\"\n",
        "\n",
        "print(a.lastname)\n",
        "print(b.lastname)\n",
        "id(a.lastname), id(b.lastname), id(Family.lastname)"
      ],
      "execution_count": 71,
      "outputs": [
        {
          "output_type": "stream",
          "text": [
            "박\n",
            "박\n"
          ],
          "name": "stdout"
        },
        {
          "output_type": "execute_result",
          "data": {
            "text/plain": [
              "(140183438359248, 140183438359248, 140183438359248)"
            ]
          },
          "metadata": {
            "tags": []
          },
          "execution_count": 71
        }
      ]
    },
    {
      "cell_type": "markdown",
      "metadata": {
        "id": "L6i_knklfMEw",
        "colab_type": "text"
      },
      "source": [
        "#객체변수를 변경"
      ]
    },
    {
      "cell_type": "markdown",
      "metadata": {
        "id": "7j8oAoeifbAi",
        "colab_type": "text"
      },
      "source": [
        "**a의 객체변수를 바꾸면**\n",
        "**주소값이 바껴짐!!!**"
      ]
    },
    {
      "cell_type": "code",
      "metadata": {
        "id": "m81og78HfD2v",
        "colab_type": "code",
        "colab": {
          "base_uri": "https://localhost:8080/",
          "height": 35
        },
        "outputId": "e9dbe75a-08c5-407f-d828-f8b7809d3f72"
      },
      "source": [
        "a.lastname = \"이\"\n",
        "a.lastname, b.lastname, Family.lastname\n",
        "id(a.lastname), id(b.lastname), id(Family.lastname)"
      ],
      "execution_count": 72,
      "outputs": [
        {
          "output_type": "execute_result",
          "data": {
            "text/plain": [
              "(140183438359808, 140183438359248, 140183438359248)"
            ]
          },
          "metadata": {
            "tags": []
          },
          "execution_count": 72
        }
      ]
    }
  ]
}