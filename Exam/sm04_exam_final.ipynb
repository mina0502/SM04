{
  "nbformat": 4,
  "nbformat_minor": 0,
  "metadata": {
    "colab": {
      "name": "sm04_exam_final",
      "provenance": [],
      "collapsed_sections": [],
      "include_colab_link": true
    },
    "kernelspec": {
      "display_name": "Python 3",
      "language": "python",
      "name": "python3"
    }
  },
  "cells": [
    {
      "cell_type": "markdown",
      "metadata": {
        "id": "view-in-github",
        "colab_type": "text"
      },
      "source": [
        "<a href=\"https://colab.research.google.com/github/mina0502/SM04/blob/master/Exam/sm04_exam_final.ipynb\" target=\"_parent\"><img src=\"https://colab.research.google.com/assets/colab-badge.svg\" alt=\"Open In Colab\"/></a>"
      ]
    },
    {
      "cell_type": "markdown",
      "metadata": {
        "colab_type": "text",
        "id": "jXMg8Cv_Q0bM"
      },
      "source": [
        "```\n",
        "\n",
        "\n",
        "\n",
        "\n",
        "```\n",
        "\n",
        "# 기말필기시험: 고급시뮬레이션 (2019.12.20)\n",
        "- 문제에 배점이 표시되어 있음. (총 30점)  \n",
        "```\n",
        "\n",
        "\n",
        "\n",
        "\n",
        "\n",
        "\n",
        "\n",
        "\n",
        "\n",
        "\n",
        "```\n"
      ]
    },
    {
      "cell_type": "markdown",
      "metadata": {
        "id": "Rc8uW2C1MAyp",
        "colab_type": "text"
      },
      "source": [
        "***\n",
        "코드에 대한 평가는 다음 기준으로 수행한다.\n",
        "1. 적절한 함수와 로직을 이용하는 능력\n",
        "2. 변수, 함수명을 명확하게 사용해서 코딩하는 능력.\n",
        "***\n",
        "```\n",
        "\n",
        "\n",
        "\n",
        "\n",
        "\n",
        "\n",
        "\n",
        "\n",
        "```\n"
      ]
    },
    {
      "cell_type": "markdown",
      "metadata": {
        "id": "2TcDRE4GYoF1",
        "colab_type": "text"
      },
      "source": [
        "\n",
        "\n",
        "---\n",
        "\n",
        "\n",
        "---\n",
        "```\n",
        "\n",
        "\n",
        "```\n"
      ]
    },
    {
      "cell_type": "markdown",
      "metadata": {
        "colab_type": "text",
        "id": "htP5M9O8OkSd"
      },
      "source": [
        "### [1: 4점] 게시판 페이징하기\n",
        "> 게시판 프로그램을 작성하고 있다.\n",
        ">> 그런데 게시물의 총 건수와 한 페이지에 보여 줄 게시물 수를 입력으로   \n",
        ">> 주었을 때 총 페이지 수를 출력하는 함수 (getTotalPageNew)를 만들어보자.   \n",
        ">>> 한 페이지에서 보여 줄 게시물 수가 최대 10  \n",
        "\n",
        "- 프로그램 예시\n",
        "\n",
        "```\n",
        "def getTotalPage(m, n):\n",
        "    if m % n == 0:\n",
        "        return m // n\n",
        "    else:\n",
        "        return m // n + 1\n",
        "\n",
        "print(getTotalPage(5, 10))  # 1\n",
        "print(getTotalPage(15, 10)) # 2\n",
        "print(getTotalPage(25, 10)) # 3\n",
        "print(getTotalPage(30, 10)) # 3\n",
        "```  \n",
        "> 최소한의 줄로 동작하는 코드를 만드시오.\n",
        "\n",
        "```\n",
        "_________________________________________________________________________________________\n",
        "\n",
        "_________________________________________________________________________________________\n",
        "\n",
        "_________________________________________________________________________________________\n",
        "\n",
        "\n",
        "```"
      ]
    },
    {
      "cell_type": "code",
      "metadata": {
        "id": "Gq-c3a_k5UwL",
        "colab_type": "code",
        "colab": {
          "base_uri": "https://localhost:8080/",
          "height": 89
        },
        "outputId": "dbde7e8c-e1d4-4b52-c8ed-a98d5953c27c"
      },
      "source": [
        "def getTotalPage(m, n):\n",
        "  return (m-1)//n+1\n",
        "\n",
        "\n",
        "# 구하는 총 건수에서 1을 뺀 값을 총 페이지의 수로 나눈 몫에 +1 을 해준다\n",
        "print(getTotalPage(5,10))\n",
        "print(getTotalPage(15,10))\n",
        "print(getTotalPage(25,10))\n",
        "print(getTotalPage(30,10))"
      ],
      "execution_count": 1,
      "outputs": [
        {
          "output_type": "stream",
          "text": [
            "1\n",
            "2\n",
            "3\n",
            "3\n"
          ],
          "name": "stdout"
        }
      ]
    },
    {
      "cell_type": "markdown",
      "metadata": {
        "colab_type": "text",
        "id": "dXdVRpfERIvx"
      },
      "source": [
        "### [2: 4점] 리스트 총합 구하기  \n",
        "> 다음은 A학급 학생의 점수를 나타내는 리스트이다.  \n",
        "> 다음 리스트에서 60점 이상 점수의 총합을 구하시오.  \n",
        "```\n",
        "A = [20, 55, 67, 82, 45, 33, 90, 87, 100, 25]\n",
        "```\n",
        "- 프로그램 예시\n",
        "\n",
        "```\n",
        "result = 0\n",
        "while A:                # A 리스트에 값이 있는 동안\n",
        "    mark = A.pop()      # A 리스트의 가장 마지막 항목을 하나씩 뽑아냄\n",
        "    if mark >= 60:      # 60점 이상의 점수만 더함\n",
        "        result += mark\n",
        "\n",
        "print(result)           # 결과 출력\n",
        "```  \n",
        "\n",
        "> 최소한의 줄로 동작하는 코드를 만드시오.\n",
        ">> filter, map 등의 함수와 lambda 식을 사용하면 +alpha\n",
        "\n",
        "```\n",
        "_________________________________________________________________________________________\n",
        "\n",
        "_________________________________________________________________________________________\n",
        "\n",
        "_________________________________________________________________________________________\n",
        "\n",
        "_________________________________________________________________________________________\n",
        "```"
      ]
    },
    {
      "cell_type": "code",
      "metadata": {
        "id": "89NZhk6W5-cF",
        "colab_type": "code",
        "colab": {
          "base_uri": "https://localhost:8080/",
          "height": 35
        },
        "outputId": "a97ba3c0-3b28-420c-fbf1-c291054a06b8"
      },
      "source": [
        "A = [20, 55, 67, 82, 45, 33, 90, 87, 100, 25]\n",
        "sum(list(filter(lambda a : a>=60,A))) # filter 함수와 lambda함수를 통해 60점 이상의 점수를 A 리스트에서 구해 총합을 구해준다."
      ],
      "execution_count": 3,
      "outputs": [
        {
          "output_type": "execute_result",
          "data": {
            "text/plain": [
              "426"
            ]
          },
          "metadata": {
            "tags": []
          },
          "execution_count": 3
        }
      ]
    },
    {
      "cell_type": "markdown",
      "metadata": {
        "colab_type": "text",
        "id": "1DNOH7kGWiPE"
      },
      "source": [
        "### [3: 4점] 한 줄 구구단 출력\n",
        "> 사용자로부터 2~9의 숫자 중 하나를 입력받아 해당 숫자의  \n",
        "> 구구단을 한 줄로 출력하는 프로그램을 작성하시오.  \n",
        "\n",
        "- 프로그램 예시\n",
        "\n",
        "```\n",
        "user_input = input(\"구구단을 출력할 숫자를 입력하세요(2~9):\")\n",
        "dan = int(user_input)       # 입력 문자열을 숫자로 변환\n",
        "for i in range(1, 10):\n",
        "    print(i*dan, end= ' ') \n",
        "\n",
        "```\n",
        "\n",
        "> 실행 예)\n",
        "```\n",
        "구구단을 출력할 숫자를 입력하세요(2~9): 2\n",
        "2 4 6 8 10 12 14 16 18\n",
        "```\n",
        "\n",
        "> 최소한의 줄로 동작하는 코드를 만드시오.\n",
        ">> 리스트 내포를 사용해보시오.\n",
        "\n",
        "```\n",
        "_________________________________________________________________________________________\n",
        "\n",
        "_________________________________________________________________________________________\n",
        "\n",
        "_________________________________________________________________________________________\n",
        "\n",
        "_________________________________________________________________________________________\n",
        "\n",
        "```\n"
      ]
    },
    {
      "cell_type": "code",
      "metadata": {
        "id": "umfpKF3D61oC",
        "colab_type": "code",
        "colab": {
          "base_uri": "https://localhost:8080/",
          "height": 53
        },
        "outputId": "9152057f-6374-4df0-cea6-f24b2f4be1c1"
      },
      "source": [
        "inv = int(input(\"구구단을 출력할 숫자를 입력하세요(2~9):\")) # 구구단을 출력을 받을 input을 먼저 정수로 받아들여\n",
        "[i * inv for i in range(1,10)]  # 리스트 내포를 통해 구구단을 구한다."
      ],
      "execution_count": 4,
      "outputs": [
        {
          "output_type": "stream",
          "text": [
            "구구단을 출력할 숫자를 입력하세요(2~9):2\n"
          ],
          "name": "stdout"
        },
        {
          "output_type": "execute_result",
          "data": {
            "text/plain": [
              "[2, 4, 6, 8, 10, 12, 14, 16, 18]"
            ]
          },
          "metadata": {
            "tags": []
          },
          "execution_count": 4
        }
      ]
    },
    {
      "cell_type": "markdown",
      "metadata": {
        "colab_type": "text",
        "id": "o9MO9BclZdxy"
      },
      "source": [
        "### [4: 4점] 파일을 읽어서 평균값 구하고, 결과 저장하기\n",
        "\n",
        "> 다음과 같이 총 10줄로 이루어진 sample.txt 파일이 있다.   \n",
        "> sample.txt 파일의 숫자 값을 모두 읽어 총합과 평균 값을 구한 후   \n",
        "> 평균 값을 result.txt 파일에 쓰는 프로그램을 작성하시오.  \n",
        "> sample.txt\n",
        "```\n",
        "70\n",
        "60\n",
        "55\n",
        "75\n",
        "95\n",
        "90\n",
        "80\n",
        "80\n",
        "85\n",
        "100\n",
        "```\n",
        "- 프로그램 예시\n",
        "\n",
        "```\n",
        "f = open(\"sample.txt\")\n",
        "lines = f.readlines( )  # sample.txt를 줄 단위로 모두 읽는다.\n",
        "f.close( )\n",
        "\n",
        "total = 0\n",
        "for line in lines:\n",
        "    score = int(line)  # 줄에 적힌 점수를 숫자형으로 변환한다.\n",
        "    total += score\n",
        "average = total / len(lines)\n",
        "\n",
        "f = open(\"result.txt\", \"w\")\n",
        "f.write(str(average))\n",
        "f.close()\n",
        "\n",
        "```\n",
        "> readlines( )를 read() 함수로 변경해서 코드를 만드시오.\n",
        "\n",
        "```\n",
        "_________________________________________________________________________________________\n",
        "\n",
        "_________________________________________________________________________________________\n",
        "\n",
        "_________________________________________________________________________________________\n",
        "\n",
        "_________________________________________________________________________________________\n",
        "\n",
        "_________________________________________________________________________________________\n",
        "\n",
        "```"
      ]
    },
    {
      "cell_type": "code",
      "metadata": {
        "id": "YM64Rj3Q8Bzn",
        "colab_type": "code",
        "colab": {}
      },
      "source": [
        "f = open(\"sample.txt\")\n",
        "lines = f.read( )  # sample.txt를 모두 읽는다.\n",
        "f.close( )\n",
        " \n",
        "a=lines.split(\"\\n\") # 읽은 text를 \\n 으로 나눠 a에 저장한다\n",
        "total=sum(map(int,a)) # a에 저장된 값을 map 함수를 통해 정수형으로 바꿔주고 \n",
        "# sum 함수를 통해 전체를 더해준다\n",
        " \n",
        "f = open(\"result.txt\", \"w\")\n",
        "f.write(str(total/len(a))) # 총합에서 a의 길이를 나눠주면 평균값을 구할 수 있다.\n",
        "f.close()"
      ],
      "execution_count": 0,
      "outputs": []
    },
    {
      "cell_type": "markdown",
      "metadata": {
        "colab_type": "text",
        "id": "N1IP08zaawBq"
      },
      "source": [
        "### [5: 4점] Duplicate Numbers\n",
        "\n",
        "> 0 ~ 9의 문자로 된 숫자를 입력받았을 때, 이 입력값이 0 ~ 9의 모든 숫자를  \n",
        "> 각각 한 번씩만 사용한 것인지 확인하는 함수를 작성하시오.  \n",
        "\n",
        "```\n",
        "입력 예시: 0123456789 01234 01234567890 6789012345 012322456789\n",
        "출력 예시: true false false true false\n",
        "```\n",
        "\n",
        "- 프로그램 예시\n",
        "\n",
        "```\n",
        "def chkDupNum(s):\n",
        "    result = []\n",
        "    for num in s:\n",
        "        if num not in result:\n",
        "            result.append(num)\n",
        "        else:\n",
        "            return False\n",
        "    return len(result) == 10\n",
        "\n",
        "# 실행 예\n",
        "print(chkDupNum(\"0123456789\"))      # True 리턴\n",
        "print(chkDupNum(\"01234\"))           # False 리턴\n",
        "print(chkDupNum(\"01234567890\"))     # False 리턴\n",
        "print(chkDupNum(\"6789012345\"))      # True 리턴\n",
        "print(chkDupNum(\"012322456789\"))    # False 리턴\n",
        "```\n",
        "\n",
        "> 위와 같이 작용하는 코드를 다른 방법으로 만드시오.\n",
        "\n",
        "```\n",
        "_________________________________________________________________________________________\n",
        "\n",
        "_________________________________________________________________________________________\n",
        "\n",
        "_________________________________________________________________________________________\n",
        "\n",
        "_________________________________________________________________________________________\n",
        "\n",
        "_________________________________________________________________________________________\n",
        "\n",
        "_________________________________________________________________________________________\n",
        "\n",
        "_________________________________________________________________________________________\n",
        "\n",
        "\n",
        "```\n"
      ]
    },
    {
      "cell_type": "code",
      "metadata": {
        "id": "CcCZ-gWW-Cih",
        "colab_type": "code",
        "colab": {
          "base_uri": "https://localhost:8080/",
          "height": 107
        },
        "outputId": "f1e1bfa2-3b5b-4624-af74-cae63429a806"
      },
      "source": [
        "def chkDupNum(s):\n",
        "  return \"True\" if len(set(s)) == 10 and len(s) == 10 else \"False\"\n",
        "  \n",
        "#set함수를 이용해 s의 길이가 10이고 그냥 s 의 길이가 10일 경우에는 True를, 아닐경우에는 False를 return한다.\n",
        "\n",
        "print(chkDupNum(\"0123456789\"))      # True 리턴\n",
        "print(chkDupNum(\"01234\"))           # False 리턴\n",
        "print(chkDupNum(\"01234567890\"))     # False 리턴\n",
        "print(chkDupNum(\"6789012345\"))      # True 리턴"
      ],
      "execution_count": 7,
      "outputs": [
        {
          "output_type": "stream",
          "text": [
            "True\n",
            "False\n",
            "False\n",
            "True\n",
            "False\n"
          ],
          "name": "stdout"
        }
      ]
    },
    {
      "cell_type": "markdown",
      "metadata": {
        "colab_type": "text",
        "id": "UhXHK9hCK9_Q"
      },
      "source": [
        "### [6: 5점] Analysis of IoT data using pandas. \n",
        "\n",
        "> express 서버의 라우팅주소를 이용해서 MongoDB 서버에 접근한다.  \n",
        "> 현재 DB에 저장되고 있는 NoSQL 문서들을 json 파일로 가져온다.  \n",
        "> IoT 문서들을 pandas의 데이터프레임으로 처리하는 다음 코드에서\n",
        "> 빈 곳을 완성하시오.  \n",
        "\n",
        "```\n",
        "import pandas as pd\n",
        "# loading json file from MongoDB via web (CORS, port=3030)\n",
        "url=\"http://chaos.inje.ac.kr:3030/iot\"\n",
        "df=pd.[6.A]_______________(url)\n",
        "\n",
        "# Make dataframe with date and \n",
        "# three sensor values(temperature, humidity, luminosity)\n",
        "iot_data = [6.B]_________________________________________________\n",
        "# Plot boxplot\n",
        "iot_data[['temperature','humidity','luminosity']].plot.\n",
        "box(title='Boxplot of temperature, humidity, and luminosity')\n",
        "\n",
        "# Plot the mean of sensor data in bar-graph\n",
        "iot_data[['temperature','humidity','luminosity']].[6.C]______________(figsize=  \n",
        "(8,6), title=\"Mean of temperature, humidity, and luminosity\")\n",
        "\n",
        "# Plot the change of sensor data over various time spans.\n",
        "# Set date as index of timestamp  \n",
        "iot_data.[6.D]_______________________________________\n",
        "\n",
        "#  Plot mean of the iot data per every minute\n",
        "iot_data.resample('60S').mean().plot(figsize=(12,6),  \n",
        " title='Minutely change of temperature, humidity, and luminosity')\n",
        "\n",
        "#  Plot a bar graph using the mean of the iot data per every day\n",
        "iot_data.resample('D').mean().plot([6.E]_________________, figsize=(12,6),  \n",
        "title='Daily change of temperature, humidity, and luminosity')\n",
        "```\n",
        "```\n",
        "[6.A]\n",
        "read_json\n",
        "# DB에 저장되고 있는 NOSQL문서들을 json 파일로 가져온다\n",
        "________________________________________________________________________________\n",
        "\n",
        "[6.B]\n",
        "df[['date','temperature','humidity','luminosity']]\n",
        "# df에 날짜, 온도, 습도, 조명 등 날짜와 세개의 센서 값인 데이터 프레임을 만든다.\n",
        "________________________________________________________________________________\n",
        "\n",
        "[6.C]\n",
        "mean().plot.bar\n",
        "# 그래프를 bar로 매일마다 iot데이터를 그린다.\n",
        "________________________________________________________________________________\n",
        "\n",
        "[6.D]\n",
        "set_index('date',inplace=True)\n",
        "# 데이터에 시간을 정해준다.\n",
        "________________________________________________________________________________\n",
        "\n",
        "[6.E]\n",
        "kind='bar'\n",
        "매일마다의 iot data를 bar로 그래프를 그린다.\n",
        "________________________________________________________________________________\n",
        "```\n"
      ]
    },
    {
      "cell_type": "markdown",
      "metadata": {
        "colab_type": "text",
        "id": "9f84atx0QQLn"
      },
      "source": [
        "### [7: 5점] Visualization of CIFAR-100 data for Computer vision\n",
        "\n",
        "> CIFAR-100 트레인 데이터셋에는 과일, 곤충, 의자, 자동차, 배, 사람,   \n",
        "> 아기, 어른 등의 100가지 종류의 사진이 각 클래스별로 500장씩 준비되어 있다.   \n",
        "> CIFAR-100 테스트 데이터셋에는 과일, 곤충, 의자, 자동차, 배, 사람,   \n",
        "> 아기, 어른 등의 100가지 종류의 사진이 각 클래스별로 100장씩 준비되어 있다.  \n",
        "> CIFAR-100 데이터셋을 시각화하는 다음 코드를 완성하시오.  \n",
        "\n",
        "```\n",
        "# use TensorFlow 2.x \n",
        "%tensorflow_version 2.x\n",
        "import pandas as pd\n",
        "import tensorflow as tf\n",
        "from tensorflow import keras\n",
        "import pandas as pd\n",
        "import matplotlib.pyplot as plt\n",
        "%matplotlib inline\n",
        "print(tf.__version__)\n",
        "\n",
        "# CIFAR-100 Dataset\n",
        "from keras.datasets import cifar100\n",
        "# load dataset\n",
        "(trainX, trainy), (testX, testy) = cifar100.load_data()\n",
        "# summarize loaded dataset\n",
        "print('Train: X=%s, y=%s' % (trainX.shape, trainy.shape))\n",
        "print('Test: X=%s, y=%s' % (testX.shape, testy.shape))\n",
        "# Train: X=(50000, 32, 32, 3), y=(50000, 1)\n",
        "# Test: X=(10000, 32, 32, 3), y=(10000, 1)\n",
        "\n",
        "# 다음은 테스트 데이터셋의 각 클래스에 속하는 사진을 한장 씩 \n",
        "# 10 X 10 격자로 보여주는 코드이다.\n",
        "##########################################\n",
        "fig = plt.figure(figsize=(10,13))\n",
        "for i in range(100):\n",
        "    plt.subplot(10, 10, i+1)\n",
        "    num0_99 = testX[testy[:,0] == i]\n",
        "    plt.imshow(num0_99[33]) #, cmap='gray') #, interpolation='none')\n",
        "    plt.title(\"Class %d\" % (i))\n",
        "    plt.xticks([])\n",
        "    plt.yticks([])\n",
        "##########################################\n",
        "\n",
        "# 테스트 데이터셋에서 클래스-35에 속한 모든 사진(100장)을 5X20 격자로 \n",
        "# 보여주는 코드를 아래에 완성하시오.\n",
        "\n",
        "```\n",
        "\n",
        "```\n",
        "\n",
        "________________________________________________________________________________\n",
        "\n",
        "\n",
        "________________________________________________________________________________\n",
        "\n",
        "\n",
        "________________________________________________________________________________\n",
        "\n",
        "\n",
        "________________________________________________________________________________\n",
        "\n",
        "\n",
        "________________________________________________________________________________\n",
        "\n",
        "\n",
        "```\n"
      ]
    },
    {
      "cell_type": "code",
      "metadata": {
        "id": "gbccVbCeCXuH",
        "colab_type": "code",
        "colab": {}
      },
      "source": [
        "fig = plt.figure(figsize=(10,13))\n",
        "for i in range(100):\n",
        "    plt.subplot(5, 20, i+1) # 5 x 20 의 형식으로 그려준다.\n",
        "    num0_99 = testX[testy[:,0] == i]\n",
        "    plt.imshow(num0_99[35]) #, cmap='gray') #, interpolation='none') 클래스 35번째에 있는 값을 가져온다.\n",
        "    plt.title(\"Class %d\" % (i))\n",
        "    plt.xticks([])\n",
        "    plt.yticks([])"
      ],
      "execution_count": 0,
      "outputs": []
    },
    {
      "cell_type": "markdown",
      "metadata": {
        "id": "aefyz-CMMExW",
        "colab_type": "text"
      },
      "source": [
        "## 정답을 설명하는 파이썬 노트를 완성해서 각자의 github에 올리시오.\n",
        "- 제출기한: 12월 23일(월) 오후 11시."
      ]
    },
    {
      "cell_type": "markdown",
      "metadata": {
        "id": "IVFkw0axMf5l",
        "colab_type": "text"
      },
      "source": [
        "### 업로드 파일명: smnn_exam_final.ipynb  (pynn은 id)"
      ]
    },
    {
      "cell_type": "code",
      "metadata": {
        "id": "kLn7HRVyKF1u",
        "colab_type": "code",
        "colab": {}
      },
      "source": [
        ""
      ],
      "execution_count": 0,
      "outputs": []
    }
  ]
}