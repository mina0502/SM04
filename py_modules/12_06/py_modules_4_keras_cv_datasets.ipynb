{
  "nbformat": 4,
  "nbformat_minor": 0,
  "metadata": {
    "colab": {
      "name": "py_modules_4_keras_cv_datasets.ipynb",
      "provenance": [],
      "collapsed_sections": [],
      "include_colab_link": true
    },
    "kernelspec": {
      "name": "python3",
      "display_name": "Python 3"
    }
  },
  "cells": [
    {
      "cell_type": "markdown",
      "metadata": {
        "id": "view-in-github",
        "colab_type": "text"
      },
      "source": [
        "<a href=\"https://colab.research.google.com/github/mina0502/SM04/blob/master/py_modules/12_06/py_modules_4_keras_cv_datasets.ipynb\" target=\"_parent\"><img src=\"https://colab.research.google.com/assets/colab-badge.svg\" alt=\"Open In Colab\"/></a>"
      ]
    },
    {
      "cell_type": "markdown",
      "metadata": {
        "id": "fgVCR-9B8riA",
        "colab_type": "text"
      },
      "source": [
        "## CV (Computer vision) datasets in AI\n",
        "- from keras\n",
        "    - MNIST\n",
        "    - Fashion-MNIST\n",
        "    - CIFAR-10 10개판독\n",
        "    - CIFAR-100 100개 판독\n",
        "  \n",
        "\n"
      ]
    },
    {
      "cell_type": "markdown",
      "metadata": {
        "id": "oCn56Xh79GPp",
        "colab_type": "text"
      },
      "source": [
        "### MNIST (Modified National Institute of Standards and Technology)\n",
        "- (60000, 28, 28), train\n",
        "- (10000, 28, 28), test\n",
        "- grayscale images of handwritten single digits between 0 and 9"
      ]
    },
    {
      "cell_type": "code",
      "metadata": {
        "id": "jb1j3u9N7qXW",
        "colab_type": "code",
        "colab": {}
      },
      "source": [
        "from keras.datasets import mnist\n",
        "import matplotlib.pyplot as plt\n",
        "%matplotlib inline\n"
      ],
      "execution_count": 0,
      "outputs": []
    },
    {
      "cell_type": "code",
      "metadata": {
        "id": "LrN5-0J_9m6Z",
        "colab_type": "code",
        "colab": {}
      },
      "source": [
        "# use TensorFlow 1.x \n",
        "%tensorflow_version 1.x\n",
        "import tensorflow as tf\n",
        "print(tf.__version__)"
      ],
      "execution_count": 0,
      "outputs": []
    },
    {
      "cell_type": "code",
      "metadata": {
        "id": "vEH3xFY_9FF6",
        "colab_type": "code",
        "colab": {}
      },
      "source": [
        "# load dataset\n",
        "(trainX, trainy), (testX, testy) = mnist.load_data()\n",
        "# summarize loaded dataset\n",
        "print('Train: X=%s, y=%s' % (trainX.shape, trainy.shape))\n",
        "print('Test: X=%s, y=%s' % (testX.shape, testy.shape))\n"
      ],
      "execution_count": 0,
      "outputs": []
    },
    {
      "cell_type": "code",
      "metadata": {
        "id": "xHTllCXd9xm9",
        "colab_type": "code",
        "colab": {}
      },
      "source": [
        "# plot first few images\n",
        "for i in range(9):\n",
        "\t# define subplot\n",
        "\tplt.subplot(330 + 1 + i)\n",
        "\t# plot raw pixel data\n",
        "\tplt.imshow(trainX[i], cmap=plt.get_cmap('gray'))\n",
        "# show the figure\n",
        "# plt.show()"
      ],
      "execution_count": 0,
      "outputs": []
    },
    {
      "cell_type": "markdown",
      "metadata": {
        "id": "4zaxz0p-bDGV",
        "colab_type": "text"
      },
      "source": [
        "### [DIY] MNIST 데이터의 숫자 분포 통계 및 그래프\n",
        "- MNIST 트레이닝, 테스트 데이터의 0 ~ 9 까지의 숫자 분포 통계를 구하시오.\n",
        "- MNIST 트레이닝, 테스트 데이터의 숫자별 히스토그램을 그리시오.\n",
        "- MNIST 트레이닝, 테스트 데이터의 각 숫자의 대표그림을 5 X 2의 배치로 그리시오."
      ]
    },
    {
      "cell_type": "markdown",
      "metadata": {
        "id": "I0WefZ-2AuCc",
        "colab_type": "text"
      },
      "source": [
        "MNIST train"
      ]
    },
    {
      "cell_type": "code",
      "metadata": {
        "id": "PntivSK19ToZ",
        "colab_type": "code",
        "colab": {}
      },
      "source": [
        "bin = np.arange(-1, 11)\n",
        "plt.hist(trainy, bin, alpha = 0.5, rwidth = 0.8)\n",
        "plt.grid()"
      ],
      "execution_count": 0,
      "outputs": []
    },
    {
      "cell_type": "code",
      "metadata": {
        "id": "kX-IWMKy8p9R",
        "colab_type": "code",
        "colab": {}
      },
      "source": [
        "import numpy as np\n",
        "type(trainy)\n",
        "unique, counts = np.unique(trainy, return_counts=True)\n",
        "mnist_train_dic = dict(zip(unique,counts))\n",
        "mnist_train_dic"
      ],
      "execution_count": 0,
      "outputs": []
    },
    {
      "cell_type": "code",
      "metadata": {
        "id": "JC7CaZS78wl2",
        "colab_type": "code",
        "colab": {}
      },
      "source": [
        "plt.bar(list(mnist_train_dic.keys()),mnist_train_dic.values(),color='g')"
      ],
      "execution_count": 0,
      "outputs": []
    },
    {
      "cell_type": "code",
      "metadata": {
        "colab_type": "code",
        "id": "ByMRfi-kAUOd",
        "colab": {}
      },
      "source": [
        "for i in range(9):\n",
        "\t# define subplot\n",
        "\tplt.subplot(250 + 1 + i)\n",
        "\t# plot raw pixel data\n",
        "\tplt.imshow(trainX[i], cmap=plt.get_cmap('gray'))"
      ],
      "execution_count": 0,
      "outputs": []
    },
    {
      "cell_type": "markdown",
      "metadata": {
        "id": "T_N4S7sxA0Cl",
        "colab_type": "text"
      },
      "source": [
        "MNIST test"
      ]
    },
    {
      "cell_type": "code",
      "metadata": {
        "id": "Jd01wbxS_mJg",
        "colab_type": "code",
        "colab": {}
      },
      "source": [
        "bin = np.arange(-1, 11)\n",
        "plt.hist(testy, bin, alpha = 0.5, rwidth = 0.8)\n",
        "plt.grid()"
      ],
      "execution_count": 0,
      "outputs": []
    },
    {
      "cell_type": "code",
      "metadata": {
        "id": "UwK4K6pD5Z5A",
        "colab_type": "code",
        "colab": {}
      },
      "source": [
        "type(testy)\n",
        "unique, counts = np.unique(testy, return_counts=True)\n",
        "mnist_test_dic = dict(zip(unique,counts))\n",
        "mnist_test_dic"
      ],
      "execution_count": 0,
      "outputs": []
    },
    {
      "cell_type": "code",
      "metadata": {
        "id": "KuGxHjm-4xE5",
        "colab_type": "code",
        "colab": {}
      },
      "source": [
        "plt.bar(list(mnist_test_dic.keys()),mnist_test_dic.values(),color='g')"
      ],
      "execution_count": 0,
      "outputs": []
    },
    {
      "cell_type": "code",
      "metadata": {
        "id": "ZhVJeq7V4O2n",
        "colab_type": "code",
        "colab": {}
      },
      "source": [
        "for i in range(9):\n",
        "\t# define subplot\n",
        "\tplt.subplot(250 + 1 + i)\n",
        "\t# plot raw pixel data\n",
        "\tplt.imshow(testX[i], cmap=plt.get_cmap('gray'))"
      ],
      "execution_count": 0,
      "outputs": []
    },
    {
      "cell_type": "markdown",
      "metadata": {
        "colab_type": "text",
        "id": "fDPYiwic_e9R"
      },
      "source": [
        "### Fashion-MNIST Dataset\n",
        "- (60000, 28, 28), train\n",
        "- (10000, 28, 28), test\n",
        "- grayscale images of items of 10 types of clothing, such as shoes, t-shirts, dresses, and more."
      ]
    },
    {
      "cell_type": "code",
      "metadata": {
        "id": "ulcFyOk9_lUB",
        "colab_type": "code",
        "colab": {}
      },
      "source": [
        "from keras.datasets import fashion_mnist\n",
        "# load dataset\n",
        "(trainX, trainy), (testX, testy) = fashion_mnist.load_data()\n",
        "# summarize loaded dataset\n",
        "print('Train: X=%s, y=%s' % (trainX.shape, trainy.shape))\n",
        "print('Test: X=%s, y=%s' % (testX.shape, testy.shape))\n"
      ],
      "execution_count": 0,
      "outputs": []
    },
    {
      "cell_type": "code",
      "metadata": {
        "id": "KKw0JW6t_q7F",
        "colab_type": "code",
        "colab": {}
      },
      "source": [
        "# plot first few images\n",
        "for i in range(9):\n",
        "\t# define subplot\n",
        "\tplt.subplot(330 + 1 + i)\n",
        "\t# plot raw pixel data\n",
        "\tplt.imshow(trainX[i], cmap=plt.get_cmap('gray'))\n",
        "# show the figure\n",
        "# plt.show()"
      ],
      "execution_count": 0,
      "outputs": []
    },
    {
      "cell_type": "markdown",
      "metadata": {
        "id": "N7-QA6aRBBPt",
        "colab_type": "text"
      },
      "source": [
        "Fashin MNIST train set"
      ]
    },
    {
      "cell_type": "code",
      "metadata": {
        "colab_type": "code",
        "id": "cIkHGvmSAKPU",
        "colab": {}
      },
      "source": [
        "type(trainy)\n",
        "unique, counts = np.unique(trainy, return_counts=True)\n",
        "mnist_train_dic = dict(zip(unique,counts))\n",
        "mnist_train_dic"
      ],
      "execution_count": 0,
      "outputs": []
    },
    {
      "cell_type": "code",
      "metadata": {
        "colab_type": "code",
        "id": "fQgZBr0TAKPh",
        "colab": {}
      },
      "source": [
        "plt.bar(list(mnist_train_dic.keys()),mnist_train_dic.values(),color='g')"
      ],
      "execution_count": 0,
      "outputs": []
    },
    {
      "cell_type": "code",
      "metadata": {
        "id": "W41qkzf-BMs2",
        "colab_type": "code",
        "colab": {}
      },
      "source": [
        "bin = np.arange(-1, 11)\n",
        "plt.hist(trainy, bin, alpha = 0.5, rwidth = 0.8)\n",
        "plt.grid()"
      ],
      "execution_count": 0,
      "outputs": []
    },
    {
      "cell_type": "code",
      "metadata": {
        "colab_type": "code",
        "id": "GjKaUeS9AKPk",
        "colab": {}
      },
      "source": [
        "for i in range(9):\n",
        "\t# define subplot\n",
        "\tplt.subplot(250 + 1 + i)\n",
        "\t# plot raw pixel data\n",
        "\tplt.imshow(trainX[i], cmap=plt.get_cmap('gray'))"
      ],
      "execution_count": 0,
      "outputs": []
    },
    {
      "cell_type": "markdown",
      "metadata": {
        "id": "YI6Ktv7vBgVZ",
        "colab_type": "text"
      },
      "source": [
        "Fashion MNIST TEST"
      ]
    },
    {
      "cell_type": "code",
      "metadata": {
        "colab_type": "code",
        "id": "U8CqBcp2BRv9",
        "colab": {}
      },
      "source": [
        "type(testy)\n",
        "unique, counts = np.unique(testy, return_counts=True)\n",
        "mnist_test_dic = dict(zip(unique,counts))\n",
        "mnist_test_dic"
      ],
      "execution_count": 0,
      "outputs": []
    },
    {
      "cell_type": "code",
      "metadata": {
        "colab_type": "code",
        "id": "9PnKsUCJBRwE",
        "colab": {}
      },
      "source": [
        "plt.bar(list(mnist_test_dic.keys()),mnist_test_dic.values(),color='g')"
      ],
      "execution_count": 0,
      "outputs": []
    },
    {
      "cell_type": "code",
      "metadata": {
        "colab_type": "code",
        "id": "5T-aoLw7BRwI",
        "colab": {}
      },
      "source": [
        "bin = np.arange(-1, 11)\n",
        "plt.hist(testy, bin, alpha = 0.5, rwidth = 0.8)\n",
        "plt.grid()"
      ],
      "execution_count": 0,
      "outputs": []
    },
    {
      "cell_type": "code",
      "metadata": {
        "colab_type": "code",
        "id": "qAmq2YAEBRwM",
        "colab": {}
      },
      "source": [
        "for i in range(9):\n",
        "\t# define subplot\n",
        "\tplt.subplot(250 + 1 + i)\n",
        "\t# plot raw pixel data\n",
        "\tplt.imshow(testX[i], cmap=plt.get_cmap('gray'))"
      ],
      "execution_count": 0,
      "outputs": []
    },
    {
      "cell_type": "markdown",
      "metadata": {
        "colab_type": "text",
        "id": "M1YAaELN_fQq"
      },
      "source": [
        "### CIFAR-10 Dataset (CIFAR: Canadian Institute For Advanced Research)\n",
        "- (50000, 32, 32), train\n",
        "- (10000, 32, 32) test\n",
        "- color photographs of objects from 10 classes, such as frogs, birds, cats, ships, etc"
      ]
    },
    {
      "cell_type": "code",
      "metadata": {
        "id": "iTJBblaRBAyY",
        "colab_type": "code",
        "colab": {}
      },
      "source": [
        "from keras.datasets import cifar10\n",
        "# load dataset\n",
        "(trainX, trainy), (testX, testy) = cifar10.load_data()\n",
        "# summarize loaded dataset\n",
        "print('Train: X=%s, y=%s' % (trainX.shape, trainy.shape))\n",
        "print('Test: X=%s, y=%s' % (testX.shape, testy.shape))\n"
      ],
      "execution_count": 0,
      "outputs": []
    },
    {
      "cell_type": "code",
      "metadata": {
        "id": "mfawQnFoDQPj",
        "colab_type": "code",
        "colab": {}
      },
      "source": [
        "testy[:10]"
      ],
      "execution_count": 0,
      "outputs": []
    },
    {
      "cell_type": "code",
      "metadata": {
        "id": "EOuoySmRA8n-",
        "colab_type": "code",
        "colab": {}
      },
      "source": [
        "# plot first few images\n",
        "for i in range(9):\n",
        "\t# define subplot\n",
        "\tplt.subplot(330 + 1 + i)\n",
        "\t# plot raw pixel data\n",
        "\tplt.imshow(trainX[i])\n",
        "# show the figure\n",
        "# plt.show()"
      ],
      "execution_count": 0,
      "outputs": []
    },
    {
      "cell_type": "markdown",
      "metadata": {
        "id": "UKQJP2A7CMj9",
        "colab_type": "text"
      },
      "source": [
        "### CIFAR-10 trainset"
      ]
    },
    {
      "cell_type": "code",
      "metadata": {
        "colab_type": "code",
        "id": "Xc4F3oUcCLZR",
        "colab": {}
      },
      "source": [
        "type(trainy)\n",
        "unique, counts = np.unique(trainy, return_counts=True)\n",
        "mnist_train_dic = dict(zip(unique,counts))\n",
        "mnist_train_dic"
      ],
      "execution_count": 0,
      "outputs": []
    },
    {
      "cell_type": "code",
      "metadata": {
        "colab_type": "code",
        "id": "dOgAc_gRCLZd",
        "colab": {}
      },
      "source": [
        "plt.bar(list(mnist_train_dic.keys()),mnist_train_dic.values(),color='g')"
      ],
      "execution_count": 0,
      "outputs": []
    },
    {
      "cell_type": "code",
      "metadata": {
        "colab_type": "code",
        "id": "ecCjWgtlCLZh",
        "colab": {}
      },
      "source": [
        "bin = np.arange(-1, 11)\n",
        "plt.hist(trainy, bin, alpha = 0.5, rwidth = 0.8)\n",
        "plt.grid()"
      ],
      "execution_count": 0,
      "outputs": []
    },
    {
      "cell_type": "code",
      "metadata": {
        "id": "AWkjTiSrDjMy",
        "colab_type": "code",
        "colab": {}
      },
      "source": [
        "fig = plt.figure(figsize=(10,6))\n",
        "for i in range(10):\n",
        "  plt.subplot(2,5,i+1)\n",
        "  num0_9 = trainX[trainy[:,0]==i]\n",
        "  plt.imshow(num0_9[0])\n",
        "  plt.title(\"Class %d\" % (i))\n",
        "  plt.xticks([])\n",
        "  plt.yticks([])"
      ],
      "execution_count": 0,
      "outputs": []
    },
    {
      "cell_type": "markdown",
      "metadata": {
        "id": "g93BWDv1CUcf",
        "colab_type": "text"
      },
      "source": [
        "### CIFAR-10 testset"
      ]
    },
    {
      "cell_type": "code",
      "metadata": {
        "colab_type": "code",
        "id": "M9PgHZZ0CLZs",
        "colab": {}
      },
      "source": [
        "type(testy)\n",
        "unique, counts = np.unique(testy, return_counts=True)\n",
        "mnist_test_dic = dict(zip(unique,counts))\n",
        "mnist_test_dic"
      ],
      "execution_count": 0,
      "outputs": []
    },
    {
      "cell_type": "code",
      "metadata": {
        "colab_type": "code",
        "id": "Xpu-SMueCLZw",
        "colab": {}
      },
      "source": [
        "plt.bar(list(mnist_test_dic.keys()),mnist_test_dic.values(),color='g')"
      ],
      "execution_count": 0,
      "outputs": []
    },
    {
      "cell_type": "code",
      "metadata": {
        "colab_type": "code",
        "id": "swF6xAmDCLZz",
        "colab": {}
      },
      "source": [
        "bin = np.arange(-1, 11)\n",
        "plt.hist(testy, bin, alpha = 0.5, rwidth = 0.8)\n",
        "plt.grid()"
      ],
      "execution_count": 0,
      "outputs": []
    },
    {
      "cell_type": "code",
      "metadata": {
        "id": "IkNP20ouEn6A",
        "colab_type": "code",
        "colab": {}
      },
      "source": [
        "fig = plt.figure(figsize=(10,6))\n",
        "for i in range(10):\n",
        "  plt.subplot(2,5,i+1)\n",
        "  num0_9 = testX[testy[:,0]==i]\n",
        "  plt.imshow(num0_9[0])\n",
        "  plt.title(\"Class %d\" % (i))\n",
        "  plt.xticks([])\n",
        "  plt.yticks([])"
      ],
      "execution_count": 0,
      "outputs": []
    },
    {
      "cell_type": "markdown",
      "metadata": {
        "colab_type": "text",
        "id": "6X7hjR20BzzQ"
      },
      "source": [
        "### CIFAR-100 Dataset (CIFAR: Canadian Institute For Advanced Research)\n",
        "- (50000, 32, 32), train\n",
        "- (10000, 32, 32) test\n",
        "- color photographs of objects from 100 classes, such as fish, flowers, insects, and much more"
      ]
    },
    {
      "cell_type": "code",
      "metadata": {
        "id": "pjAEqleIB-5h",
        "colab_type": "code",
        "colab": {}
      },
      "source": [
        "from keras.datasets import cifar100\n",
        "# load dataset\n",
        "(trainX, trainy), (testX, testy) = cifar100.load_data()\n",
        "# summarize loaded dataset\n",
        "print('Train: X=%s, y=%s' % (trainX.shape, trainy.shape))\n",
        "print('Test: X=%s, y=%s' % (testX.shape, testy.shape))"
      ],
      "execution_count": 0,
      "outputs": []
    },
    {
      "cell_type": "code",
      "metadata": {
        "id": "n2opLJIECHRq",
        "colab_type": "code",
        "colab": {}
      },
      "source": [
        "# plot first few images\n",
        "for i in range(9):\n",
        "\t# define subplot\n",
        "\tplt.subplot(330 + 1 + i)\n",
        "\t# plot raw pixel data\n",
        "\tplt.imshow(trainX[i])\n",
        "# show the figure\n",
        "# plt.show()"
      ],
      "execution_count": 0,
      "outputs": []
    },
    {
      "cell_type": "markdown",
      "metadata": {
        "colab_type": "text",
        "id": "m2Som4pzGH5Q"
      },
      "source": [
        "### CIFAR-100 testset"
      ]
    },
    {
      "cell_type": "code",
      "metadata": {
        "colab_type": "code",
        "id": "P6aw7W6dGH5V",
        "colab": {}
      },
      "source": [
        "type(testy)\n",
        "unique, counts = np.unique(testy, return_counts=True)\n",
        "mnist_test_dic = dict(zip(unique,counts))\n",
        "mnist_test_dic"
      ],
      "execution_count": 0,
      "outputs": []
    },
    {
      "cell_type": "code",
      "metadata": {
        "colab_type": "code",
        "id": "eSXuZJ9BGH5b",
        "colab": {}
      },
      "source": [
        "plt.bar(list(mnist_test_dic.keys()),mnist_test_dic.values(),color='g')"
      ],
      "execution_count": 0,
      "outputs": []
    },
    {
      "cell_type": "code",
      "metadata": {
        "colab_type": "code",
        "id": "ZadAc8nfGH5i",
        "colab": {}
      },
      "source": [
        "bin = np.arange(0, 101)\n",
        "plt.hist(testy, bin, alpha = 0.5, rwidth = 0.8)\n",
        "plt.grid()"
      ],
      "execution_count": 0,
      "outputs": []
    },
    {
      "cell_type": "code",
      "metadata": {
        "colab_type": "code",
        "id": "L1_Yot6VGH5p",
        "colab": {}
      },
      "source": [
        "fig = plt.figure(figsize=(12,15))\n",
        "for i in range(100):\n",
        "  plt.subplot(10,10,i+1)\n",
        "  num0_9 = testX[testy[:,0]==i]\n",
        "  plt.imshow(num0_9[0])\n",
        "  plt.title(\"Class %d\" % (i))\n",
        "  plt.xticks([])\n",
        "  plt.yticks([])"
      ],
      "execution_count": 0,
      "outputs": []
    },
    {
      "cell_type": "markdown",
      "metadata": {
        "id": "KzRSE5NPEPAD",
        "colab_type": "text"
      },
      "source": [
        "#### [도전} CIFAR-100의 첫 20개의 사진을 그려보시오."
      ]
    },
    {
      "cell_type": "code",
      "metadata": {
        "id": "VHapgtu6DGh9",
        "colab_type": "code",
        "colab": {}
      },
      "source": [
        "fig = plt.figure(figsize=(12,15))\n",
        "for i in range(20):\n",
        "  plt.subplot(10,10,i+1)\n",
        "  num0_9 = trainX[trainy[:,0]==i]\n",
        "  plt.imshow(num0_9[0])\n",
        "  plt.title(\"Class %d\" % (i+1))\n",
        "  plt.xticks([])\n",
        "  plt.yticks([])"
      ],
      "execution_count": 0,
      "outputs": []
    },
    {
      "cell_type": "markdown",
      "metadata": {
        "id": "Dv7xgN1NCSwC",
        "colab_type": "text"
      },
      "source": [
        "## What is your dataset?"
      ]
    },
    {
      "cell_type": "code",
      "metadata": {
        "id": "J-LVdIFS8czZ",
        "colab_type": "code",
        "colab": {}
      },
      "source": [
        ""
      ],
      "execution_count": 0,
      "outputs": []
    }
  ]
}