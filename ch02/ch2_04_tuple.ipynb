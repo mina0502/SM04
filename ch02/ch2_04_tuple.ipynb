{
  "nbformat": 4,
  "nbformat_minor": 0,
  "metadata": {
    "colab": {
      "name": "ch2_04_tuple.ipynb",
      "provenance": [],
      "collapsed_sections": [],
      "include_colab_link": true
    },
    "kernelspec": {
      "name": "python3",
      "display_name": "Python 3"
    }
  },
  "cells": [
    {
      "cell_type": "markdown",
      "metadata": {
        "id": "view-in-github",
        "colab_type": "text"
      },
      "source": [
        "<a href=\"https://colab.research.google.com/github/mina0502/SM04/blob/master/ch02/ch2_04_tuple.ipynb\" target=\"_parent\"><img src=\"https://colab.research.google.com/assets/colab-badge.svg\" alt=\"Open In Colab\"/></a>"
      ]
    },
    {
      "cell_type": "markdown",
      "metadata": {
        "id": "CFFqn4d0VJ3a",
        "colab_type": "text"
      },
      "source": [
        "**리스트는 [ ]으로 둘러싸지만 튜플은 ( )으로 둘러싼다.**\n",
        "\n",
        "**리스트는 그 값의 생성, 삭제, 수정이 가능하지만 튜플은 그 값을 바꿀 수 없다.**"
      ]
    },
    {
      "cell_type": "code",
      "metadata": {
        "id": "B3YejqTOVBz2",
        "colab_type": "code",
        "outputId": "b92048b4-4897-4cf3-aa3d-d9a76dde0aae",
        "colab": {
          "base_uri": "https://localhost:8080/",
          "height": 53
        }
      },
      "source": [
        "# ch2_06_tuple.py\n",
        "\n",
        "print(\"튜플: tuple 이란?\")\n",
        "\n",
        "even = (2, 4, 6, 8)\n",
        "even"
      ],
      "execution_count": 0,
      "outputs": [
        {
          "output_type": "stream",
          "text": [
            "튜플: tuple 이란?\n"
          ],
          "name": "stdout"
        },
        {
          "output_type": "execute_result",
          "data": {
            "text/plain": [
              "(2, 4, 6, 8)"
            ]
          },
          "metadata": {
            "tags": []
          },
          "execution_count": 3
        }
      ]
    },
    {
      "cell_type": "code",
      "metadata": {
        "id": "W00sOWKQVUdP",
        "colab_type": "code",
        "outputId": "ad16c292-8f70-4c60-d240-5bfb08ecc0c0",
        "colab": {
          "base_uri": "https://localhost:8080/",
          "height": 107
        }
      },
      "source": [
        "\n",
        "# 여러 가지 튜플\n",
        "t1 = ()  # 튜플 초기화\n",
        "t2 = (1,)\n",
        "t3 = (1, 2, 3)\n",
        "t4 = 1, 2, 3\n",
        "t5 = (\"a\", \"b\", (\"ab\", \"cd\"))\n",
        "# t2 = (1,)처럼 단지 1개의 요소만을 가질 때는 요소 뒤에\n",
        "# 콤마(,)를 반드시 붙여야 한다는 것과\n",
        "# t4 = 1, 2, 3처럼 괄호( )를 생략해도 무방하다.\n",
        "print(t1)\n",
        "print(t2)\n",
        "print(t3)\n",
        "print(t4)\n",
        "print(t5)"
      ],
      "execution_count": 0,
      "outputs": [
        {
          "output_type": "stream",
          "text": [
            "()\n",
            "(1,)\n",
            "(1, 2, 3)\n",
            "(1, 2, 3)\n",
            "('a', 'b', ('ab', 'cd'))\n"
          ],
          "name": "stdout"
        }
      ]
    },
    {
      "cell_type": "markdown",
      "metadata": {
        "id": "bqtBhkrOWEaC",
        "colab_type": "text"
      },
      "source": [
        "**tuple --> 불변형!!**\n",
        "\n",
        "**indexing ==> 대괄호**"
      ]
    },
    {
      "cell_type": "markdown",
      "metadata": {
        "id": "zyqeWIBjWNSC",
        "colab_type": "text"
      },
      "source": [
        "**'tuple' object doesn't support item deletion**"
      ]
    },
    {
      "cell_type": "code",
      "metadata": {
        "id": "XrE-Tlh1Vs0F",
        "colab_type": "code",
        "outputId": "e25d1fb3-ffef-4fc7-c579-41863f5cce7b",
        "colab": {
          "base_uri": "https://localhost:8080/",
          "height": 208
        }
      },
      "source": [
        "\n",
        "#####################################################\n",
        "#\n",
        "# 튜플의 요소값을 지우거나 변경하려고 하면 어떻게 될까?\n",
        "#\n",
        "# 1. 튜플 요솟값을 삭제하려 할 때\n",
        "t1 = (1, 2, \"a\", \"b\")\n",
        "del t1[0]  # Error\n",
        "#"
      ],
      "execution_count": 0,
      "outputs": [
        {
          "output_type": "error",
          "ename": "TypeError",
          "evalue": "ignored",
          "traceback": [
            "\u001b[0;31m---------------------------------------------------------------------------\u001b[0m",
            "\u001b[0;31mTypeError\u001b[0m                                 Traceback (most recent call last)",
            "\u001b[0;32m<ipython-input-6-0141419b4945>\u001b[0m in \u001b[0;36m<module>\u001b[0;34m()\u001b[0m\n\u001b[1;32m      1\u001b[0m \u001b[0mt1\u001b[0m \u001b[0;34m=\u001b[0m \u001b[0;34m(\u001b[0m\u001b[0;36m1\u001b[0m\u001b[0;34m,\u001b[0m \u001b[0;36m2\u001b[0m\u001b[0;34m,\u001b[0m \u001b[0;34m\"a\"\u001b[0m\u001b[0;34m,\u001b[0m \u001b[0;34m\"b\"\u001b[0m\u001b[0;34m)\u001b[0m\u001b[0;34m\u001b[0m\u001b[0;34m\u001b[0m\u001b[0m\n\u001b[0;32m----> 2\u001b[0;31m \u001b[0;32mdel\u001b[0m \u001b[0mt1\u001b[0m\u001b[0;34m[\u001b[0m\u001b[0;36m0\u001b[0m\u001b[0;34m]\u001b[0m  \u001b[0;31m# Error\u001b[0m\u001b[0;34m\u001b[0m\u001b[0;34m\u001b[0m\u001b[0m\n\u001b[0m\u001b[1;32m      3\u001b[0m \u001b[0;31m#\u001b[0m\u001b[0;34m\u001b[0m\u001b[0;34m\u001b[0m\u001b[0;34m\u001b[0m\u001b[0m\n",
            "\u001b[0;31mTypeError\u001b[0m: 'tuple' object doesn't support item deletion"
          ]
        }
      ]
    },
    {
      "cell_type": "markdown",
      "metadata": {
        "id": "we5byxZxWR7y",
        "colab_type": "text"
      },
      "source": [
        "**'tuple' object does not support item assignment**"
      ]
    },
    {
      "cell_type": "code",
      "metadata": {
        "id": "RlnPSSjlWKUK",
        "colab_type": "code",
        "outputId": "9955cb68-feaa-4abf-c69b-699e5bba2b4b",
        "colab": {
          "base_uri": "https://localhost:8080/",
          "height": 190
        }
      },
      "source": [
        "\n",
        "# 2. 튜플 요솟값을 변경하려 할 때\n",
        "#\n",
        "t1[0] = \"c\"  # TypeError\n",
        "#"
      ],
      "execution_count": 0,
      "outputs": [
        {
          "output_type": "error",
          "ename": "TypeError",
          "evalue": "ignored",
          "traceback": [
            "\u001b[0;31m---------------------------------------------------------------------------\u001b[0m",
            "\u001b[0;31mTypeError\u001b[0m                                 Traceback (most recent call last)",
            "\u001b[0;32m<ipython-input-7-955ad50d6464>\u001b[0m in \u001b[0;36m<module>\u001b[0;34m()\u001b[0m\n\u001b[0;32m----> 1\u001b[0;31m \u001b[0mt1\u001b[0m\u001b[0;34m[\u001b[0m\u001b[0;36m0\u001b[0m\u001b[0;34m]\u001b[0m \u001b[0;34m=\u001b[0m \u001b[0;34m\"c\"\u001b[0m  \u001b[0;31m# TypeError\u001b[0m\u001b[0;34m\u001b[0m\u001b[0;34m\u001b[0m\u001b[0m\n\u001b[0m\u001b[1;32m      2\u001b[0m \u001b[0;31m#\u001b[0m\u001b[0;34m\u001b[0m\u001b[0;34m\u001b[0m\u001b[0;34m\u001b[0m\u001b[0m\n",
            "\u001b[0;31mTypeError\u001b[0m: 'tuple' object does not support item assignment"
          ]
        }
      ]
    },
    {
      "cell_type": "markdown",
      "metadata": {
        "id": "GmOExftdWWzT",
        "colab_type": "text"
      },
      "source": [
        "**튜플: 사용방법**"
      ]
    },
    {
      "cell_type": "code",
      "metadata": {
        "id": "a7lLGvE3WPqU",
        "colab_type": "code",
        "outputId": "814435ae-cf6d-4616-e72c-d73d114d09ad",
        "colab": {
          "base_uri": "https://localhost:8080/",
          "height": 53
        }
      },
      "source": [
        "\n",
        "\n",
        "# 인덱싱하기\n",
        "#\n",
        "t1 = (1, 2, \"a\", \"b\")\n",
        "print(t1[0])\n",
        "print(t1[3])\n",
        "#"
      ],
      "execution_count": 0,
      "outputs": [
        {
          "output_type": "stream",
          "text": [
            "1\n",
            "b\n"
          ],
          "name": "stdout"
        }
      ]
    },
    {
      "cell_type": "markdown",
      "metadata": {
        "id": "-bl0VYfxWd5k",
        "colab_type": "text"
      },
      "source": [
        "**내부튜플 정의시**\n",
        "\n",
        "**다중 인덱싱 가능**\n",
        "\n",
        "**튜플 단일 요소일경우 단일요소 값 ','로 나옴**"
      ]
    },
    {
      "cell_type": "code",
      "metadata": {
        "id": "bPdOBd_iWZGX",
        "colab_type": "code",
        "outputId": "402bd28b-07c6-4fe4-f3b7-6e547a9a5736",
        "colab": {
          "base_uri": "https://localhost:8080/",
          "height": 71
        }
      },
      "source": [
        "\n",
        "# 슬라이싱하기\n",
        "#\n",
        "t1 = (1, 2, \"a\", \"b\")\n",
        "print(t1[1:])\n",
        "print(t1[2:-1])  # ('a',)\n",
        "print(t1[2:])\n",
        "#"
      ],
      "execution_count": 0,
      "outputs": [
        {
          "output_type": "stream",
          "text": [
            "(2, 'a', 'b')\n",
            "('a',)\n",
            "('a', 'b')\n"
          ],
          "name": "stdout"
        }
      ]
    },
    {
      "cell_type": "markdown",
      "metadata": {
        "id": "HPmkB0BoXCjK",
        "colab_type": "text"
      },
      "source": [
        "**t1+t2 ==>  새로운 영역이 생김**"
      ]
    },
    {
      "cell_type": "code",
      "metadata": {
        "id": "_JZaRHmoWcpA",
        "colab_type": "code",
        "outputId": "cb9e598d-e389-46c7-d19c-0ed9f9cd05cc",
        "colab": {
          "base_uri": "https://localhost:8080/",
          "height": 35
        }
      },
      "source": [
        "\n",
        "# 튜플 더하기\n",
        "#\n",
        "t1 = (1, 2, \"a\", \"b\")\n",
        "t2 = (3, 4)\n",
        "t1 + t2"
      ],
      "execution_count": 0,
      "outputs": [
        {
          "output_type": "execute_result",
          "data": {
            "text/plain": [
              "(1, 2, 'a', 'b', 3, 4)"
            ]
          },
          "metadata": {
            "tags": []
          },
          "execution_count": 10
        }
      ]
    },
    {
      "cell_type": "markdown",
      "metadata": {
        "id": "W8pKDi3oXUzH",
        "colab_type": "text"
      },
      "source": [
        "**제정의를 할 경우 새로운 요소가 들어가므로 주소가 달라짐**\n",
        "\n",
        "**각각의 불변성을 유지함**"
      ]
    },
    {
      "cell_type": "code",
      "metadata": {
        "id": "ujjz6gRsW_SO",
        "colab_type": "code",
        "outputId": "6a3750c4-e18f-4d91-ed05-64fcdd8b8982",
        "colab": {
          "base_uri": "https://localhost:8080/",
          "height": 71
        }
      },
      "source": [
        "\n",
        "#\n",
        "# 튜플 곱하기\n",
        "#\n",
        "t2 = (3, 4)\n",
        "print(id(t2))\n",
        "t2 * 3\n",
        "print(id(t2))\n",
        "t2 = t2 * 3\n",
        "print(id(t2))"
      ],
      "execution_count": 0,
      "outputs": [
        {
          "output_type": "stream",
          "text": [
            "140409499799176\n",
            "140409499799176\n",
            "140409499325160\n"
          ],
          "name": "stdout"
        }
      ]
    },
    {
      "cell_type": "markdown",
      "metadata": {
        "id": "lOwAlONcXgSD",
        "colab_type": "text"
      },
      "source": [
        "**튜플 길이 구하기**"
      ]
    },
    {
      "cell_type": "code",
      "metadata": {
        "id": "ErnncGeQXHgL",
        "colab_type": "code",
        "outputId": "4852fa83-b6aa-4d66-9e83-11c22844ad69",
        "colab": {
          "base_uri": "https://localhost:8080/",
          "height": 35
        }
      },
      "source": [
        "\n",
        "#\n",
        "# 튜플 길이 구하기\n",
        "#\n",
        "t1 = (1, 2, \"a\", \"b\")\n",
        "len(t1)\n",
        "#\n",
        "#\n",
        "\n"
      ],
      "execution_count": 0,
      "outputs": [
        {
          "output_type": "execute_result",
          "data": {
            "text/plain": [
              "4"
            ]
          },
          "metadata": {
            "tags": []
          },
          "execution_count": 12
        }
      ]
    },
    {
      "cell_type": "code",
      "metadata": {
        "id": "NY_bOy-yXjmK",
        "colab_type": "code",
        "colab": {}
      },
      "source": [
        ""
      ],
      "execution_count": 0,
      "outputs": []
    }
  ]
}