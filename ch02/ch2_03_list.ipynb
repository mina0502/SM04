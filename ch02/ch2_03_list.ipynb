{
  "nbformat": 4,
  "nbformat_minor": 0,
  "metadata": {
    "colab": {
      "name": "ch2_03_list.ipynb",
      "provenance": [],
      "collapsed_sections": [],
      "include_colab_link": true
    },
    "kernelspec": {
      "name": "python3",
      "display_name": "Python 3"
    }
  },
  "cells": [
    {
      "cell_type": "markdown",
      "metadata": {
        "id": "view-in-github",
        "colab_type": "text"
      },
      "source": [
        "<a href=\"https://colab.research.google.com/github/mina0502/SM04/blob/master/ch02/ch2_03_list.ipynb\" target=\"_parent\"><img src=\"https://colab.research.google.com/assets/colab-badge.svg\" alt=\"Open In Colab\"/></a>"
      ]
    },
    {
      "cell_type": "markdown",
      "metadata": {
        "id": "F8FtyxvRG5rp",
        "colab_type": "text"
      },
      "source": [
        "**Python 에는 배열형이 없음 \n",
        " (LIST, TUPLE SET 에서 배열 같이 사용할 수 있음)**"
      ]
    },
    {
      "cell_type": "code",
      "metadata": {
        "id": "Uv6OU62hEzEM",
        "colab_type": "code",
        "outputId": "8fdc7ea8-35ff-448e-c7c7-1e12a87c2725",
        "colab": {
          "base_uri": "https://localhost:8080/",
          "height": 52
        }
      },
      "source": [
        "# ch2_04_list.py\n",
        "\n",
        "print(\"리스트: list 란?\")\n",
        "odd = [1, 3, 5, 7, 9]\n",
        "# 여러 가지 리스트\n",
        "a = []   # list 초기화\n",
        "b = [1, 2, 3]\n",
        "c = ['Life', 'is', 'too', 'short']\n",
        "odd,a,b,c"
      ],
      "execution_count": 0,
      "outputs": [
        {
          "output_type": "stream",
          "text": [
            "리스트: list 란?\n"
          ],
          "name": "stdout"
        },
        {
          "output_type": "execute_result",
          "data": {
            "text/plain": [
              "([1, 3, 5, 7, 9], [], [1, 2, 3], ['Life', 'is', 'too', 'short'])"
            ]
          },
          "metadata": {
            "tags": []
          },
          "execution_count": 2
        }
      ]
    },
    {
      "cell_type": "markdown",
      "metadata": {
        "id": "7UDIJ5VbH3O2",
        "colab_type": "text"
      },
      "source": [
        "**Python은 자료형 모두 리스트에 받을 수 있음(사용자의 편에서 구조를 설계)**"
      ]
    },
    {
      "cell_type": "code",
      "metadata": {
        "id": "i32MmPU5HvNY",
        "colab_type": "code",
        "outputId": "833c5115-ee8e-4a4a-8917-117889a09752",
        "colab": {
          "base_uri": "https://localhost:8080/",
          "height": 52
        }
      },
      "source": [
        "d = [1, 2, 'Life', 'is']\n",
        "e = [1, 2, ['Life', 'is']]\n",
        "print(d)\n",
        "print(e)"
      ],
      "execution_count": 0,
      "outputs": [
        {
          "output_type": "stream",
          "text": [
            "[1, 2, 'Life', 'is']\n",
            "[1, 2, ['Life', 'is']]\n"
          ],
          "name": "stdout"
        }
      ]
    },
    {
      "cell_type": "markdown",
      "metadata": {
        "id": "FAWoLkHbIMUb",
        "colab_type": "text"
      },
      "source": [
        "**리스트 설계 구조 -> 딥러닝, 머신러닝에 적합함★**"
      ]
    },
    {
      "cell_type": "code",
      "metadata": {
        "id": "QbI3slLQIDLC",
        "colab_type": "code",
        "outputId": "d5a027cb-69f4-4c32-ba1b-5e30bb8e2212",
        "colab": {
          "base_uri": "https://localhost:8080/",
          "height": 34
        }
      },
      "source": [
        "a = list() #리스트 생성\n",
        "a   # []\n"
      ],
      "execution_count": 0,
      "outputs": [
        {
          "output_type": "execute_result",
          "data": {
            "text/plain": [
              "[]"
            ]
          },
          "metadata": {
            "tags": []
          },
          "execution_count": 4
        }
      ]
    },
    {
      "cell_type": "markdown",
      "metadata": {
        "id": "a6MpEyfzIbel",
        "colab_type": "text"
      },
      "source": [
        "**Index와 Value 차이**\n",
        "**파이썬은 인덱스를 가지고 접근 가능**"
      ]
    },
    {
      "cell_type": "code",
      "metadata": {
        "id": "6Bn8xMcuHiBG",
        "colab_type": "code",
        "outputId": "df57b5f2-6a75-4b8c-b360-cd4a1eff2c5b",
        "colab": {
          "base_uri": "https://localhost:8080/",
          "height": 105
        }
      },
      "source": [
        "\n",
        "print(\"리스트: 리스트의 인덱싱과 슬라이싱\")\n",
        "a = [1, 2, 3]\n",
        "print(a)\n",
        "print(a[0])\n",
        "print(a[0]+a[2]) #4\n",
        "print(a[-1]) # 3\n",
        "#"
      ],
      "execution_count": 0,
      "outputs": [
        {
          "output_type": "stream",
          "text": [
            "리스트: 리스트의 인덱싱과 슬라이싱\n",
            "[1, 2, 3]\n",
            "1\n",
            "4\n",
            "3\n"
          ],
          "name": "stdout"
        }
      ]
    },
    {
      "cell_type": "markdown",
      "metadata": {
        "id": "g8cInvUGI_pO",
        "colab_type": "text"
      },
      "source": [
        "**list index out of range 범위를 넘어감**"
      ]
    },
    {
      "cell_type": "code",
      "metadata": {
        "id": "HMDjWx5wIxcd",
        "colab_type": "code",
        "outputId": "3b607f5c-62ed-40f1-d578-c464bbb00a7f",
        "colab": {
          "base_uri": "https://localhost:8080/",
          "height": 187
        }
      },
      "source": [
        "a = [1, 2, 3]\n",
        "print(a[3]) # list index out of range 범위를 넘어감"
      ],
      "execution_count": 0,
      "outputs": [
        {
          "output_type": "error",
          "ename": "IndexError",
          "evalue": "ignored",
          "traceback": [
            "\u001b[0;31m---------------------------------------------------------------------------\u001b[0m",
            "\u001b[0;31mIndexError\u001b[0m                                Traceback (most recent call last)",
            "\u001b[0;32m<ipython-input-7-8a561345a3d4>\u001b[0m in \u001b[0;36m<module>\u001b[0;34m()\u001b[0m\n\u001b[1;32m      1\u001b[0m \u001b[0ma\u001b[0m \u001b[0;34m=\u001b[0m \u001b[0;34m[\u001b[0m\u001b[0;36m1\u001b[0m\u001b[0;34m,\u001b[0m \u001b[0;36m2\u001b[0m\u001b[0;34m,\u001b[0m \u001b[0;36m3\u001b[0m\u001b[0;34m]\u001b[0m\u001b[0;34m\u001b[0m\u001b[0;34m\u001b[0m\u001b[0m\n\u001b[0;32m----> 2\u001b[0;31m \u001b[0mprint\u001b[0m\u001b[0;34m(\u001b[0m\u001b[0ma\u001b[0m\u001b[0;34m[\u001b[0m\u001b[0;36m3\u001b[0m\u001b[0;34m]\u001b[0m\u001b[0;34m)\u001b[0m \u001b[0;31m# list index out of range 범위를 넘어감\u001b[0m\u001b[0;34m\u001b[0m\u001b[0;34m\u001b[0m\u001b[0m\n\u001b[0m",
            "\u001b[0;31mIndexError\u001b[0m: list index out of range"
          ]
        }
      ]
    },
    {
      "cell_type": "code",
      "metadata": {
        "id": "YqnJM7afIZBk",
        "colab_type": "code",
        "outputId": "ff09c291-b4e5-459e-ff4c-3a3a8ed34b78",
        "colab": {
          "base_uri": "https://localhost:8080/",
          "height": 123
        }
      },
      "source": [
        "\n",
        "a = [1, 2, 3, ['a', 'b', 'c']]\n",
        "print(a[0])\n",
        "print(a[2])\n",
        "print(a[3]) # 내부리스트\n",
        "print(a[3][1]) #내부리스트의 서브리스트 (2차원 배열 인덱싱 가능)\n",
        "print(a[-1]) #맨마지막 리스트\n",
        "print(a[-1][0]) #'a'"
      ],
      "execution_count": 0,
      "outputs": [
        {
          "output_type": "stream",
          "text": [
            "1\n",
            "3\n",
            "['a', 'b', 'c']\n",
            "b\n",
            "['a', 'b', 'c']\n",
            "a\n"
          ],
          "name": "stdout"
        }
      ]
    },
    {
      "cell_type": "markdown",
      "metadata": {
        "id": "LvT1QU-2JsHk",
        "colab_type": "text"
      },
      "source": [
        "**'int' and 'list' 자료형이 다름**"
      ]
    },
    {
      "cell_type": "code",
      "metadata": {
        "id": "l9fq9pYcJmfV",
        "colab_type": "code",
        "outputId": "81b253d3-d053-41e1-cff9-34223ba69fc7",
        "colab": {
          "base_uri": "https://localhost:8080/",
          "height": 187
        }
      },
      "source": [
        "a = [1, 2, 3, ['a', 'b', 'c']]\n",
        "a[0]+a[-1]"
      ],
      "execution_count": 0,
      "outputs": [
        {
          "output_type": "error",
          "ename": "TypeError",
          "evalue": "ignored",
          "traceback": [
            "\u001b[0;31m---------------------------------------------------------------------------\u001b[0m",
            "\u001b[0;31mTypeError\u001b[0m                                 Traceback (most recent call last)",
            "\u001b[0;32m<ipython-input-11-47de04174bab>\u001b[0m in \u001b[0;36m<module>\u001b[0;34m()\u001b[0m\n\u001b[1;32m      1\u001b[0m \u001b[0ma\u001b[0m \u001b[0;34m=\u001b[0m \u001b[0;34m[\u001b[0m\u001b[0;36m1\u001b[0m\u001b[0;34m,\u001b[0m \u001b[0;36m2\u001b[0m\u001b[0;34m,\u001b[0m \u001b[0;36m3\u001b[0m\u001b[0;34m,\u001b[0m \u001b[0;34m[\u001b[0m\u001b[0;34m'a'\u001b[0m\u001b[0;34m,\u001b[0m \u001b[0;34m'b'\u001b[0m\u001b[0;34m,\u001b[0m \u001b[0;34m'c'\u001b[0m\u001b[0;34m]\u001b[0m\u001b[0;34m]\u001b[0m\u001b[0;34m\u001b[0m\u001b[0;34m\u001b[0m\u001b[0m\n\u001b[0;32m----> 2\u001b[0;31m \u001b[0ma\u001b[0m\u001b[0;34m[\u001b[0m\u001b[0;36m0\u001b[0m\u001b[0;34m]\u001b[0m\u001b[0;34m+\u001b[0m\u001b[0ma\u001b[0m\u001b[0;34m[\u001b[0m\u001b[0;34m-\u001b[0m\u001b[0;36m1\u001b[0m\u001b[0;34m]\u001b[0m\u001b[0;34m\u001b[0m\u001b[0;34m\u001b[0m\u001b[0m\n\u001b[0m",
            "\u001b[0;31mTypeError\u001b[0m: unsupported operand type(s) for +: 'int' and 'list'"
          ]
        }
      ]
    },
    {
      "cell_type": "markdown",
      "metadata": {
        "id": "fr1rPXE2J_m8",
        "colab_type": "text"
      },
      "source": [
        "**2중 리스트**"
      ]
    },
    {
      "cell_type": "code",
      "metadata": {
        "id": "H_dsmP3HJ3lr",
        "colab_type": "code",
        "outputId": "cec45f9f-ac39-4962-c0fd-781d0c0288c5",
        "colab": {
          "base_uri": "https://localhost:8080/",
          "height": 52
        }
      },
      "source": [
        "a = [1, 2, 3, ['a', 'b', 'c']]\n",
        "print(a[-1][0])\n",
        "print(a[-1][-1])"
      ],
      "execution_count": 0,
      "outputs": [
        {
          "output_type": "stream",
          "text": [
            "a\n",
            "c\n"
          ],
          "name": "stdout"
        }
      ]
    },
    {
      "cell_type": "markdown",
      "metadata": {
        "id": "agIAtUI0KP4f",
        "colab_type": "text"
      },
      "source": [
        "**2차원 배열 2개, 3차원배열 3개 // but, 파이썬은 인덱스만 신경쓰면 충분하게 할 수 있음**"
      ]
    },
    {
      "cell_type": "code",
      "metadata": {
        "id": "73X5jJ7CJG9e",
        "colab_type": "code",
        "outputId": "3eba6670-9379-42cf-ed8b-f151c8af8e68",
        "colab": {
          "base_uri": "https://localhost:8080/",
          "height": 105
        }
      },
      "source": [
        "\n",
        "\n",
        "# Indexing of triple list\n",
        "# 삼중 리스트에서 인덱싱하기\n",
        "a = [1, 2, ['a', 'b', ['Life', 'is']]]\n",
        "print(a[2])\n",
        "print(a[2][-1])\n",
        "print(a[2][2][0])    # 'Life'\n",
        "print(a[2][-1][0])   # 'Life'\n",
        "print(a[-1][-1][0])  # 'Life'"
      ],
      "execution_count": 0,
      "outputs": [
        {
          "output_type": "stream",
          "text": [
            "['a', 'b', ['Life', 'is']]\n",
            "['Life', 'is']\n",
            "Life\n",
            "Life\n",
            "Life\n"
          ],
          "name": "stdout"
        }
      ]
    },
    {
      "cell_type": "markdown",
      "metadata": {
        "id": "jVJEOHfeKhxP",
        "colab_type": "text"
      },
      "source": [
        "**데이터의 한 부분 뽑아내기 - 슬라이싱**"
      ]
    },
    {
      "cell_type": "code",
      "metadata": {
        "colab_type": "code",
        "id": "x7WymLlGK8hp",
        "outputId": "e50463ed-f064-4c8b-f96c-65da435c5d85",
        "colab": {
          "base_uri": "https://localhost:8080/",
          "height": 34
        }
      },
      "source": [
        "\n",
        "# 리스트의 슬라이싱\n",
        "a = \"12345\"\n",
        "type(a)"
      ],
      "execution_count": 0,
      "outputs": [
        {
          "output_type": "execute_result",
          "data": {
            "text/plain": [
              "str"
            ]
          },
          "metadata": {
            "tags": []
          },
          "execution_count": 14
        }
      ]
    },
    {
      "cell_type": "code",
      "metadata": {
        "id": "XtsS8OEbLCCN",
        "colab_type": "code",
        "outputId": "aee438d3-9789-4099-f848-b70f262d9700",
        "colab": {
          "base_uri": "https://localhost:8080/",
          "height": 34
        }
      },
      "source": [
        "a = [1, 2, 3, 4, 5]\n",
        "a[0:2]\n",
        "#"
      ],
      "execution_count": 0,
      "outputs": [
        {
          "output_type": "execute_result",
          "data": {
            "text/plain": [
              "[1, 2]"
            ]
          },
          "metadata": {
            "tags": []
          },
          "execution_count": 15
        }
      ]
    },
    {
      "cell_type": "markdown",
      "metadata": {
        "id": "MO3L5isTLJ8E",
        "colab_type": "text"
      },
      "source": [
        "**a[시작,끝-1,단계]**"
      ]
    },
    {
      "cell_type": "code",
      "metadata": {
        "id": "lPGI6h8ILEX9",
        "colab_type": "code",
        "outputId": "a59ed78c-88ee-4128-895a-4fd9c073d4d1",
        "colab": {
          "base_uri": "https://localhost:8080/",
          "height": 70
        }
      },
      "source": [
        "\n",
        "a = [1, 2, 3, 4, 5]\n",
        "print(a[0:2])\n",
        "print(a[2:])\n",
        "print(a[0:4:2])  # a[start:end:step]\n",
        "#"
      ],
      "execution_count": 0,
      "outputs": [
        {
          "output_type": "stream",
          "text": [
            "[1, 2]\n",
            "[3, 4, 5]\n",
            "[1, 3]\n"
          ],
          "name": "stdout"
        }
      ]
    },
    {
      "cell_type": "markdown",
      "metadata": {
        "id": "AALCt94OLaF9",
        "colab_type": "text"
      },
      "source": [
        "**중첩된 리스트에서 슬라이싱**"
      ]
    },
    {
      "cell_type": "code",
      "metadata": {
        "id": "5xxA_xEhLJIk",
        "colab_type": "code",
        "outputId": "347e8226-d8d8-4e6a-992d-7695924b9a30",
        "colab": {
          "base_uri": "https://localhost:8080/",
          "height": 70
        }
      },
      "source": [
        "# 중첩된 리스트에서 슬라이싱하기\n",
        "#\n",
        "a = [1, 2, 3, ['a', 'b', 'c'], 4, 5]\n",
        "print(len(a))  #len --> 개개의 항목(리스트의 수를 알려줌)\n",
        "print(a[2:5])\n",
        "print(a[3][:2])  # 중첩된 슬라이스를 이용한 인덱싱\n",
        "#\n",
        "#\n",
        "#"
      ],
      "execution_count": 0,
      "outputs": [
        {
          "output_type": "stream",
          "text": [
            "6\n",
            "[3, ['a', 'b', 'c'], 4]\n",
            "['a', 'b']\n"
          ],
          "name": "stdout"
        }
      ]
    },
    {
      "cell_type": "markdown",
      "metadata": {
        "id": "9fg-_3bjL0jj",
        "colab_type": "text"
      },
      "source": [
        "**필기 시험문제 나올 확률 있음'-'!'**\n",
        "## **reverse 확인!!**"
      ]
    },
    {
      "cell_type": "code",
      "metadata": {
        "id": "n9wCLN3WLW4O",
        "colab_type": "code",
        "outputId": "16595508-9115-4628-c66b-e142be9f017f",
        "colab": {
          "base_uri": "https://localhost:8080/",
          "height": 176
        }
      },
      "source": [
        "\n",
        "# 리스트: 인덱싱, 슬라이싱 연습\n",
        "#\n",
        "x = [1, 2, 3, 4, 5, 6, 7, 8, 9]\n",
        "print(x[0:3]) #123\n",
        "print(x[3:]) #4~\n",
        "print(x[3:-1]) #4~8\n",
        "print(x[:6]) #1~6\n",
        "x[0:6:2]  # x[:6:2] 1 3 5\n",
        "print(x[-1])  #index\n",
        "print(x[-3])  #index\n",
        "print(x[:-3]) #1~6\n",
        "print(x[::-1]) # 9~1   step -1 --> list reverse\n",
        "print(x[-3::-1]) #7 6 5 4 3 2 1 "
      ],
      "execution_count": 0,
      "outputs": [
        {
          "output_type": "stream",
          "text": [
            "[1, 2, 3]\n",
            "[4, 5, 6, 7, 8, 9]\n",
            "[4, 5, 6, 7, 8]\n",
            "[1, 2, 3, 4, 5, 6]\n",
            "9\n",
            "7\n",
            "[1, 2, 3, 4, 5, 6]\n",
            "[9, 8, 7, 6, 5, 4, 3, 2, 1]\n",
            "[7, 6, 5, 4, 3, 2, 1]\n"
          ],
          "name": "stdout"
        }
      ]
    },
    {
      "cell_type": "markdown",
      "metadata": {
        "id": "TtaCTV0WMwV_",
        "colab_type": "text"
      },
      "source": [
        "### **리스트: 리스트 연산하기**"
      ]
    },
    {
      "cell_type": "code",
      "metadata": {
        "id": "1Ug8TiuFLzs8",
        "colab_type": "code",
        "outputId": "22a247bf-ed26-47f0-e834-7faa5136a78d",
        "colab": {
          "base_uri": "https://localhost:8080/",
          "height": 34
        }
      },
      "source": [
        "###################################\n",
        "#\n",
        "# 리스트 더하기(+)\n",
        "#\n",
        "a = [1, 2, 3]\n",
        "b = [4, 5, 6]\n",
        "a + b\n",
        "#"
      ],
      "execution_count": 0,
      "outputs": [
        {
          "output_type": "execute_result",
          "data": {
            "text/plain": [
              "[1, 2, 3, 4, 5, 6]"
            ]
          },
          "metadata": {
            "tags": []
          },
          "execution_count": 19
        }
      ]
    },
    {
      "cell_type": "code",
      "metadata": {
        "id": "5O1woikqNNa1",
        "colab_type": "code",
        "outputId": "982ac347-ff7b-4f49-f878-1939ed154b58",
        "colab": {
          "base_uri": "https://localhost:8080/",
          "height": 34
        }
      },
      "source": [
        "\n",
        "# 리스트 반복하기(*)\n",
        "#\n",
        "a = [1, 2, 3]\n",
        "a * 3\n",
        "#"
      ],
      "execution_count": 0,
      "outputs": [
        {
          "output_type": "execute_result",
          "data": {
            "text/plain": [
              "[1, 2, 3, 1, 2, 3, 1, 2, 3]"
            ]
          },
          "metadata": {
            "tags": []
          },
          "execution_count": 20
        }
      ]
    },
    {
      "cell_type": "code",
      "metadata": {
        "id": "PilgExg5NRHB",
        "colab_type": "code",
        "outputId": "cbbb780b-4070-44ca-fc3b-f56539debef1",
        "colab": {
          "base_uri": "https://localhost:8080/",
          "height": 34
        }
      },
      "source": [
        "\n",
        "# 리스트 길이구하기\n",
        "#\n",
        "a = [1, 2, 3]\n",
        "len(a)\n",
        "#"
      ],
      "execution_count": 0,
      "outputs": [
        {
          "output_type": "execute_result",
          "data": {
            "text/plain": [
              "3"
            ]
          },
          "metadata": {
            "tags": []
          },
          "execution_count": 21
        }
      ]
    },
    {
      "cell_type": "markdown",
      "metadata": {
        "id": "Uca8MYEZNXLT",
        "colab_type": "text"
      },
      "source": [
        "**Type Error**"
      ]
    },
    {
      "cell_type": "code",
      "metadata": {
        "id": "uiI9Ltq5NSFZ",
        "colab_type": "code",
        "outputId": "daa5d023-b249-45b9-f2fa-403491ea3b09",
        "colab": {
          "base_uri": "https://localhost:8080/",
          "height": 187
        }
      },
      "source": [
        "\n",
        "# 초보자가 범하기 쉬운 리스트 연산 오류\n",
        "#\n",
        "a = [1, 2, 3]\n",
        "a[2] + \"hi\""
      ],
      "execution_count": 0,
      "outputs": [
        {
          "output_type": "error",
          "ename": "TypeError",
          "evalue": "ignored",
          "traceback": [
            "\u001b[0;31m---------------------------------------------------------------------------\u001b[0m",
            "\u001b[0;31mTypeError\u001b[0m                                 Traceback (most recent call last)",
            "\u001b[0;32m<ipython-input-22-9bd90c6cc040>\u001b[0m in \u001b[0;36m<module>\u001b[0;34m()\u001b[0m\n\u001b[1;32m      1\u001b[0m \u001b[0ma\u001b[0m \u001b[0;34m=\u001b[0m \u001b[0;34m[\u001b[0m\u001b[0;36m1\u001b[0m\u001b[0;34m,\u001b[0m \u001b[0;36m2\u001b[0m\u001b[0;34m,\u001b[0m \u001b[0;36m3\u001b[0m\u001b[0;34m]\u001b[0m\u001b[0;34m\u001b[0m\u001b[0;34m\u001b[0m\u001b[0m\n\u001b[0;32m----> 2\u001b[0;31m \u001b[0ma\u001b[0m\u001b[0;34m[\u001b[0m\u001b[0;36m2\u001b[0m\u001b[0;34m]\u001b[0m \u001b[0;34m+\u001b[0m \u001b[0;34m\"hi\"\u001b[0m\u001b[0;34m\u001b[0m\u001b[0;34m\u001b[0m\u001b[0m\n\u001b[0m",
            "\u001b[0;31mTypeError\u001b[0m: unsupported operand type(s) for +: 'int' and 'str'"
          ]
        }
      ]
    },
    {
      "cell_type": "markdown",
      "metadata": {
        "id": "xV299SxYNcrc",
        "colab_type": "text"
      },
      "source": [
        "**type Error 수정**"
      ]
    },
    {
      "cell_type": "code",
      "metadata": {
        "id": "Vl6oSKrtNVqv",
        "colab_type": "code",
        "outputId": "c99bfcea-167c-4002-a321-92aef78e911f",
        "colab": {
          "base_uri": "https://localhost:8080/",
          "height": 34
        }
      },
      "source": [
        "a = [1, 2, 3]\n",
        "str(a[2]) + \"hi\"\n",
        "#"
      ],
      "execution_count": 0,
      "outputs": [
        {
          "output_type": "execute_result",
          "data": {
            "text/plain": [
              "'3hi'"
            ]
          },
          "metadata": {
            "tags": []
          },
          "execution_count": 23
        }
      ]
    },
    {
      "cell_type": "markdown",
      "metadata": {
        "id": "tPgT6vluNjLU",
        "colab_type": "text"
      },
      "source": [
        "**리스트 -> 가변성**"
      ]
    },
    {
      "cell_type": "code",
      "metadata": {
        "id": "vEwQZtecNbYR",
        "colab_type": "code",
        "outputId": "a133cc9e-47fb-4f6e-b7b8-1181f70b9e50",
        "colab": {
          "base_uri": "https://localhost:8080/",
          "height": 34
        }
      },
      "source": [
        "\n",
        "# 리스트의 수정과 삭제\n",
        "#\n",
        "a = [1, 2, 3]\n",
        "a[2] = 4  # list is mutable!!!\n",
        "a\n"
      ],
      "execution_count": 0,
      "outputs": [
        {
          "output_type": "execute_result",
          "data": {
            "text/plain": [
              "[1, 2, 4]"
            ]
          },
          "metadata": {
            "tags": []
          },
          "execution_count": 24
        }
      ]
    },
    {
      "cell_type": "markdown",
      "metadata": {
        "id": "CYvfdFGaNsoP",
        "colab_type": "text"
      },
      "source": [
        "**인덱스 삭제--> 인덱스 삭제** \n",
        "**list 요소 --> 인덱스로 바꿈**"
      ]
    },
    {
      "cell_type": "code",
      "metadata": {
        "id": "iFVj_vrFNig_",
        "colab_type": "code",
        "outputId": "bda254ab-5377-4ddc-932d-c009ccdd9730",
        "colab": {
          "base_uri": "https://localhost:8080/",
          "height": 34
        }
      },
      "source": [
        "\n",
        "#\n",
        "# del 함수 사용해 리스트 요소 삭제하기\n",
        "#\n",
        "a = [1, 2, 3]\n",
        "del a[1]\n",
        "a"
      ],
      "execution_count": 0,
      "outputs": [
        {
          "output_type": "execute_result",
          "data": {
            "text/plain": [
              "[1, 3]"
            ]
          },
          "metadata": {
            "tags": []
          },
          "execution_count": 25
        }
      ]
    },
    {
      "cell_type": "markdown",
      "metadata": {
        "id": "WxSt400vN5o1",
        "colab_type": "text"
      },
      "source": [
        "**리스트 인덱스 삭제 --> 슬라이싱 삭제**"
      ]
    },
    {
      "cell_type": "code",
      "metadata": {
        "id": "lcB3L49LNp5X",
        "colab_type": "code",
        "outputId": "0f2a00bf-8ac5-4349-929c-2347b7b02f3a",
        "colab": {
          "base_uri": "https://localhost:8080/",
          "height": 34
        }
      },
      "source": [
        "# del 함수 사용해 리스트 요소 삭제하기\n",
        "a = [1, 2, 3, 4, 5]\n",
        "del a[2:]\n",
        "a\n"
      ],
      "execution_count": 0,
      "outputs": [
        {
          "output_type": "execute_result",
          "data": {
            "text/plain": [
              "[1, 2]"
            ]
          },
          "metadata": {
            "tags": []
          },
          "execution_count": 29
        }
      ]
    },
    {
      "cell_type": "markdown",
      "metadata": {
        "id": "lhfGKjLuOGrM",
        "colab_type": "text"
      },
      "source": [
        "**list 함수!!**"
      ]
    },
    {
      "cell_type": "markdown",
      "metadata": {
        "id": "6HYm8XeXRtH7",
        "colab_type": "text"
      },
      "source": [
        "append--> 추가"
      ]
    },
    {
      "cell_type": "code",
      "metadata": {
        "id": "GnHNk3F7N2-Q",
        "colab_type": "code",
        "outputId": "09129ef2-de0e-45f0-b163-b905d37e3f76",
        "colab": {
          "base_uri": "https://localhost:8080/",
          "height": 70
        }
      },
      "source": [
        "\n",
        "\n",
        "print(\"리스트: 내부 함수 이용\")\n",
        "#\n",
        "# 리스트에 요소 추가(append)\n",
        "#\n",
        "a = [1, 2, 3]\n",
        "a.append(4)\n",
        "print(a)\n",
        "# 리스트 안에는 어떤 자료형도 추가할 수 있다.\n",
        "# 리스트에 다시 리스트를 추가한 결과\n",
        "a.append([5, 6])\n",
        "print(a)"
      ],
      "execution_count": 0,
      "outputs": [
        {
          "output_type": "stream",
          "text": [
            "리스트: 내부 함수 이용\n",
            "[1, 2, 3, 4]\n",
            "[1, 2, 3, 4, [5, 6]]\n"
          ],
          "name": "stdout"
        }
      ]
    },
    {
      "cell_type": "markdown",
      "metadata": {
        "id": "qji8FnLaR622",
        "colab_type": "text"
      },
      "source": [
        "**리스트정렬**"
      ]
    },
    {
      "cell_type": "code",
      "metadata": {
        "id": "Jv7APzqGRqHv",
        "colab_type": "code",
        "outputId": "a754b77d-029c-4b8f-da68-7a4512bbeaf0",
        "colab": {
          "base_uri": "https://localhost:8080/",
          "height": 52
        }
      },
      "source": [
        "\n",
        "#\n",
        "# 리스트 정렬(sort)\n",
        "#\n",
        "a = [1, 4, 3, 2]\n",
        "a.sort()\n",
        "print(a)\n",
        "a.reverse()\n",
        "print(a)\n"
      ],
      "execution_count": 0,
      "outputs": [
        {
          "output_type": "stream",
          "text": [
            "[1, 2, 3, 4]\n",
            "[4, 3, 2, 1]\n"
          ],
          "name": "stdout"
        }
      ]
    },
    {
      "cell_type": "code",
      "metadata": {
        "id": "vwm9rpvURy4V",
        "colab_type": "code",
        "outputId": "fcea447d-9f7d-4078-b94d-e1675efc2660",
        "colab": {
          "base_uri": "https://localhost:8080/",
          "height": 34
        }
      },
      "source": [
        "\n",
        "s = [\"a\", \"c\", \"b\"]\n",
        "s.sort()\n",
        "s"
      ],
      "execution_count": 0,
      "outputs": [
        {
          "output_type": "execute_result",
          "data": {
            "text/plain": [
              "['a', 'b', 'c']"
            ]
          },
          "metadata": {
            "tags": []
          },
          "execution_count": 32
        }
      ]
    },
    {
      "cell_type": "markdown",
      "metadata": {
        "id": "4Eqk9MwnSC-g",
        "colab_type": "text"
      },
      "source": [
        "**REVERSE**"
      ]
    },
    {
      "cell_type": "code",
      "metadata": {
        "id": "ARZwGaojR-gP",
        "colab_type": "code",
        "outputId": "35727cfd-5569-4af6-d3b1-69baef05fc44",
        "colab": {
          "base_uri": "https://localhost:8080/",
          "height": 34
        }
      },
      "source": [
        "\n",
        "#\n",
        "# 리스트 뒤집기(reverse)\n",
        "#\n",
        "a = [\"a\", \"c\", \"b\"]\n",
        "a.reverse()\n",
        "a"
      ],
      "execution_count": 0,
      "outputs": [
        {
          "output_type": "execute_result",
          "data": {
            "text/plain": [
              "['b', 'c', 'a']"
            ]
          },
          "metadata": {
            "tags": []
          },
          "execution_count": 33
        }
      ]
    },
    {
      "cell_type": "markdown",
      "metadata": {
        "id": "EPMbTYuiSFOl",
        "colab_type": "text"
      },
      "source": [
        "# **중요**\n",
        "## 값 위치 찾기\n",
        "### .index(Value)"
      ]
    },
    {
      "cell_type": "code",
      "metadata": {
        "id": "CXVHGFWkSAbD",
        "colab_type": "code",
        "outputId": "e9096908-056b-4401-8d5a-df4c00650eea",
        "colab": {
          "base_uri": "https://localhost:8080/",
          "height": 52
        }
      },
      "source": [
        "\n",
        "#\n",
        "# 위치 반환(index)\n",
        "#\n",
        "a = [1, 2, 3]\n",
        "print(a.index(3))  \n",
        "print(a.index(1))"
      ],
      "execution_count": 0,
      "outputs": [
        {
          "output_type": "stream",
          "text": [
            "2\n",
            "0\n"
          ],
          "name": "stdout"
        }
      ]
    },
    {
      "cell_type": "markdown",
      "metadata": {
        "id": "edq0V-2ZSkmJ",
        "colab_type": "text"
      },
      "source": [
        "**Value ERROR**"
      ]
    },
    {
      "cell_type": "code",
      "metadata": {
        "id": "iW3ksuf_ScxX",
        "colab_type": "code",
        "outputId": "a8649ba7-b8c7-4982-a28a-87ada6345ef3",
        "colab": {
          "base_uri": "https://localhost:8080/",
          "height": 205
        }
      },
      "source": [
        "\n",
        "a = [1, 2, 3]\n",
        "a.index(0)\n"
      ],
      "execution_count": 0,
      "outputs": [
        {
          "output_type": "error",
          "ename": "ValueError",
          "evalue": "ignored",
          "traceback": [
            "\u001b[0;31m---------------------------------------------------------------------------\u001b[0m",
            "\u001b[0;31mValueError\u001b[0m                                Traceback (most recent call last)",
            "\u001b[0;32m<ipython-input-37-cde1f1b6fd0e>\u001b[0m in \u001b[0;36m<module>\u001b[0;34m()\u001b[0m\n\u001b[1;32m      1\u001b[0m \u001b[0;34m\u001b[0m\u001b[0m\n\u001b[1;32m      2\u001b[0m \u001b[0ma\u001b[0m \u001b[0;34m=\u001b[0m \u001b[0;34m[\u001b[0m\u001b[0;36m1\u001b[0m\u001b[0;34m,\u001b[0m \u001b[0;36m2\u001b[0m\u001b[0;34m,\u001b[0m \u001b[0;36m3\u001b[0m\u001b[0;34m]\u001b[0m\u001b[0;34m\u001b[0m\u001b[0;34m\u001b[0m\u001b[0m\n\u001b[0;32m----> 3\u001b[0;31m \u001b[0ma\u001b[0m\u001b[0;34m.\u001b[0m\u001b[0mindex\u001b[0m\u001b[0;34m(\u001b[0m\u001b[0;36m0\u001b[0m\u001b[0;34m)\u001b[0m\u001b[0;34m\u001b[0m\u001b[0;34m\u001b[0m\u001b[0m\n\u001b[0m",
            "\u001b[0;31mValueError\u001b[0m: 0 is not in list"
          ]
        }
      ]
    },
    {
      "cell_type": "markdown",
      "metadata": {
        "id": "4cPCdLuiSs1R",
        "colab_type": "text"
      },
      "source": [
        "**in 은 요소를 가지고 있는지 없는지 (Boolean 값으로 돌려줌)**"
      ]
    },
    {
      "cell_type": "code",
      "metadata": {
        "id": "3pNgwI01SrCd",
        "colab_type": "code",
        "outputId": "9a7833fb-3b1c-4b45-efbb-df09423dcb66",
        "colab": {
          "base_uri": "https://localhost:8080/",
          "height": 34
        }
      },
      "source": [
        "a = [1, 2, 3]\n",
        "0 in a"
      ],
      "execution_count": 0,
      "outputs": [
        {
          "output_type": "execute_result",
          "data": {
            "text/plain": [
              "False"
            ]
          },
          "metadata": {
            "tags": []
          },
          "execution_count": 38
        }
      ]
    },
    {
      "cell_type": "markdown",
      "metadata": {
        "id": "EN2Ze9E8S7do",
        "colab_type": "text"
      },
      "source": [
        "**Value ERROR**"
      ]
    },
    {
      "cell_type": "code",
      "metadata": {
        "id": "h2EICvnXSWL8",
        "colab_type": "code",
        "outputId": "5f25eb6e-cf5a-417a-9571-83973124b8ac",
        "colab": {
          "base_uri": "https://localhost:8080/",
          "height": 205
        }
      },
      "source": [
        "\n",
        "s = [\"a\", \"c\", \"b\"]\n",
        "s.index(3)  # Error"
      ],
      "execution_count": 0,
      "outputs": [
        {
          "output_type": "error",
          "ename": "ValueError",
          "evalue": "ignored",
          "traceback": [
            "\u001b[0;31m---------------------------------------------------------------------------\u001b[0m",
            "\u001b[0;31mValueError\u001b[0m                                Traceback (most recent call last)",
            "\u001b[0;32m<ipython-input-39-2fb7e8cb2d2e>\u001b[0m in \u001b[0;36m<module>\u001b[0;34m()\u001b[0m\n\u001b[1;32m      1\u001b[0m \u001b[0;34m\u001b[0m\u001b[0m\n\u001b[1;32m      2\u001b[0m \u001b[0ms\u001b[0m \u001b[0;34m=\u001b[0m \u001b[0;34m[\u001b[0m\u001b[0;34m\"a\"\u001b[0m\u001b[0;34m,\u001b[0m \u001b[0;34m\"c\"\u001b[0m\u001b[0;34m,\u001b[0m \u001b[0;34m\"b\"\u001b[0m\u001b[0;34m]\u001b[0m\u001b[0;34m\u001b[0m\u001b[0;34m\u001b[0m\u001b[0m\n\u001b[0;32m----> 3\u001b[0;31m \u001b[0ms\u001b[0m\u001b[0;34m.\u001b[0m\u001b[0mindex\u001b[0m\u001b[0;34m(\u001b[0m\u001b[0;36m3\u001b[0m\u001b[0;34m)\u001b[0m  \u001b[0;31m# Error\u001b[0m\u001b[0;34m\u001b[0m\u001b[0;34m\u001b[0m\u001b[0m\n\u001b[0m",
            "\u001b[0;31mValueError\u001b[0m: 3 is not in list"
          ]
        }
      ]
    },
    {
      "cell_type": "markdown",
      "metadata": {
        "id": "4jC3tNLIS-9Z",
        "colab_type": "text"
      },
      "source": [
        "**Vlaue ERROR**"
      ]
    },
    {
      "cell_type": "code",
      "metadata": {
        "id": "kq5uQ1PmS6MI",
        "colab_type": "code",
        "outputId": "f3654e4e-2371-4848-8b6f-192f18a6c22c",
        "colab": {
          "base_uri": "https://localhost:8080/",
          "height": 205
        }
      },
      "source": [
        "\n",
        "s = [\"a\", \"c\", \"b\"]\n",
        "s.index(a)  # Error"
      ],
      "execution_count": 0,
      "outputs": [
        {
          "output_type": "error",
          "ename": "ValueError",
          "evalue": "ignored",
          "traceback": [
            "\u001b[0;31m---------------------------------------------------------------------------\u001b[0m",
            "\u001b[0;31mValueError\u001b[0m                                Traceback (most recent call last)",
            "\u001b[0;32m<ipython-input-40-240876549509>\u001b[0m in \u001b[0;36m<module>\u001b[0;34m()\u001b[0m\n\u001b[1;32m      1\u001b[0m \u001b[0;34m\u001b[0m\u001b[0m\n\u001b[1;32m      2\u001b[0m \u001b[0ms\u001b[0m \u001b[0;34m=\u001b[0m \u001b[0;34m[\u001b[0m\u001b[0;34m\"a\"\u001b[0m\u001b[0;34m,\u001b[0m \u001b[0;34m\"c\"\u001b[0m\u001b[0;34m,\u001b[0m \u001b[0;34m\"b\"\u001b[0m\u001b[0;34m]\u001b[0m\u001b[0;34m\u001b[0m\u001b[0;34m\u001b[0m\u001b[0m\n\u001b[0;32m----> 3\u001b[0;31m \u001b[0ms\u001b[0m\u001b[0;34m.\u001b[0m\u001b[0mindex\u001b[0m\u001b[0;34m(\u001b[0m\u001b[0ma\u001b[0m\u001b[0;34m)\u001b[0m  \u001b[0;31m# Error\u001b[0m\u001b[0;34m\u001b[0m\u001b[0;34m\u001b[0m\u001b[0m\n\u001b[0m",
            "\u001b[0;31mValueError\u001b[0m: [1, 2, 3] is not in list"
          ]
        }
      ]
    },
    {
      "cell_type": "code",
      "metadata": {
        "id": "t-q0tMPzTCax",
        "colab_type": "code",
        "outputId": "59d882db-e620-4e0c-c137-d4b98d65058d",
        "colab": {
          "base_uri": "https://localhost:8080/",
          "height": 52
        }
      },
      "source": [
        "\n",
        "s = [\"a\", \"c\", \"b\"]\n",
        "print(s.index(\"a\"))\n",
        "print(s.index('a'))"
      ],
      "execution_count": 0,
      "outputs": [
        {
          "output_type": "stream",
          "text": [
            "0\n",
            "0\n"
          ],
          "name": "stdout"
        }
      ]
    },
    {
      "cell_type": "markdown",
      "metadata": {
        "id": "lOqWEZV5TPJB",
        "colab_type": "text"
      },
      "source": [
        "**리스트 삽입**\n",
        "**insert(인덱스값,Value)**\n",
        "**값은 오른쪽으로 밀림**"
      ]
    },
    {
      "cell_type": "code",
      "metadata": {
        "id": "g_wq7luES2Xf",
        "colab_type": "code",
        "outputId": "c9d9e7a6-9061-403c-c50e-7ca087e946f0",
        "colab": {
          "base_uri": "https://localhost:8080/",
          "height": 52
        }
      },
      "source": [
        "#\n",
        "# 리스트에 요소 삽입(insert)\n",
        "#\n",
        "a = [1, 2, 3]\n",
        "a.insert(0, 4)\n",
        "print(a)\n",
        "a.insert(3, 5)\n",
        "print(a)"
      ],
      "execution_count": 0,
      "outputs": [
        {
          "output_type": "stream",
          "text": [
            "[4, 1, 2, 3]\n",
            "[4, 1, 2, 5, 3]\n"
          ],
          "name": "stdout"
        }
      ]
    },
    {
      "cell_type": "markdown",
      "metadata": {
        "id": "TIw1Tc3oThAa",
        "colab_type": "text"
      },
      "source": [
        "**중복 Value값 (제일 처음 배열 인덱스 Value삭제)**"
      ]
    },
    {
      "cell_type": "code",
      "metadata": {
        "id": "v43emOpmTOUV",
        "colab_type": "code",
        "outputId": "c153e8cc-1fd2-4890-932f-366aab219c42",
        "colab": {
          "base_uri": "https://localhost:8080/",
          "height": 52
        }
      },
      "source": [
        "\n",
        "#\n",
        "# 리스트 요소 제거(remove)\n",
        "#\n",
        "a = [1, 2, 3, 1, 2, 3]\n",
        "a.remove(3)\n",
        "print(a)\n",
        "# 3을 리스트 a에서 완전히 제거\n",
        "a.remove(3)\n",
        "print(a)"
      ],
      "execution_count": 0,
      "outputs": [
        {
          "output_type": "stream",
          "text": [
            "[1, 2, 1, 2, 3]\n",
            "[1, 2, 1, 2]\n"
          ],
          "name": "stdout"
        }
      ]
    },
    {
      "cell_type": "markdown",
      "metadata": {
        "id": "_FE_XRONT3xd",
        "colab_type": "text"
      },
      "source": [
        "**Value ERROR**"
      ]
    },
    {
      "cell_type": "code",
      "metadata": {
        "id": "GMfU7WoeTrkh",
        "colab_type": "code",
        "outputId": "075bee83-2148-491d-d7fe-6760b497692e",
        "colab": {
          "base_uri": "https://localhost:8080/",
          "height": 241
        }
      },
      "source": [
        "#\n",
        "# 리스트 요소 제거(remove)\n",
        "#\n",
        "a = [1, 2, 3, 1, 2, 3]\n",
        "a.remove(3)\n",
        "print(a)\n",
        "# 3을 리스트 a에서 완전히 제거\n",
        "a.remove(3)\n",
        "print(a)\n",
        "a.remove(3)  # ValueError"
      ],
      "execution_count": 0,
      "outputs": [
        {
          "output_type": "stream",
          "text": [
            "[1, 2, 1, 2, 3]\n",
            "[1, 2, 1, 2]\n"
          ],
          "name": "stdout"
        },
        {
          "output_type": "error",
          "ename": "ValueError",
          "evalue": "ignored",
          "traceback": [
            "\u001b[0;31m---------------------------------------------------------------------------\u001b[0m",
            "\u001b[0;31mValueError\u001b[0m                                Traceback (most recent call last)",
            "\u001b[0;32m<ipython-input-49-a418ee99ed60>\u001b[0m in \u001b[0;36m<module>\u001b[0;34m()\u001b[0m\n\u001b[1;32m      5\u001b[0m \u001b[0ma\u001b[0m\u001b[0;34m.\u001b[0m\u001b[0mremove\u001b[0m\u001b[0;34m(\u001b[0m\u001b[0;36m3\u001b[0m\u001b[0;34m)\u001b[0m\u001b[0;34m\u001b[0m\u001b[0;34m\u001b[0m\u001b[0m\n\u001b[1;32m      6\u001b[0m \u001b[0mprint\u001b[0m\u001b[0;34m(\u001b[0m\u001b[0ma\u001b[0m\u001b[0;34m)\u001b[0m\u001b[0;34m\u001b[0m\u001b[0;34m\u001b[0m\u001b[0m\n\u001b[0;32m----> 7\u001b[0;31m \u001b[0ma\u001b[0m\u001b[0;34m.\u001b[0m\u001b[0mremove\u001b[0m\u001b[0;34m(\u001b[0m\u001b[0;36m3\u001b[0m\u001b[0;34m)\u001b[0m  \u001b[0;31m# ValueError\u001b[0m\u001b[0;34m\u001b[0m\u001b[0;34m\u001b[0m\u001b[0m\n\u001b[0m",
            "\u001b[0;31mValueError\u001b[0m: list.remove(x): x not in list"
          ]
        }
      ]
    },
    {
      "cell_type": "code",
      "metadata": {
        "id": "T3RRPHihT0eh",
        "colab_type": "code",
        "outputId": "96c7c598-12cd-4ec7-b875-3b5a50dac23f",
        "colab": {
          "base_uri": "https://localhost:8080/",
          "height": 52
        }
      },
      "source": [
        "\n",
        "#\n",
        "# 리스트 요소 끄집어내기(pop)\n",
        "#\n",
        "# 리스트의 수정과 삭제\n",
        "#\n",
        "a = [1, 2, 3]\n",
        "# pop()은 리스트의 맨 마지막 요소를 돌려주고 그 요소는 삭제한다.\n",
        "print(a.pop())\n",
        "print(a)\n",
        "#"
      ],
      "execution_count": 0,
      "outputs": [
        {
          "output_type": "stream",
          "text": [
            "3\n",
            "[1, 2]\n"
          ],
          "name": "stdout"
        }
      ]
    },
    {
      "cell_type": "markdown",
      "metadata": {
        "id": "z_nFQKWVUIr_",
        "colab_type": "text"
      },
      "source": [
        ""
      ]
    },
    {
      "cell_type": "markdown",
      "metadata": {
        "id": "zqIILWzVUI6r",
        "colab_type": "text"
      },
      "source": [
        "**index 빠짐**\n",
        "**pop(index)**"
      ]
    },
    {
      "cell_type": "code",
      "metadata": {
        "id": "8bi5PccmUBs5",
        "colab_type": "code",
        "outputId": "08ed0783-eebf-437c-c942-bab2aec6900b",
        "colab": {
          "base_uri": "https://localhost:8080/",
          "height": 52
        }
      },
      "source": [
        "a = [1, 2, 3]\n",
        "# pop(x)는 리스트의 index가 x인 요소를 돌려주고 그 요소는 삭제한다.\n",
        "print(a.pop(1))\n",
        "print(a)"
      ],
      "execution_count": 0,
      "outputs": [
        {
          "output_type": "stream",
          "text": [
            "2\n",
            "[1, 3]\n"
          ],
          "name": "stdout"
        }
      ]
    },
    {
      "cell_type": "markdown",
      "metadata": {
        "id": "0zWbRwntUS5C",
        "colab_type": "text"
      },
      "source": [
        "**index ERROR pop index out of range**"
      ]
    },
    {
      "cell_type": "code",
      "metadata": {
        "id": "7BNSeaYJUHjt",
        "colab_type": "code",
        "outputId": "078cc956-72c6-4f0e-8559-9a0ef9800002",
        "colab": {
          "base_uri": "https://localhost:8080/",
          "height": 241
        }
      },
      "source": [
        "a = [1, 2, 3]\n",
        "# pop(x)는 리스트의 index가 x인 요소를 돌려주고 그 요소는 삭제한다.\n",
        "print(a.pop(1))\n",
        "print(a)\n",
        "a.pop(2)  # IndexError\n"
      ],
      "execution_count": 0,
      "outputs": [
        {
          "output_type": "stream",
          "text": [
            "2\n",
            "[1, 3]\n"
          ],
          "name": "stdout"
        },
        {
          "output_type": "error",
          "ename": "IndexError",
          "evalue": "ignored",
          "traceback": [
            "\u001b[0;31m---------------------------------------------------------------------------\u001b[0m",
            "\u001b[0;31mIndexError\u001b[0m                                Traceback (most recent call last)",
            "\u001b[0;32m<ipython-input-52-8523949b0daf>\u001b[0m in \u001b[0;36m<module>\u001b[0;34m()\u001b[0m\n\u001b[1;32m      3\u001b[0m \u001b[0mprint\u001b[0m\u001b[0;34m(\u001b[0m\u001b[0ma\u001b[0m\u001b[0;34m.\u001b[0m\u001b[0mpop\u001b[0m\u001b[0;34m(\u001b[0m\u001b[0;36m1\u001b[0m\u001b[0;34m)\u001b[0m\u001b[0;34m)\u001b[0m\u001b[0;34m\u001b[0m\u001b[0;34m\u001b[0m\u001b[0m\n\u001b[1;32m      4\u001b[0m \u001b[0mprint\u001b[0m\u001b[0;34m(\u001b[0m\u001b[0ma\u001b[0m\u001b[0;34m)\u001b[0m\u001b[0;34m\u001b[0m\u001b[0;34m\u001b[0m\u001b[0m\n\u001b[0;32m----> 5\u001b[0;31m \u001b[0ma\u001b[0m\u001b[0;34m.\u001b[0m\u001b[0mpop\u001b[0m\u001b[0;34m(\u001b[0m\u001b[0;36m2\u001b[0m\u001b[0;34m)\u001b[0m  \u001b[0;31m# IndexError\u001b[0m\u001b[0;34m\u001b[0m\u001b[0;34m\u001b[0m\u001b[0m\n\u001b[0m",
            "\u001b[0;31mIndexError\u001b[0m: pop index out of range"
          ]
        }
      ]
    },
    {
      "cell_type": "markdown",
      "metadata": {
        "id": "nIR6E45OUWJa",
        "colab_type": "text"
      },
      "source": [
        "**count function**\n",
        "**Count ==> Value**"
      ]
    },
    {
      "cell_type": "code",
      "metadata": {
        "id": "XuL5hmpMUPx-",
        "colab_type": "code",
        "outputId": "11917422-c848-4583-ad53-bd5e94a4f59f",
        "colab": {
          "base_uri": "https://localhost:8080/",
          "height": 34
        }
      },
      "source": [
        "\n",
        "#\n",
        "# 리스트에 포함된 요소 x의 개수 세기(count)\n",
        "#\n",
        "a = [1, 2, 3, 1]\n",
        "a.count(1)\n",
        "#"
      ],
      "execution_count": 0,
      "outputs": [
        {
          "output_type": "execute_result",
          "data": {
            "text/plain": [
              "2"
            ]
          },
          "metadata": {
            "tags": []
          },
          "execution_count": 53
        }
      ]
    },
    {
      "cell_type": "markdown",
      "metadata": {
        "id": "KZdwSEhPUdoX",
        "colab_type": "text"
      },
      "source": [
        "**extend --> 확장 "
      ]
    },
    {
      "cell_type": "code",
      "metadata": {
        "id": "K9Lm-pe-UaTl",
        "colab_type": "code",
        "outputId": "b06371a6-e81a-4576-a593-912d25e68793",
        "colab": {
          "base_uri": "https://localhost:8080/",
          "height": 34
        }
      },
      "source": [
        "\n",
        "# 리스트 확장(extend)\n",
        "#\n",
        "a = [1, 2, 3]\n",
        "a.extend([4, 5])\n",
        "a  # a.extend([4, 5])는 a += [4, 5]와 동일"
      ],
      "execution_count": 0,
      "outputs": [
        {
          "output_type": "execute_result",
          "data": {
            "text/plain": [
              "[1, 2, 3, 4, 5]"
            ]
          },
          "metadata": {
            "tags": []
          },
          "execution_count": 54
        }
      ]
    },
    {
      "cell_type": "code",
      "metadata": {
        "id": "3QDw-r_dUo49",
        "colab_type": "code",
        "outputId": "531bd070-3f69-44cc-c1cc-1209a6ccf727",
        "colab": {
          "base_uri": "https://localhost:8080/",
          "height": 34
        }
      },
      "source": [
        "a = [1, 2, 3]\n",
        "a+[4,5]"
      ],
      "execution_count": 0,
      "outputs": [
        {
          "output_type": "execute_result",
          "data": {
            "text/plain": [
              "[1, 2, 3, 4, 5]"
            ]
          },
          "metadata": {
            "tags": []
          },
          "execution_count": 57
        }
      ]
    },
    {
      "cell_type": "code",
      "metadata": {
        "id": "SrHY5UFHUnCc",
        "colab_type": "code",
        "outputId": "77070c8b-221d-4261-d0e7-6b3467032818",
        "colab": {
          "base_uri": "https://localhost:8080/",
          "height": 34
        }
      },
      "source": [
        "a=[1,2,3]\n",
        "\n",
        "b = [6, 7]\n",
        "a.extend(b)\n",
        "a"
      ],
      "execution_count": 0,
      "outputs": [
        {
          "output_type": "execute_result",
          "data": {
            "text/plain": [
              "[1, 2, 3, 6, 7]"
            ]
          },
          "metadata": {
            "tags": []
          },
          "execution_count": 58
        }
      ]
    },
    {
      "cell_type": "markdown",
      "metadata": {
        "id": "TZ64tLHxRr4u",
        "colab_type": "text"
      },
      "source": [
        ""
      ]
    }
  ]
}