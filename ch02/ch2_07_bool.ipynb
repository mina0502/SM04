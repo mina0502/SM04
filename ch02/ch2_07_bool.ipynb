{
  "nbformat": 4,
  "nbformat_minor": 0,
  "metadata": {
    "colab": {
      "name": "ch2_07_bool.ipynb",
      "provenance": [],
      "collapsed_sections": [],
      "include_colab_link": true
    },
    "kernelspec": {
      "name": "python3",
      "display_name": "Python 3"
    }
  },
  "cells": [
    {
      "cell_type": "markdown",
      "metadata": {
        "id": "view-in-github",
        "colab_type": "text"
      },
      "source": [
        "<a href=\"https://colab.research.google.com/github/mina0502/SM04/blob/master/ch02/ch2_07_bool.ipynb\" target=\"_parent\"><img src=\"https://colab.research.google.com/assets/colab-badge.svg\" alt=\"Open In Colab\"/></a>"
      ]
    },
    {
      "cell_type": "markdown",
      "metadata": {
        "id": "xWQ6BnEegsxo",
        "colab_type": "text"
      },
      "source": [
        "\n",
        "#\"불: 불 자료형이란?\"\n",
        " 불(bool) 자료형이란 참(True)과 거짓(False)을 나타내는 자료형이다.\n",
        " 불 자료형은 다음 2가지 값만을 가질 수 있다.\n",
        " True - 참\n",
        " False - 거짓\n",
        " True나 False는 파이썬의 예약어로 true, false와 같이 사용하지 말고\n",
        " 첫 문자를 항상 대문자로 사용해야 한다.\n"
      ]
    },
    {
      "cell_type": "code",
      "metadata": {
        "id": "9C-XwuM-gpSB",
        "colab_type": "code",
        "outputId": "c4ff35c8-fbfc-4c59-e961-78826f89aafb",
        "colab": {
          "base_uri": "https://localhost:8080/",
          "height": 35
        }
      },
      "source": [
        "\n",
        "a = True\n",
        "b = False\n",
        "type(a), type(b)\n",
        "#"
      ],
      "execution_count": 0,
      "outputs": [
        {
          "output_type": "execute_result",
          "data": {
            "text/plain": [
              "(bool, bool)"
            ]
          },
          "metadata": {
            "tags": []
          },
          "execution_count": 1
        }
      ]
    },
    {
      "cell_type": "code",
      "metadata": {
        "id": "gNf-h2l_gvIU",
        "colab_type": "code",
        "outputId": "751a1b80-8cb2-48ca-a345-6c158bbc6b90",
        "colab": {
          "base_uri": "https://localhost:8080/",
          "height": 107
        }
      },
      "source": [
        "\n",
        "# 참과 거짓\n",
        "#\n",
        "print(1 == 1)\n",
        "print(2 > 1)\n",
        "print(2 < 1)\n",
        "print(True + 1)\n",
        "print(False + 1)"
      ],
      "execution_count": 0,
      "outputs": [
        {
          "output_type": "stream",
          "text": [
            "True\n",
            "True\n",
            "False\n",
            "2\n",
            "1\n"
          ],
          "name": "stdout"
        }
      ]
    },
    {
      "cell_type": "code",
      "metadata": {
        "id": "yOC9T5Hsg-DY",
        "colab_type": "code",
        "outputId": "c30e4bc9-31ac-45f7-8d0e-06e89aa9500e",
        "colab": {
          "base_uri": "https://localhost:8080/",
          "height": 215
        }
      },
      "source": [
        "\n",
        "#\n",
        "# 자료형의 참과 거짓\n",
        "#\n",
        "print(bool(\"python\"))\n",
        "\n",
        "print(bool(\"\")) #비어있음 \n",
        "print(bool([1, 2, 3]))\n",
        "print(bool([2, 3]))\n",
        "print(bool([])) # 비어있음\n",
        "print(bool(())) # 비어있음\n",
        "print(bool({})) # 비어있음\n",
        "print(bool(1))  \n",
        "print(bool(0)) \n",
        "print(bool(-99))\n",
        "print(bool(None)) # 비어있음\n",
        "#"
      ],
      "execution_count": 0,
      "outputs": [
        {
          "output_type": "stream",
          "text": [
            "True\n",
            "False\n",
            "True\n",
            "True\n",
            "False\n",
            "False\n",
            "False\n",
            "True\n",
            "False\n",
            "True\n",
            "False\n"
          ],
          "name": "stdout"
        }
      ]
    },
    {
      "cell_type": "code",
      "metadata": {
        "id": "QTAmtdlUhCa-",
        "colab_type": "code",
        "outputId": "dee21449-c6c8-48b2-c23b-cc7439b48893",
        "colab": {
          "base_uri": "https://localhost:8080/",
          "height": 89
        }
      },
      "source": [
        "\n",
        "# 불 값을 이용한 코드\n",
        "#\n",
        "a = [1, 2, 3, 4]\n",
        "#\n",
        "while a:\n",
        "    print(a.pop())\n",
        "\n",
        "\n",
        "#"
      ],
      "execution_count": 0,
      "outputs": [
        {
          "output_type": "stream",
          "text": [
            "4\n",
            "3\n",
            "2\n",
            "1\n"
          ],
          "name": "stdout"
        }
      ]
    },
    {
      "cell_type": "markdown",
      "metadata": {
        "id": "mNVK2n3qh8k5",
        "colab_type": "text"
      },
      "source": [
        "**빈 리스트false**"
      ]
    },
    {
      "cell_type": "code",
      "metadata": {
        "id": "qCRg5L5QhRVt",
        "colab_type": "code",
        "outputId": "d828bc13-74fa-44bc-d084-7d525e5520d6",
        "colab": {
          "base_uri": "https://localhost:8080/",
          "height": 35
        }
      },
      "source": [
        "\n",
        "if []:\n",
        "    print(\"참\")\n",
        "else:\n",
        "    print(\"거짓\")\n"
      ],
      "execution_count": 0,
      "outputs": [
        {
          "output_type": "stream",
          "text": [
            "거짓\n"
          ],
          "name": "stdout"
        }
      ]
    },
    {
      "cell_type": "markdown",
      "metadata": {
        "id": "eB-vYBx3ik2v",
        "colab_type": "text"
      },
      "source": [
        "**예외'-'!!'**"
      ]
    },
    {
      "cell_type": "code",
      "metadata": {
        "id": "Co3Azt6nh8Ef",
        "colab_type": "code",
        "outputId": "33a97c75-df32-4365-9d8a-facb7c0d4035",
        "colab": {
          "base_uri": "https://localhost:8080/",
          "height": 53
        }
      },
      "source": [
        "\n",
        "\n",
        "############################\n",
        "#  Representation error\n",
        "## double precision representation of floating-point numbers\n",
        "############################\n",
        "print(1-0.9)\n",
        "# 0.09999999999999998\n",
        "print(1-0.9==.1)\n",
        "# False\n",
        "\n",
        "#####"
      ],
      "execution_count": 0,
      "outputs": [
        {
          "output_type": "stream",
          "text": [
            "0.09999999999999998\n",
            "False\n"
          ],
          "name": "stdout"
        }
      ]
    },
    {
      "cell_type": "code",
      "metadata": {
        "id": "YJWmTYv7iPnS",
        "colab_type": "code",
        "outputId": "849eb07d-1954-468d-86ec-ac1b6e2d4d9e",
        "colab": {
          "base_uri": "https://localhost:8080/",
          "height": 53
        }
      },
      "source": [
        "\n",
        "import decimal\n",
        "x=decimal.Decimal(3.14)\n",
        "y=decimal.Decimal(2.74)\n",
        "x,y\n"
      ],
      "execution_count": 0,
      "outputs": [
        {
          "output_type": "execute_result",
          "data": {
            "text/plain": [
              "(Decimal('3.140000000000000124344978758017532527446746826171875'),\n",
              " Decimal('2.7400000000000002131628207280300557613372802734375'))"
            ]
          },
          "metadata": {
            "tags": []
          },
          "execution_count": 9
        }
      ]
    },
    {
      "cell_type": "code",
      "metadata": {
        "id": "mvfc1fepiVxa",
        "colab_type": "code",
        "outputId": "0dffc027-cbad-43d0-9ee4-f2a27856bb63",
        "colab": {
          "base_uri": "https://localhost:8080/",
          "height": 35
        }
      },
      "source": [
        "import decimal\n",
        "x=decimal.Decimal(3.14)\n",
        "y=decimal.Decimal(2.74)\n",
        "x*y\n",
        "# Decimal('8.603600000000001010036498883')"
      ],
      "execution_count": 0,
      "outputs": [
        {
          "output_type": "execute_result",
          "data": {
            "text/plain": [
              "Decimal('8.603600000000001010036498883')"
            ]
          },
          "metadata": {
            "tags": []
          },
          "execution_count": 10
        }
      ]
    },
    {
      "cell_type": "markdown",
      "metadata": {
        "id": "3FkGJaRfigra",
        "colab_type": "text"
      },
      "source": [
        "**소수점이하 4자리 반올림**"
      ]
    },
    {
      "cell_type": "code",
      "metadata": {
        "id": "-8zdpmO7iZsu",
        "colab_type": "code",
        "outputId": "d43157dd-bacb-42f5-8e7d-bc0a561b0c60",
        "colab": {
          "base_uri": "https://localhost:8080/",
          "height": 35
        }
      },
      "source": [
        "import decimal\n",
        "x=decimal.Decimal(3.14)\n",
        "y=decimal.Decimal(2.74)\n",
        "decimal.getcontext().prec=4\n",
        "x*y\n",
        "# Decimal('8.604')\n",
        "#"
      ],
      "execution_count": 0,
      "outputs": [
        {
          "output_type": "execute_result",
          "data": {
            "text/plain": [
              "Decimal('8.604')"
            ]
          },
          "metadata": {
            "tags": []
          },
          "execution_count": 11
        }
      ]
    },
    {
      "cell_type": "code",
      "metadata": {
        "id": "r07Rftujifr4",
        "colab_type": "code",
        "colab": {}
      },
      "source": [
        ""
      ],
      "execution_count": 0,
      "outputs": []
    }
  ]
}