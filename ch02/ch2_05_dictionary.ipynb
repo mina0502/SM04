{
  "nbformat": 4,
  "nbformat_minor": 0,
  "metadata": {
    "colab": {
      "name": "ch2_05_dictionary.ipynb",
      "provenance": [],
      "collapsed_sections": [],
      "include_colab_link": true
    },
    "kernelspec": {
      "name": "python3",
      "display_name": "Python 3"
    }
  },
  "cells": [
    {
      "cell_type": "markdown",
      "metadata": {
        "id": "view-in-github",
        "colab_type": "text"
      },
      "source": [
        "<a href=\"https://colab.research.google.com/github/mina0502/SM04/blob/master/ch02/ch2_05_dictionary.ipynb\" target=\"_parent\"><img src=\"https://colab.research.google.com/assets/colab-badge.svg\" alt=\"Open In Colab\"/></a>"
      ]
    },
    {
      "cell_type": "markdown",
      "metadata": {
        "id": "Fbr_fpvTXszj",
        "colab_type": "text"
      },
      "source": [
        "##print(\"딕셔너리: 딕셔너리(Dictionary)란?\")\n",
        " 딕셔너리란 대응 관계를 나타내는 자료형.\n",
        " 연관 배열(Associative array) 또는 해시(Hash)\n",
        " 딕셔너리는 Key와 Value를 한 쌍으로 갖는 자료형\n",
        "\n",
        " 기본 딕셔너리의 모습\n",
        " {Key1:Value1, Key2:Value2, Key3:Value3, ...}\n",
        " Key와 Value의 쌍 여러 개가 { }로 둘러싸여 있다.\n",
        " 각각의 요소는 Key : Value 형태로 이루어져 있고 쉼표(,)로 구분\n",
        "dic = {\"name\": \"pey\", \"phone\": \"0119993323\", \"birth\": \"1118\"}\n",
        " Key는 각각 'name', 'phone', 'birth'\n",
        " 각 Key에 해당하는 Value는 'pey', '0119993323', '1118'\n",
        " \n",
        "{키:값} ==> 딕셔너리\n",
        "{값}==> set"
      ]
    },
    {
      "cell_type": "code",
      "metadata": {
        "id": "1HZRfie1Xnmt",
        "colab_type": "code",
        "outputId": "8a6c0df3-1810-4cef-ac1a-60af86bcce50",
        "colab": {
          "base_uri": "https://localhost:8080/",
          "height": 34
        }
      },
      "source": [
        "dic = {\"name\": \"pey\", \"phone\": \"0119993323\", \"birth\": \"1118\"}\n",
        "dic"
      ],
      "execution_count": 0,
      "outputs": [
        {
          "output_type": "execute_result",
          "data": {
            "text/plain": [
              "{'birth': '1118', 'name': 'pey', 'phone': '0119993323'}"
            ]
          },
          "metadata": {
            "tags": []
          },
          "execution_count": 6
        }
      ]
    },
    {
      "cell_type": "markdown",
      "metadata": {
        "id": "z6Ud3YpFYcvD",
        "colab_type": "text"
      },
      "source": [
        "**여러 가지 딕셔너리**\n",
        "a[key(index)]"
      ]
    },
    {
      "cell_type": "code",
      "metadata": {
        "id": "nanZ66ORYH2H",
        "colab_type": "code",
        "outputId": "fb9e4ea4-9a38-45af-f535-10065aa98e34",
        "colab": {
          "base_uri": "https://localhost:8080/",
          "height": 34
        }
      },
      "source": [
        "\n",
        "a = {1: \"hi\"}\n",
        "a[1] #a{1} --> syntax ERROR // 인덱스  찾을경우 []"
      ],
      "execution_count": 0,
      "outputs": [
        {
          "output_type": "execute_result",
          "data": {
            "text/plain": [
              "'hi'"
            ]
          },
          "metadata": {
            "tags": []
          },
          "execution_count": 7
        }
      ]
    },
    {
      "cell_type": "markdown",
      "metadata": {
        "id": "TFyblmXdYwNC",
        "colab_type": "text"
      },
      "source": [
        "**키 하나당 한쌍**"
      ]
    },
    {
      "cell_type": "code",
      "metadata": {
        "id": "iRk94jNIYa26",
        "colab_type": "code",
        "outputId": "5acbaf48-3ac7-43f2-9863-ab44a9cfc4d2",
        "colab": {
          "base_uri": "https://localhost:8080/",
          "height": 34
        }
      },
      "source": [
        "\n",
        "a = {\"a\": [1, 2, 3]}  # value에는 복합 자료형도 사용된다.\n",
        "len(a)"
      ],
      "execution_count": 0,
      "outputs": [
        {
          "output_type": "execute_result",
          "data": {
            "text/plain": [
              "1"
            ]
          },
          "metadata": {
            "tags": []
          },
          "execution_count": 8
        }
      ]
    },
    {
      "cell_type": "markdown",
      "metadata": {
        "id": "wjn81tqAY3zq",
        "colab_type": "text"
      },
      "source": [
        "**unhashable type: 'dict' 타입없음**"
      ]
    },
    {
      "cell_type": "code",
      "metadata": {
        "id": "8-41A8hYYr-_",
        "colab_type": "code",
        "outputId": "69f351e3-1055-4b77-d692-db4391fd60bb",
        "colab": {
          "base_uri": "https://localhost:8080/",
          "height": 187
        }
      },
      "source": [
        "a = {\"a\": [1, 2, 3]}\n",
        "a[a]  # TypeError"
      ],
      "execution_count": 0,
      "outputs": [
        {
          "output_type": "error",
          "ename": "TypeError",
          "evalue": "ignored",
          "traceback": [
            "\u001b[0;31m---------------------------------------------------------------------------\u001b[0m",
            "\u001b[0;31mTypeError\u001b[0m                                 Traceback (most recent call last)",
            "\u001b[0;32m<ipython-input-9-915eb647244d>\u001b[0m in \u001b[0;36m<module>\u001b[0;34m()\u001b[0m\n\u001b[1;32m      1\u001b[0m \u001b[0ma\u001b[0m \u001b[0;34m=\u001b[0m \u001b[0;34m{\u001b[0m\u001b[0;34m\"a\"\u001b[0m\u001b[0;34m:\u001b[0m \u001b[0;34m[\u001b[0m\u001b[0;36m1\u001b[0m\u001b[0;34m,\u001b[0m \u001b[0;36m2\u001b[0m\u001b[0;34m,\u001b[0m \u001b[0;36m3\u001b[0m\u001b[0;34m]\u001b[0m\u001b[0;34m}\u001b[0m\u001b[0;34m\u001b[0m\u001b[0;34m\u001b[0m\u001b[0m\n\u001b[0;32m----> 2\u001b[0;31m \u001b[0ma\u001b[0m\u001b[0;34m[\u001b[0m\u001b[0ma\u001b[0m\u001b[0;34m]\u001b[0m  \u001b[0;31m# TypeError\u001b[0m\u001b[0;34m\u001b[0m\u001b[0;34m\u001b[0m\u001b[0m\n\u001b[0m",
            "\u001b[0;31mTypeError\u001b[0m: unhashable type: 'dict'"
          ]
        }
      ]
    },
    {
      "cell_type": "code",
      "metadata": {
        "id": "AtYlRXdSY0qv",
        "colab_type": "code",
        "outputId": "357d4200-d276-4d8b-e8fb-29759f87e439",
        "colab": {
          "base_uri": "https://localhost:8080/",
          "height": 34
        }
      },
      "source": [
        "a = {\"a\": [1, 2, 3]}\n",
        "a[\"a\"]"
      ],
      "execution_count": 0,
      "outputs": [
        {
          "output_type": "execute_result",
          "data": {
            "text/plain": [
              "[1, 2, 3]"
            ]
          },
          "metadata": {
            "tags": []
          },
          "execution_count": 10
        }
      ]
    },
    {
      "cell_type": "markdown",
      "metadata": {
        "id": "Vwzv0u34ZZJ1",
        "colab_type": "text"
      },
      "source": [
        "**dic -->  가변형**\n",
        "\n",
        "**dic 인덱싱 불가 ===> 키값**"
      ]
    },
    {
      "cell_type": "code",
      "metadata": {
        "id": "K0ddd6U3Y8IA",
        "colab_type": "code",
        "outputId": "65d2bdd2-5789-4a84-f983-6679e698821a",
        "colab": {
          "base_uri": "https://localhost:8080/",
          "height": 70
        }
      },
      "source": [
        "\n",
        "#\n",
        "# 딕셔너리 쌍 추가하기\n",
        "#\n",
        "a = {1: \"a\"}\n",
        "a[2] = \"b\"\n",
        "a[\"name\"] = \"pey\"\n",
        "print(len(a))\n",
        "print(a)\n",
        "a[3] = [1, 2, 3]\n",
        "print(a)"
      ],
      "execution_count": 0,
      "outputs": [
        {
          "output_type": "stream",
          "text": [
            "3\n",
            "{1: 'a', 2: 'b', 'name': 'pey'}\n",
            "{1: 'a', 2: 'b', 'name': 'pey', 3: [1, 2, 3]}\n"
          ],
          "name": "stdout"
        }
      ]
    },
    {
      "cell_type": "markdown",
      "metadata": {
        "id": "NqSLNcwKZupJ",
        "colab_type": "text"
      },
      "source": [
        "**키값이 1 인 dic의 Value를 삭제하라**"
      ]
    },
    {
      "cell_type": "code",
      "metadata": {
        "id": "EbKMSlaKZRbe",
        "colab_type": "code",
        "outputId": "1c7fe3cd-e388-42c0-fd43-0ea352694b56",
        "colab": {
          "base_uri": "https://localhost:8080/",
          "height": 34
        }
      },
      "source": [
        "\n",
        "#\n",
        "# 딕셔너리 쌍 삭제하기\n",
        "#\n",
        "{1: 'a', 2: 'b', 'name': 'pey', 3: [1, 2, 3]}\n",
        "del a[1]\n",
        "a\n",
        "#"
      ],
      "execution_count": 0,
      "outputs": [
        {
          "output_type": "execute_result",
          "data": {
            "text/plain": [
              "{2: 'b', 3: [1, 2, 3], 'name': 'pey'}"
            ]
          },
          "metadata": {
            "tags": []
          },
          "execution_count": 12
        }
      ]
    },
    {
      "cell_type": "code",
      "metadata": {
        "id": "s6RECNG5ZsBz",
        "colab_type": "code",
        "outputId": "eb8c3f3f-5675-4add-ae57-ff9a4e285571",
        "colab": {
          "base_uri": "https://localhost:8080/",
          "height": 70
        }
      },
      "source": [
        "\n",
        "print(\"딕셔너리: 사용 방법\")\n",
        "d = {\"김연아\": \"피겨스케이팅\", \"류현진\": \"야구\", \"손흥민\": \"축구\", \"귀도\": \"파이썬\"}\n",
        "print(d)\n",
        "print(d[\"손흥민\"])"
      ],
      "execution_count": 0,
      "outputs": [
        {
          "output_type": "stream",
          "text": [
            "딕셔너리: 사용 방법\n",
            "{'김연아': '피겨스케이팅', '류현진': '야구', '손흥민': '축구', '귀도': '파이썬'}\n",
            "축구\n"
          ],
          "name": "stdout"
        }
      ]
    },
    {
      "cell_type": "markdown",
      "metadata": {
        "id": "ND-bhsonZ_iq",
        "colab_type": "text"
      },
      "source": [
        "**dic 키:값 , 키:값  == len 는 2"
      ]
    },
    {
      "cell_type": "code",
      "metadata": {
        "id": "CnTQLgJxZ04z",
        "colab_type": "code",
        "outputId": "2562ce3f-83ee-4d42-8885-d8c8cd98ef31",
        "colab": {
          "base_uri": "https://localhost:8080/",
          "height": 52
        }
      },
      "source": [
        "\n",
        "#\n",
        "# 딕셔너리에서 Key 사용해 Value 얻기\n",
        "#\n",
        "grade = {\"pey\": 10, \"julliet\": 99}\n",
        "print(grade[\"pey\"])\n",
        "print(grade[\"julliet\"])\n",
        "#"
      ],
      "execution_count": 0,
      "outputs": [
        {
          "output_type": "stream",
          "text": [
            "10\n",
            "99\n"
          ],
          "name": "stdout"
        }
      ]
    },
    {
      "cell_type": "code",
      "metadata": {
        "id": "6juLqMJ5aD2M",
        "colab_type": "code",
        "outputId": "622a05c2-9d75-499d-9168-37392159b474",
        "colab": {
          "base_uri": "https://localhost:8080/",
          "height": 52
        }
      },
      "source": [
        "a = {1: \"a\", 2: \"b\"}\n",
        "print(a[1])  # 1은 key\n",
        "#\n",
        "a = {\"a\": 1, \"b\": 2}\n",
        "print(a[\"b\"])"
      ],
      "execution_count": 0,
      "outputs": [
        {
          "output_type": "stream",
          "text": [
            "a\n",
            "2\n"
          ],
          "name": "stdout"
        }
      ]
    },
    {
      "cell_type": "markdown",
      "metadata": {
        "id": "kph9wzcoaQdT",
        "colab_type": "text"
      },
      "source": [
        "**Type ERROR**"
      ]
    },
    {
      "cell_type": "code",
      "metadata": {
        "id": "irQeDGgxaK0p",
        "colab_type": "code",
        "outputId": "28ae2417-c9e7-4031-a270-2135c7db7e32",
        "colab": {
          "base_uri": "https://localhost:8080/",
          "height": 187
        }
      },
      "source": [
        "a = {\"a\": 1, \"b\": 2}\n",
        "a[b]  # TypeError"
      ],
      "execution_count": 0,
      "outputs": [
        {
          "output_type": "error",
          "ename": "NameError",
          "evalue": "ignored",
          "traceback": [
            "\u001b[0;31m---------------------------------------------------------------------------\u001b[0m",
            "\u001b[0;31mNameError\u001b[0m                                 Traceback (most recent call last)",
            "\u001b[0;32m<ipython-input-16-bd4a989c7850>\u001b[0m in \u001b[0;36m<module>\u001b[0;34m()\u001b[0m\n\u001b[1;32m      1\u001b[0m \u001b[0ma\u001b[0m \u001b[0;34m=\u001b[0m \u001b[0;34m{\u001b[0m\u001b[0;34m\"a\"\u001b[0m\u001b[0;34m:\u001b[0m \u001b[0;36m1\u001b[0m\u001b[0;34m,\u001b[0m \u001b[0;34m\"b\"\u001b[0m\u001b[0;34m:\u001b[0m \u001b[0;36m2\u001b[0m\u001b[0;34m}\u001b[0m\u001b[0;34m\u001b[0m\u001b[0;34m\u001b[0m\u001b[0m\n\u001b[0;32m----> 2\u001b[0;31m \u001b[0ma\u001b[0m\u001b[0;34m[\u001b[0m\u001b[0mb\u001b[0m\u001b[0;34m]\u001b[0m  \u001b[0;31m# TypeError\u001b[0m\u001b[0;34m\u001b[0m\u001b[0;34m\u001b[0m\u001b[0m\n\u001b[0m",
            "\u001b[0;31mNameError\u001b[0m: name 'b' is not defined"
          ]
        }
      ]
    },
    {
      "cell_type": "code",
      "metadata": {
        "id": "0_H24cm0aOax",
        "colab_type": "code",
        "outputId": "9932ec0e-2778-48f4-ba9b-aef5f3ff1058",
        "colab": {
          "base_uri": "https://localhost:8080/",
          "height": 52
        }
      },
      "source": [
        "\n",
        "#\n",
        "dic = {\"name\": \"pey\", \"phone\": \"0109993323\", \"birth\": \"1118\"}\n",
        "print(dic[\"birth\"])\n",
        "print(dic[\"phone\"])"
      ],
      "execution_count": 0,
      "outputs": [
        {
          "output_type": "stream",
          "text": [
            "1118\n",
            "0109993323\n"
          ],
          "name": "stdout"
        }
      ]
    },
    {
      "cell_type": "markdown",
      "metadata": {
        "id": "VEPm_O6ialfz",
        "colab_type": "text"
      },
      "source": [
        "**딕셔너리 만들 때 주의할 사항**\n",
        "\n",
        "**딕셔너리에서 Key는 고유한 값이므로 중복되는 Key 값을 설정해 놓으면**\n",
        "\n",
        "\n",
        "**하나를 제외한 나머지 것들이 모두 무시된다**"
      ]
    },
    {
      "cell_type": "code",
      "metadata": {
        "id": "1mZURvRNaTdB",
        "colab_type": "code",
        "outputId": "b3ac2a83-cdee-4957-c507-4ca40a0b2a6d",
        "colab": {
          "base_uri": "https://localhost:8080/",
          "height": 34
        }
      },
      "source": [
        "\n",
        "#\n",
        "#\n",
        "a = {1: \"a\", 1: \"b\"}\n",
        "a[1]\n",
        "#"
      ],
      "execution_count": 0,
      "outputs": [
        {
          "output_type": "execute_result",
          "data": {
            "text/plain": [
              "'b'"
            ]
          },
          "metadata": {
            "tags": []
          },
          "execution_count": 18
        }
      ]
    },
    {
      "cell_type": "code",
      "metadata": {
        "id": "4nmg0_vhaZ7i",
        "colab_type": "code",
        "outputId": "92c28dd7-19f5-4ec9-9b4b-b66d3474abd9",
        "colab": {
          "base_uri": "https://localhost:8080/",
          "height": 70
        }
      },
      "source": [
        "\n",
        "print(\"딕셔너리: 관련 내장 함수들\")\n",
        "#\n",
        "# Key 리스트 만들기(keys)\n",
        "#\n",
        "a = {\"name\": \"pey\", \"phone\": \"0119993323\", \"birth\": \"1118\"}\n",
        "print(a.keys())\n",
        "list(a.keys())"
      ],
      "execution_count": 0,
      "outputs": [
        {
          "output_type": "stream",
          "text": [
            "딕셔너리: 관련 내장 함수들\n",
            "dict_keys(['name', 'phone', 'birth'])\n"
          ],
          "name": "stdout"
        },
        {
          "output_type": "execute_result",
          "data": {
            "text/plain": [
              "['name', 'phone', 'birth']"
            ]
          },
          "metadata": {
            "tags": []
          },
          "execution_count": 20
        }
      ]
    },
    {
      "cell_type": "markdown",
      "metadata": {
        "id": "7eOpzi52axr2",
        "colab_type": "text"
      },
      "source": [
        "**key값 출력**\n",
        "\n",
        "**key 없을경우 for문 빠져나옴**"
      ]
    },
    {
      "cell_type": "code",
      "metadata": {
        "id": "qHIR97zVaq4Z",
        "colab_type": "code",
        "outputId": "d734d609-3072-40fe-d80a-4038f2083f70",
        "colab": {
          "base_uri": "https://localhost:8080/",
          "height": 70
        }
      },
      "source": [
        "\n",
        "#################################################\n",
        "# 기본적인 반복(iterate) 구문(예: for문)을 실행\n",
        "#################################################\n",
        "a = {\"name\": \"pey\", \"phone\": \"0119993323\", \"birth\": \"1118\"}\n",
        "for k in a.keys():\n",
        "    print(k)\n",
        "\n",
        "\n",
        "#"
      ],
      "execution_count": 0,
      "outputs": [
        {
          "output_type": "stream",
          "text": [
            "name\n",
            "phone\n",
            "birth\n"
          ],
          "name": "stdout"
        }
      ]
    },
    {
      "cell_type": "markdown",
      "metadata": {
        "id": "ZWV8qqRibBIC",
        "colab_type": "text"
      },
      "source": [
        "**특정 dic에서 Value값 빼옴**"
      ]
    },
    {
      "cell_type": "code",
      "metadata": {
        "id": "D9v9uITHaxBE",
        "colab_type": "code",
        "outputId": "f93b8170-cfae-49ff-b231-5ef7a5c45ed0",
        "colab": {
          "base_uri": "https://localhost:8080/",
          "height": 34
        }
      },
      "source": [
        "\n",
        "#\n",
        "# Value 리스트 만들기(values)\n",
        "#\n",
        "a = {\"name\": \"pey\", \"phone\": \"0119993323\", \"birth\": \"1118\"}\n",
        "a.values()\n",
        "#"
      ],
      "execution_count": 0,
      "outputs": [
        {
          "output_type": "execute_result",
          "data": {
            "text/plain": [
              "dict_values(['pey', '0119993323', '1118'])"
            ]
          },
          "metadata": {
            "tags": []
          },
          "execution_count": 22
        }
      ]
    },
    {
      "cell_type": "markdown",
      "metadata": {
        "id": "On17BGEGbQLb",
        "colab_type": "text"
      },
      "source": [
        "**Tuple로 돌려줌**"
      ]
    },
    {
      "cell_type": "code",
      "metadata": {
        "id": "Rr2nY-Zsa_2R",
        "colab_type": "code",
        "outputId": "0706ce8b-d094-4bf3-f027-1b614f4124c3",
        "colab": {
          "base_uri": "https://localhost:8080/",
          "height": 34
        }
      },
      "source": [
        "\n",
        "# Key, Value 쌍 얻기(items)\n",
        "#\n",
        "a = {\"name\": \"pey\", \"phone\": \"0119993323\", \"birth\": \"1118\"}\n",
        "a.items()  # Key와 Value의 쌍을 튜플로 묶은 값을 dict_items 객체로 돌려준다.\n",
        "#"
      ],
      "execution_count": 0,
      "outputs": [
        {
          "output_type": "execute_result",
          "data": {
            "text/plain": [
              "dict_items([('name', 'pey'), ('phone', '0119993323'), ('birth', '1118')])"
            ]
          },
          "metadata": {
            "tags": []
          },
          "execution_count": 23
        }
      ]
    },
    {
      "cell_type": "markdown",
      "metadata": {
        "id": "sc4exccSbU1u",
        "colab_type": "text"
      },
      "source": [
        "**빈 dic**"
      ]
    },
    {
      "cell_type": "code",
      "metadata": {
        "id": "bvRz8kwfbOHp",
        "colab_type": "code",
        "outputId": "8e9de612-5b92-4ef7-e79d-e3ca627b0b5a",
        "colab": {
          "base_uri": "https://localhost:8080/",
          "height": 34
        }
      },
      "source": [
        "\n",
        "#\n",
        "# Key: Value 쌍 모두 지우기(clear)\n",
        "#\n",
        "a = {\"name\": \"pey\", \"phone\": \"0119993323\", \"birth\": \"1118\"}\n",
        "a.clear()\n",
        "a\n",
        "#"
      ],
      "execution_count": 0,
      "outputs": [
        {
          "output_type": "execute_result",
          "data": {
            "text/plain": [
              "{}"
            ]
          },
          "metadata": {
            "tags": []
          },
          "execution_count": 24
        }
      ]
    },
    {
      "cell_type": "code",
      "metadata": {
        "id": "IGwSdlP1bUGK",
        "colab_type": "code",
        "outputId": "b64eb8e0-3c9b-4dfe-924d-964fc411afac",
        "colab": {
          "base_uri": "https://localhost:8080/",
          "height": 52
        }
      },
      "source": [
        "\n",
        "# Key로 Value얻기(get)\n",
        "#\n",
        "a = {\"name\": \"pey\", \"phone\": \"0119993323\", \"birth\": \"1118\"}\n",
        "print(a.get(\"name\"))  # a['name'])\n",
        "print(a.get(\"phone\"))  # a['phone']\n"
      ],
      "execution_count": 0,
      "outputs": [
        {
          "output_type": "stream",
          "text": [
            "pey\n",
            "0119993323\n"
          ],
          "name": "stdout"
        }
      ]
    },
    {
      "cell_type": "markdown",
      "metadata": {
        "id": "UdfrLFPMbpMj",
        "colab_type": "text"
      },
      "source": [
        "**Key ERROR**"
      ]
    },
    {
      "cell_type": "code",
      "metadata": {
        "id": "9rQ1hC0WbbwN",
        "colab_type": "code",
        "outputId": "44873a45-0ba7-42fb-955e-a3a9bd4477e6",
        "colab": {
          "base_uri": "https://localhost:8080/",
          "height": 205
        }
      },
      "source": [
        "a = {\"name\": \"pey\", \"phone\": \"0119993323\", \"birth\": \"1118\"}\n",
        "print(a[\"nokey\"])  # KeyError\n",
        "#"
      ],
      "execution_count": 0,
      "outputs": [
        {
          "output_type": "error",
          "ename": "KeyError",
          "evalue": "ignored",
          "traceback": [
            "\u001b[0;31m---------------------------------------------------------------------------\u001b[0m",
            "\u001b[0;31mKeyError\u001b[0m                                  Traceback (most recent call last)",
            "\u001b[0;32m<ipython-input-28-23e04329ad67>\u001b[0m in \u001b[0;36m<module>\u001b[0;34m()\u001b[0m\n\u001b[1;32m      1\u001b[0m \u001b[0ma\u001b[0m \u001b[0;34m=\u001b[0m \u001b[0;34m{\u001b[0m\u001b[0;34m\"name\"\u001b[0m\u001b[0;34m:\u001b[0m \u001b[0;34m\"pey\"\u001b[0m\u001b[0;34m,\u001b[0m \u001b[0;34m\"phone\"\u001b[0m\u001b[0;34m:\u001b[0m \u001b[0;34m\"0119993323\"\u001b[0m\u001b[0;34m,\u001b[0m \u001b[0;34m\"birth\"\u001b[0m\u001b[0;34m:\u001b[0m \u001b[0;34m\"1118\"\u001b[0m\u001b[0;34m}\u001b[0m\u001b[0;34m\u001b[0m\u001b[0;34m\u001b[0m\u001b[0m\n\u001b[0;32m----> 2\u001b[0;31m \u001b[0mprint\u001b[0m\u001b[0;34m(\u001b[0m\u001b[0ma\u001b[0m\u001b[0;34m[\u001b[0m\u001b[0;34m\"nokey\"\u001b[0m\u001b[0;34m]\u001b[0m\u001b[0;34m)\u001b[0m  \u001b[0;31m# KeyError\u001b[0m\u001b[0;34m\u001b[0m\u001b[0;34m\u001b[0m\u001b[0m\n\u001b[0m\u001b[1;32m      3\u001b[0m \u001b[0;31m#\u001b[0m\u001b[0;34m\u001b[0m\u001b[0;34m\u001b[0m\u001b[0;34m\u001b[0m\u001b[0m\n",
            "\u001b[0;31mKeyError\u001b[0m: 'nokey'"
          ]
        }
      ]
    },
    {
      "cell_type": "markdown",
      "metadata": {
        "id": "izznlxT4bsq9",
        "colab_type": "text"
      },
      "source": [
        "**default 값 지정**\n",
        "\n",
        "**키값이 없을 경우 2번째를 디폴트값으로 가져옴**"
      ]
    },
    {
      "cell_type": "code",
      "metadata": {
        "id": "OyBWA3-rbn4s",
        "colab_type": "code",
        "outputId": "84c667d7-762e-4ae4-81c0-f4b23a42bad9",
        "colab": {
          "base_uri": "https://localhost:8080/",
          "height": 52
        }
      },
      "source": [
        "\n",
        "# get(x, '디폴트 값')\n",
        "#\n",
        "# 딕셔너리 안에 찾으려는 Key 값이 없을 경우\n",
        "# 미리 정해 둔 디폴트 값을 대신 가져오게 설정.\n",
        "#\n",
        "print(a.get(\"foo\", \"bar\"))\n",
        "print(a.get(\"name\", \"bar\"))\n",
        "#"
      ],
      "execution_count": 0,
      "outputs": [
        {
          "output_type": "stream",
          "text": [
            "bar\n",
            "pey\n"
          ],
          "name": "stdout"
        }
      ]
    },
    {
      "cell_type": "code",
      "metadata": {
        "id": "EB6PROBgbv81",
        "colab_type": "code",
        "outputId": "6d0c792a-5352-46c2-ae93-db467d97dbcc",
        "colab": {
          "base_uri": "https://localhost:8080/",
          "height": 52
        }
      },
      "source": [
        "\n",
        "# 해당 Key가 딕셔너리 안에 있는지 조사하기(in)\n",
        "#\n",
        "a = {\"name\": \"pey\", \"phone\": \"0119993323\", \"birth\": \"1118\"}\n",
        "print(\"name\" in a)\n",
        "print(\"foo\" in a)\n"
      ],
      "execution_count": 0,
      "outputs": [
        {
          "output_type": "stream",
          "text": [
            "True\n",
            "False\n"
          ],
          "name": "stdout"
        }
      ]
    },
    {
      "cell_type": "code",
      "metadata": {
        "id": "mYT-4ILCb_YJ",
        "colab_type": "code",
        "colab": {}
      },
      "source": [
        ""
      ],
      "execution_count": 0,
      "outputs": []
    }
  ]
}