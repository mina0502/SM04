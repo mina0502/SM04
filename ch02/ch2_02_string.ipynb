{
  "nbformat": 4,
  "nbformat_minor": 0,
  "metadata": {
    "colab": {
      "name": "ch2_02_string.ipynb",
      "provenance": [],
      "collapsed_sections": [],
      "include_colab_link": true
    },
    "kernelspec": {
      "name": "python3",
      "display_name": "Python 3"
    }
  },
  "cells": [
    {
      "cell_type": "markdown",
      "metadata": {
        "id": "view-in-github",
        "colab_type": "text"
      },
      "source": [
        "<a href=\"https://colab.research.google.com/github/mina0502/SM04/blob/master/ch2_02_string.ipynb\" target=\"_parent\"><img src=\"https://colab.research.google.com/assets/colab-badge.svg\" alt=\"Open In Colab\"/></a>"
      ]
    },
    {
      "cell_type": "markdown",
      "metadata": {
        "id": "9AzLe1cOlXHR",
        "colab_type": "text"
      },
      "source": [
        "## **string 형 **\n",
        "#### 문자열 --> \"\"\" & ''' --> 2줄 이상 담을 경우 \n",
        "#### 문자열 default --> ' ' 로 담김"
      ]
    },
    {
      "cell_type": "code",
      "metadata": {
        "id": "PVGpdD-Ulu6z",
        "colab_type": "code",
        "outputId": "ee9bd446-6c66-46fd-b1e3-432907291463",
        "colab": {
          "base_uri": "https://localhost:8080/",
          "height": 53
        }
      },
      "source": [
        "# ch2_02_string.py\n",
        "# \"Life is too short, you need python\"\n",
        "# 'Life is too short, you need python'\n",
        "# \"\"\"Life is too short, you need python\"\"\"\n",
        "# '''Life is too short, you need python'''\n",
        "\n",
        "\n",
        "print(\"문자열: '\")\n",
        "food = \"Python's favorite food is perl\"\n",
        "# \" ' \" [ \" 안에 있는 ' 는 문자로 잡힘\"]\n",
        "food\n"
      ],
      "execution_count": 0,
      "outputs": [
        {
          "output_type": "stream",
          "text": [
            "문자열: '\n"
          ],
          "name": "stdout"
        },
        {
          "output_type": "execute_result",
          "data": {
            "text/plain": [
              "\"Python's favorite food is perl\""
            ]
          },
          "metadata": {
            "tags": []
          },
          "execution_count": 15
        }
      ]
    },
    {
      "cell_type": "markdown",
      "metadata": {
        "id": "kmTeqyN0oTuz",
        "colab_type": "text"
      },
      "source": [
        "**파이썬에서 어떤 에러인지 바로 알려줌 !**"
      ]
    },
    {
      "cell_type": "code",
      "metadata": {
        "id": "pMaGt3LunvHc",
        "colab_type": "code",
        "outputId": "ce405213-7ecf-4891-c439-a59165be2da7",
        "colab": {
          "base_uri": "https://localhost:8080/",
          "height": 136
        }
      },
      "source": [
        "\n",
        "food = 'Python's favorite food is perl'  # Error\n",
        "#sytax Error // 바로 알려줌\n",
        "say = '\"Python is very easy.\" he says.'\n",
        "\n",
        "food\n",
        "say\n"
      ],
      "execution_count": 0,
      "outputs": [
        {
          "output_type": "error",
          "ename": "SyntaxError",
          "evalue": "ignored",
          "traceback": [
            "\u001b[0;36m  File \u001b[0;32m\"<ipython-input-21-a5303ca548df>\"\u001b[0;36m, line \u001b[0;32m2\u001b[0m\n\u001b[0;31m    food = 'Python's favorite food is perl'  # Error\u001b[0m\n\u001b[0m                   ^\u001b[0m\n\u001b[0;31mSyntaxError\u001b[0m\u001b[0;31m:\u001b[0m invalid syntax\n"
          ]
        }
      ]
    },
    {
      "cell_type": "code",
      "metadata": {
        "id": "icMDmotxoHdI",
        "colab_type": "code",
        "outputId": "9e01bb99-5658-4b75-bc2e-420780b35866",
        "colab": {
          "base_uri": "https://localhost:8080/",
          "height": 53
        }
      },
      "source": [
        "print(\"문자열: \\ 이용\")\n",
        "food = 'Python\\'s favorite food is perl' # (\\ 특수코드) 사용해서 ' 끼리 사용 가능 \n",
        "say = \"\\\"Python is very easy.\\\" he says.\"\n",
        "food\n",
        "say"
      ],
      "execution_count": 0,
      "outputs": [
        {
          "output_type": "stream",
          "text": [
            "문자열: \\ 이용\n"
          ],
          "name": "stdout"
        },
        {
          "output_type": "execute_result",
          "data": {
            "text/plain": [
              "'\"Python is very easy.\" he says.'"
            ]
          },
          "metadata": {
            "tags": []
          },
          "execution_count": 22
        }
      ]
    },
    {
      "cell_type": "markdown",
      "metadata": {
        "id": "nyfptCH8pWgy",
        "colab_type": "text"
      },
      "source": [
        "**... 의미 --> \\n**"
      ]
    },
    {
      "cell_type": "code",
      "metadata": {
        "id": "KQqLoGhmnvto",
        "colab_type": "code",
        "outputId": "0c66080e-7305-4547-c6ef-84b1e4cde278",
        "colab": {
          "base_uri": "https://localhost:8080/",
          "height": 143
        }
      },
      "source": [
        "\n",
        "# 이스케이프 코드\n",
        "print(\"문자열: 이스케이프 코드 이용\") #제어 표식 ==> \\ 제어코드 단어\n",
        "multiline = \"Life is too short\\nYou need python\" #(\\ 특수 제어코드 들어감 [색 다름])\n",
        "multiline\n",
        "print(multiline)\n",
        "# 여러줄 문자열 처리\n",
        "multiline1 = '''\n",
        "... Life is too short\n",
        "... You need python\n",
        "... '''\n",
        "multiline1\n",
        "print(multiline1)\n"
      ],
      "execution_count": 0,
      "outputs": [
        {
          "output_type": "stream",
          "text": [
            "문자열: 이스케이프 코드 이용\n",
            "Life is too short\n",
            "You need python\n",
            "\n",
            "... Life is too short\n",
            "... You need python\n",
            "... \n"
          ],
          "name": "stdout"
        }
      ]
    },
    {
      "cell_type": "markdown",
      "metadata": {
        "id": "LRexP7SXpxH-",
        "colab_type": "text"
      },
      "source": [
        "**튜플 형식으로 결과값 도출 **\n",
        "**문자열 더하기와 문자열 곱하기 (곱하기의 경우 문자열기 곱한 만큼 더 생김**"
      ]
    },
    {
      "cell_type": "code",
      "metadata": {
        "id": "JIV2KeIdojio",
        "colab_type": "code",
        "colab": {
          "base_uri": "https://localhost:8080/",
          "height": 71
        },
        "outputId": "badae773-f805-4c1c-bebf-0e045fc1321b"
      },
      "source": [
        "################################################\n",
        "print(\"문자열 연산: 더하기\")\n",
        "head = \"Python\"\n",
        "tail = \" is fun!\"\n",
        "head + tail\n",
        "\n",
        "print(\"문자열 연산: 곱하기\")\n",
        "a = \"python\"\n",
        "a * 2\n",
        "head + tail, a*2\n",
        "\n"
      ],
      "execution_count": 2,
      "outputs": [
        {
          "output_type": "stream",
          "text": [
            "문자열 연산: 더하기\n",
            "문자열 연산: 곱하기\n"
          ],
          "name": "stdout"
        },
        {
          "output_type": "execute_result",
          "data": {
            "text/plain": [
              "('Python is fun!', 'pythonpython')"
            ]
          },
          "metadata": {
            "tags": []
          },
          "execution_count": 2
        }
      ]
    },
    {
      "cell_type": "code",
      "metadata": {
        "id": "QYfRXZJ3pP_E",
        "colab_type": "code",
        "colab": {}
      },
      "source": [
        "#####################################\n",
        "# multistring.py\n",
        "print(\"=\" * 50)\n",
        "print(\"I am now coding Python!\")\n",
        "print(\"=\" * 50)\n",
        "#####################################\n"
      ],
      "execution_count": 0,
      "outputs": []
    },
    {
      "cell_type": "code",
      "metadata": {
        "id": "8L48FpnRqH9Z",
        "colab_type": "code",
        "colab": {
          "base_uri": "https://localhost:8080/",
          "height": 125
        },
        "outputId": "bf9b7118-9c04-4190-caa7-85d4c66c9cfe"
      },
      "source": [
        "\n",
        "# 내장함수: len()\n",
        "print(\"문자열 연산: 길이 구하기 - len()\")\n",
        "a = \"Life is too short\"\n",
        "print(len(a))\n",
        "\n",
        "#####################################\n",
        "#\n",
        "# 문자열 인덱싱과 슬라이싱\n",
        "#\n",
        "#####################################\n",
        "print(\"문자열: 인덱싱이란?\")\n",
        "a1 = \"Life is too short, You need Python\"\n",
        "print(a1[3],a1[15])\n",
        "\n",
        "# \"파이썬은 0부터 숫자를 센다.\"\n",
        "print(\"문자열: 인덱싱 활용\")\n",
        "\n",
        "a2 = \"Life is too short, You need Python\"\n",
        "a2[0],a2[12],a2[-1],a2[-2],a2[-5],a2[-12]\n",
        "\n"
      ],
      "execution_count": 7,
      "outputs": [
        {
          "output_type": "stream",
          "text": [
            "문자열 연산: 길이 구하기 - len()\n",
            "17\n",
            "문자열: 인덱싱이란?\n",
            "e r\n",
            "문자열: 인덱싱 활용\n"
          ],
          "name": "stdout"
        },
        {
          "output_type": "execute_result",
          "data": {
            "text/plain": [
              "('L', 's', 'n', 'o', 'y', ' ')"
            ]
          },
          "metadata": {
            "tags": []
          },
          "execution_count": 7
        }
      ]
    },
    {
      "cell_type": "code",
      "metadata": {
        "id": "pQdwwaTBqkyP",
        "colab_type": "code",
        "colab": {
          "base_uri": "https://localhost:8080/",
          "height": 215
        },
        "outputId": "1ff3beae-94cc-4848-e619-b570cb04191d"
      },
      "source": [
        "#####################################\n",
        "print(\"문자열: 슬라이싱이란?\")\n",
        "a = \"Life is too short, You need Python\"\n",
        "# Life 를 뽑아낼려면 어떻게?\n",
        "b = a[0] + a[1] + a[2] + a[3]  # 문자열 더하기 연산\n",
        "print(\"b=\" +b)\n",
        "# slicing (슬라이싱)\n",
        "print(\"a[0:4]=\"+ a[0:4]+\".\")  # 0 <= index < 4\n",
        "\n",
        "print(\"a[0:5]= \"+a[0:5]+\".\")\n",
        "print(\"a[5:7]= \"+a[5:7]+\".\")\n",
        "print(\"a[12:17]= \"+a[12:17])\n",
        "# : 의 사용\n",
        "# a[19:-7] ?\n",
        "print(\"a[:4]= \"+a[:4]+\"\\n\",\"a[19:]= \"+a[19:]+\"\\n\",\"a[:17]= \"+a[:17]+\"\\n\",\"a[:]= \"+a[:]+\"\\n\",\"a[19:-7]= \"+a[19:-7])"
      ],
      "execution_count": 22,
      "outputs": [
        {
          "output_type": "stream",
          "text": [
            "문자열: 슬라이싱이란?\n",
            "b=Life\n",
            "a[0:4]=Life.\n",
            "a[0:5]= Life .\n",
            "a[5:7]= is.\n",
            "a[12:17]= short\n",
            "a[:4]= Life\n",
            " a[19:]= You need Python\n",
            " a[:17]= Life is too short\n",
            " a[:]= Life is too short, You need Python\n",
            " a[19:-7]= You need\n"
          ],
          "name": "stdout"
        }
      ]
    },
    {
      "cell_type": "code",
      "metadata": {
        "id": "II0sQR0Jrf0q",
        "colab_type": "code",
        "colab": {
          "base_uri": "https://localhost:8080/",
          "height": 143
        },
        "outputId": "856e8709-49c3-4850-ad32-053574b8c2a0"
      },
      "source": [
        "\n",
        "print(\"문자열: 슬라이싱 응용?\")\n",
        "a = \"20190909Sunny\"\n",
        "date = a[:8]\n",
        "weather = a[8:]\n",
        "date\n",
        "weather\n",
        "\n",
        "a1 = \"20190917Rainy\"\n",
        "year1 = a[1:4]\n",
        "day1 = a1[4:8]\n",
        "weather1 = a1[8:]\n",
        "\n",
        "print(\"date: \"+date+\"\\n\",\"weather: \"+weather+\"\\n\",\"year: \"+year1+\"\\n\",\"day= \"+day1+\"\\n\",\"weather: \"+weather1+\"\\n\")\n",
        "\n"
      ],
      "execution_count": 23,
      "outputs": [
        {
          "output_type": "stream",
          "text": [
            "문자열: 슬라이싱 응용?\n",
            "date: 20190909\n",
            " weather: Sunny\n",
            " year: 019\n",
            " day= 0917\n",
            " weather: Rainy\n",
            "\n"
          ],
          "name": "stdout"
        }
      ]
    },
    {
      "cell_type": "code",
      "metadata": {
        "id": "t-LBincktP_9",
        "colab_type": "code",
        "colab": {
          "base_uri": "https://localhost:8080/",
          "height": 244
        },
        "outputId": "999b7a41-6bb3-437b-b7a9-aa3b71604994"
      },
      "source": [
        "# \"Pithon\"이라는 문자열을 \"Python\"으로 바꾸려면?\n",
        "a = \"Pithon\"\n",
        "a[1]\n",
        "a[1] = 'y'  # Error (immutable한 자료형) 불변\n",
        "#################\n"
      ],
      "execution_count": 24,
      "outputs": [
        {
          "output_type": "error",
          "ename": "TypeError",
          "evalue": "ignored",
          "traceback": [
            "\u001b[0;31m---------------------------------------------------------------------------\u001b[0m",
            "\u001b[0;31mTypeError\u001b[0m                                 Traceback (most recent call last)",
            "\u001b[0;32m<ipython-input-24-0369609a6a36>\u001b[0m in \u001b[0;36m<module>\u001b[0;34m()\u001b[0m\n\u001b[1;32m      1\u001b[0m \u001b[0ma\u001b[0m \u001b[0;34m=\u001b[0m \u001b[0;34m\"Pithon\"\u001b[0m\u001b[0;34m\u001b[0m\u001b[0;34m\u001b[0m\u001b[0m\n\u001b[1;32m      2\u001b[0m \u001b[0ma\u001b[0m\u001b[0;34m[\u001b[0m\u001b[0;36m1\u001b[0m\u001b[0;34m]\u001b[0m\u001b[0;34m\u001b[0m\u001b[0;34m\u001b[0m\u001b[0m\n\u001b[0;32m----> 3\u001b[0;31m \u001b[0ma\u001b[0m\u001b[0;34m[\u001b[0m\u001b[0;36m1\u001b[0m\u001b[0;34m]\u001b[0m \u001b[0;34m=\u001b[0m \u001b[0;34m'y'\u001b[0m  \u001b[0;31m# Error (immutable한 자료형) 불변\u001b[0m\u001b[0;34m\u001b[0m\u001b[0;34m\u001b[0m\u001b[0m\n\u001b[0m\u001b[1;32m      4\u001b[0m \u001b[0;31m#################\u001b[0m\u001b[0;34m\u001b[0m\u001b[0;34m\u001b[0m\u001b[0;34m\u001b[0m\u001b[0m\n\u001b[1;32m      5\u001b[0m \u001b[0ma\u001b[0m \u001b[0;34m=\u001b[0m \u001b[0;34m\"Pithon\"\u001b[0m\u001b[0;34m\u001b[0m\u001b[0;34m\u001b[0m\u001b[0m\n",
            "\u001b[0;31mTypeError\u001b[0m: 'str' object does not support item assignment"
          ]
        }
      ]
    },
    {
      "cell_type": "code",
      "metadata": {
        "id": "58YBD8RUuP7W",
        "colab_type": "code",
        "colab": {
          "base_uri": "https://localhost:8080/",
          "height": 89
        },
        "outputId": "cf565c2f-9a35-49cb-d225-2dbc660db968"
      },
      "source": [
        "a = \"Pithon\"\n",
        "print(a[:1])\n",
        "print(a[2:])\n",
        "print(a[:1] + 'y' + a[2:])  # Python\n",
        "\n",
        "\n",
        "\"\"\"\n",
        "Author: redwoods\n",
        "파이썬 코드: ch2_02_string.py\n",
        "\"\"\"\n"
      ],
      "execution_count": 27,
      "outputs": [
        {
          "output_type": "stream",
          "text": [
            "P\n",
            "thon\n",
            "Python\n"
          ],
          "name": "stdout"
        },
        {
          "output_type": "execute_result",
          "data": {
            "text/plain": [
              "'\\nAuthor: redwoods\\n파이썬 코드: ch2_02_string.py\\n'"
            ]
          },
          "metadata": {
            "tags": []
          },
          "execution_count": 27
        }
      ]
    },
    {
      "cell_type": "code",
      "metadata": {
        "id": "FlGJRYutuMl1",
        "colab_type": "code",
        "colab": {
          "base_uri": "https://localhost:8080/",
          "height": 107
        },
        "outputId": "bad32b75-8425-432b-d224-4f7c136f1d53"
      },
      "source": [
        "# ch2_03_string_formating.py\n",
        "\n",
        "print(\"문자열: 포매팅이란?\")\n",
        "# 1. 숫자 바로 대입\n",
        "a1=\"I eat %d apples.\" % 3\n",
        "\n",
        "# 2. 문자열 바로 대입\n",
        "a2=\"I eat %s apples.\" % \"five\"\n",
        "\n",
        "# 3. 숫자 값을 나타내는 변수로 대입\n",
        "number = 3\n",
        "a3=\"I eat %d apples.\" % number\n",
        "print(a1+\"\\n\",a2+\"\\n\",a3+\"\\n\")\n",
        "\n"
      ],
      "execution_count": 32,
      "outputs": [
        {
          "output_type": "stream",
          "text": [
            "문자열: 포매팅이란?\n",
            "I eat 3 apples.\n",
            " I eat five apples.\n",
            " I eat 3 apples.\n",
            "\n"
          ],
          "name": "stdout"
        }
      ]
    },
    {
      "cell_type": "code",
      "metadata": {
        "id": "IpINQsZCuvJH",
        "colab_type": "code",
        "colab": {
          "base_uri": "https://localhost:8080/",
          "height": 244
        },
        "outputId": "14d4aee6-f7a1-4318-d482-2eaf66ede8e8"
      },
      "source": [
        "# 4. 2개 이상의 값 넣기\n",
        "\n",
        "print(\"I ate %d apples. so I was sick for %s days.\" % number)  # , day   # Error\n"
      ],
      "execution_count": 33,
      "outputs": [
        {
          "output_type": "error",
          "ename": "TypeError",
          "evalue": "ignored",
          "traceback": [
            "\u001b[0;31m---------------------------------------------------------------------------\u001b[0m",
            "\u001b[0;31mTypeError\u001b[0m                                 Traceback (most recent call last)",
            "\u001b[0;32m<ipython-input-33-33bbddbc5a04>\u001b[0m in \u001b[0;36m<module>\u001b[0;34m()\u001b[0m\n\u001b[1;32m      1\u001b[0m \u001b[0mnumber\u001b[0m \u001b[0;34m=\u001b[0m \u001b[0;36m10\u001b[0m\u001b[0;34m\u001b[0m\u001b[0;34m\u001b[0m\u001b[0m\n\u001b[1;32m      2\u001b[0m \u001b[0mday\u001b[0m \u001b[0;34m=\u001b[0m \u001b[0;34m\"three\"\u001b[0m\u001b[0;34m\u001b[0m\u001b[0;34m\u001b[0m\u001b[0m\n\u001b[0;32m----> 3\u001b[0;31m \u001b[0mprint\u001b[0m\u001b[0;34m(\u001b[0m\u001b[0;34m\"I ate %d apples. so I was sick for %s days.\"\u001b[0m \u001b[0;34m%\u001b[0m \u001b[0mnumber\u001b[0m\u001b[0;34m)\u001b[0m  \u001b[0;31m# , day   # Error\u001b[0m\u001b[0;34m\u001b[0m\u001b[0;34m\u001b[0m\u001b[0m\n\u001b[0m\u001b[1;32m      4\u001b[0m \u001b[0;34m\"I ate %d apples. so I was sick for %s days.\"\u001b[0m \u001b[0;34m%\u001b[0m \u001b[0;34m(\u001b[0m\u001b[0mnumber\u001b[0m\u001b[0;34m,\u001b[0m \u001b[0mday\u001b[0m\u001b[0;34m)\u001b[0m\u001b[0;34m\u001b[0m\u001b[0;34m\u001b[0m\u001b[0m\n\u001b[1;32m      5\u001b[0m \u001b[0;31m# 소괄호 안에 콤마(,)로 구분하여 각각의 값을 넣어 준다.\u001b[0m\u001b[0;34m\u001b[0m\u001b[0;34m\u001b[0m\u001b[0;34m\u001b[0m\u001b[0m\n",
            "\u001b[0;31mTypeError\u001b[0m: not enough arguments for format string"
          ]
        }
      ]
    },
    {
      "cell_type": "code",
      "metadata": {
        "id": "zYWuCFzCvNlQ",
        "colab_type": "code",
        "colab": {
          "base_uri": "https://localhost:8080/",
          "height": 35
        },
        "outputId": "d2a01e30-4f6a-4c00-b603-3da152d4b9fd"
      },
      "source": [
        "number = 10\n",
        "day = \"three\"\n",
        "\"I ate %d apples. so I was sick for %s days.\" % (number, day)\n",
        "# 소괄호 안에 콤마(,)로 구분하여 각각의 값을 넣어 준다.\n",
        "\n"
      ],
      "execution_count": 34,
      "outputs": [
        {
          "output_type": "execute_result",
          "data": {
            "text/plain": [
              "'I ate 10 apples. so I was sick for three days.'"
            ]
          },
          "metadata": {
            "tags": []
          },
          "execution_count": 34
        }
      ]
    },
    {
      "cell_type": "code",
      "metadata": {
        "id": "F7iUAcqBvS0-",
        "colab_type": "code",
        "colab": {
          "base_uri": "https://localhost:8080/",
          "height": 53
        },
        "outputId": "845cce1e-bef5-48c8-c187-6d68b87f1f0b"
      },
      "source": [
        "print(\"문자열: 포맷 코드\")\n",
        "# %d, %s, %c, %f, %o, %x, %%   --> %% --> % 표시할 경우\n",
        "# %s, 묵시적 형변환 (정수, 실수 변형)\n",
        "a=\"I have %s apples\" % 3\n",
        "b=\"rate is %s\" % 3.234\n",
        "\n",
        "\n",
        "a,b"
      ],
      "execution_count": 37,
      "outputs": [
        {
          "output_type": "stream",
          "text": [
            "문자열: 포맷 코드\n"
          ],
          "name": "stdout"
        },
        {
          "output_type": "execute_result",
          "data": {
            "text/plain": [
              "('I have 3 apples', 'rate is 3.234')"
            ]
          },
          "metadata": {
            "tags": []
          },
          "execution_count": 37
        }
      ]
    },
    {
      "cell_type": "markdown",
      "metadata": {
        "id": "_BnusCrnv2mc",
        "colab_type": "text"
      },
      "source": [
        "# Error"
      ]
    },
    {
      "cell_type": "code",
      "metadata": {
        "id": "BZEXBCepvte7",
        "colab_type": "code",
        "colab": {
          "base_uri": "https://localhost:8080/",
          "height": 172
        },
        "outputId": "bd03f0b3-a55f-4de9-9436-232ccce4ada0"
      },
      "source": [
        "\"Error is %d%.\" % 98"
      ],
      "execution_count": 39,
      "outputs": [
        {
          "output_type": "error",
          "ename": "ValueError",
          "evalue": "ignored",
          "traceback": [
            "\u001b[0;31m---------------------------------------------------------------------------\u001b[0m",
            "\u001b[0;31mValueError\u001b[0m                                Traceback (most recent call last)",
            "\u001b[0;32m<ipython-input-39-061de263c4b7>\u001b[0m in \u001b[0;36m<module>\u001b[0;34m()\u001b[0m\n\u001b[0;32m----> 1\u001b[0;31m \u001b[0;34m\"Error is %d%.\"\u001b[0m \u001b[0;34m%\u001b[0m \u001b[0;36m98\u001b[0m\u001b[0;34m\u001b[0m\u001b[0;34m\u001b[0m\u001b[0m\n\u001b[0m",
            "\u001b[0;31mValueError\u001b[0m: incomplete format"
          ]
        }
      ]
    },
    {
      "cell_type": "code",
      "metadata": {
        "id": "9mANw5DjvznQ",
        "colab_type": "code",
        "colab": {
          "base_uri": "https://localhost:8080/",
          "height": 35
        },
        "outputId": "fa4b7959-da92-43bf-d2de-417eb007d44c"
      },
      "source": [
        "\"Error is %d%%.\" % 98"
      ],
      "execution_count": 40,
      "outputs": [
        {
          "output_type": "execute_result",
          "data": {
            "text/plain": [
              "'Error is 98%.'"
            ]
          },
          "metadata": {
            "tags": []
          },
          "execution_count": 40
        }
      ]
    },
    {
      "cell_type": "code",
      "metadata": {
        "id": "i7NzvTBwuptr",
        "colab_type": "code",
        "colab": {
          "base_uri": "https://localhost:8080/",
          "height": 53
        },
        "outputId": "37faf059-d0f8-4283-e1b4-8367078bd82f"
      },
      "source": [
        "\n",
        "###############################################-p60\n",
        "print(\"문자열: 포맷 코드와 숫자 함께 사용하기\")\n",
        "# 1. 정렬과 공백\n",
        "a=\"%10s\" % \"hi\"\n",
        "a1=\"%-10sjane.\" % \"hi\"\n",
        "# 2. 소수점 표현하기\n",
        "a2=\"%0.4f\" % 3.42134234\n",
        "a3=\"%10.4f\" % 3.42134234\n",
        "a,a1,a2,a3\n"
      ],
      "execution_count": 42,
      "outputs": [
        {
          "output_type": "stream",
          "text": [
            "문자열: 포맷 코드와 숫자 함께 사용하기\n"
          ],
          "name": "stdout"
        },
        {
          "output_type": "execute_result",
          "data": {
            "text/plain": [
              "('        hi', 'hi        jane.', '3.4213', '    3.4213')"
            ]
          },
          "metadata": {
            "tags": []
          },
          "execution_count": 42
        }
      ]
    },
    {
      "cell_type": "code",
      "metadata": {
        "id": "yOVzdbIov9tZ",
        "colab_type": "code",
        "colab": {
          "base_uri": "https://localhost:8080/",
          "height": 305
        },
        "outputId": "f3ab3f13-b929-4ae7-fccf-666f6d6c71ad"
      },
      "source": [
        "print(\"문자열: format 함수를 사용한 포매팅\")\n",
        "# 1. 숫자 바로 대입하기\n",
        "a=\"I eat {0} apples\".format(3)\n",
        "b=\"I eat {0} {1} apples\".format(3, 4)\n",
        "\n",
        "# 2. 문자열 바로 대입하기\n",
        "c=\"I eat {0} apples\".format(\"five\")\n",
        "da=\"I eat {0} apples from {1} boxes\".format(\"five\", \"three\")\n",
        "\n",
        "# 3. 숫자 값을 가진 변수로 대입하기\n",
        "number = 3\n",
        "e=\"I eat {0} apples\".format(number)\n",
        "f=\"I eat {0} apples\".format(number + 1)\n",
        "\n",
        "\n",
        "##########################\n",
        "##### f 문자열 포매팅 #####\n",
        "##### .format() 대체\n",
        "##########################\n",
        "\n",
        "print(\"문자열: f 문자열 포매팅\")\n",
        "name = \"홍길동\"\n",
        "age = 30\n",
        "g=f\"나의 이름은 {name}입니다. 나이는 {age}입니다.\"\n",
        "\n",
        "age = 30\n",
        "h=f\"나는 내년이면 {age+1}살이 된다.\"\n",
        "\n",
        "# 딕셔너리는 f 문자열 포매팅에서 다음과 같이 사용\n",
        "d = {\"name\": \"홍길동\", \"age\": 30}\n",
        "i=f'나의 이름은 {d[\"name\"]}입니다. 나이는 {d[\"age\"]}입니다.'\n",
        "print(a+\"\\n\",b+\"\\n\",c+\"\\n\",da+\"\\n\",e+\"\\n\",f+\"\\n\")\n",
        "print(\"f포매팅\\n\\n\")\n",
        "print(g+\"\\n\",h+\"\\n\",i+\"\\n\")"
      ],
      "execution_count": 54,
      "outputs": [
        {
          "output_type": "stream",
          "text": [
            "문자열: format 함수를 사용한 포매팅\n",
            "문자열: f 문자열 포매팅\n",
            "I eat 3 apples\n",
            " I eat 3 4 apples\n",
            " I eat five apples\n",
            " I eat five apples from three boxes\n",
            " I eat 3 apples\n",
            " I eat 4 apples\n",
            "\n",
            "f포매팅\n",
            "\n",
            "\n",
            "나의 이름은 홍길동입니다. 나이는 30입니다.\n",
            " 나는 내년이면 31살이 된다.\n",
            " 나의 이름은 홍길동입니다. 나이는 30입니다.\n",
            "\n"
          ],
          "name": "stdout"
        }
      ]
    },
    {
      "cell_type": "code",
      "metadata": {
        "id": "agVQRU0EwMOI",
        "colab_type": "code",
        "colab": {
          "base_uri": "https://localhost:8080/",
          "height": 71
        },
        "outputId": "2f3faf51-c5db-4f5b-832a-fd70cd61b20e"
      },
      "source": [
        "\n",
        "# 2개 이상의 값 넣기\n",
        "number = 10\n",
        "day = \"three\"\n",
        "a=\"I ate {0} apples. so I was sick for {1} days.\".format(number, day)\n",
        "# 이름으로 넣기\n",
        "b=\"I ate {number} apples. so I was sick for {day} days.\".format(number=10, day=3)\n",
        "# 인덱스와 이름을 혼용해서 넣기\n",
        "c=\"I ate {0} apples. so I was sick for {day} days.\".format(10, day=3)\n",
        "#\n",
        "a,b,c\n"
      ],
      "execution_count": 55,
      "outputs": [
        {
          "output_type": "execute_result",
          "data": {
            "text/plain": [
              "('I ate 10 apples. so I was sick for three days.',\n",
              " 'I ate 10 apples. so I was sick for 3 days.',\n",
              " 'I ate 10 apples. so I was sick for 3 days.')"
            ]
          },
          "metadata": {
            "tags": []
          },
          "execution_count": 55
        }
      ]
    },
    {
      "cell_type": "code",
      "metadata": {
        "id": "mzbQQuU0yTUL",
        "colab_type": "code",
        "colab": {
          "base_uri": "https://localhost:8080/",
          "height": 323
        },
        "outputId": "101f9916-e8bc-458e-bba0-9a138b52c543"
      },
      "source": [
        "######################################\n",
        "# 왼쪽 정렬/ 오른쪽 정렬\n",
        "a=\"{0:<10}\".format(\"hi\") #{0} 번째 문자열 위치 10칸을 잡아서 좌측정렬\n",
        "b=\"{0:>10}\".format(\"hi\")\n",
        "# 가운데 정렬\n",
        "c=\"{0:^10}\".format(\"hi\") # 중앙 정렬\n",
        "# 공백 채우기\n",
        "d=\"{0:=^10}\".format(\"hi\")\n",
        "e=\"{0:!<10}\".format(\"hi\")\n",
        "# 도전하기\n",
        "f= \"{0:<10}{1:>10}\".format(\"hi\",'comsi')\n",
        "##########################\n",
        "##### f 문자열 포매팅 #####\n",
        "##### .format() 대체\n",
        "##########################\n",
        "\n",
        "# 정렬\n",
        "a1=f'{\"hi\":<10}'  # 왼쪽 정렬\n",
        "a2=f'{\"hi\":>10}'  # 오른쪽 정렬\n",
        "a3=f'{\"hi\":^10}'  # 가운데 정렬\n",
        "# 공백 채우기\n",
        "a4=f'{\"hi\":!<10}'\n",
        "\n",
        "print(a+\"\\n\",b+\"\\n\",c+\"\\n\",d+\"\\n\",e+\"\\n\",f+\"\\n\")\n",
        "print(\"\\n\\n\"+\"=\"*30+\"\\n\\n\")\n",
        "print(a1+\"\\n\",a2+\"\\n\",a3+\"\\n\",a4+\"\\n\")"
      ],
      "execution_count": 69,
      "outputs": [
        {
          "output_type": "stream",
          "text": [
            "hi        \n",
            "         hi\n",
            "     hi    \n",
            " ====hi====\n",
            " hi!!!!!!!!\n",
            " hi             comsi\n",
            "\n",
            "\n",
            "\n",
            "==============================\n",
            "\n",
            "\n",
            "hi        \n",
            "         hi\n",
            "     hi    \n",
            " hi!!!!!!!!\n",
            "\n"
          ],
          "name": "stdout"
        }
      ]
    },
    {
      "cell_type": "code",
      "metadata": {
        "id": "HMmR4puXyXVF",
        "colab_type": "code",
        "colab": {
          "base_uri": "https://localhost:8080/",
          "height": 251
        },
        "outputId": "ade8b798-c3b4-4c38-ce84-a09c0f56e198"
      },
      "source": [
        "#########################################\n",
        "\n",
        "# 소수점 표현하기\n",
        "y = 3.42134234\n",
        "a=\"{0:0.4f}\".format(y)\n",
        "a1=\"{0:10.4f}\".format(y)\n",
        "# { 또는 } 문자 표현하기\n",
        "a2=\"{{ and }}\".format()\n",
        "\n",
        "\n",
        "y1 = 3.42134234\n",
        "b=f\"{y1:0.4f}\"  # 소수점 4자리까지만 표현\n",
        "b1=f\"{y1:10.4f}\"  # 소수점 4자리까지 표현하고 총 자리수를 10으로 맞춤\n",
        "# { } 문자를 표시\n",
        "b2=f\"{{ and }}\"\n",
        "\n",
        "print(a+\"\\n\",a1+\"\\n\",a2+\"\\n\")\n",
        "print(\"\\n\\n\"+\"=\"*30+\"\\n\\n\")\n",
        "print(b+\"\\n\",b1+\"\\n\",b2+\"\\n\")"
      ],
      "execution_count": 71,
      "outputs": [
        {
          "output_type": "stream",
          "text": [
            "3.4213\n",
            "     3.4213\n",
            " { and }\n",
            "\n",
            "\n",
            "\n",
            "==============================\n",
            "\n",
            "\n",
            "3.4213\n",
            "     3.4213\n",
            " { and }\n",
            "\n"
          ],
          "name": "stdout"
        }
      ]
    },
    {
      "cell_type": "code",
      "metadata": {
        "id": "dGH2_kaGy96C",
        "colab_type": "code",
        "colab": {
          "base_uri": "https://localhost:8080/",
          "height": 53
        },
        "outputId": "83f3c0dc-e09e-4482-c00d-840cbf3f73fc"
      },
      "source": [
        "\n",
        "##############################################\n",
        "print(\"문자열: 관련 내장 함수들\")\n",
        "# 문자 개수 세기(count)\n",
        "a = \"hobby\"\n",
        "a.count(\"b\")"
      ],
      "execution_count": 72,
      "outputs": [
        {
          "output_type": "stream",
          "text": [
            "문자열: 관련 내장 함수들\n"
          ],
          "name": "stdout"
        },
        {
          "output_type": "execute_result",
          "data": {
            "text/plain": [
              "2"
            ]
          },
          "metadata": {
            "tags": []
          },
          "execution_count": 72
        }
      ]
    },
    {
      "cell_type": "code",
      "metadata": {
        "id": "KVWGmC3-zyul",
        "colab_type": "code",
        "colab": {
          "base_uri": "https://localhost:8080/",
          "height": 35
        },
        "outputId": "9b68e5aa-76c2-40e3-f65e-1c6b794a90d1"
      },
      "source": [
        "\n",
        "# 위치 알려주기1(find)\n",
        "a = \"Python is the best choice\"\n",
        "a.find(\"b\")\n",
        "a.find(\"k\")  # what value?"
      ],
      "execution_count": 73,
      "outputs": [
        {
          "output_type": "execute_result",
          "data": {
            "text/plain": [
              "-1"
            ]
          },
          "metadata": {
            "tags": []
          },
          "execution_count": 73
        }
      ]
    },
    {
      "cell_type": "code",
      "metadata": {
        "id": "M1gC36mBz0qh",
        "colab_type": "code",
        "colab": {
          "base_uri": "https://localhost:8080/",
          "height": 35
        },
        "outputId": "3ca3c5d2-293f-4587-e869-119758bf13bc"
      },
      "source": [
        "\n",
        "# 위치 알려주기2(index)\n",
        "a = \"Life is too short\"\n",
        "a.index(\"t\")\n"
      ],
      "execution_count": 75,
      "outputs": [
        {
          "output_type": "execute_result",
          "data": {
            "text/plain": [
              "8"
            ]
          },
          "metadata": {
            "tags": []
          },
          "execution_count": 75
        }
      ]
    },
    {
      "cell_type": "code",
      "metadata": {
        "id": "SSg_ZUalz8Xc",
        "colab_type": "code",
        "colab": {
          "base_uri": "https://localhost:8080/",
          "height": 190
        },
        "outputId": "58f7eaaa-ec3f-42d3-a694-bbeaebe61212"
      },
      "source": [
        "# 위치 알려주기2(index)\n",
        "a = \"Life is too short\"\n",
        "a.index(\"k\")\n"
      ],
      "execution_count": 76,
      "outputs": [
        {
          "output_type": "error",
          "ename": "ValueError",
          "evalue": "ignored",
          "traceback": [
            "\u001b[0;31m---------------------------------------------------------------------------\u001b[0m",
            "\u001b[0;31mValueError\u001b[0m                                Traceback (most recent call last)",
            "\u001b[0;32m<ipython-input-76-57e8b5cb632c>\u001b[0m in \u001b[0;36m<module>\u001b[0;34m()\u001b[0m\n\u001b[1;32m      1\u001b[0m \u001b[0ma\u001b[0m \u001b[0;34m=\u001b[0m \u001b[0;34m\"Life is too short\"\u001b[0m\u001b[0;34m\u001b[0m\u001b[0;34m\u001b[0m\u001b[0m\n\u001b[0;32m----> 2\u001b[0;31m \u001b[0ma\u001b[0m\u001b[0;34m.\u001b[0m\u001b[0mindex\u001b[0m\u001b[0;34m(\u001b[0m\u001b[0;34m\"k\"\u001b[0m\u001b[0;34m)\u001b[0m\u001b[0;34m\u001b[0m\u001b[0;34m\u001b[0m\u001b[0m\n\u001b[0m",
            "\u001b[0;31mValueError\u001b[0m: substring not found"
          ]
        }
      ]
    },
    {
      "cell_type": "code",
      "metadata": {
        "id": "jPIOupfrz155",
        "colab_type": "code",
        "colab": {
          "base_uri": "https://localhost:8080/",
          "height": 35
        },
        "outputId": "1838716b-032f-4b49-9c63-2298ff071112"
      },
      "source": [
        "\n",
        "# 문자열 삽입(join)\n",
        "a=\",\".join(\"abcd\")\n",
        "aa=\",\".join([\"a\", \"b\", \"c\", \"d\"])\n",
        "a,aa"
      ],
      "execution_count": 77,
      "outputs": [
        {
          "output_type": "execute_result",
          "data": {
            "text/plain": [
              "('a,b,c,d', 'a,b,c,d')"
            ]
          },
          "metadata": {
            "tags": []
          },
          "execution_count": 77
        }
      ]
    },
    {
      "cell_type": "code",
      "metadata": {
        "id": "sQG9gXWJ0ADt",
        "colab_type": "code",
        "colab": {
          "base_uri": "https://localhost:8080/",
          "height": 35
        },
        "outputId": "869a4b24-7d4f-4389-e9eb-a2e5ad727e2a"
      },
      "source": [
        "# 소문자를 대문자로 바꾸기(upper)\n",
        "a = \"hi\"\n",
        "c=a.upper()\n",
        "# 대문자를 소문자로 바꾸기(lower)\n",
        "a1 = \"IoT\"\n",
        "c1=a1.lower()\n",
        "# 왼쪽 공백 지우기(lstrip)\n",
        "a2 = \" hi \"\n",
        "c2=a2.lstrip()\n",
        "# 오른쪽 공백 지우기(rstrip)\n",
        "c3=a3.rstrip()\n",
        "# 양쪽 공백 지우기(strip)\n",
        "c4=a3.strip()\n",
        "# 문자열 바꾸기(replace)\n",
        "a4 = \"Life is too short\"\n",
        "c5=a4.replace(\"Life\", \"Your leg\")\n",
        "c,c1,c2,c3,c4,c5\n"
      ],
      "execution_count": 79,
      "outputs": [
        {
          "output_type": "execute_result",
          "data": {
            "text/plain": [
              "('HI', 'iot', 'hi ', '    hi', 'hi', 'Your leg is too short')"
            ]
          },
          "metadata": {
            "tags": []
          },
          "execution_count": 79
        }
      ]
    },
    {
      "cell_type": "code",
      "metadata": {
        "id": "XMMa0NJc0Pi1",
        "colab_type": "code",
        "colab": {
          "base_uri": "https://localhost:8080/",
          "height": 53
        },
        "outputId": "7521bed4-9201-4cbb-de00-5a7dfec6b9f6"
      },
      "source": [
        "\n",
        "# 문자열 나누기(split) -> 리스트로 변환하여 반환\n",
        "a = \"Life is too short\"\n",
        "print(a.split())\n",
        "b = \"a:b:c:d\"\n",
        "print(b.split(\":\"))\n"
      ],
      "execution_count": 81,
      "outputs": [
        {
          "output_type": "stream",
          "text": [
            "['Life', 'is', 'too', 'short']\n",
            "['a', 'b', 'c', 'd']\n"
          ],
          "name": "stdout"
        }
      ]
    },
    {
      "cell_type": "code",
      "metadata": {
        "id": "C2LSuezD0WZ-",
        "colab_type": "code",
        "colab": {
          "base_uri": "https://localhost:8080/",
          "height": 35
        },
        "outputId": "52c715bb-e2a7-491f-a929-e02f98649dab"
      },
      "source": [
        "\n",
        "#### 도전하기 #####\n",
        "# format 함수 또는 f 문자열 포매팅을 이용해서 '!!!python!!!' 문자열을 출력해보시오.\n",
        "\"{0:!^12}\".format(\"python\"),f'{\"python\":!^12}'\n"
      ],
      "execution_count": 84,
      "outputs": [
        {
          "output_type": "execute_result",
          "data": {
            "text/plain": [
              "('!!!python!!!', '!!!python!!!')"
            ]
          },
          "metadata": {
            "tags": []
          },
          "execution_count": 84
        }
      ]
    },
    {
      "cell_type": "code",
      "metadata": {
        "id": "yHA5Cfs70f4t",
        "colab_type": "code",
        "colab": {}
      },
      "source": [
        "\n",
        "\n",
        "\"\"\"\n",
        "Author: redwoods\n",
        "파이썬 코드: ch2_03_string_formatting.py\n",
        "\"\"\"\n"
      ],
      "execution_count": 0,
      "outputs": []
    },
    {
      "cell_type": "code",
      "metadata": {
        "id": "0MFzH-ap0dpx",
        "colab_type": "code",
        "colab": {}
      },
      "source": [
        ""
      ],
      "execution_count": 0,
      "outputs": []
    }
  ]
}
