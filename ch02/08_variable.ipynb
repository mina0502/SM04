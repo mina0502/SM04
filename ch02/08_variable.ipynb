{
  "nbformat": 4,
  "nbformat_minor": 0,
  "metadata": {
    "colab": {
      "name": "08_variable.ipynb",
      "provenance": [],
      "collapsed_sections": [],
      "include_colab_link": true
    },
    "kernelspec": {
      "name": "python3",
      "display_name": "Python 3"
    }
  },
  "cells": [
    {
      "cell_type": "markdown",
      "metadata": {
        "id": "view-in-github",
        "colab_type": "text"
      },
      "source": [
        "<a href=\"https://colab.research.google.com/github/mina0502/SM04/blob/master/ch02/08_variable.ipynb\" target=\"_parent\"><img src=\"https://colab.research.google.com/assets/colab-badge.svg\" alt=\"Open In Colab\"/></a>"
      ]
    },
    {
      "cell_type": "markdown",
      "metadata": {
        "id": "8OLXSrMYiuCQ",
        "colab_type": "text"
      },
      "source": [
        "**불변형인가? // 같은 주소인가?**\n",
        "\n",
        "\n",
        "# 변수: 변수란?\n",
        "\n",
        " **변수는 자료(값)을 저장하는 공간이다.**\n",
        "#"
      ]
    },
    {
      "cell_type": "code",
      "metadata": {
        "id": "EpsG_Ssmi29e",
        "colab_type": "code",
        "colab": {
          "base_uri": "https://localhost:8080/",
          "height": 161
        },
        "outputId": "e9d7929e-be06-4983-f55a-2e42121bd789"
      },
      "source": [
        "\n",
        "a = [1, 2, 3]\n",
        "print(id(a))  # a 변수가 가리키는 메모리의 주소\n",
        "# list\n",
        "a = [1, 2, 3]\n",
        "print(id(a))\n",
        "b = a\n",
        "print(id(a), id(b))\n",
        "#a 와 b  같은 주소 공유\n",
        "print(a is b)\n",
        "a[1] = 4\n",
        "print(a, b)\n",
        "print(a is b)\n",
        "b = [1, 2, 3]\n",
        "print(id(b))\n",
        "print(a is b)\n"
      ],
      "execution_count": 3,
      "outputs": [
        {
          "output_type": "stream",
          "text": [
            "140593258066184\n",
            "140593258067976\n",
            "140593258067976 140593258067976\n",
            "True\n",
            "[1, 4, 3] [1, 4, 3]\n",
            "True\n",
            "140593257603272\n",
            "False\n"
          ],
          "name": "stdout"
        }
      ]
    },
    {
      "cell_type": "markdown",
      "metadata": {
        "id": "reDAum_0jkAK",
        "colab_type": "text"
      },
      "source": [
        "**두 함수를 하나의 변수로 치환할때**"
      ]
    },
    {
      "cell_type": "code",
      "metadata": {
        "id": "QcWT378AjJZR",
        "colab_type": "code",
        "colab": {
          "base_uri": "https://localhost:8080/",
          "height": 35
        },
        "outputId": "b52969a6-9b32-4fc4-f40f-ee0fca81b1a7"
      },
      "source": [
        "\n",
        "#\n",
        "# b 변수를 생성할 때 a 변수의 값을 가져오면서\n",
        "# a와는 다른 주소를 가리키도록 만들수는 없을까?\n",
        "# 다음 2가지 방법이 있다.\n",
        "#\n",
        "# 1. [:] 이용\n",
        "#\n",
        "a = [1, 2, 3]\n",
        "b = a[:]\n",
        "a[1] = 4\n",
        "a, b\n",
        "#"
      ],
      "execution_count": 4,
      "outputs": [
        {
          "output_type": "execute_result",
          "data": {
            "text/plain": [
              "([1, 4, 3], [1, 2, 3])"
            ]
          },
          "metadata": {
            "tags": []
          },
          "execution_count": 4
        }
      ]
    },
    {
      "cell_type": "code",
      "metadata": {
        "id": "dtYw1dlXjo-D",
        "colab_type": "code",
        "colab": {
          "base_uri": "https://localhost:8080/",
          "height": 35
        },
        "outputId": "915d9bcf-6ea1-41ad-b9be-79474a4d3dc2"
      },
      "source": [
        "\n",
        "# 2. copy 모듈 이용\n",
        "#\n",
        "import copy\n",
        "a = [1, 2, 3]\n",
        "# from copy import copy\n",
        "b = copy.copy(a)\n",
        "\n",
        "b is a, a is b\n"
      ],
      "execution_count": 21,
      "outputs": [
        {
          "output_type": "execute_result",
          "data": {
            "text/plain": [
              "(False, False)"
            ]
          },
          "metadata": {
            "tags": []
          },
          "execution_count": 21
        }
      ]
    },
    {
      "cell_type": "code",
      "metadata": {
        "id": "gvm3N6AgjryM",
        "colab_type": "code",
        "colab": {
          "base_uri": "https://localhost:8080/",
          "height": 71
        },
        "outputId": "472164d0-edc1-4887-ce27-7dba45e395b8"
      },
      "source": [
        "\n",
        "#\n",
        "# 변수를 만드는 여러 가지 방법\n",
        "#\n",
        "a, b = (\"python\", \"life\")\n",
        "print(a)\n",
        "print(b)\n",
        "print(a, b)\n"
      ],
      "execution_count": 8,
      "outputs": [
        {
          "output_type": "stream",
          "text": [
            "python\n",
            "life\n",
            "python life\n"
          ],
          "name": "stdout"
        }
      ]
    },
    {
      "cell_type": "markdown",
      "metadata": {
        "id": "3AzvOuq-j9o4",
        "colab_type": "text"
      },
      "source": [
        "**리스트 구조 치환**\n"
      ]
    },
    {
      "cell_type": "code",
      "metadata": {
        "id": "NEaN1jGIj9Lr",
        "colab_type": "code",
        "colab": {
          "base_uri": "https://localhost:8080/",
          "height": 53
        },
        "outputId": "18f0637e-dc72-404d-9224-8bba53b07098"
      },
      "source": [
        "\n",
        "[a, b] = [\"python\", \"life\"]\n",
        "print(a)\n",
        "print(b)\n"
      ],
      "execution_count": 10,
      "outputs": [
        {
          "output_type": "stream",
          "text": [
            "python\n",
            "life\n"
          ],
          "name": "stdout"
        }
      ]
    },
    {
      "cell_type": "code",
      "metadata": {
        "id": "1u4m45VVkJkW",
        "colab_type": "code",
        "colab": {
          "base_uri": "https://localhost:8080/",
          "height": 53
        },
        "outputId": "c15aeb2b-6db4-4c87-953d-799feffac94b"
      },
      "source": [
        "(a,b)=[\"python\",\"life\"]\n",
        "print(a)\n",
        "print(b)\n"
      ],
      "execution_count": 9,
      "outputs": [
        {
          "output_type": "stream",
          "text": [
            "python\n",
            "life\n"
          ],
          "name": "stdout"
        }
      ]
    },
    {
      "cell_type": "markdown",
      "metadata": {
        "id": "0xnyGYnDkUxg",
        "colab_type": "text"
      },
      "source": [
        "**a,b 치환 가능**"
      ]
    },
    {
      "cell_type": "code",
      "metadata": {
        "id": "hplFl3wLkQqS",
        "colab_type": "code",
        "colab": {
          "base_uri": "https://localhost:8080/",
          "height": 53
        },
        "outputId": "b2eab8bd-dfdb-4311-a306-49e656405a3b"
      },
      "source": [
        "\n",
        "a = 3\n",
        "b = 5\n",
        "a, b = b, a\n",
        "print(a)\n",
        "print(b)"
      ],
      "execution_count": 11,
      "outputs": [
        {
          "output_type": "stream",
          "text": [
            "5\n",
            "3\n"
          ],
          "name": "stdout"
        }
      ]
    },
    {
      "cell_type": "code",
      "metadata": {
        "id": "vbtLgJDpkUQ4",
        "colab_type": "code",
        "colab": {}
      },
      "source": [
        ""
      ],
      "execution_count": 0,
      "outputs": []
    }
  ]
}