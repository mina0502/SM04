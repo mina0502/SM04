{
  "nbformat": 4,
  "nbformat_minor": 0,
  "metadata": {
    "colab": {
      "name": "ch2_01_numeric.ipynb",
      "provenance": [],
      "collapsed_sections": [],
      "include_colab_link": true
    },
    "kernelspec": {
      "name": "python3",
      "display_name": "Python 3"
    }
  },
  "cells": [
    {
      "cell_type": "markdown",
      "metadata": {
        "id": "view-in-github",
        "colab_type": "text"
      },
      "source": [
        "<a href=\"https://colab.research.google.com/github/mina0502/SM04/blob/master/ch2_01_numeric.ipynb\" target=\"_parent\"><img src=\"https://colab.research.google.com/assets/colab-badge.svg\" alt=\"Open In Colab\"/></a>"
      ]
    },
    {
      "cell_type": "markdown",
      "metadata": {
        "id": "sOAnAtyNlZNN",
        "colab_type": "text"
      },
      "source": [
        "## **Python 데이터형 numeric 형**"
      ]
    },
    {
      "cell_type": "code",
      "metadata": {
        "id": "8sGEtv3UmK65",
        "colab_type": "code",
        "outputId": "7f5dbd3a-8b82-4279-e196-98a7bf51077b",
        "colab": {
          "base_uri": "https://localhost:8080/",
          "height": 89
        }
      },
      "source": [
        "print(\"숫자형: 정수\") \n",
        "a = 123\n",
        "print(a)\n",
        "a = -178\n",
        "print(a)\n",
        "a = 0\n",
        "print(a)"
      ],
      "execution_count": 0,
      "outputs": [
        {
          "output_type": "stream",
          "text": [
            "숫자형: 정수\n",
            "123\n",
            "-178\n",
            "0\n"
          ],
          "name": "stdout"
        }
      ]
    },
    {
      "cell_type": "code",
      "metadata": {
        "id": "sFnuhYP0ma2M",
        "colab_type": "code",
        "outputId": "08f010b2-8817-45b3-af96-6bc9d5c2fcd5",
        "colab": {
          "base_uri": "https://localhost:8080/",
          "height": 53
        }
      },
      "source": [
        "print(\"숫자형: 실수\")\n",
        "a = 1.2\n",
        "b = -3.48\n",
        "c = 4.24e10\n",
        "d = 4.24e-10\n",
        "a,b,c,d"
      ],
      "execution_count": 0,
      "outputs": [
        {
          "output_type": "stream",
          "text": [
            "숫자형: 실수\n"
          ],
          "name": "stdout"
        },
        {
          "output_type": "execute_result",
          "data": {
            "text/plain": [
              "(1.2, -3.48, 42400000000.0, 4.24e-10)"
            ]
          },
          "metadata": {
            "tags": []
          },
          "execution_count": 10
        }
      ]
    },
    {
      "cell_type": "code",
      "metadata": {
        "id": "Z_JYhU4Nmqm8",
        "colab_type": "code",
        "outputId": "1f390b36-b53a-48bc-b68d-7c3b29c26edc",
        "colab": {
          "base_uri": "https://localhost:8080/",
          "height": 53
        }
      },
      "source": [
        "print(\"숫자형: 8진수와 16진수\")\n",
        "a = 0o177\n",
        "a"
      ],
      "execution_count": 0,
      "outputs": [
        {
          "output_type": "stream",
          "text": [
            "숫자형: 8진수와 16진수\n"
          ],
          "name": "stdout"
        },
        {
          "output_type": "execute_result",
          "data": {
            "text/plain": [
              "127"
            ]
          },
          "metadata": {
            "tags": []
          },
          "execution_count": 11
        }
      ]
    },
    {
      "cell_type": "code",
      "metadata": {
        "id": "nGuZe1oLmvzZ",
        "colab_type": "code",
        "outputId": "c7c86214-75f9-4391-b8b4-880989fa2908",
        "colab": {
          "base_uri": "https://localhost:8080/",
          "height": 35
        }
      },
      "source": [
        "# 8진수\n",
        "a = 0x8FF\n",
        "# 16진수\n",
        "b = 0xABC\n",
        "a,b"
      ],
      "execution_count": 0,
      "outputs": [
        {
          "output_type": "execute_result",
          "data": {
            "text/plain": [
              "(2303, 2748)"
            ]
          },
          "metadata": {
            "tags": []
          },
          "execution_count": 13
        }
      ]
    },
    {
      "cell_type": "code",
      "metadata": {
        "id": "inz8IF5Ym8S_",
        "colab_type": "code",
        "outputId": "ac8b46fc-1d95-42d0-b18a-484b2017c109",
        "colab": {
          "base_uri": "https://localhost:8080/",
          "height": 53
        }
      },
      "source": [
        "print(\"숫자형: 연산자와 연산\")\n",
        "a = 3\n",
        "b = 4\n",
        "c= a + b\n",
        "d= a * b\n",
        "e= a / b\n",
        "# 실수 정의\n",
        "f= a ** b\n",
        "# a^b(제곱)\n",
        "g= a % b\n",
        "h= a // b\n",
        "# 나눈 몫\n",
        "\n",
        "i= 14 // 3\n",
        "j= 14 % 3\n",
        "a,b,c,d,e,f,g,h,i,j"
      ],
      "execution_count": 0,
      "outputs": [
        {
          "output_type": "stream",
          "text": [
            "숫자형: 연산자와 연산\n"
          ],
          "name": "stdout"
        },
        {
          "output_type": "execute_result",
          "data": {
            "text/plain": [
              "(3, 4, 7, 12, 0.75, 81, 3, 0, 4, 2)"
            ]
          },
          "metadata": {
            "tags": []
          },
          "execution_count": 14
        }
      ]
    }
  ]
}